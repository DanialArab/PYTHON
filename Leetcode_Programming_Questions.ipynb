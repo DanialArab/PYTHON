{
 "cells": [
  {
   "cell_type": "markdown",
   "id": "3900421a",
   "metadata": {},
   "source": [
    "# This file contains my solutions to Leetcode programming questions - all in Python"
   ]
  },
  {
   "cell_type": "markdown",
   "id": "6da6ddd3",
   "metadata": {},
   "source": [
    "## 1. String"
   ]
  },
  {
   "cell_type": "markdown",
   "id": "0be2f6b4",
   "metadata": {},
   "source": [
    "### 1108. Defanging an IP Address"
   ]
  },
  {
   "cell_type": "code",
   "execution_count": 18,
   "id": "59f2a3d6",
   "metadata": {},
   "outputs": [],
   "source": [
    "class Solution:\n",
    "    def defangIPaddr(self, address: str) -> str:\n",
    "\n",
    "        return address.replace('.', '[.]')"
   ]
  },
  {
   "cell_type": "code",
   "execution_count": 19,
   "id": "6f2d85a8",
   "metadata": {},
   "outputs": [
    {
     "name": "stdout",
     "output_type": "stream",
     "text": [
      "1[.]1[.]1[.]1\n"
     ]
    }
   ],
   "source": [
    "s = Solution()\n",
    "\n",
    "result = s.defangIPaddr (\"1.1.1.1\")\n",
    "print (result)"
   ]
  },
  {
   "cell_type": "markdown",
   "id": "316638b1",
   "metadata": {},
   "source": [
    "### 2011. Final Value of Variable After Performing Operations"
   ]
  },
  {
   "cell_type": "code",
   "execution_count": 29,
   "id": "c2ea0a19",
   "metadata": {
    "code_folding": []
   },
   "outputs": [],
   "source": [
    "from typing import List\n",
    "\n",
    "class Solution:\n",
    "    def finalValueAfterOperations(self, operations: List[str]) -> int:\n",
    "\n",
    "        X = 0\n",
    "\n",
    "        for one_operation in operations:\n",
    "            if one_operation == \"++X\" or one_operation == \"X++\":\n",
    "                X += 1\n",
    "            else:\n",
    "                X -= 1\n",
    "\n",
    "        return X"
   ]
  },
  {
   "cell_type": "code",
   "execution_count": 30,
   "id": "4228a943",
   "metadata": {},
   "outputs": [
    {
     "name": "stdout",
     "output_type": "stream",
     "text": [
      "3\n"
     ]
    }
   ],
   "source": [
    "s = Solution()\n",
    "\n",
    "result = s.finalValueAfterOperations([\"++X\",\"++X\",\"X++\"])\n",
    "print(result)"
   ]
  },
  {
   "cell_type": "markdown",
   "id": "e486b5f3",
   "metadata": {},
   "source": [
    "### 771. Jewels and Stones"
   ]
  },
  {
   "cell_type": "code",
   "execution_count": 34,
   "id": "4b9afa72",
   "metadata": {},
   "outputs": [],
   "source": [
    "class Solution:\n",
    "    def numJewelsInStones(self, jewels: str, stones: str) -> int:\n",
    "        number_of_stones = 0\n",
    "        for one_stone in stones:\n",
    "            if one_stone in list(jewels):\n",
    "                number_of_stones += 1\n",
    "\n",
    "        return number_of_stones"
   ]
  },
  {
   "cell_type": "code",
   "execution_count": 35,
   "id": "05fadba2",
   "metadata": {},
   "outputs": [
    {
     "name": "stdout",
     "output_type": "stream",
     "text": [
      "3\n"
     ]
    }
   ],
   "source": [
    "s = Solution()\n",
    "\n",
    "result = s.numJewelsInStones(jewels = \"aA\", stones = \"aAAbbbb\")\n",
    "print (result)"
   ]
  },
  {
   "cell_type": "code",
   "execution_count": 36,
   "id": "e731b684",
   "metadata": {},
   "outputs": [
    {
     "name": "stdout",
     "output_type": "stream",
     "text": [
      "0\n"
     ]
    }
   ],
   "source": [
    "s = Solution()\n",
    "\n",
    "result = s.numJewelsInStones(jewels = \"z\", stones = \"ZZ\")\n",
    "print (result) "
   ]
  },
  {
   "cell_type": "markdown",
   "id": "02fbb02d",
   "metadata": {},
   "source": [
    "### 2114. Maximum Number of Words Found in Sentences"
   ]
  },
  {
   "cell_type": "code",
   "execution_count": 37,
   "id": "af6cfd97",
   "metadata": {},
   "outputs": [],
   "source": [
    "class Solution:\n",
    "    def mostWordsFound(self, sentences: List[str]) -> int:\n",
    "        num_of_words = []\n",
    "        for one_sentence in sentences:\n",
    "            num_of_words.append(len(one_sentence.strip().split()))\n",
    "\n",
    "        return max(num_of_words)"
   ]
  },
  {
   "cell_type": "code",
   "execution_count": 38,
   "id": "995cf82a",
   "metadata": {},
   "outputs": [
    {
     "name": "stdout",
     "output_type": "stream",
     "text": [
      "6\n"
     ]
    }
   ],
   "source": [
    "s = Solution()\n",
    "\n",
    "result = s.mostWordsFound([\"alice and bob love leetcode\", \"i think so too\", \"this is great thanks very much\"])\n",
    "print (result) "
   ]
  },
  {
   "cell_type": "markdown",
   "id": "4d9add0e",
   "metadata": {},
   "source": [
    "### 1678. Goal Parser Interpretation"
   ]
  },
  {
   "cell_type": "code",
   "execution_count": 70,
   "id": "60175edd",
   "metadata": {},
   "outputs": [],
   "source": [
    "class Solution:\n",
    "    def interpret(self, command: str) -> str:\n",
    "         \n",
    "        command = command.replace(\"()\", \"o\")\n",
    "        command = command.replace(\"(al)\", \"al\")\n",
    "\n",
    "        return command"
   ]
  },
  {
   "cell_type": "code",
   "execution_count": 71,
   "id": "e3cc91fb",
   "metadata": {},
   "outputs": [
    {
     "name": "stdout",
     "output_type": "stream",
     "text": [
      "Goal\n"
     ]
    }
   ],
   "source": [
    "s = Solution()\n",
    "\n",
    "result = s.interpret(\"G()(al)\")\n",
    "print (result) "
   ]
  },
  {
   "cell_type": "markdown",
   "id": "8f798909",
   "metadata": {},
   "source": [
    "### 1221. Split a String in Balanced Strings"
   ]
  },
  {
   "cell_type": "code",
   "execution_count": 82,
   "id": "cb287847",
   "metadata": {},
   "outputs": [],
   "source": [
    "class Solution:\n",
    "    def balancedStringSplit(self, s: str) -> int:\n",
    "        count = result = 0 \n",
    "        for c in s:\n",
    "\n",
    "            if c == 'R':\n",
    "                count += 1\n",
    "            else:\n",
    "                count -= 1\n",
    "\n",
    "            if count == 0:\n",
    "                result += 1\n",
    "\n",
    "        return result"
   ]
  },
  {
   "cell_type": "code",
   "execution_count": 84,
   "id": "678c5b79",
   "metadata": {},
   "outputs": [
    {
     "name": "stdout",
     "output_type": "stream",
     "text": [
      "2\n"
     ]
    }
   ],
   "source": [
    "s = Solution()\n",
    "\n",
    "result = s.balancedStringSplit(\"RLRRRLLRLL\")\n",
    "print (result) "
   ]
  },
  {
   "cell_type": "markdown",
   "id": "03181879",
   "metadata": {},
   "source": [
    "### 1528. Shuffle String"
   ]
  },
  {
   "cell_type": "code",
   "execution_count": 25,
   "id": "6d3e38d9",
   "metadata": {},
   "outputs": [],
   "source": [
    "from typing import List\n",
    "class Solution:\n",
    "\n",
    "    def restoreString(self, s: str, indices: List[int]) -> str:\n",
    "\n",
    "        chars = [''] * len(s)\n",
    "        \n",
    "\n",
    "        for i in range(len(indices)):\n",
    "            chars[indices[i]] = s[i]\n",
    "\n",
    "\n",
    "        return \"\".join(chars)\n"
   ]
  },
  {
   "cell_type": "code",
   "execution_count": 26,
   "id": "cbcb8085",
   "metadata": {},
   "outputs": [
    {
     "name": "stdout",
     "output_type": "stream",
     "text": [
      "leetcode\n"
     ]
    }
   ],
   "source": [
    "s = Solution()\n",
    "\n",
    "result = s.restoreString(s = \"codeleet\", indices = [4,5,6,7,0,2,1,3])\n",
    "print (result) "
   ]
  },
  {
   "cell_type": "markdown",
   "id": "8cf82f13",
   "metadata": {},
   "source": [
    "### 1773. Count Items Matching a Rule\n"
   ]
  },
  {
   "cell_type": "code",
   "execution_count": 1,
   "id": "4cf98b1c",
   "metadata": {},
   "outputs": [],
   "source": [
    "from typing import List\n",
    "\n",
    "class Solution:\n",
    "    def countMatches(self, items: List[List[str]], ruleKey: str, ruleValue: str) -> int:\n",
    "        match_num = 0 \n",
    "        for i in range(len(items)):\n",
    "            if ruleKey == \"type\" and items[i][0] == ruleValue:\n",
    "                match_num +=1\n",
    "\n",
    "            elif ruleKey == \"color\" and items[i][1] == ruleValue:\n",
    "                match_num +=1\n",
    "\n",
    "            elif ruleKey == \"name\" and items[i][2] == ruleValue:\n",
    "                match_num +=1\n",
    "\n",
    "        return match_num"
   ]
  },
  {
   "cell_type": "code",
   "execution_count": 5,
   "id": "4f73a50f",
   "metadata": {
    "scrolled": true
   },
   "outputs": [
    {
     "name": "stdout",
     "output_type": "stream",
     "text": [
      "1\n"
     ]
    }
   ],
   "source": [
    "s = Solution()\n",
    "\n",
    "result = s.countMatches(items = [[\"phone\",\"blue\",\"pixel\"],[\"computer\",\"silver\",\"lenovo\"],[\"phone\",\"gold\",\"iphone\"]], ruleKey = \"color\", ruleValue = \"silver\")\n",
    "print (result) "
   ]
  },
  {
   "cell_type": "code",
   "execution_count": 6,
   "id": "a0294801",
   "metadata": {},
   "outputs": [
    {
     "name": "stdout",
     "output_type": "stream",
     "text": [
      "2\n"
     ]
    }
   ],
   "source": [
    "s = Solution()\n",
    "\n",
    "result = s.countMatches(items = [[\"phone\",\"blue\",\"pixel\"],[\"computer\",\"silver\",\"phone\"],[\"phone\",\"gold\",\"iphone\"]], ruleKey = \"type\", ruleValue = \"phone\")\n",
    "print (result) "
   ]
  },
  {
   "cell_type": "markdown",
   "id": "9eb5ee95",
   "metadata": {},
   "source": [
    "### 2194. Cells in a Range on an Excel Sheet\n"
   ]
  },
  {
   "cell_type": "code",
   "execution_count": 38,
   "id": "1c1f9e57",
   "metadata": {},
   "outputs": [],
   "source": [
    "from typing import List\n",
    "class Solution:\n",
    "    def cellsInRange(self, s: str) -> List[str]:\n",
    "\n",
    "        first, second = s.split(':')\n",
    "\n",
    "        c1, r1 = first\n",
    "\n",
    "        c2, r2 = second \n",
    "        \n",
    "        char_list = []\n",
    "        for i in range(ord(c1), ord(c2)+1):\n",
    "            #print(chr(i))\n",
    "            char_list.append(chr(i))\n",
    "        \n",
    "        int_list = []\n",
    "        for i in range(int(r1), int(r2) + 1):\n",
    "            int_list.append(i)\n",
    "        \n",
    "        res = []\n",
    "        for one_char in char_list:\n",
    "            for one_int in int_list:\n",
    "                res.append(one_char + str(one_int))\n",
    "        \n",
    "        \n",
    "        return res\n"
   ]
  },
  {
   "cell_type": "code",
   "execution_count": 39,
   "id": "98b4ba2f",
   "metadata": {},
   "outputs": [
    {
     "name": "stdout",
     "output_type": "stream",
     "text": [
      "['K1', 'K2', 'L1', 'L2']\n"
     ]
    }
   ],
   "source": [
    "s = Solution()\n",
    "\n",
    "result = s.cellsInRange(\"K1:L2\")\n",
    "print (result) "
   ]
  },
  {
   "cell_type": "code",
   "execution_count": 40,
   "id": "8845f95b",
   "metadata": {},
   "outputs": [
    {
     "name": "stdout",
     "output_type": "stream",
     "text": [
      "['A1', 'B1', 'C1', 'D1', 'E1', 'F1']\n"
     ]
    }
   ],
   "source": [
    "s = Solution()\n",
    "\n",
    "result = s.cellsInRange(\"A1:F1\")\n",
    "print (result) "
   ]
  },
  {
   "cell_type": "markdown",
   "id": "d8d278c4",
   "metadata": {},
   "source": [
    "### 2325. Decode the Message"
   ]
  },
  {
   "cell_type": "code",
   "execution_count": 177,
   "id": "bd82cbc4",
   "metadata": {},
   "outputs": [],
   "source": [
    "from typing import List \n",
    "class Solution:\n",
    "    def decodeMessage(self, key: str, message: str) -> str:\n",
    "        import string\n",
    "        \n",
    "        indecies = []\n",
    "        chars = []\n",
    "        my_dic = {}\n",
    "        for i in list(key):\n",
    "            #print (i)\n",
    "            if i not in chars and i != ' ':\n",
    "                \n",
    "                chars.append(i)\n",
    "                indecies.append(chars.index(i))\n",
    "                my_dic[i] = chars.index(i)\n",
    "        \n",
    "        res = ''\n",
    "        for i in list(message):\n",
    "            if i == ' ':\n",
    "                res += ' '\n",
    "            else: \n",
    "                res += string.ascii_lowercase[my_dic[i]]\n",
    "                #print(string.ascii_lowercase[my_dic[i]] )\n",
    "                \n",
    "\n",
    "        return res "
   ]
  },
  {
   "cell_type": "code",
   "execution_count": 178,
   "id": "ef17af98",
   "metadata": {
    "scrolled": true
   },
   "outputs": [
    {
     "name": "stdout",
     "output_type": "stream",
     "text": [
      "this is a secret\n"
     ]
    }
   ],
   "source": [
    "s = Solution()\n",
    "\n",
    "result = s.decodeMessage(key = \"the quick brown fox jumps over the lazy dog\", message = \"vkbs bs t suepuv\")\n",
    "print (result) "
   ]
  },
  {
   "cell_type": "code",
   "execution_count": 179,
   "id": "a27c687c",
   "metadata": {},
   "outputs": [
    {
     "name": "stdout",
     "output_type": "stream",
     "text": [
      "the five boxing wizards jump quickly\n"
     ]
    }
   ],
   "source": [
    "s = Solution()\n",
    "\n",
    "result = s.decodeMessage(key = \"eljuxhpwnyrdgtqkviszcfmabo\", message = \"zwx hnfx lqantp mnoeius ycgk vcnjrdb\")\n",
    "print (result) "
   ]
  },
  {
   "cell_type": "markdown",
   "id": "64c88371",
   "metadata": {},
   "source": [
    "### 1859. Sorting the Sentence\n"
   ]
  },
  {
   "cell_type": "code",
   "execution_count": 234,
   "id": "99115363",
   "metadata": {},
   "outputs": [],
   "source": [
    "class Solution:\n",
    "    def sortSentence(self, s: str) -> str:\n",
    "\n",
    "        my_dict = {}\n",
    "        for i in s.split():\n",
    "            \n",
    "            my_dict[i[-1]] = i[:-1]\n",
    "            \n",
    "        \n",
    "        sorted_dict = {}        \n",
    "        for key in sorted(my_dict.keys()):\n",
    "            sorted_dict[key] = my_dict[key]\n",
    "            \n",
    "        \n",
    "            \n",
    "        return  ' '.join(sorted_dict.values()) "
   ]
  },
  {
   "cell_type": "code",
   "execution_count": 235,
   "id": "e2e92fc5",
   "metadata": {},
   "outputs": [
    {
     "name": "stdout",
     "output_type": "stream",
     "text": [
      "This is a sentence\n"
     ]
    }
   ],
   "source": [
    "s = Solution()\n",
    "\n",
    "result = s.sortSentence(s = \"is2 sentence4 This1 a3\")\n",
    "print (result)"
   ]
  },
  {
   "cell_type": "code",
   "execution_count": 236,
   "id": "8fb5b8cf",
   "metadata": {},
   "outputs": [
    {
     "name": "stdout",
     "output_type": "stream",
     "text": [
      "Me Myself and I\n"
     ]
    }
   ],
   "source": [
    "s = Solution()\n",
    "\n",
    "result = s.sortSentence(s = \"Myself2 Me1 I4 and3\")\n",
    "print (result) "
   ]
  },
  {
   "cell_type": "markdown",
   "id": "17137c51",
   "metadata": {},
   "source": [
    "### 1662. Check If Two String Arrays are Equivalent\n"
   ]
  },
  {
   "cell_type": "code",
   "execution_count": 238,
   "id": "530da20f",
   "metadata": {},
   "outputs": [],
   "source": [
    "from typing import List\n",
    "class Solution:\n",
    "    def arrayStringsAreEqual(self, word1: List[str], word2: List[str]) -> bool:\n",
    "\n",
    "        w1 = ''\n",
    "        for i in word1:\n",
    "            w1+= i \n",
    "\n",
    "        w2 = ''\n",
    "        for j in word2:\n",
    "            w2 += j \n",
    "\n",
    "        if w1 == w2:\n",
    "            return True\n",
    "        else:\n",
    "            return False        "
   ]
  },
  {
   "cell_type": "code",
   "execution_count": 239,
   "id": "98e954d4",
   "metadata": {},
   "outputs": [
    {
     "name": "stdout",
     "output_type": "stream",
     "text": [
      "True\n"
     ]
    }
   ],
   "source": [
    "s = Solution()\n",
    "\n",
    "result = s.arrayStringsAreEqual(word1  = [\"abc\", \"d\", \"defg\"], word2 = [\"abcddefg\"])\n",
    "print (result) "
   ]
  },
  {
   "cell_type": "markdown",
   "id": "58c3b604",
   "metadata": {},
   "source": [
    "### 1832. Check if the Sentence Is Pangram\n"
   ]
  },
  {
   "cell_type": "code",
   "execution_count": 242,
   "id": "e571a4a4",
   "metadata": {},
   "outputs": [],
   "source": [
    "class Solution:\n",
    "    def checkIfPangram(self, sentence: str) -> bool:\n",
    "\n",
    "        if len (set(sentence)) == 26:\n",
    "            return True\n",
    "        else:\n",
    "            return False  "
   ]
  },
  {
   "cell_type": "code",
   "execution_count": 243,
   "id": "175f9a57",
   "metadata": {},
   "outputs": [
    {
     "name": "stdout",
     "output_type": "stream",
     "text": [
      "True\n"
     ]
    }
   ],
   "source": [
    "s = Solution()\n",
    "\n",
    "result = s.checkIfPangram(sentence = \"thequickbrownfoxjumpsoverthelazydog\")\n",
    "print (result) "
   ]
  },
  {
   "cell_type": "code",
   "execution_count": 244,
   "id": "5c792e9e",
   "metadata": {},
   "outputs": [
    {
     "name": "stdout",
     "output_type": "stream",
     "text": [
      "False\n"
     ]
    }
   ],
   "source": [
    "s = Solution()\n",
    "\n",
    "result = s.checkIfPangram( sentence = \"leetcode\")\n",
    "print (result) "
   ]
  },
  {
   "cell_type": "markdown",
   "id": "d67f1db8",
   "metadata": {},
   "source": [
    "### 1816. Truncate Sentence\n"
   ]
  },
  {
   "cell_type": "code",
   "execution_count": 251,
   "id": "34d55d8e",
   "metadata": {},
   "outputs": [],
   "source": [
    "class Solution:\n",
    "    def truncateSentence(self, s: str, k: int) -> str:\n",
    "\n",
    "        return \" \".join(s.split()[:k])"
   ]
  },
  {
   "cell_type": "code",
   "execution_count": 254,
   "id": "e43e4f5a",
   "metadata": {},
   "outputs": [
    {
     "name": "stdout",
     "output_type": "stream",
     "text": [
      "chopper is not a tanuki\n"
     ]
    }
   ],
   "source": [
    "s = Solution()\n",
    "\n",
    "result = s.truncateSentence(s = \"chopper is not a tanuki\", k = 5)\n",
    "print (result) "
   ]
  },
  {
   "cell_type": "code",
   "execution_count": 255,
   "id": "cef08408",
   "metadata": {},
   "outputs": [
    {
     "name": "stdout",
     "output_type": "stream",
     "text": [
      "Hello how are you\n"
     ]
    }
   ],
   "source": [
    "s = Solution()\n",
    "\n",
    "result = s.truncateSentence(s = \"Hello how are you Contestant\", k = 4)\n",
    "print (result) "
   ]
  },
  {
   "cell_type": "markdown",
   "id": "69215653",
   "metadata": {},
   "source": [
    "### 1768. Merge Strings Alternately \n"
   ]
  },
  {
   "cell_type": "code",
   "execution_count": 101,
   "id": "fe5db01f",
   "metadata": {},
   "outputs": [],
   "source": [
    "class Solution:\n",
    "    def mergeAlternately(self, word1: str, word2: str) -> str:\n",
    "        res = ''\n",
    "        \n",
    "        for a, b in zip (word1, word2):\n",
    "            res += a + b\n",
    "        a = min(len(word1), len(word2))\n",
    "        return res + word1[a:] + word2[a:]\n",
    "        "
   ]
  },
  {
   "cell_type": "code",
   "execution_count": 102,
   "id": "0e6cb6ed",
   "metadata": {},
   "outputs": [
    {
     "name": "stdout",
     "output_type": "stream",
     "text": [
      "apbqcd\n"
     ]
    }
   ],
   "source": [
    "s = Solution()\n",
    "\n",
    "result = s.mergeAlternately(word1 = \"abcd\", word2 = \"pq\")\n",
    "print (result) "
   ]
  },
  {
   "cell_type": "code",
   "execution_count": 103,
   "id": "c1c77393",
   "metadata": {},
   "outputs": [
    {
     "name": "stdout",
     "output_type": "stream",
     "text": [
      "apbqrs\n"
     ]
    }
   ],
   "source": [
    "s = Solution()\n",
    "\n",
    "result = s.mergeAlternately(word1 = \"ab\", word2 = \"pqrs\")\n",
    "print (result) "
   ]
  },
  {
   "cell_type": "code",
   "execution_count": 104,
   "id": "fadba1b2",
   "metadata": {},
   "outputs": [
    {
     "name": "stdout",
     "output_type": "stream",
     "text": [
      "apbqcr\n"
     ]
    }
   ],
   "source": [
    "s = Solution()\n",
    "\n",
    "result = s.mergeAlternately(word1 = \"abc\", word2 = \"pqr\")\n",
    "print (result) "
   ]
  },
  {
   "cell_type": "markdown",
   "id": "5c185e14",
   "metadata": {},
   "source": [
    "### 804. Unique Morse Code Words \n"
   ]
  },
  {
   "cell_type": "code",
   "execution_count": 19,
   "id": "022d08b9",
   "metadata": {},
   "outputs": [],
   "source": [
    "from typing import List \n",
    "\n",
    "class Solution:\n",
    "    def uniqueMorseRepresentations(self, words: List[str]) -> int:\n",
    "        \n",
    "        code = [\".-\",\"-...\",\"-.-.\",\"-..\",\".\",\"..-.\",\"--.\",\"....\",\"..\",\".---\",\"-.-\",\".-..\",\"--\",\"-.\",\"---\",\".--.\",\"--.-\",\".-.\",\"...\",\"-\",\"..-\",\"...-\",\".--\",\"-..-\",\"-.--\",\"--..\"]\n",
    "        \n",
    "        res = [] \n",
    "        for w in words:\n",
    "            aa = ''\n",
    "            for l in w:\n",
    "                aa += code[(ord(l.lower()) - 96 - 1)] \n",
    "            res.append(aa)\n",
    "        return len(set(res))"
   ]
  },
  {
   "cell_type": "code",
   "execution_count": 20,
   "id": "25414597",
   "metadata": {},
   "outputs": [
    {
     "name": "stdout",
     "output_type": "stream",
     "text": [
      "2\n"
     ]
    }
   ],
   "source": [
    "s = Solution()\n",
    "\n",
    "result = s.uniqueMorseRepresentations(words = [\"gin\",\"zen\",\"gig\",\"msg\"])\n",
    "print (result) "
   ]
  },
  {
   "cell_type": "code",
   "execution_count": 21,
   "id": "eeea520f",
   "metadata": {},
   "outputs": [
    {
     "name": "stdout",
     "output_type": "stream",
     "text": [
      "1\n"
     ]
    }
   ],
   "source": [
    "s = Solution()\n",
    "\n",
    "result = s.uniqueMorseRepresentations(words = [\"a\"])\n",
    "print (result) "
   ]
  },
  {
   "cell_type": "markdown",
   "id": "48dfe3f9",
   "metadata": {},
   "source": [
    "### 709. To Lower Case"
   ]
  },
  {
   "cell_type": "code",
   "execution_count": 22,
   "id": "6050fda2",
   "metadata": {},
   "outputs": [],
   "source": [
    "class Solution:\n",
    "    def toLowerCase(self, s: str) -> str:\n",
    "        res = ''\n",
    "        for l in s:\n",
    "            if l.isupper():\n",
    "                res += l.lower()\n",
    "            else:\n",
    "                res += l \n",
    "\n",
    "        return res "
   ]
  },
  {
   "cell_type": "code",
   "execution_count": 23,
   "id": "2313219f",
   "metadata": {},
   "outputs": [
    {
     "name": "stdout",
     "output_type": "stream",
     "text": [
      "lovely\n"
     ]
    }
   ],
   "source": [
    "s = Solution()\n",
    "\n",
    "result = s.toLowerCase(s = \"LOVELY\")\n",
    "print (result) "
   ]
  },
  {
   "cell_type": "markdown",
   "id": "72369dc0",
   "metadata": {},
   "source": [
    "### 1684. Count the Number of Consistent Strings"
   ]
  },
  {
   "cell_type": "code",
   "execution_count": 24,
   "id": "3333646c",
   "metadata": {},
   "outputs": [],
   "source": [
    "from typing import List \n",
    "class Solution:\n",
    "    def countConsistentStrings(self, allowed: str, words: List[str]) -> int:\n",
    "        count = len(words)\n",
    "        for w in words:\n",
    "            for l in w:\n",
    "                if l not in allowed:\n",
    "                    count -= 1\n",
    "                    break \n",
    "\n",
    "        return count"
   ]
  },
  {
   "cell_type": "code",
   "execution_count": 25,
   "id": "f7ec1689",
   "metadata": {},
   "outputs": [
    {
     "name": "stdout",
     "output_type": "stream",
     "text": [
      "4\n"
     ]
    }
   ],
   "source": [
    "s = Solution()\n",
    "\n",
    "result = s.countConsistentStrings(allowed = \"cad\", words = [\"cc\",\"acd\",\"b\",\"ba\",\"bac\",\"bad\",\"ac\",\"d\"])\n",
    "print (result) "
   ]
  },
  {
   "cell_type": "markdown",
   "id": "50bc71c4",
   "metadata": {},
   "source": [
    "### 1614. Maximum Nesting Depth of the Parentheses\n"
   ]
  },
  {
   "cell_type": "code",
   "execution_count": 28,
   "id": "2e6d349a",
   "metadata": {},
   "outputs": [],
   "source": [
    "class Solution:\n",
    "    def maxDepth(self, s: str) -> int:\n",
    "\n",
    "        depth = 0 \n",
    "        mx = 0\n",
    "\n",
    "        for l in s:\n",
    "            if l == '(':\n",
    "                depth += 1\n",
    "                mx = max (mx, depth)\n",
    "            elif l == ')':\n",
    "                depth -= 1\n",
    "        return mx "
   ]
  },
  {
   "cell_type": "code",
   "execution_count": 29,
   "id": "d1cefb43",
   "metadata": {},
   "outputs": [
    {
     "name": "stdout",
     "output_type": "stream",
     "text": [
      "3\n"
     ]
    }
   ],
   "source": [
    "s = Solution()\n",
    "\n",
    "result = s.maxDepth( s = \"(1+(2*3)+((8)/4))+1\")\n",
    "print (result) "
   ]
  },
  {
   "cell_type": "markdown",
   "id": "6af7d52d",
   "metadata": {},
   "source": [
    "### 2315. Count Asterisks\n"
   ]
  },
  {
   "cell_type": "code",
   "execution_count": 43,
   "id": "4d745d2f",
   "metadata": {},
   "outputs": [],
   "source": [
    "class Solution:\n",
    "    def countAsterisks(self, s: str) -> int:\n",
    "        \n",
    "        words = s.split('|')\n",
    "        \n",
    "        count = 0 \n",
    "        good = True \n",
    "        \n",
    "        for word in words:\n",
    "            if good:\n",
    "                c = word.count('*')\n",
    "                count += c\n",
    "                \n",
    "            good = not good \n",
    "        return count "
   ]
  },
  {
   "cell_type": "code",
   "execution_count": 44,
   "id": "34ab9984",
   "metadata": {},
   "outputs": [
    {
     "name": "stdout",
     "output_type": "stream",
     "text": [
      "2\n"
     ]
    }
   ],
   "source": [
    "s = Solution()\n",
    "\n",
    "result = s.countAsterisks(\"l|*e*et|c**o|*de|\")\n",
    "print (result) "
   ]
  },
  {
   "cell_type": "markdown",
   "id": "77d3ed79",
   "metadata": {},
   "source": [
    "###  557. Reverse Words in a String III"
   ]
  },
  {
   "cell_type": "code",
   "execution_count": 99,
   "id": "c2f33230",
   "metadata": {},
   "outputs": [],
   "source": [
    "class Solution:\n",
    "    def reverseWords(self, s: str) -> str:\n",
    "\n",
    "        res = []\n",
    "\n",
    "        words = s.split()\n",
    "\n",
    "        for w in words:\n",
    "            w_l = list(w)\n",
    "            rev_l = w_l.reverse()\n",
    "            #print(w_l)\n",
    "            res.append(''.join(w_l))\n",
    "\n",
    "        return ' '.join(res)\n"
   ]
  },
  {
   "cell_type": "code",
   "execution_count": 100,
   "id": "e6443697",
   "metadata": {},
   "outputs": [
    {
     "name": "stdout",
     "output_type": "stream",
     "text": [
      "s'teL ekat edoCteeL tsetnoc\n"
     ]
    }
   ],
   "source": [
    "s = Solution()\n",
    "\n",
    "result = s.reverseWords(s = \"Let's take LeetCode contest\")\n",
    "print (result) "
   ]
  },
  {
   "cell_type": "code",
   "execution_count": 101,
   "id": "b5a76460",
   "metadata": {},
   "outputs": [
    {
     "name": "stdout",
     "output_type": "stream",
     "text": [
      "doG gniD\n"
     ]
    }
   ],
   "source": [
    " s = Solution()\n",
    "\n",
    "result = s.reverseWords(s = \"God Ding\")\n",
    "print (result) "
   ]
  },
  {
   "cell_type": "markdown",
   "id": "c2903eb0",
   "metadata": {},
   "source": [
    "### 2103. Rings and Rods\n"
   ]
  },
  {
   "cell_type": "code",
   "execution_count": 55,
   "id": "039036e9",
   "metadata": {},
   "outputs": [],
   "source": [
    "class Solution:\n",
    "    def countPoints(self, rings: str) -> int:\n",
    "\n",
    "        r, g, b =[], [], []\n",
    "        for c in range(int(len(rings)/2)):\n",
    "\n",
    "            if rings[2 * c] == 'R':\n",
    "                #print(rings[2*c + 1])\n",
    "                r.append(rings[2*c + 1])\n",
    "            elif rings[2 * c] == 'G':\n",
    "                g.append(rings[2*c + 1])\n",
    "            else:\n",
    "                b.append(rings[2*c + 1])\n",
    "                \n",
    "        return len(set(r).intersection(set(g)).intersection(set(b)))       \n"
   ]
  },
  {
   "cell_type": "code",
   "execution_count": 56,
   "id": "1e81ac11",
   "metadata": {},
   "outputs": [
    {
     "name": "stdout",
     "output_type": "stream",
     "text": [
      "1\n"
     ]
    }
   ],
   "source": [
    "s = Solution()\n",
    "\n",
    "result = s.countPoints(\"B0R0G0R9R0B0G0\")\n",
    "print (result) "
   ]
  },
  {
   "cell_type": "code",
   "execution_count": 57,
   "id": "f99aa8b6",
   "metadata": {},
   "outputs": [
    {
     "name": "stdout",
     "output_type": "stream",
     "text": [
      "1\n"
     ]
    }
   ],
   "source": [
    "s = Solution()\n",
    "\n",
    "result = s.countPoints(\"B0B6G0R6R0R6G9\")\n",
    "print (result) "
   ]
  },
  {
   "cell_type": "code",
   "execution_count": 58,
   "id": "b5f898da",
   "metadata": {},
   "outputs": [
    {
     "name": "stdout",
     "output_type": "stream",
     "text": [
      "0\n"
     ]
    }
   ],
   "source": [
    "s = Solution()\n",
    "\n",
    "result = s.countPoints(\"G4\")\n",
    "print (result) "
   ]
  },
  {
   "cell_type": "markdown",
   "id": "f781dc0e",
   "metadata": {},
   "source": [
    "### 2697. Lexicographically Smallest Palindrome"
   ]
  },
  {
   "cell_type": "markdown",
   "id": "90a9b1ba",
   "metadata": {},
   "source": [
    "I should remember this to be able to solve this question:\n",
    "\n",
    "A palindrome is a word, phrase, number, or sequence of characters that reads the same forwards and backwards. In other words, when the characters are reversed, the resulting sequence remains unchanged."
   ]
  },
  {
   "cell_type": "code",
   "execution_count": 95,
   "id": "171657e8",
   "metadata": {},
   "outputs": [],
   "source": [
    "class Solution:\n",
    "    def makeSmallestPalindrome(self, s: str) -> str:\n",
    "        s_list = list(s)\n",
    "        for i in range(len(s_list)//2):\n",
    "\n",
    "            if s_list[len(s_list) - i - 1] < s_list[i]:\n",
    "                s_list[i] = s_list[len(s_list) - i - 1] \n",
    "            else:\n",
    "                s_list[len(s_list) - i - 1] = s_list[i] \n",
    "        return ''.join(s_list)"
   ]
  },
  {
   "cell_type": "code",
   "execution_count": 96,
   "id": "36b6bfc1",
   "metadata": {},
   "outputs": [
    {
     "name": "stdout",
     "output_type": "stream",
     "text": [
      "efcfe\n"
     ]
    }
   ],
   "source": [
    "s = Solution()\n",
    "\n",
    "result = s.makeSmallestPalindrome(\"egcfe\")\n",
    "print (result) "
   ]
  },
  {
   "cell_type": "code",
   "execution_count": 97,
   "id": "7f051a24",
   "metadata": {},
   "outputs": [
    {
     "name": "stdout",
     "output_type": "stream",
     "text": [
      "abba\n"
     ]
    }
   ],
   "source": [
    "s = Solution()\n",
    "\n",
    "result = s.makeSmallestPalindrome(\"abcd\")\n",
    "print (result)  "
   ]
  },
  {
   "cell_type": "code",
   "execution_count": 98,
   "id": "7ede8617",
   "metadata": {},
   "outputs": [
    {
     "name": "stdout",
     "output_type": "stream",
     "text": [
      "neven\n"
     ]
    }
   ],
   "source": [
    "s = Solution()\n",
    "\n",
    "result = s.makeSmallestPalindrome(\"seven\")\n",
    "print (result)   "
   ]
  },
  {
   "cell_type": "markdown",
   "id": "687c7c53",
   "metadata": {},
   "source": [
    "### 1021. Remove Outermost Parentheses\n"
   ]
  },
  {
   "cell_type": "code",
   "execution_count": 16,
   "id": "a7fcd3a4",
   "metadata": {},
   "outputs": [],
   "source": [
    "class Solution:\n",
    "    def removeOuterParentheses(self, s: str) -> str:\n",
    "        \n",
    "        l = []\n",
    "        count = 0 \n",
    "        temp = 0\n",
    "        start = 0\n",
    "        for i in s:\n",
    "\n",
    "            if i == '(':\n",
    "                count +=1 \n",
    "            else:\n",
    "                count -=1 \n",
    "            temp += 1\n",
    "            if count == 0:\n",
    "                #print (s[start: temp])\n",
    "                l.append(s[start+1: temp-1])\n",
    "                start = temp\n",
    "        return ''.join(l)  "
   ]
  },
  {
   "cell_type": "code",
   "execution_count": 15,
   "id": "9006d35a",
   "metadata": {},
   "outputs": [
    {
     "data": {
      "text/plain": [
       "'()()()()(())'"
      ]
     },
     "execution_count": 15,
     "metadata": {},
     "output_type": "execute_result"
    }
   ],
   "source": [
    "s = \"(()())(())(()(()))\"\n",
    "\n",
    "l = []\n",
    "count = 0 \n",
    "temp = 0\n",
    "start = 0\n",
    "for i in s:\n",
    "\n",
    "    if i == '(':\n",
    "        count +=1 \n",
    "    else:\n",
    "        count -=1 \n",
    "    temp += 1\n",
    "    if count == 0:\n",
    "        #print (s[start: temp])\n",
    "        l.append(s[start+1: temp-1])\n",
    "        start = temp\n",
    "''.join(l)   "
   ]
  },
  {
   "cell_type": "code",
   "execution_count": 18,
   "id": "0baf2581",
   "metadata": {},
   "outputs": [
    {
     "name": "stdout",
     "output_type": "stream",
     "text": [
      "()()()\n"
     ]
    }
   ],
   "source": [
    "s = Solution()\n",
    "\n",
    "result = s.removeOuterParentheses(\"(()())(())\")\n",
    "print (result)"
   ]
  },
  {
   "cell_type": "code",
   "execution_count": 17,
   "id": "3ce7d821",
   "metadata": {},
   "outputs": [
    {
     "name": "stdout",
     "output_type": "stream",
     "text": [
      "()()()()(())\n"
     ]
    }
   ],
   "source": [
    "s = Solution()\n",
    "\n",
    "result = s.removeOuterParentheses(\"(()())(())(()(()))\")\n",
    "print (result) "
   ]
  },
  {
   "cell_type": "code",
   "execution_count": 20,
   "id": "667fe719",
   "metadata": {},
   "outputs": [
    {
     "name": "stdout",
     "output_type": "stream",
     "text": [
      "\n"
     ]
    }
   ],
   "source": [
    "s = Solution()\n",
    "\n",
    "result = s.removeOuterParentheses(\"()()\")\n",
    "print (result) "
   ]
  },
  {
   "cell_type": "markdown",
   "id": "e95323a6",
   "metadata": {},
   "source": [
    "### 1309. Decrypt String from Alphabet to Integer Mapping"
   ]
  },
  {
   "cell_type": "code",
   "execution_count": 13,
   "id": "63aa4c7c",
   "metadata": {},
   "outputs": [],
   "source": [
    "class Solution:\n",
    "     def freqAlphabets(self, s: str) -> str:\n",
    "        res = []\n",
    "        i = 0 \n",
    "        while i < len(s):\n",
    "            if i+2 < len(s) and s[i+2] == '#':\n",
    "                res.append(chr(int(s[i: i+2]) + 96))\n",
    "                i+=3 \n",
    "            else:\n",
    "                res.append(chr(int(s[i]) + 96))\n",
    "                i +=1\n",
    "        return ''.join(res)         "
   ]
  },
  {
   "cell_type": "code",
   "execution_count": 14,
   "id": "68c7f89a",
   "metadata": {},
   "outputs": [
    {
     "name": "stdout",
     "output_type": "stream",
     "text": [
      "jkab\n"
     ]
    }
   ],
   "source": [
    "s = Solution()\n",
    "\n",
    "result = s.freqAlphabets(s = \"10#11#12\")\n",
    "print (result) "
   ]
  },
  {
   "cell_type": "code",
   "execution_count": 15,
   "id": "3eb1f56b",
   "metadata": {},
   "outputs": [
    {
     "name": "stdout",
     "output_type": "stream",
     "text": [
      "acz\n"
     ]
    }
   ],
   "source": [
    "s = Solution()\n",
    "\n",
    "result = s.freqAlphabets(s = \"1326#\")\n",
    "print (result) "
   ]
  },
  {
   "cell_type": "markdown",
   "id": "798ee068",
   "metadata": {},
   "source": [
    "### 2000. Reverse Prefix of Word"
   ]
  },
  {
   "cell_type": "code",
   "execution_count": 55,
   "id": "50e61249",
   "metadata": {},
   "outputs": [],
   "source": [
    "class Solution:\n",
    "    def reversePrefix(self, word: str, ch: str) -> str:\n",
    "        count = 0 \n",
    "        for i in word:\n",
    "            count +=1 \n",
    "            if i == ch:\n",
    "                first = word[0: count]\n",
    "                rev_first = ''.join(reversed(first))\n",
    "                rest = word[count :]\n",
    "                res = ''.join(rev_first + rest)\n",
    "                break\n",
    "            else:\n",
    "                res = word\n",
    "        return res"
   ]
  },
  {
   "cell_type": "code",
   "execution_count": 56,
   "id": "9e52b213",
   "metadata": {},
   "outputs": [
    {
     "name": "stdout",
     "output_type": "stream",
     "text": [
      "dcbaefd\n"
     ]
    }
   ],
   "source": [
    "s = Solution()\n",
    "\n",
    "result = s.reversePrefix(word = \"abcdefd\", ch = \"d\")\n",
    "print (result) "
   ]
  },
  {
   "cell_type": "code",
   "execution_count": 57,
   "id": "e2127b1a",
   "metadata": {},
   "outputs": [
    {
     "name": "stdout",
     "output_type": "stream",
     "text": [
      "zxyxxe\n"
     ]
    }
   ],
   "source": [
    "s = Solution()\n",
    "\n",
    "result = s.reversePrefix(word = \"xyxzxe\", ch = \"z\")\n",
    "print (result) "
   ]
  },
  {
   "cell_type": "code",
   "execution_count": 58,
   "id": "25e0f56e",
   "metadata": {},
   "outputs": [
    {
     "name": "stdout",
     "output_type": "stream",
     "text": [
      "abcd\n"
     ]
    }
   ],
   "source": [
    "s = Solution()\n",
    "\n",
    "result = s.reversePrefix(word = \"abcd\", ch = \"z\")\n",
    "print (result) "
   ]
  },
  {
   "cell_type": "markdown",
   "id": "13ca4c17",
   "metadata": {},
   "source": [
    "### 2678. Number of Senior Citizens"
   ]
  },
  {
   "cell_type": "code",
   "execution_count": 4,
   "id": "7bc7540d",
   "metadata": {},
   "outputs": [],
   "source": [
    "from typing import List\n",
    "class Solution:\n",
    "    def countSeniors(self, details: List[str]) -> int:\n",
    "        senior_count = 0\n",
    "        for one_pass in details:\n",
    "            \n",
    "            age = one_pass[11:13]\n",
    "            if int(age) > 60:\n",
    "                senior_count += 1\n",
    "        return senior_count\n",
    "            \n",
    "        "
   ]
  },
  {
   "cell_type": "code",
   "execution_count": 5,
   "id": "f574e3fe",
   "metadata": {},
   "outputs": [
    {
     "name": "stdout",
     "output_type": "stream",
     "text": [
      "2\n"
     ]
    }
   ],
   "source": [
    "s = Solution()\n",
    "\n",
    "result = s.countSeniors(details = [\"7868190130M7522\",\"5303914400F9211\",\"9273338290F4010\"])\n",
    "print (result) "
   ]
  },
  {
   "cell_type": "code",
   "execution_count": 7,
   "id": "01565f0b",
   "metadata": {},
   "outputs": [
    {
     "name": "stdout",
     "output_type": "stream",
     "text": [
      "0\n"
     ]
    }
   ],
   "source": [
    "s = Solution()\n",
    "\n",
    "result = s.countSeniors(details = [\"1313579440F2036\",\"2921522980M5644\"])\n",
    "print (result) "
   ]
  },
  {
   "cell_type": "markdown",
   "id": "79a5ae34",
   "metadata": {},
   "source": [
    "### 1704. Determine if String Halves Are Alike\n"
   ]
  },
  {
   "cell_type": "code",
   "execution_count": 18,
   "id": "94d145c3",
   "metadata": {},
   "outputs": [],
   "source": [
    "class Solution:\n",
    "    def halvesAreAlike(self, s: str) -> bool:\n",
    "        \n",
    "        a = s[:int(len(s)/2)]\n",
    "        b = s[int(len(s)/2):]\n",
    "        \n",
    "        count_a = 0\n",
    "        count_b = 0\n",
    "        for l in a:\n",
    "            if l.lower() in 'aeiou':\n",
    "                count_a += 1\n",
    "        for ll in b:\n",
    "            if ll.lower() in 'aeiou':\n",
    "                count_b += 1\n",
    "        if count_a == count_b:\n",
    "            return True\n",
    "        else:\n",
    "            return False\n"
   ]
  },
  {
   "cell_type": "code",
   "execution_count": 19,
   "id": "abe0d16b",
   "metadata": {},
   "outputs": [
    {
     "name": "stdout",
     "output_type": "stream",
     "text": [
      "True\n"
     ]
    }
   ],
   "source": [
    "s = Solution()\n",
    "\n",
    "result = s.halvesAreAlike(s = \"book\")\n",
    "print (result) "
   ]
  },
  {
   "cell_type": "code",
   "execution_count": 20,
   "id": "fab0e8c3",
   "metadata": {},
   "outputs": [
    {
     "name": "stdout",
     "output_type": "stream",
     "text": [
      "False\n"
     ]
    }
   ],
   "source": [
    "s = Solution()\n",
    "\n",
    "result = s.halvesAreAlike(s = \"textbook\")\n",
    "print (result) "
   ]
  },
  {
   "cell_type": "markdown",
   "id": "14552ee3",
   "metadata": {},
   "source": [
    "### 1812. Determine Color of a Chessboard Square"
   ]
  },
  {
   "cell_type": "code",
   "execution_count": 40,
   "id": "b2ff3804",
   "metadata": {},
   "outputs": [],
   "source": [
    "class Solution:\n",
    "    def squareIsWhite(self, coordinates: str) -> bool:\n",
    "        \n",
    "        l = coordinates[0]\n",
    "        n = coordinates[1]\n",
    "        #print (type(n))\n",
    "        if l in 'aceg' and int(n) in [1, 3, 5, 7]:\n",
    "            return False\n",
    "        elif l in 'bdfh' and int(n) in [2, 4, 6, 8]:\n",
    "            return False\n",
    "        else:\n",
    "            return True\n",
    "        "
   ]
  },
  {
   "cell_type": "code",
   "execution_count": 41,
   "id": "b9f166ac",
   "metadata": {},
   "outputs": [
    {
     "name": "stdout",
     "output_type": "stream",
     "text": [
      "False\n"
     ]
    }
   ],
   "source": [
    "s = Solution()\n",
    "\n",
    "result = s.squareIsWhite(coordinates = \"a1\")\n",
    "print (result) "
   ]
  },
  {
   "cell_type": "code",
   "execution_count": 42,
   "id": "4527938e",
   "metadata": {},
   "outputs": [
    {
     "name": "stdout",
     "output_type": "stream",
     "text": [
      "True\n"
     ]
    }
   ],
   "source": [
    "s = Solution()\n",
    "\n",
    "result = s.squareIsWhite(coordinates = \"h3\")\n",
    "print (result) "
   ]
  },
  {
   "cell_type": "code",
   "execution_count": 43,
   "id": "a9aa46ee",
   "metadata": {},
   "outputs": [
    {
     "name": "stdout",
     "output_type": "stream",
     "text": [
      "False\n"
     ]
    }
   ],
   "source": [
    "s = Solution()\n",
    "\n",
    "result = s.squareIsWhite(coordinates = \"c7\")\n",
    "print (result) "
   ]
  },
  {
   "cell_type": "code",
   "execution_count": 44,
   "id": "b3fc6c4d",
   "metadata": {},
   "outputs": [
    {
     "name": "stdout",
     "output_type": "stream",
     "text": [
      "False\n"
     ]
    }
   ],
   "source": [
    "s = Solution()\n",
    "\n",
    "result = s.squareIsWhite(coordinates = \"b2\")\n",
    "print (result) "
   ]
  },
  {
   "cell_type": "markdown",
   "id": "599ab5fd",
   "metadata": {},
   "source": [
    "### 942. DI String Match"
   ]
  },
  {
   "cell_type": "code",
   "execution_count": 114,
   "id": "99231cbb",
   "metadata": {
    "code_folding": []
   },
   "outputs": [],
   "source": [
    "class Solution:\n",
    "    def diStringMatch(self, s: str) -> List[int]:\n",
    "         \n",
    "        perm = [] \n",
    "        lower = 0 \n",
    "        upper = len(s)\n",
    "        \n",
    "        for i in s:\n",
    "            if i == 'I':\n",
    "                perm.append(lower)\n",
    "                lower += 1\n",
    "            else:\n",
    "                perm.append(upper)\n",
    "                upper -=1 \n",
    "    \n",
    "        if s[-1] == 'I':\n",
    "            perm.append(lower)\n",
    "        else:\n",
    "            perm.append(upper)\n",
    "        \n",
    "        return perm\n"
   ]
  },
  {
   "cell_type": "code",
   "execution_count": 115,
   "id": "c463769f",
   "metadata": {},
   "outputs": [
    {
     "name": "stdout",
     "output_type": "stream",
     "text": [
      "[0, 4, 1, 3, 2]\n"
     ]
    }
   ],
   "source": [
    "s = Solution()\n",
    "\n",
    "result = s.diStringMatch(s =\"IDID\")\n",
    "print (result) "
   ]
  },
  {
   "cell_type": "code",
   "execution_count": 116,
   "id": "b9c97b1d",
   "metadata": {},
   "outputs": [
    {
     "name": "stdout",
     "output_type": "stream",
     "text": [
      "[0, 1, 2, 3]\n"
     ]
    }
   ],
   "source": [
    "s = Solution()\n",
    "\n",
    "result = s.diStringMatch(s =\"III\")\n",
    "print (result) "
   ]
  },
  {
   "cell_type": "code",
   "execution_count": 117,
   "id": "9ee22489",
   "metadata": {},
   "outputs": [
    {
     "name": "stdout",
     "output_type": "stream",
     "text": [
      "[3, 2, 0, 1]\n"
     ]
    }
   ],
   "source": [
    "s = Solution()\n",
    "\n",
    "result = s.diStringMatch(\"DDI\")\n",
    "print (result) "
   ]
  },
  {
   "cell_type": "markdown",
   "id": "5205db42",
   "metadata": {},
   "source": [
    "### 2185. Counting Words With a Given Prefix"
   ]
  },
  {
   "cell_type": "code",
   "execution_count": 118,
   "id": "4201e81a",
   "metadata": {},
   "outputs": [],
   "source": [
    "from typing import List\n",
    "class Solution:\n",
    "    def prefixCount(self, words: List[str], pref: str) -> int:\n",
    "        count = 0\n",
    "        n = len(pref)\n",
    "        for w in words:\n",
    "            if w[:n] == pref:\n",
    "                count +=1\n",
    "        return count\n",
    "        "
   ]
  },
  {
   "cell_type": "code",
   "execution_count": 119,
   "id": "3d8b372b",
   "metadata": {},
   "outputs": [
    {
     "name": "stdout",
     "output_type": "stream",
     "text": [
      "2\n"
     ]
    }
   ],
   "source": [
    "s = Solution()\n",
    "\n",
    "result = s.prefixCount(words = [\"pay\",\"attention\",\"practice\",\"attend\"], pref = \"at\")\n",
    "print (result) "
   ]
  },
  {
   "cell_type": "code",
   "execution_count": 120,
   "id": "33fe18f8",
   "metadata": {},
   "outputs": [
    {
     "name": "stdout",
     "output_type": "stream",
     "text": [
      "0\n"
     ]
    }
   ],
   "source": [
    "s = Solution()\n",
    "\n",
    "result = s.prefixCount(words = [\"leetcode\",\"win\",\"loops\",\"success\"], pref = \"code\")\n",
    "print (result) "
   ]
  },
  {
   "cell_type": "markdown",
   "id": "422bb1ae",
   "metadata": {},
   "source": [
    "### 344. Reverse String"
   ]
  },
  {
   "cell_type": "code",
   "execution_count": 140,
   "id": "8d531131",
   "metadata": {},
   "outputs": [],
   "source": [
    "class Solution:\n",
    "    def reverseString(self, s: List[str]) -> None:\n",
    "        \"\"\"\n",
    "        Do not return anything, modify s in-place instead.\n",
    "        \"\"\"\n",
    "        left_index = 0\n",
    "        right_index = len(s) - 1\n",
    "        \n",
    "        while left_index < right_index:\n",
    "            s[left_index], s[right_index] = s[right_index], s[left_index]\n",
    "            left_index += 1\n",
    "            right_index -=1\n",
    "            \n",
    "        return s"
   ]
  },
  {
   "cell_type": "code",
   "execution_count": 141,
   "id": "72011ef0",
   "metadata": {},
   "outputs": [
    {
     "name": "stdout",
     "output_type": "stream",
     "text": [
      "['o', 'l', 'l', 'e', 'h']\n"
     ]
    }
   ],
   "source": [
    "s = Solution()\n",
    "\n",
    "result = s.reverseString(s = [\"h\",\"e\",\"l\",\"l\",\"o\"])\n",
    "print (result) "
   ]
  },
  {
   "cell_type": "code",
   "execution_count": 142,
   "id": "1e4a1e7d",
   "metadata": {},
   "outputs": [
    {
     "name": "stdout",
     "output_type": "stream",
     "text": [
      "['h', 'a', 'n', 'n', 'a', 'H']\n"
     ]
    }
   ],
   "source": [
    "s = Solution()\n",
    "\n",
    "result = s.reverseString(s = [\"H\",\"a\",\"n\",\"n\",\"a\",\"h\"])\n",
    "print (result) "
   ]
  },
  {
   "cell_type": "code",
   "execution_count": 143,
   "id": "333ffd09",
   "metadata": {},
   "outputs": [
    {
     "name": "stdout",
     "output_type": "stream",
     "text": [
      "['o', 'l', 'l', 'e', 'h']\n"
     ]
    }
   ],
   "source": [
    "s = Solution()\n",
    "\n",
    "result = s.reverseString(s = [\"h\",\"e\",\"l\",\"l\",\"o\"])\n",
    "print (result)  "
   ]
  },
  {
   "cell_type": "code",
   "execution_count": 144,
   "id": "b65c4db8",
   "metadata": {},
   "outputs": [
    {
     "name": "stdout",
     "output_type": "stream",
     "text": [
      "['h', 'a', 'n', 'n', 'a', 'H']\n"
     ]
    }
   ],
   "source": [
    "s = Solution()\n",
    "\n",
    "result = s.reverseString([\"H\",\"a\",\"n\",\"n\",\"a\",\"h\"])\n",
    "print (result)  "
   ]
  },
  {
   "cell_type": "markdown",
   "id": "cd086256",
   "metadata": {},
   "source": [
    "### 2586. Count the Number of Vowel Strings in Range"
   ]
  },
  {
   "cell_type": "code",
   "execution_count": 1,
   "id": "51934899",
   "metadata": {},
   "outputs": [],
   "source": [
    "from typing import List\n",
    "class Solution:\n",
    "    def vowelStrings(self, words: List[str], left: int, right: int) -> int:\n",
    "        \n",
    "        my_words = words[left:right+1]\n",
    "        count = 0\n",
    "        vowel = 'aeiou'\n",
    "        for w in my_words:\n",
    "            if w[0] in vowel and w[-1] in vowel:\n",
    "                count +=1 \n",
    "                \n",
    "        return count"
   ]
  },
  {
   "cell_type": "code",
   "execution_count": 2,
   "id": "c304fc28",
   "metadata": {},
   "outputs": [
    {
     "name": "stdout",
     "output_type": "stream",
     "text": [
      "2\n"
     ]
    }
   ],
   "source": [
    "s = Solution()\n",
    "\n",
    "result = s.vowelStrings(words = [\"are\",\"amy\",\"u\"], left = 0, right = 2)\n",
    "print (result) "
   ]
  },
  {
   "cell_type": "code",
   "execution_count": 3,
   "id": "e277bdd1",
   "metadata": {
    "scrolled": true
   },
   "outputs": [
    {
     "name": "stdout",
     "output_type": "stream",
     "text": [
      "3\n"
     ]
    }
   ],
   "source": [
    "s = Solution()\n",
    "\n",
    "result = s.vowelStrings(words = [\"hey\",\"aeo\",\"mu\",\"ooo\",\"artro\"], left = 1, right = 4)\n",
    "print (result) "
   ]
  },
  {
   "cell_type": "markdown",
   "id": "a348390f",
   "metadata": {},
   "source": [
    "### 1332. Remove Palindromic Subsequences\n"
   ]
  },
  {
   "cell_type": "code",
   "execution_count": 11,
   "id": "73350e6e",
   "metadata": {},
   "outputs": [],
   "source": [
    "class Solution:\n",
    "    def removePalindromeSub(self, s: str) -> int:\n",
    "        count=0\n",
    "        if s==s[::-1]:\n",
    "            count+=1\n",
    "        else:\n",
    "            count+=2\n",
    "        return count"
   ]
  },
  {
   "cell_type": "code",
   "execution_count": 12,
   "id": "c9e4a69b",
   "metadata": {},
   "outputs": [
    {
     "name": "stdout",
     "output_type": "stream",
     "text": [
      "1\n"
     ]
    }
   ],
   "source": [
    "s = Solution()\n",
    "\n",
    "result = s.removePalindromeSub(s = \"ababa\")\n",
    "print (result) "
   ]
  },
  {
   "cell_type": "markdown",
   "id": "90e38f20",
   "metadata": {},
   "source": [
    "### 657. Robot Return to Origin"
   ]
  },
  {
   "cell_type": "code",
   "execution_count": 18,
   "id": "dcd99fe7",
   "metadata": {},
   "outputs": [],
   "source": [
    "class Solution:\n",
    "    def judgeCircle(self, moves: str) -> bool:\n",
    "        UD_pos = 0\n",
    "        RL_pos = 0\n",
    "        for i in moves:\n",
    "            if i == 'U':\n",
    "                UD_pos +=1\n",
    "            elif i == 'D':\n",
    "                UD_pos -=1\n",
    "            elif i == 'R':\n",
    "                RL_pos += 1\n",
    "            elif i == 'L':\n",
    "                RL_pos -= 1\n",
    "        \n",
    "        res =  (UD_pos , RL_pos)\n",
    "        if res == (0, 0):\n",
    "            return True\n",
    "        else:\n",
    "            return False"
   ]
  },
  {
   "cell_type": "code",
   "execution_count": 19,
   "id": "b4b1090e",
   "metadata": {},
   "outputs": [
    {
     "name": "stdout",
     "output_type": "stream",
     "text": [
      "True\n"
     ]
    }
   ],
   "source": [
    "s = Solution()\n",
    "\n",
    "result = s.judgeCircle(moves = \"UD\")\n",
    "print (result) "
   ]
  },
  {
   "cell_type": "code",
   "execution_count": 20,
   "id": "4e7a98ac",
   "metadata": {},
   "outputs": [
    {
     "name": "stdout",
     "output_type": "stream",
     "text": [
      "False\n"
     ]
    }
   ],
   "source": [
    "s = Solution()\n",
    "\n",
    "result = s.judgeCircle(moves = \"LL\")\n",
    "print (result) "
   ]
  },
  {
   "cell_type": "code",
   "execution_count": 21,
   "id": "5876a15e",
   "metadata": {},
   "outputs": [
    {
     "name": "stdout",
     "output_type": "stream",
     "text": [
      "False\n"
     ]
    }
   ],
   "source": [
    "s = Solution()\n",
    "\n",
    "result = s.judgeCircle(moves =\"RRDD\")\n",
    "print (result) "
   ]
  },
  {
   "cell_type": "markdown",
   "id": "d03d0c06",
   "metadata": {},
   "source": [
    "### 944. Delete Columns to Make Sorted "
   ]
  },
  {
   "cell_type": "code",
   "execution_count": 228,
   "id": "74bbaf3f",
   "metadata": {},
   "outputs": [],
   "source": [
    "from typing import List \n",
    "\n",
    "class Solution:\n",
    "    def minDeletionSize(self, strs: List[str]) -> int:  \n",
    "                   \n",
    "        num_col, num_rows, count = len(strs[0]), len(strs), 0\n",
    "        \n",
    "        if num_col > 1: \n",
    "            for j in range(num_col):\n",
    "                for i in range(num_rows-1):\n",
    "                    if strs[i][j] > strs[i+1][j]:\n",
    "                        count += 1\n",
    "                        break \n",
    "                    \n",
    "              \n",
    "        else:\n",
    "            for i in range(num_rows-1):\n",
    "                if strs[i] > strs[i+1]:\n",
    "                    count +=1\n",
    "        return count      \n",
    "        "
   ]
  },
  {
   "cell_type": "code",
   "execution_count": 229,
   "id": "c3291a39",
   "metadata": {},
   "outputs": [
    {
     "name": "stdout",
     "output_type": "stream",
     "text": [
      "1\n"
     ]
    }
   ],
   "source": [
    "s = Solution()\n",
    "\n",
    "result = s.minDeletionSize(strs = [\"abc\", \"bce\", \"cae\"])\n",
    "print (result) "
   ]
  },
  {
   "cell_type": "code",
   "execution_count": 230,
   "id": "2119818f",
   "metadata": {},
   "outputs": [
    {
     "name": "stdout",
     "output_type": "stream",
     "text": [
      "1\n"
     ]
    }
   ],
   "source": [
    "s = Solution()\n",
    "\n",
    "result = s.minDeletionSize(strs = [\"cba\",\"daf\",\"ghi\"])\n",
    "print (result) "
   ]
  },
  {
   "cell_type": "code",
   "execution_count": 231,
   "id": "fe394502",
   "metadata": {},
   "outputs": [
    {
     "name": "stdout",
     "output_type": "stream",
     "text": [
      "0\n"
     ]
    }
   ],
   "source": [
    "s = Solution()\n",
    "\n",
    "result = s.minDeletionSize(strs = [\"a\",\"b\"])\n",
    "print (result) "
   ]
  },
  {
   "cell_type": "code",
   "execution_count": 232,
   "id": "3486e2cd",
   "metadata": {},
   "outputs": [
    {
     "name": "stdout",
     "output_type": "stream",
     "text": [
      "3\n"
     ]
    }
   ],
   "source": [
    "s = Solution()\n",
    "\n",
    "result = s.minDeletionSize(strs = [\"zyx\",\"wvu\",\"tsr\"])\n",
    "print (result) "
   ]
  },
  {
   "cell_type": "markdown",
   "id": "059dd910",
   "metadata": {},
   "source": [
    "### 2351. First Letter to Appear Twice\n"
   ]
  },
  {
   "cell_type": "code",
   "execution_count": 332,
   "id": "2338386a",
   "metadata": {},
   "outputs": [],
   "source": [
    "class Solution:\n",
    "    def repeatedCharacter(self, s: str) -> str:\n",
    "        \n",
    "        res = ''\n",
    "        \n",
    "        for l in s:\n",
    "            if l in res:\n",
    "                return l\n",
    "            \n",
    "            else:\n",
    "                res += l\n",
    "        return res     "
   ]
  },
  {
   "cell_type": "code",
   "execution_count": 333,
   "id": "3185911e",
   "metadata": {},
   "outputs": [
    {
     "name": "stdout",
     "output_type": "stream",
     "text": [
      "c\n"
     ]
    }
   ],
   "source": [
    " s = Solution()\n",
    "\n",
    "result = s.repeatedCharacter(s = \"abccbaacz\")\n",
    "print (result)"
   ]
  },
  {
   "cell_type": "code",
   "execution_count": 334,
   "id": "5b5ac9a8",
   "metadata": {},
   "outputs": [
    {
     "name": "stdout",
     "output_type": "stream",
     "text": [
      "o\n"
     ]
    }
   ],
   "source": [
    "s = Solution()\n",
    "\n",
    "result = s.repeatedCharacter(s =\"jkodgypoya\")\n",
    "print (result) "
   ]
  },
  {
   "cell_type": "code",
   "execution_count": 335,
   "id": "15cdc7b4",
   "metadata": {},
   "outputs": [
    {
     "name": "stdout",
     "output_type": "stream",
     "text": [
      "d\n"
     ]
    }
   ],
   "source": [
    "s = Solution()\n",
    "\n",
    "result = s.repeatedCharacter(s = \"abcdd\")\n",
    "print (result) "
   ]
  },
  {
   "cell_type": "markdown",
   "id": "cc35e804",
   "metadata": {},
   "source": [
    "### 2278. Percentage of Letter in String\n"
   ]
  },
  {
   "cell_type": "code",
   "execution_count": 357,
   "id": "fd531ebc",
   "metadata": {},
   "outputs": [],
   "source": [
    "class Solution:\n",
    "    def percentageLetter(self, s: str, letter: str) -> int:\n",
    "        import math \n",
    "        n = len(s)\n",
    "        \n",
    "        count = 0\n",
    "        \n",
    "        for l in s:\n",
    "            if l == letter:\n",
    "                count +=1\n",
    "                \n",
    "        res = math.floor(count / n *100)\n",
    "        return res"
   ]
  },
  {
   "cell_type": "code",
   "execution_count": 358,
   "id": "64fce1e6",
   "metadata": {},
   "outputs": [
    {
     "name": "stdout",
     "output_type": "stream",
     "text": [
      "33\n"
     ]
    }
   ],
   "source": [
    "s = Solution()\n",
    "\n",
    "result = s.percentageLetter(s = \"foobar\", letter = \"o\")\n",
    "print (result) "
   ]
  },
  {
   "cell_type": "code",
   "execution_count": 359,
   "id": "d2585f32",
   "metadata": {},
   "outputs": [
    {
     "name": "stdout",
     "output_type": "stream",
     "text": [
      "0\n"
     ]
    }
   ],
   "source": [
    "s = Solution()\n",
    "\n",
    "result = s.percentageLetter(s = \"jjjj\", letter = \"k\")\n",
    "print (result) "
   ]
  },
  {
   "cell_type": "code",
   "execution_count": 360,
   "id": "180054e6",
   "metadata": {
    "scrolled": true
   },
   "outputs": [
    {
     "name": "stdout",
     "output_type": "stream",
     "text": [
      "16\n"
     ]
    }
   ],
   "source": [
    "s = Solution()\n",
    "\n",
    "result = s.percentageLetter(s =\"sgawtb\", letter =\"s\")\n",
    "print (result) "
   ]
  },
  {
   "cell_type": "markdown",
   "id": "edc864cf",
   "metadata": {},
   "source": [
    "### 1880. Check if Word Equals Summation of Two Words"
   ]
  },
  {
   "cell_type": "code",
   "execution_count": 390,
   "id": "2d980fd1",
   "metadata": {},
   "outputs": [],
   "source": [
    "class Solution:\n",
    "    def isSumEqual(self, firstWord: str, secondWord: str, targetWord: str) -> bool:\n",
    "        \n",
    "        res = ''\n",
    "        s = firstWord\n",
    "        \n",
    "        def num_val(s):\n",
    "            ll = []\n",
    "            for l in s:\n",
    "                ll.append(str(ord((l)) - 97))\n",
    "            \n",
    "            return int(''.join(ll))\n",
    "        \n",
    "        #return num_val(s)\n",
    "        if num_val(firstWord) + num_val(secondWord) == num_val(targetWord):\n",
    "            \n",
    "            return True\n",
    "        else:\n",
    "            return False \n",
    "        "
   ]
  },
  {
   "cell_type": "code",
   "execution_count": 391,
   "id": "83ba04fb",
   "metadata": {},
   "outputs": [
    {
     "name": "stdout",
     "output_type": "stream",
     "text": [
      "True\n"
     ]
    }
   ],
   "source": [
    "s = Solution()\n",
    "\n",
    "result = s.isSumEqual(firstWord = \"acb\", secondWord = \"cba\", targetWord = \"cdb\")\n",
    "print (result) \n"
   ]
  },
  {
   "cell_type": "code",
   "execution_count": 392,
   "id": "fbb3cb8d",
   "metadata": {},
   "outputs": [
    {
     "name": "stdout",
     "output_type": "stream",
     "text": [
      "False\n"
     ]
    }
   ],
   "source": [
    "s = Solution()\n",
    "\n",
    "result = s.isSumEqual(firstWord = \"aaa\", secondWord = \"a\", targetWord = \"aab\")\n",
    "print (result) \n"
   ]
  },
  {
   "cell_type": "code",
   "execution_count": 393,
   "id": "82637330",
   "metadata": {
    "scrolled": true
   },
   "outputs": [
    {
     "name": "stdout",
     "output_type": "stream",
     "text": [
      "True\n"
     ]
    }
   ],
   "source": [
    "s = Solution()\n",
    "\n",
    "result = s.isSumEqual(firstWord = \"aaa\", secondWord = \"a\", targetWord = \"aaaa\")\n",
    "print (result) \n"
   ]
  },
  {
   "cell_type": "markdown",
   "id": "9bd6b39d",
   "metadata": {},
   "source": [
    "### 1974. Minimum Time to Type Word Using Special Typewriter"
   ]
  },
  {
   "cell_type": "code",
   "execution_count": 506,
   "id": "1cd99f10",
   "metadata": {},
   "outputs": [],
   "source": [
    "class Solution:\n",
    "    def minTimeToType(self, word: str) -> int:\n",
    "        \n",
    "        pointer = []\n",
    "        sec = 0\n",
    "        for w in word:\n",
    "            sec += 1\n",
    "            \n",
    "            position = ord(w)-97\n",
    "            \n",
    "            if position > 13:\n",
    "                position = position - 26\n",
    "            \n",
    "            pointer.append( position)\n",
    "        \n",
    "        pp =[]\n",
    "        pp.append(abs(pointer[0]))\n",
    "        for p in range(1, len(pointer)):\n",
    "            dif = abs(pointer[p] - pointer[p-1])\n",
    "            if  dif > 13:\n",
    "                 dif = 26 - dif\n",
    "            pp.append(dif)\n",
    "        \n",
    "        sec += sum(pp)\n",
    "\n",
    "        return sec"
   ]
  },
  {
   "cell_type": "code",
   "execution_count": 507,
   "id": "5c5e037f",
   "metadata": {},
   "outputs": [
    {
     "name": "stdout",
     "output_type": "stream",
     "text": [
      "5\n"
     ]
    }
   ],
   "source": [
    "s = Solution()\n",
    "\n",
    "result = s.minTimeToType(word = \"abc\")\n",
    "print (result) "
   ]
  },
  {
   "cell_type": "code",
   "execution_count": 508,
   "id": "aa2e658f",
   "metadata": {},
   "outputs": [
    {
     "name": "stdout",
     "output_type": "stream",
     "text": [
      "7\n"
     ]
    }
   ],
   "source": [
    "s = Solution()\n",
    "\n",
    "result = s.minTimeToType(word = \"bza\")\n",
    "print (result) "
   ]
  },
  {
   "cell_type": "code",
   "execution_count": 509,
   "id": "79ebf9b7",
   "metadata": {},
   "outputs": [
    {
     "name": "stdout",
     "output_type": "stream",
     "text": [
      "34\n"
     ]
    }
   ],
   "source": [
    "s = Solution()\n",
    "\n",
    "result = s.minTimeToType(word = \"zjpc\")\n",
    "print (result) "
   ]
  },
  {
   "cell_type": "code",
   "execution_count": 510,
   "id": "5c50494c",
   "metadata": {
    "scrolled": true
   },
   "outputs": [
    {
     "name": "stdout",
     "output_type": "stream",
     "text": [
      "31\n"
     ]
    }
   ],
   "source": [
    "s = Solution()\n",
    "\n",
    "result = s.minTimeToType(word =\"pdy\")\n",
    "print (result) "
   ]
  },
  {
   "cell_type": "markdown",
   "id": "0d0022e7",
   "metadata": {},
   "source": [
    "### 2283. Check if Number Has Equal Digit Count and Digit Value"
   ]
  },
  {
   "cell_type": "code",
   "execution_count": 631,
   "id": "2d85b134",
   "metadata": {},
   "outputs": [],
   "source": [
    "class Solution:\n",
    "    def digitCount(self, num: str) -> bool:\n",
    "        \n",
    "        my_dict = {}\n",
    "        for i in range(len(num)):\n",
    "            my_dict[i] = int(num[i])\n",
    "        \n",
    "        my_dict_true = {}\n",
    "        \n",
    "        for i in range(len(num)):\n",
    "            if num[i] not in my_dict_true:\n",
    "                my_dict_true[num[i]] = 1\n",
    "            else:\n",
    "                my_dict_true [num[i]] += 1\n",
    "                \n",
    "#         if sorted(my_dict.items()) == sorted(my_dict_true.items()):\n",
    "#             return True\n",
    "#         else:\n",
    "#             return False\n",
    "        return sorted(my_dict_true.items()), 'd', sorted(my_dict.items())"
   ]
  },
  {
   "cell_type": "code",
   "execution_count": 632,
   "id": "c4e340a1",
   "metadata": {},
   "outputs": [
    {
     "name": "stdout",
     "output_type": "stream",
     "text": [
      "([('0', 1), ('1', 2), ('2', 1)], 'd', [(0, 1), (1, 2), (2, 1), (3, 0)])\n"
     ]
    }
   ],
   "source": [
    "s = Solution()\n",
    "\n",
    "result = s.digitCount(num = \"1210\")\n",
    "print (result) "
   ]
  },
  {
   "cell_type": "code",
   "execution_count": 633,
   "id": "6b1a0184",
   "metadata": {},
   "outputs": [
    {
     "name": "stdout",
     "output_type": "stream",
     "text": [
      "([('0', 2), ('3', 1)], 'd', [(0, 0), (1, 3), (2, 0)])\n"
     ]
    }
   ],
   "source": [
    "s = Solution()\n",
    "\n",
    "result = s.digitCount(num = \"030\")\n",
    "print (result) "
   ]
  },
  {
   "cell_type": "code",
   "execution_count": 634,
   "id": "8bfc1bc7",
   "metadata": {},
   "outputs": [
    {
     "name": "stdout",
     "output_type": "stream",
     "text": [
      "([('0', 2), ('1', 1), ('2', 2)], 'd', [(0, 2), (1, 1), (2, 2), (3, 0), (4, 0)])\n"
     ]
    }
   ],
   "source": [
    "s = Solution()\n",
    "\n",
    "result = s.digitCount(num =\"21200\")\n",
    "print (result) "
   ]
  },
  {
   "cell_type": "markdown",
   "id": "3c9f7577",
   "metadata": {},
   "source": [
    "### 1370. Increasing Decreasing String SOLVE IT LATER"
   ]
  },
  {
   "cell_type": "code",
   "execution_count": 30,
   "id": "697b0172",
   "metadata": {},
   "outputs": [],
   "source": [
    "class Solution:\n",
    "    def sortString(self, s: str) -> str:\n",
    "        \n",
    "        s = list(s)\n",
    "        res = [] \n",
    "        \n",
    "        for i in range(len(s)):\n",
    "            #print(s[i:])\n",
    "            a = min(s[i:])  \n",
    "            b = max(s[i:])\n",
    "            if len(res) == 0:\n",
    "                res.append(a)\n",
    "            elif a > res[-1]:    \n",
    "                res.append(a)\n",
    "            \n",
    "        for i in range(len(s)):\n",
    "            #print(s[i:])\n",
    "            a = min(s[i:])  \n",
    "            b = max(s[i:])\n",
    "            if len(res) == 0:\n",
    "                res.append(a)\n",
    "            elif a > res[-1]:    \n",
    "                res.append(a) \n",
    "           \n",
    "        return  res\n",
    "        "
   ]
  },
  {
   "cell_type": "code",
   "execution_count": 31,
   "id": "04c9e6aa",
   "metadata": {},
   "outputs": [
    {
     "name": "stdout",
     "output_type": "stream",
     "text": [
      "['a', 'b', 'c']\n"
     ]
    }
   ],
   "source": [
    "s = Solution()\n",
    "\n",
    "result = s.sortString(\"aaaabbbbcccc\")\n",
    "print (result) "
   ]
  },
  {
   "cell_type": "code",
   "execution_count": 32,
   "id": "dd53e3b6",
   "metadata": {},
   "outputs": [
    {
     "name": "stdout",
     "output_type": "stream",
     "text": [
      "['a', 't']\n"
     ]
    }
   ],
   "source": [
    "s = Solution()\n",
    "\n",
    "result = s.sortString(s = \"rat\")\n",
    "print (result) "
   ]
  },
  {
   "cell_type": "markdown",
   "id": "92c74ef1",
   "metadata": {},
   "source": [
    "### 2255. Count Prefixes of a Given String\n"
   ]
  },
  {
   "cell_type": "code",
   "execution_count": 639,
   "id": "8082db2e",
   "metadata": {},
   "outputs": [],
   "source": [
    "class Solution:\n",
    "    def countPrefixes(self, words: List[str], s: str) -> int:\n",
    "        s_pref = []\n",
    "        for j in range(1, len(s)+1):\n",
    "            s_pref.append(s[:j])\n",
    "        count = 0\n",
    "        for w in words:\n",
    "            if w in s_pref:\n",
    "                count +=1\n",
    "\n",
    "        return count"
   ]
  },
  {
   "cell_type": "code",
   "execution_count": 640,
   "id": "f597265c",
   "metadata": {},
   "outputs": [
    {
     "name": "stdout",
     "output_type": "stream",
     "text": [
      "3\n"
     ]
    }
   ],
   "source": [
    "s = Solution()\n",
    "\n",
    "result = s.countPrefixes(words = [\"a\",\"b\",\"c\",\"ab\",\"bc\",\"abc\"], s = \"abc\")\n",
    "print (result) "
   ]
  },
  {
   "cell_type": "code",
   "execution_count": 641,
   "id": "8f8f352f",
   "metadata": {},
   "outputs": [
    {
     "name": "stdout",
     "output_type": "stream",
     "text": [
      "2\n"
     ]
    }
   ],
   "source": [
    "s = Solution()\n",
    "\n",
    "result = s.countPrefixes(words = [\"a\",\"a\"], s = \"aa\")\n",
    "print (result) "
   ]
  },
  {
   "cell_type": "markdown",
   "id": "0d6a0889",
   "metadata": {},
   "source": [
    "### 2053. Kth Distinct String in an Array"
   ]
  },
  {
   "cell_type": "code",
   "execution_count": 714,
   "id": "2b6a391c",
   "metadata": {},
   "outputs": [],
   "source": [
    "class Solution:\n",
    "    def kthDistinct(self, arr: List[str], k: int) -> str:\n",
    "        \n",
    "        dic = {}\n",
    "        \n",
    "        for l in arr:\n",
    "            if l not in dic:\n",
    "                dic[l] = 1\n",
    "            else:\n",
    "                dic[l] += 1\n",
    "         \n",
    "        dist = []\n",
    "        c = 0 \n",
    "        for m, v in dic.items():\n",
    "            if v == 1:\n",
    "                dist.append(m)\n",
    "            c +=1 \n",
    "            \n",
    "        if len(dist) < (k-1) or len(dist) == 0:\n",
    "            \n",
    "            return  ''\n",
    "            \n",
    "        else:\n",
    "            return dist[k-1]\n",
    "                \n",
    "            \n",
    "        #return dic, dist"
   ]
  },
  {
   "cell_type": "code",
   "execution_count": 715,
   "id": "16300a6b",
   "metadata": {},
   "outputs": [
    {
     "name": "stdout",
     "output_type": "stream",
     "text": [
      "a\n"
     ]
    }
   ],
   "source": [
    "s = Solution()\n",
    "\n",
    "result = s.kthDistinct( arr = [\"d\",\"b\",\"c\",\"b\",\"c\",\"a\"], k = 2)\n",
    "print (result) "
   ]
  },
  {
   "cell_type": "code",
   "execution_count": 716,
   "id": "dbb2dd3e",
   "metadata": {},
   "outputs": [
    {
     "name": "stdout",
     "output_type": "stream",
     "text": [
      "aaa\n"
     ]
    }
   ],
   "source": [
    "s = Solution()\n",
    "\n",
    "result = s.kthDistinct(arr = [\"aaa\",\"aa\",\"a\"], k = 1)\n",
    "print (result) "
   ]
  },
  {
   "cell_type": "code",
   "execution_count": 717,
   "id": "44c9f3d5",
   "metadata": {},
   "outputs": [
    {
     "name": "stdout",
     "output_type": "stream",
     "text": [
      "\n"
     ]
    }
   ],
   "source": [
    " s = Solution()\n",
    "\n",
    "result = s.kthDistinct(arr = [\"a\",\"b\",\"a\"], k = 3)\n",
    "print (result) "
   ]
  },
  {
   "cell_type": "code",
   "execution_count": 718,
   "id": "cfe12049",
   "metadata": {},
   "outputs": [
    {
     "name": "stdout",
     "output_type": "stream",
     "text": [
      "\n"
     ]
    }
   ],
   "source": [
    " s = Solution()\n",
    "\n",
    "result = s.kthDistinct(arr =[\"a\",\"a\"], k =1)\n",
    "print (result) "
   ]
  },
  {
   "cell_type": "markdown",
   "id": "af2739b8",
   "metadata": {},
   "source": [
    "### 2496. Maximum Value of a String in an Array\n"
   ]
  },
  {
   "cell_type": "code",
   "execution_count": 733,
   "id": "8632b98a",
   "metadata": {},
   "outputs": [],
   "source": [
    "from typing import List\n",
    "class Solution:\n",
    "    def maximumValue(self, strs: List[str]) -> int:\n",
    "        maxi = [] \n",
    "        for s in strs:\n",
    "            if s.isdigit():\n",
    "                maxi.append(int(s))\n",
    "            else:\n",
    "                maxi.append(len(s))\n",
    "        return max(maxi)"
   ]
  },
  {
   "cell_type": "code",
   "execution_count": 734,
   "id": "82dcb8d8",
   "metadata": {},
   "outputs": [
    {
     "name": "stdout",
     "output_type": "stream",
     "text": [
      "5\n"
     ]
    }
   ],
   "source": [
    "s = Solution()\n",
    "\n",
    "result = s.maximumValue(strs = [\"alic3\",\"bob\",\"3\",\"4\",\"00000\"])\n",
    "print (result) "
   ]
  },
  {
   "cell_type": "code",
   "execution_count": 735,
   "id": "3945bc6a",
   "metadata": {},
   "outputs": [
    {
     "name": "stdout",
     "output_type": "stream",
     "text": [
      "1\n"
     ]
    }
   ],
   "source": [
    "s = Solution()\n",
    "\n",
    "result = s.maximumValue(strs = [\"1\",\"01\",\"001\",\"0001\"])\n",
    "print (result) "
   ]
  },
  {
   "cell_type": "markdown",
   "id": "57d2afb7",
   "metadata": {},
   "source": [
    "### 1876. Substrings of Size Three with Distinct Characters"
   ]
  },
  {
   "cell_type": "code",
   "execution_count": 761,
   "id": "9d410a30",
   "metadata": {},
   "outputs": [],
   "source": [
    "class Solution:\n",
    "    def countGoodSubstrings(self, s: str) -> int:\n",
    "        \n",
    "        l = []\n",
    "        dic={}\n",
    "        for i in range(len(s)):\n",
    "            if len(s[i:i+3]) == 3:\n",
    "                l.append(s[i:i+3])\n",
    "        c = 0\n",
    "        for i in l:\n",
    "            dic = {}\n",
    "            for j in i:\n",
    "                if j not in dic:\n",
    "                    dic[j] = 1\n",
    "                else:\n",
    "                    dic[j] += 1\n",
    "            if len(dic) == 3:\n",
    "                c += 1\n",
    "        \n",
    "        \n",
    "        return  c"
   ]
  },
  {
   "cell_type": "code",
   "execution_count": 762,
   "id": "964516a5",
   "metadata": {},
   "outputs": [
    {
     "name": "stdout",
     "output_type": "stream",
     "text": [
      "1\n"
     ]
    }
   ],
   "source": [
    "s = Solution()\n",
    "\n",
    "result = s.countGoodSubstrings(s = \"xyzzaz\")\n",
    "print (result) "
   ]
  },
  {
   "cell_type": "code",
   "execution_count": 763,
   "id": "33f62be3",
   "metadata": {},
   "outputs": [
    {
     "name": "stdout",
     "output_type": "stream",
     "text": [
      "4\n"
     ]
    }
   ],
   "source": [
    "s = Solution()\n",
    "\n",
    "result = s.countGoodSubstrings(s = \"aababcabc\")\n",
    "print (result) "
   ]
  },
  {
   "cell_type": "markdown",
   "id": "4413a30f",
   "metadata": {},
   "source": [
    "### 821. Shortest Distance to a Character"
   ]
  },
  {
   "cell_type": "code",
   "execution_count": 36,
   "id": "f494279b",
   "metadata": {},
   "outputs": [],
   "source": [
    "from typing import List\n",
    "class Solution:\n",
    "    def shortestToChar(self, s: str, c: str) -> List[int]:\n",
    "        ans = [] \n",
    "        int_list = []\n",
    "        for i in range(len(s)):\n",
    "            if s[i] == c:\n",
    "                int_list.append(i)\n",
    "        \n",
    "        dis = []\n",
    "        for i in range(len(s)):\n",
    "            temp = []\n",
    "            for j in int_list:\n",
    "                \n",
    "                temp.append(abs(i-j))\n",
    "            #print (min(temp))\n",
    "            dis.append(min(temp))\n",
    "            \n",
    "        return dis"
   ]
  },
  {
   "cell_type": "code",
   "execution_count": 37,
   "id": "b315f47b",
   "metadata": {},
   "outputs": [
    {
     "name": "stdout",
     "output_type": "stream",
     "text": [
      "[3, 2, 1, 0, 1, 0, 0, 1, 2, 2, 1, 0]\n"
     ]
    }
   ],
   "source": [
    "s = Solution()\n",
    "\n",
    "result = s.shortestToChar(s = \"loveleetcode\", c = \"e\")\n",
    "print (result) "
   ]
  },
  {
   "cell_type": "code",
   "execution_count": 38,
   "id": "9f0e48a7",
   "metadata": {},
   "outputs": [
    {
     "name": "stdout",
     "output_type": "stream",
     "text": [
      "[3, 2, 1, 0]\n"
     ]
    }
   ],
   "source": [
    "s = Solution()\n",
    "\n",
    "result = s.shortestToChar(s = \"aaab\", c = \"b\")\n",
    "print (result) "
   ]
  },
  {
   "cell_type": "markdown",
   "id": "3062acd8",
   "metadata": {},
   "source": [
    "### 2399. Check Distances Between Same Letters"
   ]
  },
  {
   "cell_type": "code",
   "execution_count": 114,
   "id": "c0cbebd5",
   "metadata": {},
   "outputs": [],
   "source": [
    "class Solution:\n",
    "    def checkDistances(self, s: str, distance: List[int]) -> bool:\n",
    "        \n",
    "        dis = []\n",
    "        my_dic = {}\n",
    "        \n",
    "        for i in range(len(s)):\n",
    "            for j in range(i+1, len(s)):\n",
    "                if s[i] == s[j]:\n",
    "                    dis.append(j-i-1)\n",
    "                    my_dic[ord(s[i])-97] = j-i-1\n",
    "        #print (my_dic)\n",
    "        \n",
    "        temp = True\n",
    "        for i in (my_dic):\n",
    "            if my_dic[i] != distance[i]:\n",
    "                temp = False\n",
    "#                 print (my_dic[i])\n",
    "#                 print(distance[i])\n",
    "        return temp        \n",
    "#        return dis, my_dic\n",
    "                    "
   ]
  },
  {
   "cell_type": "code",
   "execution_count": 115,
   "id": "80867662",
   "metadata": {},
   "outputs": [
    {
     "name": "stdout",
     "output_type": "stream",
     "text": [
      "False\n"
     ]
    }
   ],
   "source": [
    "s = Solution()\n",
    "\n",
    "result = s.checkDistances(s = \"abaccb\", distance = [1,2,0,5,0,0,0,0,0,0,0,0,0,0,0,0,0,0,0,0,0,0,0,0,0,0])\n",
    "print (result)"
   ]
  },
  {
   "cell_type": "code",
   "execution_count": 116,
   "id": "36bbd812",
   "metadata": {
    "scrolled": true
   },
   "outputs": [
    {
     "name": "stdout",
     "output_type": "stream",
     "text": [
      "True\n"
     ]
    }
   ],
   "source": [
    "s = Solution()\n",
    "\n",
    "result = s.checkDistances(s = \"abaccb\", distance = [1,3,0,5,0,0,0,0,0,0,0,0,0,0,0,0,0,0,0,0,0,0,0,0,0,0])\n",
    "print (result) "
   ]
  },
  {
   "cell_type": "code",
   "execution_count": 117,
   "id": "05a09006",
   "metadata": {},
   "outputs": [
    {
     "name": "stdout",
     "output_type": "stream",
     "text": [
      "False\n"
     ]
    }
   ],
   "source": [
    "s = Solution()\n",
    "\n",
    "result = s.checkDistances(s = \"aa\", distance = [1,0,0,0,0,0,0,0,0,0,0,0,0,0,0,0,0,0,0,0,0,0,0,0,0,0])\n",
    "print (result) "
   ]
  },
  {
   "cell_type": "code",
   "execution_count": 120,
   "id": "d6b4d074",
   "metadata": {},
   "outputs": [
    {
     "name": "stdout",
     "output_type": "stream",
     "text": [
      "False\n"
     ]
    }
   ],
   "source": [
    "s = Solution()\n",
    "\n",
    "result = s.checkDistances(s =\"zz\", distance =[0,0,0,0,0,0,0,0,0,0,0,0,0,0,0,0,0,0,0,0,0,0,0,0,0,1])\n",
    "print (result) "
   ]
  },
  {
   "cell_type": "markdown",
   "id": "c9b52b61",
   "metadata": {},
   "source": [
    "### 412. Fizz Buzz"
   ]
  },
  {
   "cell_type": "code",
   "execution_count": 149,
   "id": "357baa19",
   "metadata": {},
   "outputs": [],
   "source": [
    "class Solution:\n",
    "    def fizzBuzz(self, n: int) -> List[str]:\n",
    "        \n",
    "        ans = []\n",
    "        for i in range(1, n+1):\n",
    "            #print (i)\n",
    "            if i%3 == 0 and i%5 == 0:\n",
    "                ans.append('FizzBuzz')\n",
    "            elif i%3 == 0:\n",
    "                ans.append('Fizz')\n",
    "            elif i%5 == 0:\n",
    "                ans.append('Buzz')\n",
    "            else:\n",
    "                ans.append(str(i))\n",
    "        return ans\n",
    "        "
   ]
  },
  {
   "cell_type": "code",
   "execution_count": 150,
   "id": "0b44195d",
   "metadata": {
    "scrolled": false
   },
   "outputs": [
    {
     "name": "stdout",
     "output_type": "stream",
     "text": [
      "['1', '2', 'Fizz']\n"
     ]
    }
   ],
   "source": [
    "s = Solution()\n",
    "\n",
    "result = s.fizzBuzz(n=3)\n",
    "print (result) "
   ]
  },
  {
   "cell_type": "code",
   "execution_count": 151,
   "id": "d2a9162b",
   "metadata": {},
   "outputs": [
    {
     "name": "stdout",
     "output_type": "stream",
     "text": [
      "['1', '2', 'Fizz', '4', 'Buzz']\n"
     ]
    }
   ],
   "source": [
    "s = Solution()\n",
    "\n",
    "result = s.fizzBuzz(n=5)\n",
    "print (result) "
   ]
  },
  {
   "cell_type": "markdown",
   "id": "969d0140",
   "metadata": {},
   "source": [
    "### 2506. Count Pairs Of Similar Strings"
   ]
  },
  {
   "cell_type": "code",
   "execution_count": 172,
   "id": "997a696f",
   "metadata": {},
   "outputs": [],
   "source": [
    "class Solution:\n",
    "    def similarPairs(self, words: List[str]) -> int:\n",
    "        \n",
    "        set_w = []\n",
    "        \n",
    "        for w in words:\n",
    "            set_w.append(set(w))\n",
    "            \n",
    "        count = 0 \n",
    "        for i in range (len(set_w)):\n",
    "            for j in range(i+1, len(set_w)):\n",
    "                #print (set_w[i])\n",
    "                if set_w[i] == set_w[j]:\n",
    "                    count += 1\n",
    "                    \n",
    "                           \n",
    "            \n",
    "        return count\n",
    "        "
   ]
  },
  {
   "cell_type": "code",
   "execution_count": 173,
   "id": "b31c6f9e",
   "metadata": {},
   "outputs": [
    {
     "name": "stdout",
     "output_type": "stream",
     "text": [
      "2\n"
     ]
    }
   ],
   "source": [
    "s = Solution()\n",
    "\n",
    "result = s.similarPairs(words = [\"aba\",\"aabb\",\"abcd\",\"bac\",\"aabc\"])\n",
    "print (result) "
   ]
  },
  {
   "cell_type": "code",
   "execution_count": 174,
   "id": "d7166c8c",
   "metadata": {},
   "outputs": [
    {
     "name": "stdout",
     "output_type": "stream",
     "text": [
      "3\n"
     ]
    }
   ],
   "source": [
    "s = Solution()\n",
    "\n",
    "result = s.similarPairs(words = [\"aabb\",\"ab\",\"ba\"])\n",
    "print (result) "
   ]
  },
  {
   "cell_type": "code",
   "execution_count": 175,
   "id": "4ceafee6",
   "metadata": {},
   "outputs": [
    {
     "name": "stdout",
     "output_type": "stream",
     "text": [
      "0\n"
     ]
    }
   ],
   "source": [
    "s = Solution()\n",
    "\n",
    "result = s.similarPairs(words = [\"nba\",\"cba\",\"dba\"])\n",
    "print (result) "
   ]
  },
  {
   "cell_type": "markdown",
   "id": "284edf90",
   "metadata": {},
   "source": [
    "### 2085. Count Common Words With One Occurrence"
   ]
  },
  {
   "cell_type": "code",
   "execution_count": 205,
   "id": "85cc4e8d",
   "metadata": {},
   "outputs": [],
   "source": [
    "class Solution:\n",
    "    def countWords(self, words1: List[str], words2: List[str]) -> int:\n",
    "        \n",
    "        count = 0\n",
    "        com_w1 = {}\n",
    "        for w in words1:\n",
    "            if w not in com_w1:\n",
    "                com_w1[w] = 1\n",
    "            else:\n",
    "                com_w1[w] += 1\n",
    "        \n",
    "        com_w2 = {}\n",
    "        for w in words2:\n",
    "            if w not in com_w2:\n",
    "                com_w2[w] = 1\n",
    "            else:\n",
    "                com_w2[w] += 1\n",
    "        \n",
    "        com_w1 = dict(filter(lambda item: item[1] ==1, com_w1.items()))\n",
    "        com_w2 = dict(filter(lambda item: item[1] ==1, com_w2.items()))\n",
    "        \n",
    "        for w in com_w1:\n",
    "            if w in com_w2:\n",
    "                count += 1\n",
    "                \n",
    "         \n",
    "        return count \n",
    "            "
   ]
  },
  {
   "cell_type": "code",
   "execution_count": 206,
   "id": "e543b4fc",
   "metadata": {},
   "outputs": [
    {
     "name": "stdout",
     "output_type": "stream",
     "text": [
      "2\n"
     ]
    }
   ],
   "source": [
    "s = Solution()\n",
    "\n",
    "result = s.countWords( words1 = [\"leetcode\",\"is\",\"amazing\",\"as\",\"is\"], words2 = [\"amazing\",\"leetcode\",\"is\"])\n",
    "print (result) "
   ]
  },
  {
   "cell_type": "code",
   "execution_count": 207,
   "id": "d2cf63ae",
   "metadata": {},
   "outputs": [
    {
     "name": "stdout",
     "output_type": "stream",
     "text": [
      "0\n"
     ]
    }
   ],
   "source": [
    "s = Solution()\n",
    "\n",
    "result = s.countWords( words1 = [\"b\",\"bb\",\"bbb\"], words2 = [\"a\",\"aa\",\"aaa\"])\n",
    "print (result) "
   ]
  },
  {
   "cell_type": "code",
   "execution_count": 208,
   "id": "9197dc34",
   "metadata": {},
   "outputs": [
    {
     "name": "stdout",
     "output_type": "stream",
     "text": [
      "1\n"
     ]
    }
   ],
   "source": [
    "s = Solution()\n",
    "\n",
    "result = s.countWords(words1 = [\"a\",\"ab\"], words2 = [\"a\",\"a\",\"a\",\"ab\"])\n",
    "print (result) "
   ]
  },
  {
   "cell_type": "markdown",
   "id": "8281eeac",
   "metadata": {},
   "source": [
    "### 500. Keyboard Row"
   ]
  },
  {
   "cell_type": "code",
   "execution_count": 366,
   "id": "e2df8da8",
   "metadata": {},
   "outputs": [],
   "source": [
    "class Solution:\n",
    "    def findWords(self, words: List[str]) -> List[str]:\n",
    "\n",
    "        first, second, third = \"qwertyuiop\", \"asdfghjkl\",\"zxcvbnm\"\n",
    "        ans = [] \n",
    "        \n",
    "        for w in words: \n",
    "            word = w.lower()\n",
    "            if (len(set(first + word)) == len(set(first))) or (len(set(second + word)) == len(set(second))) or (len(set(third + word)) == len(set(third))):\n",
    "                \n",
    "                ans.append(w)\n",
    "                  \n",
    "        \n",
    "        return ans         "
   ]
  },
  {
   "cell_type": "code",
   "execution_count": 367,
   "id": "bcbad9ac",
   "metadata": {
    "scrolled": false
   },
   "outputs": [
    {
     "name": "stdout",
     "output_type": "stream",
     "text": [
      "['Alaska', 'Dad']\n"
     ]
    }
   ],
   "source": [
    "s = Solution()\n",
    "\n",
    "result = s.findWords(words = [\"Hello\",\"Alaska\",\"Dad\",\"Peace\"])\n",
    "print (result) "
   ]
  },
  {
   "cell_type": "code",
   "execution_count": 368,
   "id": "4fcffe57",
   "metadata": {},
   "outputs": [
    {
     "name": "stdout",
     "output_type": "stream",
     "text": [
      "[]\n"
     ]
    }
   ],
   "source": [
    "s = Solution()\n",
    "\n",
    "result = s.findWords(words = [\"omk\"])\n",
    "print (result) "
   ]
  },
  {
   "cell_type": "code",
   "execution_count": 369,
   "id": "569781cf",
   "metadata": {},
   "outputs": [
    {
     "name": "stdout",
     "output_type": "stream",
     "text": [
      "['adsdf', 'sfd']\n"
     ]
    }
   ],
   "source": [
    "s = Solution()\n",
    "\n",
    "result = s.findWords(words = [\"adsdf\",\"sfd\"])\n",
    "print (result) "
   ]
  },
  {
   "cell_type": "markdown",
   "id": "7cef7aca",
   "metadata": {},
   "source": [
    "### 2309. Greatest English Letter in Upper and Lower Case"
   ]
  },
  {
   "cell_type": "code",
   "execution_count": 405,
   "id": "912f976d",
   "metadata": {},
   "outputs": [],
   "source": [
    "class Solution:\n",
    "    def greatestLetter(self, s: str) -> str:\n",
    "        \n",
    "        temp = []\n",
    "        \n",
    "        for i in range(len(s)):\n",
    "            #temp.append(s[i])\n",
    "            if s[i].islower():\n",
    "                \n",
    "                for j in range(i, len(s)):\n",
    "\n",
    "                    if s[j] == s[i].upper():\n",
    "                        temp.append(s[j])\n",
    "\n",
    "            else:\n",
    "                for j in range(i, len(s)):\n",
    "\n",
    "                    if s[j] == s[i].lower():\n",
    "                        temp.append(s[i])\n",
    "\n",
    "        temp = list(set(temp))    \n",
    "        if temp:\n",
    "            \n",
    "            return max(temp)\n",
    "        else:\n",
    "            return ''"
   ]
  },
  {
   "cell_type": "code",
   "execution_count": 406,
   "id": "3aa94f72",
   "metadata": {},
   "outputs": [
    {
     "name": "stdout",
     "output_type": "stream",
     "text": [
      "E\n"
     ]
    }
   ],
   "source": [
    "s = Solution()\n",
    "\n",
    "result = s.greatestLetter(s = \"lEeTcOdE\")\n",
    "print (result) "
   ]
  },
  {
   "cell_type": "code",
   "execution_count": 407,
   "id": "3703b2ab",
   "metadata": {},
   "outputs": [
    {
     "name": "stdout",
     "output_type": "stream",
     "text": [
      "R\n"
     ]
    }
   ],
   "source": [
    "s = Solution()\n",
    "\n",
    "result = s.greatestLetter(s = \"arRAzFif\")\n",
    "print (result) "
   ]
  },
  {
   "cell_type": "code",
   "execution_count": 408,
   "id": "1231b56c",
   "metadata": {},
   "outputs": [
    {
     "name": "stdout",
     "output_type": "stream",
     "text": [
      "\n"
     ]
    }
   ],
   "source": [
    "s = Solution()\n",
    "\n",
    "result = s.greatestLetter(s = \"AbCdEfGhIjK\")\n",
    "print (result) "
   ]
  },
  {
   "cell_type": "markdown",
   "id": "8c2ad1e0",
   "metadata": {},
   "source": [
    "### 1002. Find Common Characters"
   ]
  },
  {
   "cell_type": "code",
   "execution_count": 32,
   "id": "9f62b87b",
   "metadata": {},
   "outputs": [],
   "source": [
    "from typing import List\n",
    "class Solution:\n",
    "    def commonChars(self, words: List[str]) -> List[str]:\n",
    "        \n",
    "        d = {}\n",
    "        for l in words[0]:\n",
    "            if l not in d:\n",
    "                d[l] = 1\n",
    "            else:\n",
    "                d[l] += 1\n",
    "                \n",
    "        for w in words[1:]:\n",
    "            \n",
    "            temp = {}\n",
    "            \n",
    "            for l in w:\n",
    "                if l not in temp:\n",
    "                    temp[l] = 1\n",
    "                else:\n",
    "                    temp[l] += 1\n",
    "                    \n",
    "            for l in d:\n",
    "                if l not in temp:\n",
    "                    d[l] = 0\n",
    "                else:\n",
    "                    d[l] = min(d[l], temp[l])\n",
    "            \n",
    "        \n",
    "        com = []\n",
    "        \n",
    "        for k, v in d.items():\n",
    "            com.extend( [k] * v)\n",
    "        \n",
    "        return com"
   ]
  },
  {
   "cell_type": "code",
   "execution_count": 33,
   "id": "27074a95",
   "metadata": {},
   "outputs": [
    {
     "name": "stdout",
     "output_type": "stream",
     "text": [
      "['e', 'l', 'l']\n"
     ]
    }
   ],
   "source": [
    "s = Solution()\n",
    "\n",
    "result = s.commonChars(words = [\"bella\",\"label\",\"roller\"])\n",
    "print (result) "
   ]
  },
  {
   "cell_type": "code",
   "execution_count": 35,
   "id": "898bf1a6",
   "metadata": {},
   "outputs": [
    {
     "name": "stdout",
     "output_type": "stream",
     "text": [
      "['c', 'o']\n"
     ]
    }
   ],
   "source": [
    "s = Solution()\n",
    "\n",
    "result = s.commonChars(words = [\"cool\",\"lock\",\"cook\"])\n",
    "print (result) "
   ]
  },
  {
   "cell_type": "code",
   "execution_count": null,
   "id": "61505d2d",
   "metadata": {},
   "outputs": [],
   "source": []
  },
  {
   "cell_type": "markdown",
   "id": "0129a65c",
   "metadata": {},
   "source": [
    "### 2696. Minimum String Length After Removing Substrings"
   ]
  },
  {
   "cell_type": "code",
   "execution_count": 632,
   "id": "93319c44",
   "metadata": {},
   "outputs": [],
   "source": [
    "class Solution:\n",
    "    def minLength(self, s: str) -> int:  \n",
    "        count = 0\n",
    "        res = []\n",
    "        ll = list(s)\n",
    "        new = ''\n",
    "        #print (ll)\n",
    "        #new_s = list(s)\n",
    "        def func (s):\n",
    "            \n",
    "            for i in range(len(s)):\n",
    "                #print (s[i:i+2])\n",
    "                if s[i:i+2] == 'AB':\n",
    "                    res.append(s[i:i+2])\n",
    "                    ll.remove('A')\n",
    "                    ll.remove('B')\n",
    "                    \n",
    "                    #print (ll)\n",
    "                    \n",
    "                elif s[i:i+2] == 'CD':\n",
    "                    res.append(s[i:i+2])\n",
    "                    ll.remove('C')\n",
    "                    ll.remove('D')\n",
    "                    \n",
    "                    #print (ll)\n",
    "                \n",
    "            return ''.join(ll)     \n",
    "        \n",
    "        return func(s)"
   ]
  },
  {
   "cell_type": "code",
   "execution_count": 633,
   "id": "3a8131d9",
   "metadata": {},
   "outputs": [
    {
     "name": "stdout",
     "output_type": "stream",
     "text": [
      "FACB\n"
     ]
    }
   ],
   "source": [
    "s = Solution()\n",
    "\n",
    "result = s.minLength(s = \"ABFCACDB\")\n",
    "print (result) "
   ]
  },
  {
   "cell_type": "markdown",
   "id": "8b91a3d7",
   "metadata": {},
   "source": [
    "### 1160. Find Words That Can Be Formed by Characters\n"
   ]
  },
  {
   "cell_type": "code",
   "execution_count": 691,
   "id": "f72e9326",
   "metadata": {},
   "outputs": [],
   "source": [
    "class Solution:\n",
    "    def countCharacters(self, words: List[str], chars: str) -> int:\n",
    "        \n",
    "        good = []\n",
    "        \n",
    "        for w in words:\n",
    "            is_good = True\n",
    "            chars_new = chars\n",
    "            \n",
    "            for l in w:\n",
    "               \n",
    "                if l in chars_new:\n",
    "                    chars_new = chars_new.replace(l, '', 1)\n",
    "                    \n",
    "                else:\n",
    "                    is_good = False\n",
    "                    break\n",
    "                    \n",
    "            if is_good:\n",
    "                good.append(w)\n",
    "        \n",
    "        count = 0\n",
    "        for i in good:     \n",
    "            count += len(i)\n",
    "            \n",
    "        return count "
   ]
  },
  {
   "cell_type": "code",
   "execution_count": 692,
   "id": "2c00fa51",
   "metadata": {},
   "outputs": [
    {
     "name": "stdout",
     "output_type": "stream",
     "text": [
      "6\n"
     ]
    }
   ],
   "source": [
    "s = Solution()\n",
    "\n",
    "result = s.countCharacters(words = [\"cat\",\"bt\",\"hat\",\"tree\"], chars = \"atach\")\n",
    "print (result) "
   ]
  },
  {
   "cell_type": "code",
   "execution_count": 693,
   "id": "c42f24c7",
   "metadata": {},
   "outputs": [
    {
     "name": "stdout",
     "output_type": "stream",
     "text": [
      "10\n"
     ]
    }
   ],
   "source": [
    "s = Solution()\n",
    "\n",
    "result = s.countCharacters(words = [\"hello\",\"world\",\"leetcode\"], chars = \"welldonehoneyr\")\n",
    "print (result)"
   ]
  },
  {
   "cell_type": "markdown",
   "id": "e4f25c4e",
   "metadata": {},
   "source": [
    "### 929. Unique Email Addresses"
   ]
  },
  {
   "cell_type": "code",
   "execution_count": 42,
   "id": "f5f65b5b",
   "metadata": {},
   "outputs": [],
   "source": [
    "from typing import List\n",
    "class Solution:\n",
    "    def numUniqueEmails(self, emails: List[str]) -> int:\n",
    "        \n",
    "        d = []\n",
    "        l = []\n",
    "        e = []\n",
    "        for email in emails:\n",
    "            domain = email.split('@')[-1]\n",
    "            d.append(domain)\n",
    "            \n",
    "            local = email.split('@')[0]\n",
    "            \n",
    "            \n",
    "            if '+' in local:\n",
    "                ll = local.split('+')[0]\n",
    "            else:\n",
    "                ll = local\n",
    "            if '.' in ll:\n",
    "                lll = ll.replace('.', '') \n",
    "            else:\n",
    "                lll = ll \n",
    "                \n",
    "            l.append(lll)\n",
    "            \n",
    "            e.append(lll + '@' + domain)\n",
    "            \n",
    "        return  len(set(e))"
   ]
  },
  {
   "cell_type": "code",
   "execution_count": 43,
   "id": "b9d33afa",
   "metadata": {},
   "outputs": [
    {
     "name": "stdout",
     "output_type": "stream",
     "text": [
      "2\n"
     ]
    }
   ],
   "source": [
    "s = Solution()\n",
    "\n",
    "result = s.numUniqueEmails(emails = [\"test.email+alex@leetcode.com\",\"test.e.mail+bob.cathy@leetcode.com\",\"testemail+david@lee.tcode.com\"])\n",
    "print (result) "
   ]
  },
  {
   "cell_type": "markdown",
   "id": "d5ca77a3",
   "metadata": {},
   "source": [
    "### 806. Number of Lines To Write String"
   ]
  },
  {
   "cell_type": "code",
   "execution_count": 15,
   "id": "26de6a82",
   "metadata": {},
   "outputs": [],
   "source": [
    "from typing import List\n",
    "class Solution:\n",
    "    def numberOfLines(self, widths: List[int], s: str) -> List[int]:\n",
    "        \n",
    "        w_l = []\n",
    "        for l in s:\n",
    "            \n",
    "            w_l.append(widths[ord(l) - 97])\n",
    "            w = widths[ord(l) - 97]\n",
    "            \n",
    "        line_n = 1\n",
    "        t = 0\n",
    "        for w in w_l:\n",
    "            t += w\n",
    "            \n",
    "            if t <= 100:\n",
    "                \n",
    "                pass\n",
    "                \n",
    "            else:\n",
    "                line_n += 1\n",
    "                t = w\n",
    "        \n",
    "        res = [line_n, t]\n",
    "        return res\n",
    "        "
   ]
  },
  {
   "cell_type": "code",
   "execution_count": 12,
   "id": "0395528c",
   "metadata": {},
   "outputs": [],
   "source": [
    "# or\n",
    "\n",
    "from typing import List\n",
    "class Solution:\n",
    "    def numberOfLines(self, widths: List[int], s: str) -> List[int]:\n",
    "        \n",
    "        line_n = 1\n",
    "        t = 0\n",
    "        \n",
    "        for l in s:\n",
    "            \n",
    "            w = widths[ord(l) - 97]\n",
    "            t += w\n",
    "            \n",
    "            if t > 100:\n",
    "                line_n += 1\n",
    "                t = w\n",
    "        \n",
    "        res = [line_n, t]\n",
    "        return  res\n",
    "        "
   ]
  },
  {
   "cell_type": "code",
   "execution_count": 16,
   "id": "c7f1aca3",
   "metadata": {},
   "outputs": [
    {
     "name": "stdout",
     "output_type": "stream",
     "text": [
      "[3, 60]\n"
     ]
    }
   ],
   "source": [
    "s = Solution()\n",
    "\n",
    "result = s.numberOfLines ( widths = [10,10,10,10,10,10,10,10,10,10,10,10,10,10,10,10,10,10,10,10,10,10,10,10,10,10], s = \"abcdefghijklmnopqrstuvwxyz\")\n",
    "print (result) "
   ]
  },
  {
   "cell_type": "code",
   "execution_count": 17,
   "id": "0fd6583f",
   "metadata": {},
   "outputs": [
    {
     "name": "stdout",
     "output_type": "stream",
     "text": [
      "[2, 4]\n"
     ]
    }
   ],
   "source": [
    "s = Solution()\n",
    "\n",
    "result = s.numberOfLines ( widths = [4,10,10,10,10,10,10,10,10,10,10,10,10,10,10,10,10,10,10,10,10,10,10,10,10,10], s = \"bbbcccdddaaa\")\n",
    "print (result) "
   ]
  },
  {
   "cell_type": "markdown",
   "id": "d75a088a",
   "metadata": {},
   "source": [
    "### 884. Uncommon Words from Two Sentences\n"
   ]
  },
  {
   "cell_type": "code",
   "execution_count": 154,
   "id": "94396f1b",
   "metadata": {},
   "outputs": [],
   "source": [
    "class Solution:\n",
    "    def uncommonFromSentences(self, s1: str, s2: str) -> List[str]:\n",
    "        \n",
    "        w1 = s1.split()\n",
    "        w2 = s2.split()\n",
    "        l = []\n",
    "        \n",
    "        for w in w1:\n",
    "            if w not in w2:\n",
    "                l.append(w)\n",
    "                \n",
    "        for w in w2:\n",
    "            if w not in w1:\n",
    "                l.append(w)\n",
    "        dic = {}\n",
    "        for i in l:\n",
    "            if i not in dic:\n",
    "                dic[i] = 1\n",
    "            else:\n",
    "                dic[i] += 1\n",
    "        f = dict(filter(lambda item: item[1]==1, dic.items()))\n",
    "        \n",
    "        return list(f)"
   ]
  },
  {
   "cell_type": "code",
   "execution_count": 155,
   "id": "860d32b2",
   "metadata": {},
   "outputs": [
    {
     "name": "stdout",
     "output_type": "stream",
     "text": [
      "['sweet', 'sour']\n"
     ]
    }
   ],
   "source": [
    "s = Solution()\n",
    "\n",
    "result = s.uncommonFromSentences(s1 = \"this apple is sweet\", s2 = \"this apple is sour\")\n",
    "print (result) "
   ]
  },
  {
   "cell_type": "code",
   "execution_count": 156,
   "id": "7cf411a0",
   "metadata": {},
   "outputs": [
    {
     "name": "stdout",
     "output_type": "stream",
     "text": [
      "['banana']\n"
     ]
    }
   ],
   "source": [
    "s = Solution()\n",
    "\n",
    "result = s.uncommonFromSentences(s1 = \"apple apple\", s2 = \"banana\")\n",
    "print (result) \n"
   ]
  },
  {
   "cell_type": "code",
   "execution_count": 157,
   "id": "74071b60",
   "metadata": {},
   "outputs": [
    {
     "name": "stdout",
     "output_type": "stream",
     "text": [
      "['ejt']\n"
     ]
    }
   ],
   "source": [
    "s = Solution()\n",
    "\n",
    "result = s.uncommonFromSentences(s1 =\"s z z z s\", s2 =\"s z ejt\")\n",
    "print (result) "
   ]
  },
  {
   "cell_type": "markdown",
   "id": "cff3a96f",
   "metadata": {},
   "source": [
    "### 2243. Calculate Digit Sum of a String"
   ]
  },
  {
   "cell_type": "code",
   "execution_count": 273,
   "id": "df6a673b",
   "metadata": {},
   "outputs": [],
   "source": [
    "import math\n",
    "class Solution:\n",
    "    def digitSum(self, s: str, k: int) -> str:\n",
    "        \n",
    "        \n",
    "        \n",
    "        while len(s) > k:\n",
    "            s = list(s)\n",
    "            res = [] \n",
    "            for i in range (math.ceil(len(s)/k)):\n",
    "                #print (i)\n",
    "                z = s[i*(k):i*(k) + k]\n",
    "                t = 0\n",
    "                for j in z:\n",
    "                    t += int(j)\n",
    "                res.append(str(t))\n",
    "            \n",
    "            s = ''.join(res)\n",
    "            \n",
    "            \n",
    "        return s"
   ]
  },
  {
   "cell_type": "code",
   "execution_count": 274,
   "id": "fd92aab8",
   "metadata": {
    "scrolled": true
   },
   "outputs": [
    {
     "name": "stdout",
     "output_type": "stream",
     "text": [
      "135\n"
     ]
    }
   ],
   "source": [
    "s = Solution()\n",
    "\n",
    "result = s.digitSum(s = \"11111222223\", k = 3)\n",
    "print (result) "
   ]
  },
  {
   "cell_type": "code",
   "execution_count": 275,
   "id": "8b7827ff",
   "metadata": {},
   "outputs": [
    {
     "name": "stdout",
     "output_type": "stream",
     "text": [
      "000\n"
     ]
    }
   ],
   "source": [
    "s = Solution()\n",
    "\n",
    "result = s.digitSum(s = \"00000000\", k = 3)\n",
    "print (result) "
   ]
  },
  {
   "cell_type": "code",
   "execution_count": 276,
   "id": "499ff082",
   "metadata": {},
   "outputs": [
    {
     "name": "stdout",
     "output_type": "stream",
     "text": [
      "1\n"
     ]
    }
   ],
   "source": [
    "s = Solution()\n",
    "\n",
    "result = s.digitSum(s =\"1\", k =2)\n",
    "print (result) "
   ]
  },
  {
   "cell_type": "markdown",
   "id": "84390d98",
   "metadata": {},
   "source": [
    "### 2138. Divide a String Into Groups of Size k"
   ]
  },
  {
   "cell_type": "code",
   "execution_count": 346,
   "id": "542419df",
   "metadata": {},
   "outputs": [],
   "source": [
    "import math\n",
    "class Solution:\n",
    "    def divideString(self, s: str, k: int, fill: str) -> List[str]:\n",
    "        \n",
    "        res = [] \n",
    "        for i in range(math.ceil(len(s)/k)):\n",
    "            sub = s[i*k: i*k + k]\n",
    "            if len(sub) == k:\n",
    "                \n",
    "                res.append(sub)\n",
    "            else:\n",
    "                res.append(sub + (k-len(sub))*fill)\n",
    "        return res  "
   ]
  },
  {
   "cell_type": "code",
   "execution_count": 347,
   "id": "759ac0c0",
   "metadata": {},
   "outputs": [
    {
     "name": "stdout",
     "output_type": "stream",
     "text": [
      "['abc', 'def', 'ghi']\n"
     ]
    }
   ],
   "source": [
    "s = Solution()\n",
    "\n",
    "result = s.divideString(s = \"abcdefghi\", k = 3, fill = \"x\")\n",
    "print (result) "
   ]
  },
  {
   "cell_type": "code",
   "execution_count": 348,
   "id": "0cd287b3",
   "metadata": {},
   "outputs": [
    {
     "name": "stdout",
     "output_type": "stream",
     "text": [
      "['abc', 'def', 'ghi', 'jxx']\n"
     ]
    }
   ],
   "source": [
    "s = Solution()\n",
    "\n",
    "result = s.divideString(s = \"abcdefghij\", k = 3, fill = \"x\")\n",
    "print (result) "
   ]
  },
  {
   "cell_type": "markdown",
   "id": "705966e5",
   "metadata": {},
   "source": [
    "### 2224. Minimum Number of Operations to Convert Time\n"
   ]
  },
  {
   "cell_type": "code",
   "execution_count": 431,
   "id": "a6d8138c",
   "metadata": {},
   "outputs": [],
   "source": [
    "class Solution:\n",
    "    def convertTime(self, current: str, correct: str) -> int:\n",
    "        \n",
    "        hr_correct, min_correct = int(correct.split(\":\")[0]), int(correct.split(\":\")[-1])\n",
    "        hr_current, min_current = int(current.split(\":\")[0]), int(current.split(\":\")[-1])\n",
    "        cor = hr_correct *60 + min_correct\n",
    "        cur = hr_current *60 + min_current\n",
    "        c = 0\n",
    "        while cur != cor:\n",
    "            if cor - cur >= 60:\n",
    "                cur += 60\n",
    "                c += 1\n",
    "            elif cor - cur >= 15:\n",
    "                cur += 15\n",
    "                c += 1\n",
    "            elif cor - cur >= 5:\n",
    "                cur += 5\n",
    "                c += 1\n",
    "            elif cor - cur >= 1:\n",
    "                cur += 1\n",
    "                c += 1\n",
    "        \n",
    "        return  c\n",
    "        "
   ]
  },
  {
   "cell_type": "code",
   "execution_count": 432,
   "id": "c31dae2a",
   "metadata": {},
   "outputs": [
    {
     "name": "stdout",
     "output_type": "stream",
     "text": [
      "3\n"
     ]
    }
   ],
   "source": [
    "s = Solution()\n",
    "\n",
    "result = s.convertTime (current = \"02:30\", correct = \"04:35\")\n",
    "print (result) "
   ]
  },
  {
   "cell_type": "code",
   "execution_count": 433,
   "id": "a24923ec",
   "metadata": {},
   "outputs": [
    {
     "name": "stdout",
     "output_type": "stream",
     "text": [
      "1\n"
     ]
    }
   ],
   "source": [
    "s = Solution()\n",
    "\n",
    "result = s.convertTime ( current = \"11:00\", correct = \"11:01\")\n",
    "print (result)"
   ]
  },
  {
   "cell_type": "code",
   "execution_count": 434,
   "id": "591f456f",
   "metadata": {},
   "outputs": [
    {
     "name": "stdout",
     "output_type": "stream",
     "text": [
      "7\n"
     ]
    }
   ],
   "source": [
    "s = Solution()\n",
    "\n",
    "result = s.convertTime ( current =\"09:41\", correct =\"10:34\")\n",
    "print (result)"
   ]
  },
  {
   "cell_type": "markdown",
   "id": "0557e63b",
   "metadata": {},
   "source": [
    "### 1598. Crawler Log Folder"
   ]
  },
  {
   "cell_type": "code",
   "execution_count": 461,
   "id": "c03e629d",
   "metadata": {},
   "outputs": [],
   "source": [
    "class Solution:\n",
    "    def minOperations(self, logs: List[str]) -> int:\n",
    "        \n",
    "        operations = []\n",
    "        for i in logs:\n",
    "            operations.append(i.split('/')[0])\n",
    "    \n",
    "        folder = []\n",
    "        for oper in operations:\n",
    "            if oper == '..':\n",
    "                folder = folder[:-1]\n",
    "            elif oper == '.':\n",
    "                folder = folder\n",
    "            else:\n",
    "                folder.append(oper)\n",
    "            \n",
    "        return len(folder)"
   ]
  },
  {
   "cell_type": "code",
   "execution_count": 462,
   "id": "6df09f16",
   "metadata": {},
   "outputs": [
    {
     "name": "stdout",
     "output_type": "stream",
     "text": [
      "2\n"
     ]
    }
   ],
   "source": [
    "s = Solution()\n",
    "\n",
    "result = s.minOperations(logs = [\"d1/\",\"d2/\",\"../\",\"d21/\",\"./\"])\n",
    "print (result) "
   ]
  },
  {
   "cell_type": "code",
   "execution_count": 463,
   "id": "350d2f43",
   "metadata": {},
   "outputs": [
    {
     "name": "stdout",
     "output_type": "stream",
     "text": [
      "3\n"
     ]
    }
   ],
   "source": [
    "s = Solution()\n",
    "\n",
    "result = s.minOperations(logs = [\"d1/\",\"d2/\",\"./\",\"d3/\",\"../\",\"d31/\"])\n",
    "print (result) "
   ]
  },
  {
   "cell_type": "markdown",
   "id": "0d115e66",
   "metadata": {},
   "source": [
    "### 606. Construct String from Binary Tree"
   ]
  },
  {
   "cell_type": "code",
   "execution_count": null,
   "id": "89c03427",
   "metadata": {},
   "outputs": [],
   "source": [
    "# Definition for a binary tree node.\n",
    "# class TreeNode:\n",
    "#     def __init__(self, val=0, left=None, right=None):\n",
    "#         self.val = val\n",
    "#         self.left = left\n",
    "#         self.right = right\n",
    "class Solution:\n",
    "    def tree2str(self, root: Optional[TreeNode]) -> str:\n",
    "        "
   ]
  },
  {
   "cell_type": "code",
   "execution_count": null,
   "id": "903b68ef",
   "metadata": {},
   "outputs": [],
   "source": [
    "s = Solution()\n",
    "\n",
    "result = s.\n",
    "print (result) "
   ]
  },
  {
   "cell_type": "markdown",
   "id": "3888dff4",
   "metadata": {},
   "source": [
    "### 1455. Check If a Word Occurs As a Prefix of Any Word in a Sentence"
   ]
  },
  {
   "cell_type": "code",
   "execution_count": 473,
   "id": "7df6eecf",
   "metadata": {},
   "outputs": [],
   "source": [
    "class Solution:\n",
    "    def isPrefixOfWord(self, sentence: str, searchWord: str) -> int:\n",
    "        \n",
    "        sentence = sentence.split()\n",
    "        l = []\n",
    "        for i in range(len(sentence)):\n",
    "            \n",
    "            \n",
    "            if searchWord in sentence[i][:len(searchWord)]:\n",
    "                l.append(i+1)\n",
    "        if l:\n",
    "            return min(l)\n",
    "        else:\n",
    "            return -1"
   ]
  },
  {
   "cell_type": "code",
   "execution_count": 474,
   "id": "c28d4d5a",
   "metadata": {},
   "outputs": [
    {
     "name": "stdout",
     "output_type": "stream",
     "text": [
      "4\n"
     ]
    }
   ],
   "source": [
    "s = Solution()\n",
    "\n",
    "result = s.isPrefixOfWord(sentence = \"i love eating burger\", searchWord = \"burg\")\n",
    "print (result) "
   ]
  },
  {
   "cell_type": "code",
   "execution_count": 475,
   "id": "138dfe05",
   "metadata": {},
   "outputs": [
    {
     "name": "stdout",
     "output_type": "stream",
     "text": [
      "2\n"
     ]
    }
   ],
   "source": [
    "s = Solution()\n",
    "\n",
    "result = s.isPrefixOfWord(sentence = \"this problem is an easy problem\", searchWord = \"pro\")\n",
    "print (result) "
   ]
  },
  {
   "cell_type": "code",
   "execution_count": 476,
   "id": "c25a0ac4",
   "metadata": {},
   "outputs": [
    {
     "name": "stdout",
     "output_type": "stream",
     "text": [
      "-1\n"
     ]
    }
   ],
   "source": [
    "s = Solution()\n",
    "\n",
    "result = s.isPrefixOfWord(sentence = \"i am tired\", searchWord = \"you\")\n",
    "print (result) "
   ]
  },
  {
   "cell_type": "markdown",
   "id": "a8664309",
   "metadata": {},
   "source": [
    "### 2068. Check Whether Two Strings are Almost Equivalent"
   ]
  },
  {
   "cell_type": "code",
   "execution_count": 489,
   "id": "3f7dc8eb",
   "metadata": {},
   "outputs": [],
   "source": [
    "class Solution:\n",
    "    def checkAlmostEquivalent(self, word1: str, word2: str) -> bool:\n",
    "        \n",
    "        def counter(s):\n",
    "            d = {}\n",
    "            for l in s:\n",
    "                if l not in d:\n",
    "                    d[l] = 1\n",
    "                else:\n",
    "                    d[l] += 1\n",
    "            return d\n",
    "        \n",
    "        d1 = counter(word1)\n",
    "        d2 = counter(word2)\n",
    "        \n",
    "        for k, v in d1.items():\n",
    "            if k not in d2 and v >3:\n",
    "                return False\n",
    "            \n",
    "            for kk, vv in d2.items():\n",
    "                if k == kk and abs(v - vv) > 3:\n",
    "                    return False\n",
    "        for k, v in d2.items():\n",
    "            if k not in d1 and v >3:\n",
    "                return False       \n",
    "         \n",
    "        return True"
   ]
  },
  {
   "cell_type": "code",
   "execution_count": 490,
   "id": "e54e1be4",
   "metadata": {},
   "outputs": [
    {
     "name": "stdout",
     "output_type": "stream",
     "text": [
      "False\n"
     ]
    }
   ],
   "source": [
    "s = Solution()\n",
    "\n",
    "result = s.checkAlmostEquivalent(word1 = \"aaaa\", word2 = \"bccb\")\n",
    "print (result) "
   ]
  },
  {
   "cell_type": "code",
   "execution_count": 491,
   "id": "cd156006",
   "metadata": {},
   "outputs": [
    {
     "name": "stdout",
     "output_type": "stream",
     "text": [
      "True\n"
     ]
    }
   ],
   "source": [
    "s = Solution()\n",
    "\n",
    "result = s.checkAlmostEquivalent(word1 = \"abcdeef\", word2 = \"abaaacc\")\n",
    "print (result) "
   ]
  },
  {
   "cell_type": "code",
   "execution_count": 492,
   "id": "c1205ebf",
   "metadata": {},
   "outputs": [
    {
     "name": "stdout",
     "output_type": "stream",
     "text": [
      "True\n"
     ]
    }
   ],
   "source": [
    "s = Solution()\n",
    "\n",
    "result = s.checkAlmostEquivalent( word1 = \"cccddabba\", word2 = \"babababab\")\n",
    "print (result) "
   ]
  },
  {
   "cell_type": "markdown",
   "id": "e9514d06",
   "metadata": {},
   "source": [
    "### 2490. Circular Sentence"
   ]
  },
  {
   "cell_type": "code",
   "execution_count": 513,
   "id": "61d6923c",
   "metadata": {},
   "outputs": [],
   "source": [
    "class Solution:\n",
    "    def isCircularSentence(self, sentence: str) -> bool:\n",
    "        \n",
    "        s = sentence.split()\n",
    "        \n",
    "        l_f = []\n",
    "        l_l = []\n",
    "        for w in s:\n",
    "            l_f.append(w[0])\n",
    "            l_l.append(w[-1])\n",
    "        \n",
    "        ll, lf = l_l[:-1], l_f[1:]   \n",
    "        \n",
    "        \n",
    "        if ll == lf and l_l[-1] == l_f[0]:\n",
    "            return True\n",
    "        else:\n",
    "            return False\n",
    "        \n",
    "            "
   ]
  },
  {
   "cell_type": "code",
   "execution_count": 514,
   "id": "a9591490",
   "metadata": {},
   "outputs": [
    {
     "name": "stdout",
     "output_type": "stream",
     "text": [
      "True\n"
     ]
    }
   ],
   "source": [
    "s = Solution()\n",
    "\n",
    "result = s.isCircularSentence(sentence = \"leetcode exercises sound delightful\")\n",
    "print (result) "
   ]
  },
  {
   "cell_type": "code",
   "execution_count": 515,
   "id": "8a4b12fc",
   "metadata": {},
   "outputs": [
    {
     "name": "stdout",
     "output_type": "stream",
     "text": [
      "True\n"
     ]
    }
   ],
   "source": [
    "s = Solution()\n",
    "\n",
    "result = s.isCircularSentence(sentence = \"eetcode\")\n",
    "print (result) "
   ]
  },
  {
   "cell_type": "code",
   "execution_count": 516,
   "id": "0fadda5f",
   "metadata": {},
   "outputs": [
    {
     "name": "stdout",
     "output_type": "stream",
     "text": [
      "False\n"
     ]
    }
   ],
   "source": [
    "s = Solution()\n",
    "\n",
    "result = s.isCircularSentence(sentence = \"Leetcode is cool\")\n",
    "print (result) "
   ]
  },
  {
   "cell_type": "code",
   "execution_count": null,
   "id": "8d858ba8",
   "metadata": {},
   "outputs": [],
   "source": []
  },
  {
   "cell_type": "code",
   "execution_count": null,
   "id": "73b9458c",
   "metadata": {},
   "outputs": [],
   "source": []
  },
  {
   "cell_type": "markdown",
   "id": "a60273c0",
   "metadata": {},
   "source": [
    "### From here on Medium String Questions"
   ]
  },
  {
   "cell_type": "markdown",
   "id": "49d80d52",
   "metadata": {},
   "source": [
    "### 1689. Partitioning Into Minimum Number Of Deci-Binary Numbers"
   ]
  },
  {
   "cell_type": "code",
   "execution_count": 549,
   "id": "24998f52",
   "metadata": {},
   "outputs": [],
   "source": [
    "class Solution:\n",
    "    def minPartitions(self, n: str) -> int:\n",
    "        \n",
    "        dig = [int(i) for i in list(n)]\n",
    "        return max(dig)"
   ]
  },
  {
   "cell_type": "code",
   "execution_count": 550,
   "id": "231fc9d7",
   "metadata": {},
   "outputs": [
    {
     "name": "stdout",
     "output_type": "stream",
     "text": [
      "3\n"
     ]
    }
   ],
   "source": [
    "s = Solution()\n",
    "\n",
    "result = s.minPartitions(n = \"32\")\n",
    "print (result) "
   ]
  },
  {
   "cell_type": "code",
   "execution_count": 551,
   "id": "bd882eb0",
   "metadata": {},
   "outputs": [
    {
     "name": "stdout",
     "output_type": "stream",
     "text": [
      "8\n"
     ]
    }
   ],
   "source": [
    "s = Solution()\n",
    "\n",
    "result = s.minPartitions(n = \"82734\")\n",
    "print (result) "
   ]
  },
  {
   "cell_type": "code",
   "execution_count": 552,
   "id": "2a40995e",
   "metadata": {},
   "outputs": [
    {
     "name": "stdout",
     "output_type": "stream",
     "text": [
      "9\n"
     ]
    }
   ],
   "source": [
    "s = Solution()\n",
    "\n",
    "result = s.minPartitions(n = \"27346209830709182346\")\n",
    "print (result) "
   ]
  },
  {
   "cell_type": "markdown",
   "id": "02d43160",
   "metadata": {},
   "source": [
    "### 535. Encode and Decode TinyURL"
   ]
  },
  {
   "cell_type": "code",
   "execution_count": 559,
   "id": "5589ea7b",
   "metadata": {},
   "outputs": [],
   "source": [
    "class Codec:\n",
    "    \n",
    "    def __init__(self):\n",
    "        self.encodeMap = {}\n",
    "        self.decodeMap = {}\n",
    "        self.base = 'http://tinyurl.com/'\n",
    "\n",
    "    def encode(self, longUrl: str) -> str:\n",
    "        \"\"\"Encodes a URL to a shortened URL.\n",
    "        \"\"\"\n",
    "        \n",
    "        if longUrl not in self.encodeMap:\n",
    "            shortUrl = self.base + str(len(self.encodeMap) + 1)\n",
    "            self.encodeMap[longUrl] = shortUrl\n",
    "            self.decodeMap[shortUrl] = longUrl\n",
    "        \n",
    "        return self.encodeMap[longUrl]\n",
    "        \n",
    "\n",
    "    def decode(self, shortUrl: str) -> str:\n",
    "        \"\"\"Decodes a shortened URL to its original URL.\n",
    "        \"\"\"\n",
    "            \n",
    "        return self.decodeMap[shortUrl]\n",
    "\n",
    "# Your Codec object will be instantiated and called as such:\n",
    "# codec = Codec()\n",
    "# codec.decode(codec.encode(url))"
   ]
  },
  {
   "cell_type": "code",
   "execution_count": 562,
   "id": "13aa50ed",
   "metadata": {},
   "outputs": [
    {
     "data": {
      "text/plain": [
       "'https://leetcode.com/problems/design-tinyurl'"
      ]
     },
     "execution_count": 562,
     "metadata": {},
     "output_type": "execute_result"
    }
   ],
   "source": [
    "url = \"https://leetcode.com/problems/design-tinyurl\"\n",
    "codec = Codec()\n",
    "codec.decode(codec.encode(url))"
   ]
  },
  {
   "cell_type": "markdown",
   "id": "515afc36",
   "metadata": {},
   "source": [
    "### 1769. Minimum Number of Operations to Move All Balls to Each Box"
   ]
  },
  {
   "cell_type": "code",
   "execution_count": null,
   "id": "ceff563c",
   "metadata": {},
   "outputs": [],
   "source": [
    "from typing import List\n",
    "class Solution:\n",
    "    def minOperations(self, boxes: str) -> List[int]:\n",
    "        "
   ]
  },
  {
   "cell_type": "code",
   "execution_count": null,
   "id": "66090a80",
   "metadata": {},
   "outputs": [],
   "source": [
    "s = Solution()\n",
    "\n",
    "result = s.\n",
    "print (result) "
   ]
  },
  {
   "cell_type": "markdown",
   "id": "834d96dc",
   "metadata": {},
   "source": [
    "### 2710. Remove Trailing Zeros From a String"
   ]
  },
  {
   "cell_type": "code",
   "execution_count": 1256,
   "id": "8f2eac5f",
   "metadata": {},
   "outputs": [],
   "source": [
    "class Solution:\n",
    "    def removeTrailingZeros(self, num: str) -> str:\n",
    "        \n",
    "        num_l = list(num)\n",
    "        \n",
    "        for i in range(len(num_l)-1, -1, -1):\n",
    "            if num_l[i] == '0':\n",
    "                pass\n",
    "            else:\n",
    "                return ''.join(num_l[:i+1])\n",
    "        "
   ]
  },
  {
   "cell_type": "code",
   "execution_count": 1257,
   "id": "a2d9ce8a",
   "metadata": {},
   "outputs": [
    {
     "name": "stdout",
     "output_type": "stream",
     "text": [
      "512301\n"
     ]
    }
   ],
   "source": [
    "s = Solution()\n",
    "\n",
    "result = s.removeTrailingZeros(num = \"51230100\")\n",
    "print (result) "
   ]
  },
  {
   "cell_type": "code",
   "execution_count": 1258,
   "id": "76e5736f",
   "metadata": {
    "scrolled": true
   },
   "outputs": [
    {
     "name": "stdout",
     "output_type": "stream",
     "text": [
      "123\n"
     ]
    }
   ],
   "source": [
    "s = Solution()\n",
    "\n",
    "result = s.removeTrailingZeros(num = \"123\")\n",
    "print (result) "
   ]
  },
  {
   "cell_type": "markdown",
   "id": "be2742dd",
   "metadata": {},
   "source": [
    "### 2716. Minimize String Length will be solved later"
   ]
  },
  {
   "cell_type": "code",
   "execution_count": 1322,
   "id": "3b452f36",
   "metadata": {},
   "outputs": [],
   "source": [
    "class Solution:\n",
    "    def minimizedStringLength(self, s: str) -> int:\n",
    "        \n",
    "        ss = list(s)\n",
    "        ss_copy = ss\n",
    "        for i in range(1, len(ss_copy)-1):\n",
    "            c = ss_copy[i]\n",
    "            \n",
    "            left = ss_copy[:i]\n",
    "            right = ss_copy[i+1:]\n",
    "            \n",
    "            if c in left:\n",
    "                for l in left:\n",
    "                    if l == c:\n",
    "\n",
    "                        ss_copy.remove(l)\n",
    "                        break\n",
    "            else:\n",
    "                break\n",
    "            \n",
    "            if c in right:   \n",
    "                for l in right:\n",
    "                    if l == c:\n",
    "                        ss_copy.remove(l)\n",
    "                        break\n",
    "            else:\n",
    "                break \n",
    "            print (ss_copy)    \n",
    "        return len(ss_copy)"
   ]
  },
  {
   "cell_type": "code",
   "execution_count": 1323,
   "id": "90821e8c",
   "metadata": {},
   "outputs": [
    {
     "name": "stdout",
     "output_type": "stream",
     "text": [
      "['a', 'b', 'c']\n",
      "3\n"
     ]
    }
   ],
   "source": [
    "s = Solution()\n",
    "\n",
    "result = s.minimizedStringLength(s = \"aaabc\")\n",
    "print (result) "
   ]
  },
  {
   "cell_type": "code",
   "execution_count": 1324,
   "id": "01f4ae37",
   "metadata": {},
   "outputs": [
    {
     "name": "stdout",
     "output_type": "stream",
     "text": [
      "4\n"
     ]
    }
   ],
   "source": [
    "s = Solution()\n",
    "\n",
    "result = s.minimizedStringLength(s = \"cbbd\")\n",
    "print (result) "
   ]
  },
  {
   "cell_type": "code",
   "execution_count": 1325,
   "id": "5af5922a",
   "metadata": {},
   "outputs": [
    {
     "name": "stdout",
     "output_type": "stream",
     "text": [
      "['d', 'a', 'a', 'a']\n",
      "['d', 'a']\n"
     ]
    },
    {
     "ename": "IndexError",
     "evalue": "list index out of range",
     "output_type": "error",
     "traceback": [
      "\u001b[1;31m---------------------------------------------------------------------------\u001b[0m",
      "\u001b[1;31mIndexError\u001b[0m                                Traceback (most recent call last)",
      "Cell \u001b[1;32mIn[1325], line 3\u001b[0m\n\u001b[0;32m      1\u001b[0m s \u001b[38;5;241m=\u001b[39m Solution()\n\u001b[1;32m----> 3\u001b[0m result \u001b[38;5;241m=\u001b[39m \u001b[43ms\u001b[49m\u001b[38;5;241;43m.\u001b[39;49m\u001b[43mminimizedStringLength\u001b[49m\u001b[43m(\u001b[49m\u001b[43ms\u001b[49m\u001b[43m \u001b[49m\u001b[38;5;241;43m=\u001b[39;49m\u001b[43m \u001b[49m\u001b[38;5;124;43m\"\u001b[39;49m\u001b[38;5;124;43mdddaaa\u001b[39;49m\u001b[38;5;124;43m\"\u001b[39;49m\u001b[43m)\u001b[49m\n\u001b[0;32m      4\u001b[0m \u001b[38;5;28mprint\u001b[39m (result)\n",
      "Cell \u001b[1;32mIn[1322], line 7\u001b[0m, in \u001b[0;36mSolution.minimizedStringLength\u001b[1;34m(self, s)\u001b[0m\n\u001b[0;32m      5\u001b[0m ss_copy \u001b[38;5;241m=\u001b[39m ss\n\u001b[0;32m      6\u001b[0m \u001b[38;5;28;01mfor\u001b[39;00m i \u001b[38;5;129;01min\u001b[39;00m \u001b[38;5;28mrange\u001b[39m(\u001b[38;5;241m1\u001b[39m, \u001b[38;5;28mlen\u001b[39m(ss_copy)\u001b[38;5;241m-\u001b[39m\u001b[38;5;241m1\u001b[39m):\n\u001b[1;32m----> 7\u001b[0m     c \u001b[38;5;241m=\u001b[39m \u001b[43mss_copy\u001b[49m\u001b[43m[\u001b[49m\u001b[43mi\u001b[49m\u001b[43m]\u001b[49m\n\u001b[0;32m      9\u001b[0m     left \u001b[38;5;241m=\u001b[39m ss_copy[:i]\n\u001b[0;32m     10\u001b[0m     right \u001b[38;5;241m=\u001b[39m ss_copy[i\u001b[38;5;241m+\u001b[39m\u001b[38;5;241m1\u001b[39m:]\n",
      "\u001b[1;31mIndexError\u001b[0m: list index out of range"
     ]
    }
   ],
   "source": [
    "s = Solution()\n",
    "\n",
    "result = s.minimizedStringLength(s = \"dddaaa\")\n",
    "print (result) "
   ]
  },
  {
   "cell_type": "markdown",
   "id": "322773fb",
   "metadata": {},
   "source": [
    "### 1078. Occurrences After Bigram"
   ]
  },
  {
   "cell_type": "code",
   "execution_count": 1335,
   "id": "671c6027",
   "metadata": {},
   "outputs": [],
   "source": [
    "class Solution:\n",
    "    def findOcurrences(self, text: str, first: str, second: str) -> List[str]:\n",
    "        \n",
    "        words = text.split()\n",
    "        res = []\n",
    "        for i in range(len(words)-2):\n",
    "            #print (i+2)\n",
    "            if words[i] == first and words[i+1] == second:\n",
    "                res.append(words[i+2])\n",
    "                \n",
    "        return res"
   ]
  },
  {
   "cell_type": "code",
   "execution_count": 1336,
   "id": "64b5f573",
   "metadata": {},
   "outputs": [
    {
     "name": "stdout",
     "output_type": "stream",
     "text": [
      "['girl', 'student']\n"
     ]
    }
   ],
   "source": [
    "s = Solution()\n",
    "\n",
    "result = s.findOcurrences(text = \"alice is a good girl she is a good student\", first = \"a\", second = \"good\")\n",
    "print (result) "
   ]
  },
  {
   "cell_type": "code",
   "execution_count": 1337,
   "id": "8e69b23e",
   "metadata": {},
   "outputs": [
    {
     "name": "stdout",
     "output_type": "stream",
     "text": [
      "['we', 'rock']\n"
     ]
    }
   ],
   "source": [
    "s = Solution()\n",
    "\n",
    "result = s.findOcurrences(text = \"we will we will rock you\", first = \"we\", second = \"will\")\n",
    "print (result) "
   ]
  },
  {
   "cell_type": "markdown",
   "id": "24ed24b5",
   "metadata": {},
   "source": [
    "### 1507. Reformat Date\n"
   ]
  },
  {
   "cell_type": "code",
   "execution_count": 1440,
   "id": "1c35340f",
   "metadata": {},
   "outputs": [],
   "source": [
    "class Solution:\n",
    "    def reformatDate(self, date: str) -> str:\n",
    "        from collections import OrderedDict\n",
    "\n",
    "\n",
    "        date_l = date.split()\n",
    "        month = [\"Jan\", \"Feb\", \"Mar\", \"Apr\", \"May\", \"Jun\", \"Jul\", \"Aug\", \"Sep\", \"Oct\", \"Nov\", \"Dec\"]\n",
    "        y = date_l[-1]\n",
    "        m = month.index(date_l[-2]) + 1\n",
    "        if len(str(m)) == 1:\n",
    "            m = '0' + str(m)\n",
    "        else:\n",
    "            m = str(m)\n",
    "            \n",
    "        d = date_l[-3]\n",
    "        \n",
    "        if len(str(d)) == 3:\n",
    "            d = '0' + str(d[:1])\n",
    "        else:\n",
    "            d = str(d[:2])\n",
    "        \n",
    "        f = ''.join(y+ '-' + m + '-' + d)\n",
    "        return f"
   ]
  },
  {
   "cell_type": "code",
   "execution_count": 1441,
   "id": "46eccb8d",
   "metadata": {},
   "outputs": [
    {
     "name": "stdout",
     "output_type": "stream",
     "text": [
      "2052-10-20\n"
     ]
    }
   ],
   "source": [
    "s = Solution()\n",
    "\n",
    "result = s.reformatDate(date = \"20th Oct 2052\")\n",
    "print (result) "
   ]
  },
  {
   "cell_type": "code",
   "execution_count": 1442,
   "id": "ce9a3802",
   "metadata": {},
   "outputs": [
    {
     "name": "stdout",
     "output_type": "stream",
     "text": [
      "1933-06-06\n"
     ]
    }
   ],
   "source": [
    "s = Solution()\n",
    "\n",
    "result = s.reformatDate(date = \"6th Jun 1933\")\n",
    "print (result) "
   ]
  },
  {
   "cell_type": "code",
   "execution_count": 1443,
   "id": "9f4657b9",
   "metadata": {},
   "outputs": [
    {
     "name": "stdout",
     "output_type": "stream",
     "text": [
      "1960-05-26\n"
     ]
    }
   ],
   "source": [
    "s = Solution()\n",
    "\n",
    "result = s.reformatDate(date = \"26th May 1960\")\n",
    "print (result) "
   ]
  },
  {
   "cell_type": "markdown",
   "id": "96d6795f",
   "metadata": {},
   "source": [
    "### 383. Ransom Note\n"
   ]
  },
  {
   "cell_type": "code",
   "execution_count": 1647,
   "id": "ad8ff6a8",
   "metadata": {},
   "outputs": [],
   "source": [
    "class Solution:\n",
    "    def canConstruct(self, ransomNote: str, magazine: str) -> bool:\n",
    "        magazine = list(magazine)\n",
    "        for l in ransomNote:\n",
    "            if l in magazine:\n",
    "                magazine.remove(l)\n",
    "                pass\n",
    "            else:\n",
    "                return False \n",
    "            \n",
    "        return True"
   ]
  },
  {
   "cell_type": "code",
   "execution_count": 1648,
   "id": "dff22b4c",
   "metadata": {},
   "outputs": [
    {
     "name": "stdout",
     "output_type": "stream",
     "text": [
      "False\n"
     ]
    }
   ],
   "source": [
    "s = Solution()\n",
    "\n",
    "result = s.canConstruct(ransomNote = \"a\", magazine = \"b\")\n",
    "print (result) "
   ]
  },
  {
   "cell_type": "code",
   "execution_count": 1649,
   "id": "f088ed69",
   "metadata": {},
   "outputs": [
    {
     "name": "stdout",
     "output_type": "stream",
     "text": [
      "False\n"
     ]
    }
   ],
   "source": [
    "s = Solution()\n",
    "\n",
    "result = s.canConstruct(ransomNote = \"aa\", magazine = \"ab\")\n",
    "print (result) "
   ]
  },
  {
   "cell_type": "code",
   "execution_count": 1650,
   "id": "102dbd8b",
   "metadata": {},
   "outputs": [
    {
     "name": "stdout",
     "output_type": "stream",
     "text": [
      "True\n"
     ]
    }
   ],
   "source": [
    "s = Solution()\n",
    "\n",
    "result = s.canConstruct(ransomNote = \"aa\", magazine = \"aab\")\n",
    "print (result) "
   ]
  },
  {
   "cell_type": "markdown",
   "id": "cc22bc4d",
   "metadata": {},
   "source": [
    "### 389. Find the Difference\n"
   ]
  },
  {
   "cell_type": "code",
   "execution_count": 1657,
   "id": "9b102dbf",
   "metadata": {},
   "outputs": [],
   "source": [
    "class Solution:\n",
    "    def findTheDifference(self, s: str, t: str) -> str:\n",
    "        s = list(s)\n",
    "        for l in t:\n",
    "            if l in s:\n",
    "                s.remove(l)\n",
    "                \n",
    "            else:\n",
    "                return l\n",
    "            "
   ]
  },
  {
   "cell_type": "code",
   "execution_count": 1658,
   "id": "567969ab",
   "metadata": {},
   "outputs": [
    {
     "name": "stdout",
     "output_type": "stream",
     "text": [
      "e\n"
     ]
    }
   ],
   "source": [
    "s = Solution()\n",
    "\n",
    "result = s.findTheDifference(s = \"abcd\", t = \"abcde\")\n",
    "print (result) "
   ]
  },
  {
   "cell_type": "code",
   "execution_count": 1659,
   "id": "838dce46",
   "metadata": {},
   "outputs": [
    {
     "name": "stdout",
     "output_type": "stream",
     "text": [
      "a\n"
     ]
    }
   ],
   "source": [
    "s = Solution()\n",
    "\n",
    "result = s.findTheDifference( s = \"a\", t = \"aa\")\n",
    "print (result) "
   ]
  },
  {
   "cell_type": "code",
   "execution_count": 1660,
   "id": "6565aa90",
   "metadata": {},
   "outputs": [
    {
     "name": "stdout",
     "output_type": "stream",
     "text": [
      "y\n"
     ]
    }
   ],
   "source": [
    "s = Solution()\n",
    "\n",
    "result = s.findTheDifference( s = \"\", t = \"y\")\n",
    "print (result) "
   ]
  },
  {
   "cell_type": "markdown",
   "id": "819ffef8",
   "metadata": {},
   "source": [
    "### 2264. Largest 3-Same-Digit Number in String\n"
   ]
  },
  {
   "cell_type": "code",
   "execution_count": 1717,
   "id": "571c7984",
   "metadata": {},
   "outputs": [],
   "source": [
    "class Solution:\n",
    "    def largestGoodInteger(self, num: str) -> str:\n",
    "        res = []\n",
    "        for i, v in enumerate(num):\n",
    "            for j in range(i, int(len(num)) - 2):\n",
    "                #print (j, j+3)\n",
    "                #print(num[j:j+3])\n",
    "                if num[j:j+3] == v*3:\n",
    "                   \n",
    "                    res.append(num[j:j+3])\n",
    "                \n",
    "        if res:\n",
    "            return str(max(list(res      )))\n",
    "        else:\n",
    "            return ''"
   ]
  },
  {
   "cell_type": "code",
   "execution_count": 1722,
   "id": "46adfafb",
   "metadata": {},
   "outputs": [
    {
     "data": {
      "text/plain": [
       "[3, 4]"
      ]
     },
     "execution_count": 1722,
     "metadata": {},
     "output_type": "execute_result"
    }
   ],
   "source": [
    "a = [1,2,3,4]\n",
    "a[2:4]"
   ]
  },
  {
   "cell_type": "code",
   "execution_count": 1718,
   "id": "4d157b33",
   "metadata": {},
   "outputs": [
    {
     "name": "stdout",
     "output_type": "stream",
     "text": [
      "777\n"
     ]
    }
   ],
   "source": [
    "s = Solution()\n",
    "\n",
    "result = s.largestGoodInteger(num = \"6777133339\")\n",
    "print (result) "
   ]
  },
  {
   "cell_type": "code",
   "execution_count": 1719,
   "id": "ce7fc8c0",
   "metadata": {},
   "outputs": [
    {
     "name": "stdout",
     "output_type": "stream",
     "text": [
      "000\n"
     ]
    }
   ],
   "source": [
    "s = Solution()\n",
    "\n",
    "result = s.largestGoodInteger(num = \"2300019\")\n",
    "print (result) "
   ]
  },
  {
   "cell_type": "code",
   "execution_count": 1720,
   "id": "aa9ecb55",
   "metadata": {},
   "outputs": [
    {
     "name": "stdout",
     "output_type": "stream",
     "text": [
      "\n"
     ]
    }
   ],
   "source": [
    "s = Solution()\n",
    "\n",
    "result = s.largestGoodInteger( num = \"42352338\")\n",
    "print (result) "
   ]
  },
  {
   "cell_type": "code",
   "execution_count": 1721,
   "id": "e1dc76f4",
   "metadata": {},
   "outputs": [
    {
     "name": "stdout",
     "output_type": "stream",
     "text": [
      "222\n"
     ]
    }
   ],
   "source": [
    "s = Solution()\n",
    "\n",
    "result = s.largestGoodInteger( num = \"222\")\n",
    "print (result) "
   ]
  },
  {
   "cell_type": "markdown",
   "id": "cdae9600",
   "metadata": {},
   "source": [
    "### 2451. Odd String Difference\n"
   ]
  },
  {
   "cell_type": "code",
   "execution_count": 1874,
   "id": "ea10e562",
   "metadata": {},
   "outputs": [],
   "source": [
    "class Solution:\n",
    "    def oddString(self, words: List[str]) -> str:\n",
    "        #res = []\n",
    "        d = {}\n",
    "        for w in words:\n",
    "            temp = []\n",
    "            for i in range(len(w)-1):\n",
    "                \n",
    "                temp.append((ord(w[i+1]) - 97) - (ord(w[i]) - 97))\n",
    "            d[w] = temp\n",
    "        \n",
    "        res = {} \n",
    "        for k, v in d.items():  \n",
    "            v = tuple(v)\n",
    "            if v not in res:\n",
    "                res[v] =1\n",
    "            else:\n",
    "                res[v] += 1\n",
    "         \n",
    "        for k, v in res.items():\n",
    "            if v == 1:\n",
    "                a = k\n",
    "        \n",
    "        for k, v in d.items():\n",
    "           \n",
    "            if v == list(a):\n",
    "                return k\n"
   ]
  },
  {
   "cell_type": "code",
   "execution_count": 1875,
   "id": "557a1df9",
   "metadata": {},
   "outputs": [
    {
     "name": "stdout",
     "output_type": "stream",
     "text": [
      "abc\n"
     ]
    }
   ],
   "source": [
    "s = Solution()\n",
    "\n",
    "result = s.oddString(words = [\"adc\",\"wzy\",\"abc\"])\n",
    "print (result) "
   ]
  },
  {
   "cell_type": "code",
   "execution_count": 1876,
   "id": "4e1a9bc9",
   "metadata": {},
   "outputs": [
    {
     "name": "stdout",
     "output_type": "stream",
     "text": [
      "bob\n"
     ]
    }
   ],
   "source": [
    "s = Solution()\n",
    "\n",
    "result = s.oddString(words = [\"aaa\",\"bob\",\"ccc\",\"ddd\"])\n",
    "print (result) "
   ]
  },
  {
   "cell_type": "markdown",
   "id": "92fd1e4c",
   "metadata": {},
   "source": [
    "### 748. Shortest Completing Word\n"
   ]
  },
  {
   "cell_type": "code",
   "execution_count": 1970,
   "id": "70101c8e",
   "metadata": {},
   "outputs": [],
   "source": [
    "class Solution:\n",
    "    def shortestCompletingWord(self, licensePlate: str, words: List[str]) -> str:\n",
    "        \n",
    "        p = [] \n",
    "        for l in licensePlate:\n",
    "            try:\n",
    "                int(l)\n",
    "            except :\n",
    "                if l == ' ':\n",
    "                    pass\n",
    "                else:\n",
    "                    p.append(l.lower())\n",
    "                    \n",
    "        d = {}\n",
    "        for l in p:\n",
    "            if l not in d:\n",
    "                d[l] = 1\n",
    "            else:\n",
    "                d[l] += 1\n",
    "        \n",
    "        g = [] \n",
    "        for w in words:\n",
    "            dd={}\n",
    "            for l in w:\n",
    "                if l.lower() not in dd:\n",
    "                    dd[l] = 1\n",
    "                else:\n",
    "                    dd[l] += 1\n",
    "            \n",
    "            is_complete = True\n",
    "            for k, v in d.items():\n",
    "                if k not in dd or dd[k] < v:\n",
    "                    is_complete = False\n",
    "                    break\n",
    "\n",
    "            if is_complete:\n",
    "                g.append(w)\n",
    "\n",
    "        \n",
    "        return min(g, key=lambda x:len(x))\n",
    "    "
   ]
  },
  {
   "cell_type": "code",
   "execution_count": 1971,
   "id": "b12c190c",
   "metadata": {},
   "outputs": [
    {
     "name": "stdout",
     "output_type": "stream",
     "text": [
      "steps\n"
     ]
    }
   ],
   "source": [
    "s = Solution()\n",
    "\n",
    "result = s.shortestCompletingWord(licensePlate = \"1s3 PSt\", words = [\"step\",\"steps\",\"stripe\",\"stepple\"])\n",
    "print (result) "
   ]
  },
  {
   "cell_type": "code",
   "execution_count": 1972,
   "id": "2939be98",
   "metadata": {
    "scrolled": true
   },
   "outputs": [
    {
     "name": "stdout",
     "output_type": "stream",
     "text": [
      "pest\n"
     ]
    }
   ],
   "source": [
    "s = Solution()\n",
    "\n",
    "result = s.shortestCompletingWord(licensePlate = \"1s3 456\", words = [\"looks\",\"pest\",\"stew\",\"show\"])\n",
    "print (result) "
   ]
  },
  {
   "cell_type": "markdown",
   "id": "481cf566",
   "metadata": {},
   "source": [
    "### 1897. Redistribute Characters to Make All Strings Equal\n"
   ]
  },
  {
   "cell_type": "code",
   "execution_count": null,
   "id": "130c012a",
   "metadata": {},
   "outputs": [],
   "source": [
    "class Solution:\n",
    "    def makeEqual(self, words: List[str]) -> bool:\n",
    "        "
   ]
  },
  {
   "cell_type": "code",
   "execution_count": null,
   "id": "29277b3b",
   "metadata": {},
   "outputs": [],
   "source": [
    "s = Solution()\n",
    "\n",
    "result = s.()\n",
    "print (result) "
   ]
  },
  {
   "cell_type": "code",
   "execution_count": null,
   "id": "c8bbd5be",
   "metadata": {},
   "outputs": [],
   "source": [
    "s = Solution()\n",
    "\n",
    "result = s.()\n",
    "print (result) "
   ]
  },
  {
   "cell_type": "markdown",
   "id": "495b3159",
   "metadata": {},
   "source": [
    "### 2129. Capitalize the Title\n"
   ]
  },
  {
   "cell_type": "code",
   "execution_count": 27,
   "id": "ccebe6db",
   "metadata": {},
   "outputs": [],
   "source": [
    "class Solution:\n",
    "    def capitalizeTitle(self, title: str) -> str:\n",
    "        \n",
    "        res = []\n",
    "        for w in title.split():\n",
    "            if len(w)<=2:\n",
    "                res.append(w.lower())\n",
    "                \n",
    "            else:\n",
    "                res.append(w.title())\n",
    "        f = [res[i] + ' ' for i in range(len(res)-1)] \n",
    "        f += res[-1]\n",
    "        return ''.join(f)"
   ]
  },
  {
   "cell_type": "code",
   "execution_count": 28,
   "id": "12ed894b",
   "metadata": {},
   "outputs": [
    {
     "name": "stdout",
     "output_type": "stream",
     "text": [
      "Capitalize The Title\n"
     ]
    }
   ],
   "source": [
    "s = Solution()\n",
    "\n",
    "result = s.capitalizeTitle( title = \"capiTalIze tHe titLe\")\n",
    "print (result) "
   ]
  },
  {
   "cell_type": "code",
   "execution_count": 13,
   "id": "ac33b0c4",
   "metadata": {},
   "outputs": [
    {
     "name": "stdout",
     "output_type": "stream",
     "text": [
      "First Letter of Each Word \n"
     ]
    }
   ],
   "source": [
    "s = Solution()\n",
    "\n",
    "result = s.capitalizeTitle(title = \"First leTTeR of EACH Word\")\n",
    "print (result) "
   ]
  },
  {
   "cell_type": "code",
   "execution_count": 14,
   "id": "0e2e5354",
   "metadata": {},
   "outputs": [
    {
     "name": "stdout",
     "output_type": "stream",
     "text": [
      "i Love Leetcode \n"
     ]
    }
   ],
   "source": [
    "s = Solution()\n",
    "\n",
    "result = s.capitalizeTitle(title = \"i lOve leetcode\")\n",
    "print (result) "
   ]
  },
  {
   "cell_type": "markdown",
   "id": "b2dbd124",
   "metadata": {},
   "source": [
    "### 599. Minimum Index Sum of Two Lists\n"
   ]
  },
  {
   "cell_type": "code",
   "execution_count": 60,
   "id": "d163a226",
   "metadata": {},
   "outputs": [],
   "source": [
    "from typing import List\n",
    "class Solution:\n",
    "    def findRestaurant(self, list1: List[str], list2: List[str]) -> List[str]:\n",
    "        \n",
    "        d = {}\n",
    "        for i in range(len(list1)):\n",
    "            for j in range(len(list2)):\n",
    "                \n",
    "                if list1[i] == list2[j]:\n",
    "                    d[list1[i]] = i + j\n",
    "        min_value = min(d.values())        \n",
    "        return [k for k, v in d.items() if v == min_value]\n"
   ]
  },
  {
   "cell_type": "code",
   "execution_count": 61,
   "id": "ec5dcb70",
   "metadata": {},
   "outputs": [
    {
     "name": "stdout",
     "output_type": "stream",
     "text": [
      "['Shogun']\n"
     ]
    }
   ],
   "source": [
    "s = Solution()\n",
    "\n",
    "result = s.findRestaurant( list1 = [\"Shogun\",\"Tapioca Express\",\"Burger King\",\"KFC\"], list2 = [\"Piatti\",\"The Grill at Torrey Pines\",\"Hungry Hunter Steakhouse\",\"Shogun\"])\n",
    "print (result) "
   ]
  },
  {
   "cell_type": "code",
   "execution_count": 62,
   "id": "42de074f",
   "metadata": {},
   "outputs": [
    {
     "name": "stdout",
     "output_type": "stream",
     "text": [
      "['Shogun']\n"
     ]
    }
   ],
   "source": [
    "s = Solution()\n",
    "\n",
    "result = s.findRestaurant( [\"Shogun\",\"Tapioca Express\",\"Burger King\",\"KFC\"], list2 = [\"KFC\",\"Shogun\",\"Burger King\"])\n",
    "print (result) "
   ]
  },
  {
   "cell_type": "code",
   "execution_count": 63,
   "id": "5a4d4ae1",
   "metadata": {},
   "outputs": [
    {
     "name": "stdout",
     "output_type": "stream",
     "text": [
      "['happy', 'sad']\n"
     ]
    }
   ],
   "source": [
    "s = Solution()\n",
    "\n",
    "result = s.findRestaurant( list1 = [\"happy\",\"sad\",\"good\"], list2 = [\"sad\",\"happy\",\"good\"])\n",
    "print (result) "
   ]
  },
  {
   "cell_type": "markdown",
   "id": "d9936bef",
   "metadata": {},
   "source": [
    "### 541. Reverse String II\n"
   ]
  },
  {
   "cell_type": "code",
   "execution_count": null,
   "id": "ca990fff",
   "metadata": {},
   "outputs": [],
   "source": [
    "class Solution:\n",
    "    def reverseStr(self, s: str, k: int) -> str:\n",
    "        "
   ]
  },
  {
   "cell_type": "code",
   "execution_count": null,
   "id": "0a90410e",
   "metadata": {},
   "outputs": [],
   "source": [
    "s = Solution()\n",
    "\n",
    "result = s.( )\n",
    "print (result) "
   ]
  },
  {
   "cell_type": "markdown",
   "id": "d1ce03ec",
   "metadata": {},
   "source": [
    "### 819. Most Common Word\n"
   ]
  },
  {
   "cell_type": "code",
   "execution_count": 139,
   "id": "70161c9e",
   "metadata": {},
   "outputs": [],
   "source": [
    "import re\n",
    "import string\n",
    "\n",
    "class Solution:\n",
    "    def mostCommonWord(self, paragraph: str, banned: List[str]) -> str:\n",
    "        \n",
    "        d ={}\n",
    "        delimiters = f\"[{re.escape(string.punctuation)}\\s]+\"\n",
    "        for w in re.split(delimiters, paragraph): \n",
    "            w = w.lower()\n",
    "            if w != '' and w not in banned:\n",
    "                if w not in d:\n",
    "                    d[w] = 1\n",
    "                else:\n",
    "                    d[w] += 1\n",
    "        return max(d, key=d.get)"
   ]
  },
  {
   "cell_type": "code",
   "execution_count": 140,
   "id": "d9cf0a4a",
   "metadata": {},
   "outputs": [
    {
     "name": "stdout",
     "output_type": "stream",
     "text": [
      "ball\n"
     ]
    }
   ],
   "source": [
    "s = Solution()\n",
    "\n",
    "result = s.mostCommonWord(paragraph = \"Bob hit a ball, the hit BALL flew far after it was hit.\", banned = [\"hit\"] )\n",
    "print (result) "
   ]
  },
  {
   "cell_type": "code",
   "execution_count": 141,
   "id": "8b710857",
   "metadata": {},
   "outputs": [
    {
     "name": "stdout",
     "output_type": "stream",
     "text": [
      "a\n"
     ]
    }
   ],
   "source": [
    "s = Solution()\n",
    "\n",
    "result = s.mostCommonWord(paragraph = \"a.\", banned = [] )\n",
    "print (result) "
   ]
  },
  {
   "cell_type": "code",
   "execution_count": 142,
   "id": "ddcccc22",
   "metadata": {},
   "outputs": [
    {
     "name": "stdout",
     "output_type": "stream",
     "text": [
      "bob\n"
     ]
    }
   ],
   "source": [
    "s = Solution()\n",
    "\n",
    "result = s.mostCommonWord(paragraph = \"Bob!\", banned = [\"hit\"] )\n",
    "print (result) \n"
   ]
  },
  {
   "cell_type": "code",
   "execution_count": 143,
   "id": "cac2d55c",
   "metadata": {},
   "outputs": [
    {
     "name": "stdout",
     "output_type": "stream",
     "text": [
      "ball\n"
     ]
    }
   ],
   "source": [
    "s = Solution()\n",
    "\n",
    "result = s.mostCommonWord(paragraph = \"Bob. hIt, baLl\", banned = [\"bob\", \"hit\"] )\n",
    "print (result) \n",
    " \n"
   ]
  },
  {
   "cell_type": "code",
   "execution_count": 144,
   "id": "8c51c076",
   "metadata": {},
   "outputs": [
    {
     "name": "stdout",
     "output_type": "stream",
     "text": [
      "the\n"
     ]
    }
   ],
   "source": [
    "s = Solution()\n",
    "\n",
    "result = s.mostCommonWord(paragraph = \"abc abc? abcd the jeff!\", banned = [\"abc\",\"abcd\",\"jeff\"] )\n",
    "print (result) \n",
    " \n"
   ]
  },
  {
   "cell_type": "markdown",
   "id": "393d9ac1",
   "metadata": {},
   "source": [
    "### 20. Valid Parentheses\n"
   ]
  },
  {
   "cell_type": "code",
   "execution_count": 32,
   "id": "98ac7a50",
   "metadata": {},
   "outputs": [],
   "source": [
    "class Solution:\n",
    "    def isValid(self, s: str) -> bool:\n",
    "        c = 0\n",
    "        l = 0\n",
    "        h= 0\n",
    "        for i in range(len(s)):\n",
    "            for j in range(i + 1, len(s)):\n",
    "                if s[i] == '(':\n",
    "                    c += 1\n",
    "                    "
   ]
  },
  {
   "cell_type": "code",
   "execution_count": 33,
   "id": "31199e16",
   "metadata": {},
   "outputs": [
    {
     "name": "stdout",
     "output_type": "stream",
     "text": [
      "False\n"
     ]
    }
   ],
   "source": [
    "s = Solution()\n",
    "\n",
    "result = s.isValid(\"(]\" )\n",
    "print (result) \n",
    " \n"
   ]
  },
  {
   "cell_type": "code",
   "execution_count": 34,
   "id": "9725ebb1",
   "metadata": {},
   "outputs": [
    {
     "name": "stdout",
     "output_type": "stream",
     "text": [
      "True\n"
     ]
    }
   ],
   "source": [
    "s = Solution()\n",
    "\n",
    "result = s.isValid(\"()[]{}\" )\n",
    "print (result) \n",
    " "
   ]
  },
  {
   "cell_type": "code",
   "execution_count": 35,
   "id": "ceec648a",
   "metadata": {},
   "outputs": [
    {
     "name": "stdout",
     "output_type": "stream",
     "text": [
      "True\n"
     ]
    }
   ],
   "source": [
    "s = Solution()\n",
    "\n",
    "result = s.isValid(\"([)]\" )\n",
    "print (result) \n",
    " "
   ]
  },
  {
   "cell_type": "markdown",
   "id": "07bd6c24",
   "metadata": {},
   "source": [
    "### 1769. Minimum Number of Operations to Move All Balls to Each Box\n"
   ]
  },
  {
   "cell_type": "code",
   "execution_count": 8,
   "id": "d7b84637",
   "metadata": {
    "code_folding": []
   },
   "outputs": [],
   "source": [
    "from typing import List\n",
    "class Solution:\n",
    "    def minOperations(self, boxes: str) -> List[int]:\n",
    "        \n",
    "        res = [] \n",
    "        \n",
    "        for i in range(len(boxes)):\n",
    "            c= 0 \n",
    "            for j in range(i+1, len(boxes)):\n",
    "                if int(boxes[j]) == 1:\n",
    "                    c += (j - i)\n",
    "            \n",
    "            \n",
    "            for j in range(i):\n",
    "                if int(boxes[j]) == 1:\n",
    "                    c += abs(j - i)\n",
    "            res.append(c)\n",
    "            \n",
    "        return res\n",
    "                    "
   ]
  },
  {
   "cell_type": "code",
   "execution_count": 9,
   "id": "2beecfd4",
   "metadata": {},
   "outputs": [
    {
     "name": "stdout",
     "output_type": "stream",
     "text": [
      "[1, 1, 3]\n"
     ]
    }
   ],
   "source": [
    "s = Solution()\n",
    "\n",
    "result = s.minOperations(boxes = \"110\")\n",
    "print (result) \n",
    " "
   ]
  },
  {
   "cell_type": "code",
   "execution_count": 10,
   "id": "789ed3ba",
   "metadata": {},
   "outputs": [
    {
     "name": "stdout",
     "output_type": "stream",
     "text": [
      "[11, 8, 5, 4, 3, 4]\n"
     ]
    }
   ],
   "source": [
    "s = Solution()\n",
    "\n",
    "result = s.minOperations(boxes = \"001011\")\n",
    "print (result) \n",
    " "
   ]
  },
  {
   "cell_type": "markdown",
   "id": "4e1d31bb",
   "metadata": {},
   "source": [
    "### 2391. Minimum Amount of Time to Collect Garbage\n"
   ]
  },
  {
   "cell_type": "code",
   "execution_count": 73,
   "id": "3e92f1a0",
   "metadata": {},
   "outputs": [],
   "source": [
    "class Solution:\n",
    "    def garbageCollection(self, garbage: List[str], travel: List[int]) -> int:\n",
    "        \n",
    "        glass = 0\n",
    "        paper = 0\n",
    "        metal = 0\n",
    "        \n",
    "        for c in garbage:\n",
    "            for i in c:\n",
    "                if i == 'G':\n",
    "                    glass += 1\n",
    "                elif i == 'P':\n",
    "                    paper += 1\n",
    "                else:\n",
    "                    metal += 1\n",
    "        \n",
    "        is_glass = False\n",
    "        is_paper = False\n",
    "        is_metal = False\n",
    "        for j in reversed (range(1, len(garbage))):\n",
    "            if 'G' in garbage[j] and is_glass == False:\n",
    "                #glass += sum(travel[:j])\n",
    "                glass += sum(travel[:j])\n",
    "                is_glass = True\n",
    "\n",
    "\n",
    "            if 'P' in garbage[j] and is_paper == False:\n",
    "                paper += sum(travel[:j])\n",
    "                is_paper = True\n",
    "\n",
    "            if 'M' in garbage[j] and is_metal == False:\n",
    "                metal += sum(travel[:j])\n",
    "                is_metal = True\n",
    "                \n",
    "        res = glass + paper + metal       \n",
    "        return res"
   ]
  },
  {
   "cell_type": "code",
   "execution_count": 74,
   "id": "be6acbae",
   "metadata": {},
   "outputs": [
    {
     "name": "stdout",
     "output_type": "stream",
     "text": [
      "21\n"
     ]
    }
   ],
   "source": [
    "s = Solution()\n",
    "\n",
    "result = s.garbageCollection( garbage = [\"G\",\"P\",\"GP\",\"GG\"], travel = [2,4,3])\n",
    "print (result) \n",
    " "
   ]
  },
  {
   "cell_type": "code",
   "execution_count": 75,
   "id": "3a834f60",
   "metadata": {},
   "outputs": [
    {
     "name": "stdout",
     "output_type": "stream",
     "text": [
      "37\n"
     ]
    }
   ],
   "source": [
    "s = Solution()\n",
    "\n",
    "result = s.garbageCollection(garbage = [\"MMM\",\"PGM\",\"GP\"], travel = [3,10])\n",
    "print (result) \n",
    " "
   ]
  },
  {
   "cell_type": "markdown",
   "id": "8ee6ca3c",
   "metadata": {},
   "source": [
    "### 2120. Execution of All Suffix Instructions Staying in a Grid\n"
   ]
  },
  {
   "cell_type": "code",
   "execution_count": 171,
   "id": "80ce0c8e",
   "metadata": {
    "code_folding": []
   },
   "outputs": [],
   "source": [
    "class Solution:\n",
    "    def executeInstructions(self, n: int, startPos: List[int], s: str) -> List[int]:\n",
    "        \n",
    "        res = [] \n",
    "        \n",
    "        for j in range(len(s)):\n",
    "            c = 0\n",
    "           \n",
    "            Pos = startPos.copy()\n",
    "            flag = True\n",
    "            #print (s[j:], Pos, startPos)\n",
    "            for i in s[j:]:\n",
    "                if i == 'R':\n",
    "                    #print (s[j:], Pos[1])\n",
    "                    if flag:\n",
    "                        Pos[1] += 1\n",
    "                        if Pos[1] <= n-1: \n",
    "                            c += 1\n",
    "                        else:\n",
    "                            flag = False\n",
    "                            \n",
    "                elif i == 'L' and flag:\n",
    "                    if flag:\n",
    "                        Pos[1] -= 1\n",
    "                        if Pos[1] >= 0:\n",
    "                            c += 1\n",
    "                        else:\n",
    "                            flag = False\n",
    "                            \n",
    "                elif i == 'U'and flag:\n",
    "                    if flag:\n",
    "                        Pos[0] -= 1\n",
    "                        if Pos[0] >=0:\n",
    "                            c += 1\n",
    "                        else:\n",
    "                            flag = False  \n",
    "                            \n",
    "                elif i == 'D'and flag:\n",
    "                    if flag:\n",
    "                        Pos[0] += 1\n",
    "                        if Pos[0] <= n-1 and flag:\n",
    "                            c += 1\n",
    "                        else:\n",
    "                            flag = False\n",
    "                            \n",
    "                #print (Pos, c, i)      \n",
    "            res.append(c)\n",
    "            #print (s[j:], c)   \n",
    "        return res"
   ]
  },
  {
   "cell_type": "code",
   "execution_count": 172,
   "id": "81dc2f44",
   "metadata": {},
   "outputs": [
    {
     "name": "stdout",
     "output_type": "stream",
     "text": [
      "[1, 5, 4, 3, 1, 0]\n"
     ]
    }
   ],
   "source": [
    "s = Solution()\n",
    "\n",
    "result = s.executeInstructions(n = 3, startPos = [0,1], s = \"RRDDLU\")\n",
    "print (result) \n",
    " "
   ]
  },
  {
   "cell_type": "code",
   "execution_count": 173,
   "id": "7426551f",
   "metadata": {},
   "outputs": [
    {
     "name": "stdout",
     "output_type": "stream",
     "text": [
      "[4, 1, 0, 0]\n"
     ]
    }
   ],
   "source": [
    "s = Solution()\n",
    "\n",
    "result = s.executeInstructions( n = 2, startPos = [1,1], s = \"LURD\")\n",
    "print (result) \n",
    " "
   ]
  },
  {
   "cell_type": "code",
   "execution_count": 174,
   "id": "9d2716ca",
   "metadata": {},
   "outputs": [
    {
     "name": "stdout",
     "output_type": "stream",
     "text": [
      "[0, 0, 0, 0]\n"
     ]
    }
   ],
   "source": [
    "s = Solution()\n",
    "\n",
    "result = s.executeInstructions(n = 1, startPos = [0,0], s = \"LRUD\")\n",
    "print (result) \n",
    " "
   ]
  },
  {
   "cell_type": "markdown",
   "id": "11308b95",
   "metadata": {},
   "source": [
    "### 2125. Number of Laser Beams in a Bank\n"
   ]
  },
  {
   "cell_type": "code",
   "execution_count": 220,
   "id": "4f08ff78",
   "metadata": {},
   "outputs": [],
   "source": [
    "class Solution:\n",
    "    def numberOfBeams(self, bank: List[str]) -> int:\n",
    "        ans = []\n",
    "        res = 0\n",
    "\n",
    "        for i in bank:\n",
    "            s = i.count('1')\n",
    "            if s>0 :\n",
    "                ans.append(s)\n",
    "                \n",
    "        if len(ans) == 1:\n",
    "            return 0\n",
    "        \n",
    "        for i in range(len(ans) - 1):\n",
    "            res +=  ans[i]*ans[i+1]\n",
    "            \n",
    "        return res"
   ]
  },
  {
   "cell_type": "code",
   "execution_count": 221,
   "id": "c6c2b1b9",
   "metadata": {},
   "outputs": [
    {
     "name": "stdout",
     "output_type": "stream",
     "text": [
      "8\n"
     ]
    }
   ],
   "source": [
    "s = Solution()\n",
    "\n",
    "result = s.numberOfBeams(bank = [\"011001\",\"000000\",\"010100\",\"001000\"])\n",
    "print (result) \n",
    " "
   ]
  },
  {
   "cell_type": "markdown",
   "id": "553d43f1",
   "metadata": {},
   "source": [
    "### 434. Number of Segments in a String\n"
   ]
  },
  {
   "cell_type": "code",
   "execution_count": 232,
   "id": "1ce462de",
   "metadata": {},
   "outputs": [],
   "source": [
    "class Solution:\n",
    "    def countSegments(self, s: str) -> int:\n",
    "        \n",
    "        return len(s.split())"
   ]
  },
  {
   "cell_type": "code",
   "execution_count": 235,
   "id": "47dc50f8",
   "metadata": {},
   "outputs": [
    {
     "name": "stdout",
     "output_type": "stream",
     "text": [
      "5\n"
     ]
    }
   ],
   "source": [
    "s = Solution()\n",
    "\n",
    "result = s.countSegments(s = \"Hello, my name is John\")\n",
    "print (result) \n",
    " "
   ]
  },
  {
   "cell_type": "markdown",
   "id": "269a35e9",
   "metadata": {},
   "source": [
    "### 1805. Number of Different Integers in a String\n"
   ]
  },
  {
   "cell_type": "code",
   "execution_count": 336,
   "id": "80bc441c",
   "metadata": {},
   "outputs": [],
   "source": [
    "class Solution:\n",
    "    def numDifferentIntegers(self, word: str) -> int:\n",
    "        w = list(word)\n",
    "        \n",
    "        res = []\n",
    "        for i in w:\n",
    "            if i not in '0123456789':\n",
    "                res.append(' ') \n",
    "            else:\n",
    "                res.append(i)\n",
    "\n",
    "        f = ''.join(res)\n",
    "        \n",
    "        ff = []\n",
    "        for i in f.split():\n",
    "            ff.append(i.lstrip('0'))\n",
    "        \n",
    "        return len(set(ff))\n",
    "        "
   ]
  },
  {
   "cell_type": "code",
   "execution_count": 337,
   "id": "64470ed0",
   "metadata": {},
   "outputs": [
    {
     "name": "stdout",
     "output_type": "stream",
     "text": [
      "3\n"
     ]
    }
   ],
   "source": [
    "s = Solution()\n",
    "\n",
    "result = s.numDifferentIntegers(word = \"a123bc34d8ef34\")\n",
    "print (result) \n",
    " "
   ]
  },
  {
   "cell_type": "code",
   "execution_count": 338,
   "id": "7534041e",
   "metadata": {},
   "outputs": [
    {
     "name": "stdout",
     "output_type": "stream",
     "text": [
      "2\n"
     ]
    }
   ],
   "source": [
    "s = Solution()\n",
    "\n",
    "result = s.numDifferentIntegers(word = \"leet1234code234\")\n",
    "print (result) \n",
    " "
   ]
  },
  {
   "cell_type": "code",
   "execution_count": 339,
   "id": "1eb333ac",
   "metadata": {},
   "outputs": [
    {
     "name": "stdout",
     "output_type": "stream",
     "text": [
      "1\n"
     ]
    }
   ],
   "source": [
    "s = Solution()\n",
    "\n",
    "result = s.numDifferentIntegers(word = \"a1b01c001\")\n",
    "print (result) \n",
    " "
   ]
  },
  {
   "cell_type": "markdown",
   "id": "4f359363",
   "metadata": {},
   "source": [
    "### 2062. Count Vowel Substrings of a String\n"
   ]
  },
  {
   "cell_type": "code",
   "execution_count": 416,
   "id": "0df92071",
   "metadata": {},
   "outputs": [],
   "source": [
    "class Solution:\n",
    "    def countVowelSubstrings(self, word: str) -> int:\n",
    "        \n",
    "        f = []\n",
    "        c = 0\n",
    "        for i in range(len(word) - 5 + 1):\n",
    "            for j in range(i, len(word) - 5 + 1):\n",
    "                \n",
    "                f.append(word [i:j+5])\n",
    "                if len(set('aeiou')) == len(set(word [i:j+5])) and set('aeiou').issubset(set(word [i:j+5])):\n",
    "                    #print (word [i:j+5], 'y')\n",
    "                    c += 1\n",
    "\n",
    "        return c"
   ]
  },
  {
   "cell_type": "code",
   "execution_count": 417,
   "id": "0cdbd0ee",
   "metadata": {},
   "outputs": [
    {
     "name": "stdout",
     "output_type": "stream",
     "text": [
      "2\n"
     ]
    }
   ],
   "source": [
    "s = Solution()\n",
    "\n",
    "result = s.countVowelSubstrings(word = \"aeiouu\")\n",
    "print (result) \n",
    " "
   ]
  },
  {
   "cell_type": "code",
   "execution_count": 418,
   "id": "ec1548fe",
   "metadata": {},
   "outputs": [
    {
     "name": "stdout",
     "output_type": "stream",
     "text": [
      "0\n"
     ]
    }
   ],
   "source": [
    "s = Solution()\n",
    "\n",
    "result = s.countVowelSubstrings(word = \"unicornarihan\")\n",
    "print (result) \n",
    " "
   ]
  },
  {
   "cell_type": "code",
   "execution_count": 419,
   "id": "0d9ff8d9",
   "metadata": {},
   "outputs": [
    {
     "name": "stdout",
     "output_type": "stream",
     "text": [
      "7\n"
     ]
    }
   ],
   "source": [
    "s = Solution()\n",
    "\n",
    "result = s.countVowelSubstrings(word = \"cuaieuouac\")\n",
    "print (result) \n",
    " "
   ]
  },
  {
   "cell_type": "markdown",
   "id": "ba500986",
   "metadata": {},
   "source": [
    "### 917. Reverse Only Letters\n"
   ]
  },
  {
   "cell_type": "code",
   "execution_count": 427,
   "id": "04c9bf30",
   "metadata": {},
   "outputs": [],
   "source": [
    "class Solution:\n",
    "    def reverseOnlyLetters(self, s: str) -> str:\n",
    "        \n",
    "        res = []\n",
    "        \n",
    "        for l in s:\n",
    "            if l.isalpha():\n",
    "                res.append(l)\n",
    "                \n",
    "        if len(res) == 0:\n",
    "            return s\n",
    "        else:\n",
    "            f = ''\n",
    "            for l in s:\n",
    "                if l.isalpha():\n",
    "                    f += res.pop()\n",
    "                else:\n",
    "                    f += l\n",
    "        \n",
    "                \n",
    "        return f     "
   ]
  },
  {
   "cell_type": "code",
   "execution_count": 443,
   "id": "c742d506",
   "metadata": {},
   "outputs": [],
   "source": [
    "# another solution using two pointers\n",
    "class Solution:\n",
    "    def reverseOnlyLetters(self, s: str) -> str:\n",
    "        \n",
    "        s_list = list(s)  \n",
    "        first = 0\n",
    "        last = len(s) - 1\n",
    "        \n",
    "        while first < last:\n",
    "            if not s[first].isalpha():\n",
    "                first +=1\n",
    "            if not s[last].isalpha():\n",
    "                last -= 1\n",
    "            if s[first].isalpha() and s[last].isalpha():\n",
    "                s_list[first], s_list[last] =  s_list[last], s_list[first]\n",
    "                first += 1\n",
    "                last -= 1\n",
    "                \n",
    "                \n",
    "        return ''.join(s_list)\n"
   ]
  },
  {
   "cell_type": "code",
   "execution_count": 444,
   "id": "7344fcee",
   "metadata": {},
   "outputs": [
    {
     "name": "stdout",
     "output_type": "stream",
     "text": [
      "dc-ba\n"
     ]
    }
   ],
   "source": [
    "s = Solution()\n",
    "\n",
    "result = s.reverseOnlyLetters(s = \"ab-cd\")\n",
    "print (result) \n",
    " "
   ]
  },
  {
   "cell_type": "code",
   "execution_count": 445,
   "id": "893a69f3",
   "metadata": {},
   "outputs": [
    {
     "name": "stdout",
     "output_type": "stream",
     "text": [
      "j-Ih-gfE-dCba\n"
     ]
    }
   ],
   "source": [
    "s = Solution()\n",
    "\n",
    "result = s.reverseOnlyLetters(s = \"a-bC-dEf-ghIj\")\n",
    "print (result) \n",
    " "
   ]
  },
  {
   "cell_type": "markdown",
   "id": "3ee8cce0",
   "metadata": {},
   "source": [
    "### 171. Excel Sheet Column Number\n"
   ]
  },
  {
   "cell_type": "code",
   "execution_count": 521,
   "id": "621ca829",
   "metadata": {},
   "outputs": [],
   "source": [
    "class Solution:\n",
    "    def titleToNumber(self, columnTitle: str) -> int:\n",
    "        f = 0\n",
    "        l = len(columnTitle) - 1\n",
    "        for i in columnTitle:\n",
    "            \n",
    "            f += (ord(i.lower()) - 97 + 1) * 26** l\n",
    "            l -=1 \n",
    "        return f"
   ]
  },
  {
   "cell_type": "code",
   "execution_count": 522,
   "id": "41e8a293",
   "metadata": {},
   "outputs": [
    {
     "name": "stdout",
     "output_type": "stream",
     "text": [
      "1\n"
     ]
    }
   ],
   "source": [
    "s = Solution()\n",
    "\n",
    "result = s.titleToNumber(columnTitle = \"A\")\n",
    "print (result) "
   ]
  },
  {
   "cell_type": "code",
   "execution_count": 529,
   "id": "a7bb5b0e",
   "metadata": {},
   "outputs": [
    {
     "name": "stdout",
     "output_type": "stream",
     "text": [
      "28\n"
     ]
    }
   ],
   "source": [
    "s = Solution()\n",
    "\n",
    "result = s.titleToNumber(columnTitle = \"AB\")\n",
    "print (result) "
   ]
  },
  {
   "cell_type": "code",
   "execution_count": 524,
   "id": "a2914285",
   "metadata": {},
   "outputs": [
    {
     "name": "stdout",
     "output_type": "stream",
     "text": [
      "701\n"
     ]
    }
   ],
   "source": [
    "s = Solution()\n",
    "\n",
    "result = s.titleToNumber(columnTitle = \"ZY\")\n",
    "print (result) "
   ]
  },
  {
   "cell_type": "code",
   "execution_count": 525,
   "id": "99c00f9c",
   "metadata": {},
   "outputs": [
    {
     "name": "stdout",
     "output_type": "stream",
     "text": [
      "702\n"
     ]
    }
   ],
   "source": [
    "s = Solution()\n",
    "\n",
    "result = s.titleToNumber(columnTitle = \"ZZ\")\n",
    "print (result) "
   ]
  },
  {
   "cell_type": "code",
   "execution_count": 526,
   "id": "965cb013",
   "metadata": {},
   "outputs": [
    {
     "name": "stdout",
     "output_type": "stream",
     "text": [
      "703\n"
     ]
    }
   ],
   "source": [
    "s = Solution()\n",
    "\n",
    "result = s.titleToNumber(columnTitle = \"AAA\")\n",
    "print (result) "
   ]
  },
  {
   "cell_type": "code",
   "execution_count": 527,
   "id": "e80eab9d",
   "metadata": {},
   "outputs": [
    {
     "name": "stdout",
     "output_type": "stream",
     "text": [
      "2147483647\n"
     ]
    }
   ],
   "source": [
    "s = Solution()\n",
    "\n",
    "result = s.titleToNumber(\"FXSHRXW\")\n",
    "print (result) "
   ]
  },
  {
   "cell_type": "markdown",
   "id": "69b79280",
   "metadata": {},
   "source": [
    "### 1945. Sum of Digits of String After Convert\n"
   ]
  },
  {
   "cell_type": "code",
   "execution_count": 616,
   "id": "7f050fe6",
   "metadata": {},
   "outputs": [],
   "source": [
    "class Solution:\n",
    "    def getLucky(self, s: str, k: int) -> int:\n",
    "        \n",
    "        f = [] \n",
    "        sumi = []\n",
    "        for l in s:\n",
    "            f.append(str((ord(l) - 97 + 1)))\n",
    "        \n",
    "        while k > 0:\n",
    "            #print (f)\n",
    "            res = 0\n",
    "            f = list(''.join(f))\n",
    "            for i in f:\n",
    "                res += int(i)\n",
    "            f = list(str(res))\n",
    "            k -=1 \n",
    "        return res"
   ]
  },
  {
   "cell_type": "code",
   "execution_count": 617,
   "id": "877acf08",
   "metadata": {},
   "outputs": [
    {
     "name": "stdout",
     "output_type": "stream",
     "text": [
      "36\n"
     ]
    }
   ],
   "source": [
    "s = Solution()\n",
    "\n",
    "result = s.getLucky(s = \"iiii\", k = 1)\n",
    "print (result) "
   ]
  },
  {
   "cell_type": "code",
   "execution_count": 618,
   "id": "0a0ef2bf",
   "metadata": {},
   "outputs": [
    {
     "name": "stdout",
     "output_type": "stream",
     "text": [
      "6\n"
     ]
    }
   ],
   "source": [
    "s = Solution()\n",
    "\n",
    "result = s.getLucky(s = \"leetcode\", k = 2)\n",
    "print (result) "
   ]
  },
  {
   "cell_type": "code",
   "execution_count": 619,
   "id": "dff0fdd3",
   "metadata": {},
   "outputs": [
    {
     "name": "stdout",
     "output_type": "stream",
     "text": [
      "8\n"
     ]
    }
   ],
   "source": [
    "s = Solution()\n",
    "\n",
    "result = s.getLucky(s = \"zbax\", k = 2)\n",
    "print (result) "
   ]
  },
  {
   "cell_type": "markdown",
   "id": "9d83ed42",
   "metadata": {},
   "source": [
    "### 1763. Longest Nice Substring\n"
   ]
  },
  {
   "cell_type": "code",
   "execution_count": 632,
   "id": "7c139e0c",
   "metadata": {},
   "outputs": [],
   "source": [
    "class Solution:\n",
    "    def longestNiceSubstring(self, s: str) -> str:\n",
    "        \n",
    "        def is_nice(sub):\n",
    "            for c in sub:\n",
    "                if c.lower() not in sub or c.upper() not in sub:\n",
    "                    return False\n",
    "            return True\n",
    "        \n",
    "        n = len(s)\n",
    "        longest = ''\n",
    "        \n",
    "        for i in range(n):\n",
    "            for j in range(i + 1, n + 1):\n",
    "                if is_nice(s[i:j]) and len(s[i:j]) > len(longest):\n",
    "                    longest = s[i:j]\n",
    "        return longest\n",
    "            "
   ]
  },
  {
   "cell_type": "code",
   "execution_count": 633,
   "id": "29c773bb",
   "metadata": {},
   "outputs": [
    {
     "name": "stdout",
     "output_type": "stream",
     "text": [
      "aAa\n"
     ]
    }
   ],
   "source": [
    "s = Solution()\n",
    "\n",
    "result = s.longestNiceSubstring(s = \"YazaAay\")\n",
    "print (result) "
   ]
  },
  {
   "cell_type": "code",
   "execution_count": 634,
   "id": "3fa4af9a",
   "metadata": {},
   "outputs": [
    {
     "name": "stdout",
     "output_type": "stream",
     "text": [
      "Bb\n"
     ]
    }
   ],
   "source": [
    "s = Solution()\n",
    "\n",
    "result = s.longestNiceSubstring(s = \"Bb\")\n",
    "print (result) "
   ]
  },
  {
   "cell_type": "code",
   "execution_count": 635,
   "id": "d9831b3c",
   "metadata": {},
   "outputs": [
    {
     "name": "stdout",
     "output_type": "stream",
     "text": [
      "\n"
     ]
    }
   ],
   "source": [
    "s = Solution()\n",
    "\n",
    "result = s.longestNiceSubstring(s = \"c\")\n",
    "print (result)"
   ]
  },
  {
   "cell_type": "markdown",
   "id": "67988a96",
   "metadata": {},
   "source": [
    "## 2. Array"
   ]
  },
  {
   "cell_type": "markdown",
   "id": "76fe3267",
   "metadata": {},
   "source": [
    "### 1920. Build Array from Permutation"
   ]
  },
  {
   "cell_type": "code",
   "execution_count": 16,
   "id": "aa38913a",
   "metadata": {},
   "outputs": [],
   "source": [
    "from typing import List\n",
    "class Solution:\n",
    "    def buildArray(self, nums: List[int]) -> List[int]:\n",
    "        ans = [] \n",
    "        for i in range(len(nums)):\n",
    "            ans.append(nums[nums[i]])\n",
    "\n",
    "        return ans "
   ]
  },
  {
   "cell_type": "code",
   "execution_count": 17,
   "id": "95a74302",
   "metadata": {},
   "outputs": [
    {
     "name": "stdout",
     "output_type": "stream",
     "text": [
      "[0, 1, 2, 4, 5, 3]\n"
     ]
    }
   ],
   "source": [
    "s = Solution()\n",
    "\n",
    "result = s.buildArray([0,2,1,5,3,4])\n",
    "print (result) "
   ]
  },
  {
   "cell_type": "code",
   "execution_count": 18,
   "id": "2c58b37c",
   "metadata": {
    "scrolled": true
   },
   "outputs": [
    {
     "name": "stdout",
     "output_type": "stream",
     "text": [
      "[4, 5, 0, 1, 2, 3]\n"
     ]
    }
   ],
   "source": [
    "s = Solution()\n",
    "\n",
    "result = s.buildArray([5,0,1,2,3,4])\n",
    "print (result) "
   ]
  },
  {
   "cell_type": "markdown",
   "id": "64615a74",
   "metadata": {},
   "source": [
    "### 1929. Concatenation of Array"
   ]
  },
  {
   "cell_type": "code",
   "execution_count": 21,
   "id": "db06eb5a",
   "metadata": {},
   "outputs": [],
   "source": [
    "class Solution:\n",
    "    def getConcatenation(self, nums: List[int]) -> List[int]:\n",
    "        return nums + nums\n"
   ]
  },
  {
   "cell_type": "code",
   "execution_count": 22,
   "id": "307bd42c",
   "metadata": {},
   "outputs": [
    {
     "name": "stdout",
     "output_type": "stream",
     "text": [
      "[1, 2, 1, 1, 2, 1]\n"
     ]
    }
   ],
   "source": [
    "s = Solution()\n",
    "\n",
    "result = s.getConcatenation([1,2,1])\n",
    "print (result) "
   ]
  },
  {
   "cell_type": "code",
   "execution_count": 23,
   "id": "1628710f",
   "metadata": {},
   "outputs": [
    {
     "name": "stdout",
     "output_type": "stream",
     "text": [
      "[1, 3, 2, 1, 1, 3, 2, 1]\n"
     ]
    }
   ],
   "source": [
    "s = Solution()\n",
    "\n",
    "result = s.getConcatenation([1,3,2,1])\n",
    "print (result) "
   ]
  },
  {
   "cell_type": "code",
   "execution_count": null,
   "id": "fa169d6d",
   "metadata": {},
   "outputs": [],
   "source": [
    "s = Solution()\n",
    "\n",
    "result = s.\n",
    "print (result) "
   ]
  },
  {
   "cell_type": "markdown",
   "id": "c7b0d095",
   "metadata": {},
   "source": [
    "### 1470. Shuffle the Array\n"
   ]
  },
  {
   "cell_type": "code",
   "execution_count": 27,
   "id": "61d82433",
   "metadata": {},
   "outputs": [],
   "source": [
    "class Solution:\n",
    "    def shuffle(self, nums: List[int], n: int) -> List[int]:\n",
    "\n",
    "        ans = []\n",
    "        for i in range(2*n):\n",
    "            if i % 2 == 0:\n",
    "                ans.append(nums[int(i/2)])\n",
    "            else:\n",
    "                ans.append(nums[int(n+(i-1)/2)])\n",
    "        return ans"
   ]
  },
  {
   "cell_type": "code",
   "execution_count": 28,
   "id": "b7728dcd",
   "metadata": {},
   "outputs": [
    {
     "name": "stdout",
     "output_type": "stream",
     "text": [
      "[1, 4, 2, 3, 3, 2, 4, 1]\n"
     ]
    }
   ],
   "source": [
    "s = Solution()\n",
    "\n",
    "result = s.shuffle([1,2,3,4,4,3,2,1], n = 4)\n",
    "print (result) "
   ]
  },
  {
   "cell_type": "markdown",
   "id": "09b401eb",
   "metadata": {},
   "source": [
    "### 1512. Number of Good Pairs"
   ]
  },
  {
   "cell_type": "code",
   "execution_count": 33,
   "id": "2b52110d",
   "metadata": {},
   "outputs": [],
   "source": [
    "class Solution:\n",
    "    def numIdenticalPairs(self, nums: List[int]) -> int:\n",
    "\n",
    "        total_num = 0 \n",
    "\n",
    "        for i in range(len(nums)):\n",
    "            for j in range(i+1, len(nums)):\n",
    "\n",
    "                if nums[i] == nums[j]:\n",
    "                    total_num +=1 \n",
    "\n",
    "        return total_num "
   ]
  },
  {
   "cell_type": "code",
   "execution_count": 34,
   "id": "99237ceb",
   "metadata": {},
   "outputs": [
    {
     "name": "stdout",
     "output_type": "stream",
     "text": [
      "0\n"
     ]
    }
   ],
   "source": [
    "s = Solution()\n",
    "\n",
    "result = s.numIdenticalPairs([1,2,3])\n",
    "print (result) "
   ]
  },
  {
   "cell_type": "code",
   "execution_count": 35,
   "id": "9edd4db5",
   "metadata": {},
   "outputs": [
    {
     "name": "stdout",
     "output_type": "stream",
     "text": [
      "6\n"
     ]
    }
   ],
   "source": [
    "s = Solution()\n",
    "\n",
    "result = s.numIdenticalPairs([1,1,1,1])\n",
    "print (result) "
   ]
  },
  {
   "cell_type": "code",
   "execution_count": 36,
   "id": "80efb8a8",
   "metadata": {},
   "outputs": [
    {
     "name": "stdout",
     "output_type": "stream",
     "text": [
      "4\n"
     ]
    }
   ],
   "source": [
    "s = Solution()\n",
    "\n",
    "result = s.numIdenticalPairs([1,2,3,1,1,3])\n",
    "print (result) "
   ]
  },
  {
   "cell_type": "markdown",
   "id": "67e735ad",
   "metadata": {},
   "source": [
    "### 2574. Left and Right Sum Differences\n"
   ]
  },
  {
   "cell_type": "code",
   "execution_count": 50,
   "id": "7faec203",
   "metadata": {},
   "outputs": [],
   "source": [
    "class Solution:\n",
    "    def leftRigthDifference(self, nums: List[int]) -> List[int]:\n",
    "\n",
    "        ans = []\n",
    "\n",
    "        for i in range(len(nums)):\n",
    "            left = sum(nums[:i])\n",
    "            right = sum(nums[i+1:]) \n",
    "            if i == 0:\n",
    "                left = 0\n",
    "            elif i == len(nums):\n",
    "                right = 0\n",
    "            a = abs(left - right)\n",
    "            ans.append(a)\n",
    "        return ans "
   ]
  },
  {
   "cell_type": "code",
   "execution_count": 51,
   "id": "561333e3",
   "metadata": {},
   "outputs": [
    {
     "name": "stdout",
     "output_type": "stream",
     "text": [
      "[0]\n"
     ]
    }
   ],
   "source": [
    "s = Solution()\n",
    "\n",
    "result = s.leftRigthDifference([1])\n",
    "print (result) "
   ]
  },
  {
   "cell_type": "code",
   "execution_count": 52,
   "id": "9a8c226a",
   "metadata": {},
   "outputs": [
    {
     "name": "stdout",
     "output_type": "stream",
     "text": [
      "[15, 1, 11, 22]\n"
     ]
    }
   ],
   "source": [
    "s = Solution()\n",
    "\n",
    "result = s.leftRigthDifference([10,4,8,3])\n",
    "print (result) "
   ]
  },
  {
   "cell_type": "markdown",
   "id": "633eb959",
   "metadata": {},
   "source": [
    "### 2656. Maximum Sum With Exactly K Elements"
   ]
  },
  {
   "cell_type": "code",
   "execution_count": 1460,
   "id": "4b08a5f9",
   "metadata": {},
   "outputs": [],
   "source": [
    "class Solution:\n",
    "    def maximizeSum(self, nums: List[int], k: int) -> int:\n",
    "        \n",
    "        sorted_nums = sorted(nums)\n",
    "        score = 0\n",
    "        \n",
    "        while k > 0:\n",
    "            m = sorted_nums[-1]\n",
    "            sorted_nums.remove(m)\n",
    "            sorted_nums.append(m+1)\n",
    "            score += m\n",
    "            k -=1 \n",
    "            \n",
    "        return score \n",
    "            \n",
    "            "
   ]
  },
  {
   "cell_type": "code",
   "execution_count": 1461,
   "id": "28a09f07",
   "metadata": {},
   "outputs": [
    {
     "name": "stdout",
     "output_type": "stream",
     "text": [
      "18\n"
     ]
    }
   ],
   "source": [
    "s = Solution()\n",
    "\n",
    "result = s.maximizeSum(nums = [1,2,3,4,5], k = 3)\n",
    "print (result) "
   ]
  },
  {
   "cell_type": "code",
   "execution_count": 1462,
   "id": "b4fda413",
   "metadata": {},
   "outputs": [
    {
     "name": "stdout",
     "output_type": "stream",
     "text": [
      "11\n"
     ]
    }
   ],
   "source": [
    "s = Solution()\n",
    "\n",
    "result = s.maximizeSum(nums = [5,5,5], k = 2)\n",
    "print (result) "
   ]
  },
  {
   "cell_type": "markdown",
   "id": "287a6009",
   "metadata": {},
   "source": [
    "### 2652. Sum Multiples"
   ]
  },
  {
   "cell_type": "code",
   "execution_count": 1463,
   "id": "36b94ad8",
   "metadata": {},
   "outputs": [],
   "source": [
    "class Solution:\n",
    "    def sumOfMultiples(self, n: int) -> int:\n",
    "        \n",
    "        res = [] \n",
    "        for i in range(n+1):\n",
    "            if i%3 == 0 or i%5 == 0 or i%7==0:\n",
    "                res.append(i)\n",
    "                \n",
    "        return sum(res)"
   ]
  },
  {
   "cell_type": "code",
   "execution_count": 1464,
   "id": "a5684e18",
   "metadata": {},
   "outputs": [
    {
     "name": "stdout",
     "output_type": "stream",
     "text": [
      "21\n"
     ]
    }
   ],
   "source": [
    "s = Solution()\n",
    "\n",
    "result = s.sumOfMultiples(n = 7)\n",
    "print (result) "
   ]
  },
  {
   "cell_type": "markdown",
   "id": "170fb218",
   "metadata": {},
   "source": [
    "### 1913. Maximum Product Difference Between Two Pairs\n"
   ]
  },
  {
   "cell_type": "code",
   "execution_count": 1465,
   "id": "8db9de74",
   "metadata": {},
   "outputs": [],
   "source": [
    "class Solution:\n",
    "    def maxProductDifference(self, nums: List[int]) -> int:\n",
    "        \n",
    "        sorted_nums = sorted(nums)\n",
    "        \n",
    "        w = sorted_nums[-1]\n",
    "        x = sorted_nums[-2]\n",
    "        \n",
    "        y = sorted_nums[0]\n",
    "        z = sorted_nums[1]\n",
    "        \n",
    "        return (w * x) - (y * z)"
   ]
  },
  {
   "cell_type": "code",
   "execution_count": 1466,
   "id": "f094ffa2",
   "metadata": {},
   "outputs": [
    {
     "name": "stdout",
     "output_type": "stream",
     "text": [
      "34\n"
     ]
    }
   ],
   "source": [
    "s = Solution()\n",
    "\n",
    "result = s.maxProductDifference(nums = [5,6,2,7,4])\n",
    "print (result) "
   ]
  },
  {
   "cell_type": "markdown",
   "id": "e0c8aa13",
   "metadata": {},
   "source": [
    "### 561. Array Partition \n"
   ]
  },
  {
   "cell_type": "code",
   "execution_count": 1548,
   "id": "f8d5577c",
   "metadata": {},
   "outputs": [],
   "source": [
    "class Solution:\n",
    "    def arrayPairSum(self, nums: List[int]) -> int:\n",
    "        \n",
    "        sorted_nums = sorted(nums)\n",
    "        min_val = []\n",
    "        n = len(sorted_nums)//2\n",
    "        for i in range(n):\n",
    "            min_val.append(sorted_nums[2*i])\n",
    "        \n",
    "        return sum(min_val)"
   ]
  },
  {
   "cell_type": "code",
   "execution_count": 1549,
   "id": "f55dbf56",
   "metadata": {},
   "outputs": [
    {
     "name": "stdout",
     "output_type": "stream",
     "text": [
      "4\n"
     ]
    }
   ],
   "source": [
    "s = Solution()\n",
    "\n",
    "result = s.arrayPairSum(nums = [1,4,3,2])\n",
    "print (result) "
   ]
  },
  {
   "cell_type": "code",
   "execution_count": 1550,
   "id": "f4036d54",
   "metadata": {},
   "outputs": [
    {
     "name": "stdout",
     "output_type": "stream",
     "text": [
      "9\n"
     ]
    }
   ],
   "source": [
    "s = Solution()\n",
    "\n",
    "result = s.arrayPairSum(nums = [6,2,6,5,1,2])\n",
    "print (result) "
   ]
  },
  {
   "cell_type": "markdown",
   "id": "32e72776",
   "metadata": {},
   "source": [
    "### 1304. Find N Unique Integers Sum up to Zero"
   ]
  },
  {
   "cell_type": "code",
   "execution_count": 1565,
   "id": "fb875ec6",
   "metadata": {},
   "outputs": [],
   "source": [
    "class Solution:\n",
    "    def sumZero(self, n: int) -> List[int]:\n",
    "        \n",
    "        \n",
    "        res = []\n",
    "        \n",
    "        for i in range(1, n):\n",
    "            res.append(i)\n",
    "        \n",
    "        \n",
    "        res.append(sum(res)*-1)\n",
    "            \n",
    "        return res"
   ]
  },
  {
   "cell_type": "code",
   "execution_count": 1566,
   "id": "139b4065",
   "metadata": {},
   "outputs": [
    {
     "name": "stdout",
     "output_type": "stream",
     "text": [
      "[1, 2, 3, 4, -10]\n"
     ]
    }
   ],
   "source": [
    "s = Solution()\n",
    "\n",
    "result = s.sumZero(n = 5)\n",
    "print (result) "
   ]
  },
  {
   "cell_type": "code",
   "execution_count": 1567,
   "id": "81e8ec26",
   "metadata": {},
   "outputs": [
    {
     "name": "stdout",
     "output_type": "stream",
     "text": [
      "[1, 2, -3]\n"
     ]
    }
   ],
   "source": [
    "s = Solution()\n",
    "\n",
    "result = s.sumZero(n = 3)\n",
    "print (result) "
   ]
  },
  {
   "cell_type": "code",
   "execution_count": 1568,
   "id": "ee456ccb",
   "metadata": {},
   "outputs": [
    {
     "name": "stdout",
     "output_type": "stream",
     "text": [
      "[0]\n"
     ]
    }
   ],
   "source": [
    "s = Solution()\n",
    "\n",
    "result = s.sumZero(n = 1)\n",
    "print (result) "
   ]
  },
  {
   "cell_type": "code",
   "execution_count": 1569,
   "id": "b5ec046a",
   "metadata": {
    "scrolled": true
   },
   "outputs": [
    {
     "name": "stdout",
     "output_type": "stream",
     "text": [
      "[1, -1]\n"
     ]
    }
   ],
   "source": [
    "s = Solution()\n",
    "\n",
    "result = s.sumZero(n = 2)\n",
    "print (result) "
   ]
  },
  {
   "cell_type": "markdown",
   "id": "0acfd9b3",
   "metadata": {},
   "source": [
    "### 1863. Sum of All Subset XOR Totals"
   ]
  },
  {
   "cell_type": "code",
   "execution_count": null,
   "id": "f3f88cb7",
   "metadata": {},
   "outputs": [],
   "source": [
    "class Solution:\n",
    "    def subsetXORSum(self, nums: List[int]) -> int:\n",
    "        \n",
    "        if not nums:\n",
    "            return 0\n",
    "        \n",
    "        "
   ]
  },
  {
   "cell_type": "code",
   "execution_count": null,
   "id": "fd549727",
   "metadata": {},
   "outputs": [],
   "source": [
    "s = Solution()\n",
    "\n",
    "result = s.\n",
    "print (result) "
   ]
  },
  {
   "cell_type": "markdown",
   "id": "292f0c52",
   "metadata": {},
   "source": [
    "### 1464. Maximum Product of Two Elements in an Array"
   ]
  },
  {
   "cell_type": "code",
   "execution_count": 1576,
   "id": "af04e3a9",
   "metadata": {},
   "outputs": [],
   "source": [
    "class Solution:\n",
    "    def maxProduct(self, nums: List[int]) -> int:\n",
    "        \n",
    "        res = [] \n",
    "        for i in range(len(nums)):\n",
    "            for j in range(i+1, len(nums)):\n",
    "                res.append(((nums[i] - 1) * (nums[j]-1) ))\n",
    "                #print (i, j)\n",
    "                \n",
    "        return max(res)"
   ]
  },
  {
   "cell_type": "code",
   "execution_count": 1577,
   "id": "17a60156",
   "metadata": {},
   "outputs": [
    {
     "name": "stdout",
     "output_type": "stream",
     "text": [
      "12\n"
     ]
    }
   ],
   "source": [
    "s = Solution()\n",
    "\n",
    "result = s.maxProduct(nums = [3,4,5,2])\n",
    "print (result) "
   ]
  },
  {
   "cell_type": "code",
   "execution_count": 1578,
   "id": "a37bb9c1",
   "metadata": {},
   "outputs": [
    {
     "name": "stdout",
     "output_type": "stream",
     "text": [
      "16\n"
     ]
    }
   ],
   "source": [
    "s = Solution()\n",
    "\n",
    "result = s.maxProduct(nums = [1,5,4,5])\n",
    "print (result) "
   ]
  },
  {
   "cell_type": "code",
   "execution_count": 1579,
   "id": "39f9983c",
   "metadata": {},
   "outputs": [
    {
     "name": "stdout",
     "output_type": "stream",
     "text": [
      "12\n"
     ]
    }
   ],
   "source": [
    "s = Solution()\n",
    "\n",
    "result = s.maxProduct(nums = [3,7])\n",
    "print (result) "
   ]
  },
  {
   "cell_type": "markdown",
   "id": "efcc5687",
   "metadata": {},
   "source": [
    "### 2500. Delete Greatest Value in Each Row\n"
   ]
  },
  {
   "cell_type": "code",
   "execution_count": 1624,
   "id": "77a8928d",
   "metadata": {},
   "outputs": [],
   "source": [
    "class Solution:\n",
    "    def deleteGreatestValue(self, grid: List[List[int]]) -> int:\n",
    "        \n",
    "        row = len(grid)\n",
    "        col = len(grid[0])\n",
    "        \n",
    "        res = [] \n",
    "        \n",
    "        while len(grid[0]) > 0:\n",
    "            temp = [] \n",
    "            for i in range(len(grid)):\n",
    "                \n",
    "                \n",
    "                temp.append(max(grid[i]))\n",
    "#             print (max(temp))    \n",
    "            res.append(max(temp))    \n",
    "            \n",
    "            for i in range(len(grid)):\n",
    "#                 print (grid[i])\n",
    "#                 print (temp[i])\n",
    "                grid[i].remove(temp[i])\n",
    "#             print (grid)\n",
    "        return sum(res)\n",
    "                \n",
    "            "
   ]
  },
  {
   "cell_type": "code",
   "execution_count": 1625,
   "id": "7cd7edde",
   "metadata": {},
   "outputs": [
    {
     "name": "stdout",
     "output_type": "stream",
     "text": [
      "8\n"
     ]
    }
   ],
   "source": [
    "s = Solution()\n",
    "\n",
    "result = s.deleteGreatestValue(grid = [[1,2,4],[3,3,1]])\n",
    "print (result) "
   ]
  },
  {
   "cell_type": "code",
   "execution_count": 1626,
   "id": "ba14aa45",
   "metadata": {},
   "outputs": [
    {
     "name": "stdout",
     "output_type": "stream",
     "text": [
      "10\n"
     ]
    }
   ],
   "source": [
    "s = Solution()\n",
    "\n",
    "result = s.deleteGreatestValue(grid = [[10]])\n",
    "print (result)  "
   ]
  },
  {
   "cell_type": "markdown",
   "id": "68adc9d8",
   "metadata": {},
   "source": [
    "### 2176. Count Equal and Divisible Pairs in an Array\n"
   ]
  },
  {
   "cell_type": "code",
   "execution_count": 1633,
   "id": "1e8a783d",
   "metadata": {},
   "outputs": [],
   "source": [
    "class Solution:\n",
    "    def countPairs(self, nums: List[int], k: int) -> int:\n",
    "        \n",
    "        c = 0 \n",
    "        for i in range(len(nums)):\n",
    "            for j in range(i+1, len(nums)):\n",
    "                \n",
    "                if nums[i] == nums[j] and (i*j)%k == 0:\n",
    "                    c += 1\n",
    "                    \n",
    "        return c"
   ]
  },
  {
   "cell_type": "code",
   "execution_count": 1634,
   "id": "32e03449",
   "metadata": {},
   "outputs": [
    {
     "name": "stdout",
     "output_type": "stream",
     "text": [
      "4\n"
     ]
    }
   ],
   "source": [
    "s = Solution()\n",
    "\n",
    "result = s.countPairs(nums = [3,1,2,2,2,1,3], k = 2)\n",
    "print (result) "
   ]
  },
  {
   "cell_type": "code",
   "execution_count": 1635,
   "id": "e8e79647",
   "metadata": {},
   "outputs": [
    {
     "name": "stdout",
     "output_type": "stream",
     "text": [
      "0\n"
     ]
    }
   ],
   "source": [
    "s = Solution()\n",
    "\n",
    "result = s.countPairs(nums = [1,2,3,4], k = 1)\n",
    "print (result)  "
   ]
  },
  {
   "cell_type": "markdown",
   "id": "0b79f256",
   "metadata": {},
   "source": [
    "### 2553. Separate the Digits in an Array\n"
   ]
  },
  {
   "cell_type": "code",
   "execution_count": 1638,
   "id": "85922fea",
   "metadata": {},
   "outputs": [],
   "source": [
    "class Solution:\n",
    "    def separateDigits(self, nums: List[int]) -> List[int]:\n",
    "        res = [] \n",
    "        \n",
    "        for n in nums:\n",
    "            a = list(str(n))\n",
    "            for j in a:\n",
    "                \n",
    "                res.append(int(j))\n",
    "            \n",
    "        return res"
   ]
  },
  {
   "cell_type": "code",
   "execution_count": 1639,
   "id": "035d4c71",
   "metadata": {},
   "outputs": [
    {
     "name": "stdout",
     "output_type": "stream",
     "text": [
      "[1, 3, 2, 5, 8, 3, 7, 7]\n"
     ]
    }
   ],
   "source": [
    "s = Solution()\n",
    "\n",
    "result = s.separateDigits(nums = [13,25,83,77])\n",
    "print (result)  "
   ]
  },
  {
   "cell_type": "code",
   "execution_count": 1640,
   "id": "7574ae0b",
   "metadata": {},
   "outputs": [
    {
     "name": "stdout",
     "output_type": "stream",
     "text": [
      "[7, 1, 3, 9]\n"
     ]
    }
   ],
   "source": [
    "s = Solution()\n",
    "\n",
    "result = s.separateDigits(nums = [7,1,3,9])\n",
    "print (result)   "
   ]
  },
  {
   "cell_type": "markdown",
   "id": "6facf139",
   "metadata": {},
   "source": [
    "### 2535. Difference Between Element Sum and Digit Sum of an Array\n"
   ]
  },
  {
   "cell_type": "code",
   "execution_count": 1975,
   "id": "73f6066a",
   "metadata": {},
   "outputs": [],
   "source": [
    "class Solution:\n",
    "    def differenceOfSum(self, nums: List[int]) -> int:\n",
    "        \n",
    "        e_s = sum(nums)\n",
    "        \n",
    "        d = []\n",
    "        \n",
    "        for i in nums:\n",
    "            s = str(i)\n",
    "            s = list(s)\n",
    "            a = []\n",
    "            for j in s:\n",
    "                a.append(int(j))\n",
    "            b = sum(a)\n",
    "            d.append(b)\n",
    "            \n",
    "        d_s = sum(d)\n",
    "        \n",
    "        return abs(e_s - d_s)"
   ]
  },
  {
   "cell_type": "code",
   "execution_count": 1976,
   "id": "8cfe91d9",
   "metadata": {},
   "outputs": [
    {
     "name": "stdout",
     "output_type": "stream",
     "text": [
      "9\n"
     ]
    }
   ],
   "source": [
    "s = Solution()\n",
    "\n",
    "result = s.differenceOfSum(nums = [1,15,6,3])\n",
    "print (result) "
   ]
  },
  {
   "cell_type": "code",
   "execution_count": 1977,
   "id": "9102c578",
   "metadata": {},
   "outputs": [
    {
     "name": "stdout",
     "output_type": "stream",
     "text": [
      "0\n"
     ]
    }
   ],
   "source": [
    "s = Solution()\n",
    "\n",
    "result = s.differenceOfSum(nums = [1,2,3,4])\n",
    "print (result) "
   ]
  },
  {
   "cell_type": "markdown",
   "id": "759147a1",
   "metadata": {},
   "source": [
    "### 1588. Sum of All Odd Length Subarrays\n"
   ]
  },
  {
   "cell_type": "code",
   "execution_count": 1997,
   "id": "37921d9a",
   "metadata": {},
   "outputs": [],
   "source": [
    "class Solution:\n",
    "    def sumOddLengthSubarrays(self, arr: List[int]) -> int:\n",
    "        \n",
    "        res = []\n",
    "        \n",
    "        for i in range(0, len(arr)):\n",
    "            for j in range (i, len(arr)+1):\n",
    "                #print (i, j)\n",
    "                if len(arr[i:j])%2 != 0:\n",
    "                    res.append(arr[i: j])\n",
    "        t = 0\n",
    "        for i in res:\n",
    "            t += sum(i)\n",
    "        return t"
   ]
  },
  {
   "cell_type": "code",
   "execution_count": 1998,
   "id": "74fd219e",
   "metadata": {},
   "outputs": [
    {
     "name": "stdout",
     "output_type": "stream",
     "text": [
      "58\n"
     ]
    }
   ],
   "source": [
    "s = Solution()\n",
    "\n",
    "result = s.sumOddLengthSubarrays(arr = [1,4,2,5,3])\n",
    "print (result) "
   ]
  },
  {
   "cell_type": "code",
   "execution_count": 1999,
   "id": "20af3a07",
   "metadata": {},
   "outputs": [
    {
     "name": "stdout",
     "output_type": "stream",
     "text": [
      "3\n"
     ]
    }
   ],
   "source": [
    "s = Solution()\n",
    "\n",
    "result = s.sumOddLengthSubarrays(arr = [1,2])\n",
    "print (result) "
   ]
  },
  {
   "cell_type": "code",
   "execution_count": 2000,
   "id": "c270cd33",
   "metadata": {},
   "outputs": [
    {
     "name": "stdout",
     "output_type": "stream",
     "text": [
      "66\n"
     ]
    }
   ],
   "source": [
    "s = Solution()\n",
    "\n",
    "result = s.sumOddLengthSubarrays( arr = [10,11,12])\n",
    "print (result) "
   ]
  },
  {
   "cell_type": "markdown",
   "id": "4eb76ee2",
   "metadata": {},
   "source": [
    "### 1. Two Sum\n"
   ]
  },
  {
   "cell_type": "code",
   "execution_count": 12,
   "id": "f510142a",
   "metadata": {},
   "outputs": [],
   "source": [
    "from typing import List \n",
    "class Solution:\n",
    "    def twoSum(self, nums: List[int], target: int) -> List[int]:\n",
    "        \n",
    "        l = []  \n",
    "        for i in range(len(nums)):\n",
    "            for j in range (i+1, len(nums)):\n",
    "                if nums[i] + nums[j] == target:\n",
    "                    l.append(i)\n",
    "                    l.append(j)\n",
    "                    \n",
    "        return l\n",
    "            \n",
    "            "
   ]
  },
  {
   "cell_type": "code",
   "execution_count": 13,
   "id": "bb8e9585",
   "metadata": {},
   "outputs": [
    {
     "name": "stdout",
     "output_type": "stream",
     "text": [
      "[0, 1]\n"
     ]
    }
   ],
   "source": [
    "s = Solution()\n",
    "\n",
    "result = s.twoSum(nums = [2,7,11,15], target = 9 )\n",
    "print (result) "
   ]
  },
  {
   "cell_type": "code",
   "execution_count": 14,
   "id": "49e54c89",
   "metadata": {},
   "outputs": [
    {
     "name": "stdout",
     "output_type": "stream",
     "text": [
      "[1, 2]\n"
     ]
    }
   ],
   "source": [
    "s = Solution()\n",
    "\n",
    "result = s.twoSum(nums = [3,2,4], target = 6 )\n",
    "print (result)  "
   ]
  },
  {
   "cell_type": "code",
   "execution_count": 15,
   "id": "76651573",
   "metadata": {},
   "outputs": [
    {
     "name": "stdout",
     "output_type": "stream",
     "text": [
      "[0, 1]\n"
     ]
    }
   ],
   "source": [
    "s = Solution()\n",
    "\n",
    "result = s.twoSum(nums = [3,3], target = 6 )\n",
    "print (result)   "
   ]
  },
  {
   "cell_type": "markdown",
   "id": "67121d2f",
   "metadata": {},
   "source": [
    "### 2303. Calculate Amount Paid in Taxes\n"
   ]
  },
  {
   "cell_type": "code",
   "execution_count": 703,
   "id": "89816d59",
   "metadata": {
    "code_folding": []
   },
   "outputs": [],
   "source": [
    "class Solution:\n",
    "    def calculateTax(self, brackets: List[List[int]], income: int) -> float:\n",
    "        c = len(brackets[0])\n",
    "        r = len(brackets)\n",
    "        \n",
    "        u = []\n",
    "        t = 0\n",
    "        inc_m = 0\n",
    "        for i in range (r):\n",
    "            if i == 0:\n",
    "#                 u.append(brackets[i][0])\n",
    "                inc = brackets[i][0]\n",
    "            else:\n",
    "#                 u.append(brackets[i][0] - brackets[i-1][0])\n",
    "                inc = brackets[i][0] - brackets[i-1][0]\n",
    "            \n",
    "            inc_m += inc\n",
    "#             print (inc, inc_m)\n",
    "            if inc_m < income:\n",
    "                \n",
    "                t += inc * brackets[i][1]/100\n",
    "            else:\n",
    "                t += (income - (inc_m - inc)) * brackets[i][1]/100\n",
    "                break \n",
    "        \n",
    "        return t"
   ]
  },
  {
   "cell_type": "code",
   "execution_count": 704,
   "id": "4eaea4ab",
   "metadata": {},
   "outputs": [
    {
     "name": "stdout",
     "output_type": "stream",
     "text": [
      "2.65\n"
     ]
    }
   ],
   "source": [
    "s = Solution()\n",
    "\n",
    "result = s.calculateTax( brackets = [[3,50],[7,10],[12,25]], income = 10)\n",
    "print (result)   "
   ]
  },
  {
   "cell_type": "code",
   "execution_count": 705,
   "id": "86ce01a1",
   "metadata": {},
   "outputs": [
    {
     "name": "stdout",
     "output_type": "stream",
     "text": [
      "0.25\n"
     ]
    }
   ],
   "source": [
    "s = Solution()\n",
    "\n",
    "result = s.calculateTax( brackets = [[1,0],[4,25],[5,50]], income = 2)\n",
    "print (result)   "
   ]
  },
  {
   "cell_type": "code",
   "execution_count": 706,
   "id": "9fffae4d",
   "metadata": {},
   "outputs": [
    {
     "name": "stdout",
     "output_type": "stream",
     "text": [
      "0.0\n"
     ]
    }
   ],
   "source": [
    "s = Solution()\n",
    "\n",
    "result = s.calculateTax( brackets = [[2,50]], income = 0)\n",
    "print (result)   "
   ]
  },
  {
   "cell_type": "markdown",
   "id": "8a816c34",
   "metadata": {},
   "source": [
    "### 2078. Two Furthest Houses With Different Colors\n"
   ]
  },
  {
   "cell_type": "code",
   "execution_count": 710,
   "id": "87340167",
   "metadata": {},
   "outputs": [],
   "source": [
    "class Solution:\n",
    "    def maxDistance(self, colors: List[int]) -> int:\n",
    "        \n",
    "        dis = [] \n",
    "        for i in range(len(colors)):\n",
    "            for j in range(i+1, len(colors)):\n",
    "                if colors[i] != colors[j]:\n",
    "                    dis.append(j - i)\n",
    "        return max(dis)"
   ]
  },
  {
   "cell_type": "code",
   "execution_count": 711,
   "id": "49473206",
   "metadata": {},
   "outputs": [
    {
     "name": "stdout",
     "output_type": "stream",
     "text": [
      "3\n"
     ]
    }
   ],
   "source": [
    "s = Solution()\n",
    "\n",
    "result = s.maxDistance(colors = [1,1,1,6,1,1,1] )\n",
    "print (result)   "
   ]
  },
  {
   "cell_type": "code",
   "execution_count": 712,
   "id": "ed30f910",
   "metadata": {},
   "outputs": [
    {
     "name": "stdout",
     "output_type": "stream",
     "text": [
      "4\n"
     ]
    }
   ],
   "source": [
    "s = Solution()\n",
    "\n",
    "result = s.maxDistance(colors = [1,8,3,8,3])\n",
    "print (result)   "
   ]
  },
  {
   "cell_type": "code",
   "execution_count": 713,
   "id": "a684df02",
   "metadata": {},
   "outputs": [
    {
     "name": "stdout",
     "output_type": "stream",
     "text": [
      "1\n"
     ]
    }
   ],
   "source": [
    "s = Solution()\n",
    "\n",
    "result = s.maxDistance(colors = [0,1] )\n",
    "print (result)   "
   ]
  },
  {
   "cell_type": "markdown",
   "id": "ba0cfabc",
   "metadata": {},
   "source": [
    "### 575. Distribute Candies\n"
   ]
  },
  {
   "cell_type": "code",
   "execution_count": 724,
   "id": "1aa95b44",
   "metadata": {},
   "outputs": [],
   "source": [
    "class Solution:\n",
    "    def distributeCandies(self, candyType: List[int]) -> int:\n",
    "        \n",
    "        \n",
    "        ca_t = len(set(candyType))\n",
    "        n = len(candyType)/2\n",
    "        \n",
    "        if n > ca_t:\n",
    "            return ca_t\n",
    "        else:\n",
    "            return n"
   ]
  },
  {
   "cell_type": "code",
   "execution_count": 725,
   "id": "416bb3b8",
   "metadata": {},
   "outputs": [
    {
     "name": "stdout",
     "output_type": "stream",
     "text": [
      "3.0\n"
     ]
    }
   ],
   "source": [
    "s = Solution()\n",
    "\n",
    "result = s.distributeCandies(candyType = [1,1,2,2,3,3] )\n",
    "print (result)   "
   ]
  },
  {
   "cell_type": "code",
   "execution_count": 726,
   "id": "608fa95d",
   "metadata": {},
   "outputs": [
    {
     "name": "stdout",
     "output_type": "stream",
     "text": [
      "2.0\n"
     ]
    }
   ],
   "source": [
    "s = Solution()\n",
    "\n",
    "result = s.distributeCandies(candyType = [1,1,2,3] )\n",
    "print (result)   "
   ]
  },
  {
   "cell_type": "code",
   "execution_count": 727,
   "id": "ce08e57f",
   "metadata": {},
   "outputs": [
    {
     "name": "stdout",
     "output_type": "stream",
     "text": [
      "1\n"
     ]
    }
   ],
   "source": [
    "s = Solution()\n",
    "\n",
    "result = s.distributeCandies(candyType = [6,6,6,6] )\n",
    "print (result)   "
   ]
  },
  {
   "cell_type": "code",
   "execution_count": null,
   "id": "233be8c0",
   "metadata": {},
   "outputs": [],
   "source": []
  },
  {
   "cell_type": "markdown",
   "id": "ecc4276b",
   "metadata": {},
   "source": [
    "## 3. Matrix"
   ]
  },
  {
   "cell_type": "markdown",
   "id": "d0e92afe",
   "metadata": {},
   "source": [
    "### 1672. Richest Customer Wealth\n"
   ]
  },
  {
   "cell_type": "code",
   "execution_count": 43,
   "id": "a9ebdc19",
   "metadata": {},
   "outputs": [],
   "source": [
    "from typing import List\n",
    "class Solution:\n",
    "    def maximumWealth(self, accounts: List[List[int]]) -> int:\n",
    "\n",
    "        wealth = [] \n",
    "\n",
    "        for i in range(len(accounts)):\n",
    "            w = sum(accounts[i])\n",
    "            wealth.append(w)\n",
    "\n",
    "        return max(wealth)"
   ]
  },
  {
   "cell_type": "code",
   "execution_count": 44,
   "id": "d1c797b3",
   "metadata": {},
   "outputs": [
    {
     "name": "stdout",
     "output_type": "stream",
     "text": [
      "6\n"
     ]
    }
   ],
   "source": [
    "s = Solution()\n",
    "\n",
    "result = s.maximumWealth([[1,2,3],[3,2,1]])\n",
    "print (result) "
   ]
  },
  {
   "cell_type": "code",
   "execution_count": 45,
   "id": "6a6775c1",
   "metadata": {},
   "outputs": [
    {
     "name": "stdout",
     "output_type": "stream",
     "text": [
      "10\n"
     ]
    }
   ],
   "source": [
    "s = Solution()\n",
    "\n",
    "result = s.maximumWealth([[1,5],[7,3],[3,5]])\n",
    "print (result) "
   ]
  },
  {
   "cell_type": "markdown",
   "id": "c7bc944a",
   "metadata": {},
   "source": [
    "### 2373. Largest Local Values in a Matrix\n"
   ]
  },
  {
   "cell_type": "code",
   "execution_count": 53,
   "id": "e6ec009a",
   "metadata": {},
   "outputs": [],
   "source": [
    "class Solution:\n",
    "    def largestLocal(self, grid: List[List[int]]) -> List[List[int]]:\n",
    "\n",
    "        maxLocal =  [[0 for _ in range(len(grid)-2)] for _ in range(len(grid)-2)]\n",
    "\n",
    "        for i in range (len(grid) - 2):\n",
    "            for j in range (len(grid) - 2):\n",
    "                m = max(grid[i][j:3+j] + grid[i+1][j:3+j] + grid[i+2][j:3+j])\n",
    "                maxLocal[i][j] = m\n",
    "\n",
    "        return maxLocal\n",
    "\n"
   ]
  },
  {
   "cell_type": "code",
   "execution_count": 54,
   "id": "78f019ea",
   "metadata": {},
   "outputs": [
    {
     "name": "stdout",
     "output_type": "stream",
     "text": [
      "[[2, 2, 2], [2, 2, 2], [2, 2, 2]]\n"
     ]
    }
   ],
   "source": [
    "s = Solution()\n",
    "\n",
    "result = s.largestLocal([[1,1,1,1,1],[1,1,1,1,1],[1,1,2,1,1],[1,1,1,1,1],[1,1,1,1,1]])\n",
    "print (result) "
   ]
  },
  {
   "cell_type": "markdown",
   "id": "61ecc5e7",
   "metadata": {},
   "source": [
    "### 1351. Count Negative Numbers in a Sorted Matrix\n"
   ]
  },
  {
   "cell_type": "code",
   "execution_count": 2,
   "id": "2a4ab3be",
   "metadata": {},
   "outputs": [],
   "source": [
    "from typing import List\n",
    "class Solution:\n",
    "    def countNegatives(self, grid: List[List[int]]) -> int:\n",
    "        c = 0\n",
    "        for i in range(len(grid)):\n",
    "            for j in range(len(grid[0])):\n",
    "                \n",
    "                if grid[i][j] < 0 :\n",
    "                    c+=1\n",
    "                    \n",
    "        return c\n",
    "        "
   ]
  },
  {
   "cell_type": "code",
   "execution_count": 3,
   "id": "2ea8af39",
   "metadata": {},
   "outputs": [
    {
     "name": "stdout",
     "output_type": "stream",
     "text": [
      "8\n"
     ]
    }
   ],
   "source": [
    "s = Solution()\n",
    "\n",
    "result = s.countNegatives(grid = [[4,3,2,-1],[3,2,1,-1],[1,1,-1,-2],[-1,-1,-2,-3]])\n",
    "print (result) "
   ]
  },
  {
   "cell_type": "markdown",
   "id": "f07cc5cc",
   "metadata": {},
   "source": [
    "### 2643. Row With Maximum Ones\n"
   ]
  },
  {
   "cell_type": "code",
   "execution_count": 31,
   "id": "5e874d39",
   "metadata": {},
   "outputs": [],
   "source": [
    "class Solution:\n",
    "    def rowAndMaximumOnes(self, mat: List[List[int]]) -> List[int]:\n",
    "        \n",
    "        d = {}\n",
    "        \n",
    "        for i in range (len(mat)):\n",
    "            d[i] = 0\n",
    "            for j in range(len(mat[0])):\n",
    "                \n",
    "                    \n",
    "                if mat[i][j] == 1:\n",
    "                    d[i] += 1\n",
    "        max_val = max(d.values())\n",
    "        \n",
    "        max_keys = list(filter(lambda k: d[k] == max_val, d.keys()))\n",
    "\n",
    "        for k, v in d.items():\n",
    "            if k == min(max_keys):\n",
    "                return list ((k, v))\n",
    "        "
   ]
  },
  {
   "cell_type": "code",
   "execution_count": 32,
   "id": "5177fb97",
   "metadata": {},
   "outputs": [
    {
     "name": "stdout",
     "output_type": "stream",
     "text": [
      "[0, 1]\n"
     ]
    }
   ],
   "source": [
    "s = Solution()\n",
    "\n",
    "result = s.rowAndMaximumOnes(mat = [[0,1],[1,0]])\n",
    "print (result) "
   ]
  },
  {
   "cell_type": "code",
   "execution_count": null,
   "id": "f9a7c4d6",
   "metadata": {},
   "outputs": [],
   "source": []
  },
  {
   "cell_type": "code",
   "execution_count": null,
   "id": "4e7a4c08",
   "metadata": {},
   "outputs": [],
   "source": [
    "s = Solution()\n",
    "\n",
    "result = s.()\n",
    "print (result) "
   ]
  },
  {
   "cell_type": "code",
   "execution_count": null,
   "id": "c0abdaf8",
   "metadata": {},
   "outputs": [],
   "source": [
    "s = Solution()\n",
    "\n",
    "result = s.()\n",
    "print (result) "
   ]
  },
  {
   "cell_type": "code",
   "execution_count": null,
   "id": "fc293a57",
   "metadata": {},
   "outputs": [],
   "source": []
  },
  {
   "cell_type": "code",
   "execution_count": null,
   "id": "3283dadf",
   "metadata": {},
   "outputs": [],
   "source": []
  },
  {
   "cell_type": "markdown",
   "id": "4efc0f13",
   "metadata": {},
   "source": [
    "## 4. LinkedList"
   ]
  },
  {
   "cell_type": "markdown",
   "id": "3ec0d612",
   "metadata": {},
   "source": [
    "I reviewed all the singly linked list section in Scott udemy course - May 6 2023"
   ]
  },
  {
   "cell_type": "markdown",
   "id": "41045d87",
   "metadata": {},
   "source": [
    "### 1290. Convert Binary Number in a Linked List to Integer\n"
   ]
  },
  {
   "cell_type": "code",
   "execution_count": 29,
   "id": "187801c2",
   "metadata": {},
   "outputs": [],
   "source": [
    "#Definition for singly-linked list.\n",
    "class ListNode:\n",
    "    def __init__(self, val=0, next=None):\n",
    "        self.val = val\n",
    "        self.next = next\n",
    "class Solution:\n",
    "    def getDecimalValue(self, head: ListNode) -> int:\n",
    "        bin = ''\n",
    "        while head:\n",
    "            bin += str(head.val)\n",
    "            head = head.next \n",
    "        return int(bin, 2)"
   ]
  },
  {
   "cell_type": "code",
   "execution_count": 30,
   "id": "49af7899",
   "metadata": {},
   "outputs": [
    {
     "name": "stdout",
     "output_type": "stream",
     "text": [
      "5\n"
     ]
    }
   ],
   "source": [
    "s = Solution()\n",
    "head = ListNode(1)\n",
    "node1 = ListNode(0)\n",
    "node2 = ListNode(1)\n",
    "head.next = node1\n",
    "node1.next = node2\n",
    "\n",
    "result = s.getDecimalValue(head)\n",
    "print (result) "
   ]
  },
  {
   "cell_type": "markdown",
   "id": "906d9aa1",
   "metadata": {},
   "source": [
    "### 876. Middle of the Linked List"
   ]
  },
  {
   "cell_type": "code",
   "execution_count": 63,
   "id": "a4e24c9a",
   "metadata": {},
   "outputs": [],
   "source": [
    "# Definition for singly-linked list.\n",
    "from typing import Optional\n",
    "\n",
    "class ListNode:\n",
    "    def __init__(self, val=0, next=None):\n",
    "        self.val = val\n",
    "        self.next = next\n",
    "class Solution:\n",
    "    def middleNode(self, head: Optional[ListNode]) -> Optional[ListNode]:\n",
    "        \n",
    "        slow = head\n",
    "        fast = head \n",
    "        \n",
    "        while fast and fast.next:\n",
    "            slow = slow.next\n",
    "            fast = fast.next.next\n",
    "            \n",
    "        return slow\n",
    "        "
   ]
  },
  {
   "cell_type": "code",
   "execution_count": 64,
   "id": "6c5831cd",
   "metadata": {
    "scrolled": true
   },
   "outputs": [
    {
     "name": "stdout",
     "output_type": "stream",
     "text": [
      "<__main__.ListNode object at 0x000001917C0AA3D0>\n"
     ]
    }
   ],
   "source": [
    "s = Solution()\n",
    "head = ListNode(1)\n",
    "node1 = ListNode(2)\n",
    "node2 = ListNode(3)\n",
    "node3 = ListNode(4)\n",
    "node4 = ListNode(5)\n",
    "\n",
    "head.next = node1\n",
    "node1.next = node2\n",
    "node2.next = node3\n",
    "node3.next = node4\n",
    "\n",
    "\n",
    "result = s.middleNode(head)\n",
    "print (result) "
   ]
  },
  {
   "cell_type": "code",
   "execution_count": 65,
   "id": "0611ec12",
   "metadata": {},
   "outputs": [
    {
     "name": "stdout",
     "output_type": "stream",
     "text": [
      "<__main__.ListNode object at 0x000001917C0AA190>\n"
     ]
    }
   ],
   "source": [
    "s = Solution()\n",
    "head = ListNode(1)\n",
    "node1 = ListNode(2)\n",
    "node2 = ListNode(3)\n",
    "node3 = ListNode(4)\n",
    "node4 = ListNode(5)\n",
    "node5 = ListNode(6)\n",
    "\n",
    "head.next = node1\n",
    "node1.next = node2\n",
    "node2.next = node3\n",
    "node3.next = node4\n",
    "node4.next = node5\n",
    "\n",
    "\n",
    "result = s.middleNode(head)\n",
    "print (result) "
   ]
  },
  {
   "cell_type": "markdown",
   "id": "56a32799",
   "metadata": {},
   "source": [
    "### 206. Reverse Linked List"
   ]
  },
  {
   "cell_type": "code",
   "execution_count": 75,
   "id": "e410d421",
   "metadata": {},
   "outputs": [],
   "source": [
    "# Definition for singly-linked list.\n",
    "class ListNode:\n",
    "    def __init__(self, val=0, next=None):\n",
    "        self.val = val\n",
    "        self.next = next\n",
    "class Solution:\n",
    "    def reverseList(self, head: Optional[ListNode]) -> Optional[ListNode]:\n",
    "        temp, before = head, None \n",
    "        while temp:\n",
    "            after = temp.next\n",
    "            temp.next = before\n",
    "            before = temp \n",
    "            temp = after \n",
    "        return  before\n",
    "        "
   ]
  },
  {
   "cell_type": "code",
   "execution_count": 76,
   "id": "4e2d60fd",
   "metadata": {},
   "outputs": [
    {
     "name": "stdout",
     "output_type": "stream",
     "text": [
      "<__main__.ListNode object at 0x000001917C1A9820>\n"
     ]
    }
   ],
   "source": [
    "s = Solution()\n",
    "head = ListNode(1)\n",
    "node1 = ListNode(2)\n",
    "node2 = ListNode(3)\n",
    "node3 = ListNode(4)\n",
    "node4 = ListNode(5)\n",
    "\n",
    "head.next = node1\n",
    "node1.next = node2\n",
    "node2.next = node3\n",
    "node3.next = node4\n",
    "\n",
    "\n",
    "result = s.reverseList(head)\n",
    "print (result) "
   ]
  },
  {
   "cell_type": "markdown",
   "id": "38370654",
   "metadata": {},
   "source": [
    "## 5. Hash Table"
   ]
  },
  {
   "cell_type": "markdown",
   "id": "711c84c9",
   "metadata": {},
   "source": [
    "### 1656. Design an Ordered Stream\n"
   ]
  },
  {
   "cell_type": "code",
   "execution_count": null,
   "id": "a79ffeef",
   "metadata": {},
   "outputs": [],
   "source": [
    "class OrderedStream:\n",
    "\n",
    "    def __init__(self, n: int):\n",
    "\n",
    "        self.n = n\n",
    "        \n",
    "\n",
    "    def insert(self, idKey: int, value: str) -> List[str]:\n",
    "        \n",
    "\n",
    "\n",
    "# Your OrderedStream object will be instantiated and called as such:\n",
    "# obj = OrderedStream(n)\n",
    "# param_1 = obj.insert(idKey,value)"
   ]
  },
  {
   "cell_type": "code",
   "execution_count": null,
   "id": "6eeb6c3e",
   "metadata": {},
   "outputs": [],
   "source": []
  },
  {
   "cell_type": "markdown",
   "id": "ce512f0b",
   "metadata": {},
   "source": [
    "### 2367. Number of Arithmetic Triplets"
   ]
  },
  {
   "cell_type": "code",
   "execution_count": 3,
   "id": "18a4962f",
   "metadata": {},
   "outputs": [],
   "source": [
    "from typing import List \n",
    "class Solution:\n",
    "    def arithmeticTriplets(self, nums: List[int], diff: int) -> int:\n",
    "        \n",
    "        c = 0 \n",
    "        for i in range(len(nums)):\n",
    "            for j in range(i, len(nums)):\n",
    "                for k in range (j, len(nums)):\n",
    "                    if nums[j] - nums[i] == diff and nums[k] - nums[j] == diff:\n",
    "                        c += 1\n",
    "                        \n",
    "        return c"
   ]
  },
  {
   "cell_type": "code",
   "execution_count": 4,
   "id": "d5095176",
   "metadata": {},
   "outputs": [
    {
     "name": "stdout",
     "output_type": "stream",
     "text": [
      "2\n"
     ]
    }
   ],
   "source": [
    "s = Solution()\n",
    "\n",
    "result = s.arithmeticTriplets(nums = [0,1,4,6,7,10], diff = 3)\n",
    "print (result) "
   ]
  },
  {
   "cell_type": "code",
   "execution_count": 5,
   "id": "7151cc1f",
   "metadata": {},
   "outputs": [
    {
     "name": "stdout",
     "output_type": "stream",
     "text": [
      "2\n"
     ]
    }
   ],
   "source": [
    "s = Solution()\n",
    "\n",
    "result = s.arithmeticTriplets(nums = [4,5,6,7,8,9], diff = 2)\n",
    "print (result) "
   ]
  },
  {
   "cell_type": "markdown",
   "id": "b2e0d343",
   "metadata": {},
   "source": [
    "### 2215. Find the Difference of Two Arrays"
   ]
  },
  {
   "cell_type": "code",
   "execution_count": 11,
   "id": "3efc3d3f",
   "metadata": {},
   "outputs": [],
   "source": [
    "class Solution:\n",
    "    def findDifference(self, nums1: List[int], nums2: List[int]) -> List[List[int]]:\n",
    "        \n",
    "        ans1, ans2 = [], [] \n",
    "        \n",
    "        for i in set(nums1):\n",
    "            if i not in nums2:\n",
    "                ans1.append(i)\n",
    "        for j in set(nums2):\n",
    "            if j not in nums1:\n",
    "                ans2.append(j)\n",
    "        \n",
    "        return ans1, ans2\n",
    "        "
   ]
  },
  {
   "cell_type": "code",
   "execution_count": 12,
   "id": "31b6bedf",
   "metadata": {},
   "outputs": [
    {
     "name": "stdout",
     "output_type": "stream",
     "text": [
      "([1, 3], [4, 6])\n"
     ]
    }
   ],
   "source": [
    "s = Solution()\n",
    "\n",
    "result = s.findDifference(nums1 = [1,2,3], nums2 = [2,4,6])\n",
    "print (result) "
   ]
  },
  {
   "cell_type": "code",
   "execution_count": 13,
   "id": "797940c7",
   "metadata": {},
   "outputs": [
    {
     "name": "stdout",
     "output_type": "stream",
     "text": [
      "([3], [])\n"
     ]
    }
   ],
   "source": [
    "s = Solution()\n",
    "\n",
    "result = s.findDifference(nums1 = [1,2,3,3], nums2 = [1,1,2,2])\n",
    "print (result) "
   ]
  },
  {
   "cell_type": "markdown",
   "id": "74bcc9dd",
   "metadata": {},
   "source": [
    "### 1370. Increasing Decreasing String\n"
   ]
  },
  {
   "cell_type": "code",
   "execution_count": null,
   "id": "12ce918f",
   "metadata": {},
   "outputs": [],
   "source": [
    "class Solution:\n",
    "    def sortString(self, s: str) -> str:"
   ]
  },
  {
   "cell_type": "code",
   "execution_count": null,
   "id": "c4cf0d44",
   "metadata": {},
   "outputs": [],
   "source": [
    "s = Solution()\n",
    "\n",
    "result = s.\n",
    "print (result) "
   ]
  },
  {
   "cell_type": "code",
   "execution_count": null,
   "id": "a196a4d6",
   "metadata": {},
   "outputs": [],
   "source": []
  },
  {
   "cell_type": "markdown",
   "id": "8b1117c8",
   "metadata": {},
   "source": [
    "### 1748. Sum of Unique Elements"
   ]
  },
  {
   "cell_type": "code",
   "execution_count": 47,
   "id": "0c3e5b0f",
   "metadata": {},
   "outputs": [],
   "source": [
    "from typing import List\n",
    "class Solution:\n",
    "    def sumOfUnique(self, nums: List[int]) -> int:\n",
    "\n",
    "        d = {}\n",
    "\n",
    "        for n in nums:\n",
    "            if n not in d:\n",
    "                d[n] = 1\n",
    "            else:\n",
    "                d[n] += 1\n",
    "        t = 0\n",
    "        for k, v in d.items():\n",
    "            if v ==1:\n",
    "                t += k\n",
    "        return t"
   ]
  },
  {
   "cell_type": "code",
   "execution_count": 48,
   "id": "eef7b265",
   "metadata": {},
   "outputs": [
    {
     "name": "stdout",
     "output_type": "stream",
     "text": [
      "4\n"
     ]
    }
   ],
   "source": [
    "s = Solution()\n",
    "\n",
    "result = s.sumOfUnique( nums = [1,2,3,2])\n",
    "print (result) "
   ]
  },
  {
   "cell_type": "code",
   "execution_count": 49,
   "id": "c0bab519",
   "metadata": {},
   "outputs": [
    {
     "name": "stdout",
     "output_type": "stream",
     "text": [
      "0\n"
     ]
    }
   ],
   "source": [
    "s = Solution()\n",
    "\n",
    "result = s.sumOfUnique( nums = [1,1,1,1,1])\n",
    "print (result) "
   ]
  },
  {
   "cell_type": "code",
   "execution_count": 50,
   "id": "743527ca",
   "metadata": {},
   "outputs": [
    {
     "name": "stdout",
     "output_type": "stream",
     "text": [
      "15\n"
     ]
    }
   ],
   "source": [
    "s = Solution()\n",
    "\n",
    "result = s.sumOfUnique(nums = [1,2,3,4,5])\n",
    "print (result) "
   ]
  },
  {
   "cell_type": "markdown",
   "id": "1f44e4f8",
   "metadata": {},
   "source": [
    "### 961. N-Repeated Element in Size 2N Array"
   ]
  },
  {
   "cell_type": "code",
   "execution_count": 51,
   "id": "d3dab575",
   "metadata": {},
   "outputs": [],
   "source": [
    "class Solution:\n",
    "    def repeatedNTimes(self, nums: List[int]) -> int:\n",
    "\n",
    "        d = {}\n",
    "\n",
    "        for n in nums:\n",
    "            if n not in d:\n",
    "                d[n] = 1\n",
    "            else:\n",
    "                d[n] += 1\n",
    "        n = len(nums) / 2\n",
    "\n",
    "        for k,v in d.items():\n",
    "            if v == n:\n",
    "                return k   "
   ]
  },
  {
   "cell_type": "code",
   "execution_count": 52,
   "id": "e2206a4d",
   "metadata": {},
   "outputs": [
    {
     "name": "stdout",
     "output_type": "stream",
     "text": [
      "3\n"
     ]
    }
   ],
   "source": [
    "s = Solution()\n",
    "\n",
    "result = s.repeatedNTimes(nums = [1,2,3,3])\n",
    "print (result) "
   ]
  },
  {
   "cell_type": "code",
   "execution_count": 53,
   "id": "f8159021",
   "metadata": {},
   "outputs": [
    {
     "name": "stdout",
     "output_type": "stream",
     "text": [
      "2\n"
     ]
    }
   ],
   "source": [
    "s = Solution()\n",
    "\n",
    "result = s.repeatedNTimes(nums = [2,1,2,5,3,2])\n",
    "print (result) "
   ]
  },
  {
   "cell_type": "code",
   "execution_count": 54,
   "id": "1a42a771",
   "metadata": {},
   "outputs": [
    {
     "name": "stdout",
     "output_type": "stream",
     "text": [
      "5\n"
     ]
    }
   ],
   "source": [
    "s = Solution()\n",
    "\n",
    "result = s.repeatedNTimes(nums = [5,1,5,2,5,3,5,4])\n",
    "print (result) "
   ]
  },
  {
   "cell_type": "markdown",
   "id": "ce4944bd",
   "metadata": {},
   "source": [
    "### 2341. Maximum Number of Pairs in Array"
   ]
  },
  {
   "cell_type": "code",
   "execution_count": 83,
   "id": "b032e91d",
   "metadata": {},
   "outputs": [],
   "source": [
    "class Solution:\n",
    "    def numberOfPairs(self, nums: List[int]) -> List[int]:\n",
    "         \n",
    "        c = 0\n",
    "        d = {}\n",
    "        for n in nums:\n",
    "            if n not in d:\n",
    "                d[n] = 1\n",
    "            else:\n",
    "                d.pop(n)\n",
    "                c+=1\n",
    "                \n",
    "        return [c, len(d)]\n"
   ]
  },
  {
   "cell_type": "code",
   "execution_count": 84,
   "id": "d6baf3e8",
   "metadata": {},
   "outputs": [
    {
     "name": "stdout",
     "output_type": "stream",
     "text": [
      "[3, 1]\n"
     ]
    }
   ],
   "source": [
    "s = Solution()\n",
    "\n",
    "result = s.numberOfPairs(nums = [1,3,2,1,3,2,2])\n",
    "print (result) "
   ]
  },
  {
   "cell_type": "code",
   "execution_count": 85,
   "id": "b25c192f",
   "metadata": {},
   "outputs": [
    {
     "name": "stdout",
     "output_type": "stream",
     "text": [
      "[1, 0]\n"
     ]
    }
   ],
   "source": [
    "s = Solution()\n",
    "\n",
    "result = s.numberOfPairs(nums = [1,1])\n",
    "print (result) "
   ]
  },
  {
   "cell_type": "code",
   "execution_count": 86,
   "id": "7cb2099f",
   "metadata": {},
   "outputs": [
    {
     "name": "stdout",
     "output_type": "stream",
     "text": [
      "[0, 1]\n"
     ]
    }
   ],
   "source": [
    "s = Solution()\n",
    "\n",
    "result = s.numberOfPairs( nums = [0])\n",
    "print (result)"
   ]
  },
  {
   "cell_type": "markdown",
   "id": "d7dbfa56",
   "metadata": {},
   "source": [
    "### 2363. Merge Similar Items"
   ]
  },
  {
   "cell_type": "code",
   "execution_count": 150,
   "id": "b226fa2f",
   "metadata": {},
   "outputs": [],
   "source": [
    "class Solution:\n",
    "    def mergeSimilarItems(self, items1: List[List[int]], items2: List[List[int]]) -> List[List[int]]:\n",
    "        \n",
    "        \n",
    "        def counter(s):\n",
    "            \n",
    "            d = {}\n",
    "            for l in s:  \n",
    "                d[l[0]] = l[1]\n",
    "            return d\n",
    "            \n",
    "        d1 = counter(items1)\n",
    "        d2 = counter(items2)\n",
    "        \n",
    "        res = {}\n",
    "        for k, v in d1.items():\n",
    "            if k in d2:\n",
    "                res[k] = v + d2[k]\n",
    "            else:\n",
    "                res[k] = v\n",
    "        \n",
    "        for k,v in d2.items():\n",
    "            if k not in d1:\n",
    "                res[k] = v\n",
    "        f = [[k,v] for k,v in sorted(res.items())]    \n",
    "        return  f #, d1, d2\n",
    "        "
   ]
  },
  {
   "cell_type": "code",
   "execution_count": 151,
   "id": "50ea1b06",
   "metadata": {},
   "outputs": [
    {
     "name": "stdout",
     "output_type": "stream",
     "text": [
      "[[1, 6], [3, 9], [4, 5]]\n"
     ]
    }
   ],
   "source": [
    "s = Solution()\n",
    "\n",
    "result = s.mergeSimilarItems(items1 = [[1,1],[4,5],[3,8]], items2 = [[3,1],[1,5]])\n",
    "print (result)"
   ]
  },
  {
   "cell_type": "code",
   "execution_count": 152,
   "id": "4d4d3968",
   "metadata": {},
   "outputs": [
    {
     "name": "stdout",
     "output_type": "stream",
     "text": [
      "[[1, 4], [2, 4], [3, 4]]\n"
     ]
    }
   ],
   "source": [
    "s = Solution()\n",
    "\n",
    "result = s.mergeSimilarItems(items1 = [[1,1],[3,2],[2,3]], items2 = [[2,1],[3,2],[1,3]])\n",
    "print (result)"
   ]
  },
  {
   "cell_type": "code",
   "execution_count": 153,
   "id": "5e3078ab",
   "metadata": {},
   "outputs": [
    {
     "name": "stdout",
     "output_type": "stream",
     "text": [
      "[[1, 7], [2, 4], [7, 1]]\n"
     ]
    }
   ],
   "source": [
    "s = Solution()\n",
    "\n",
    "result = s.mergeSimilarItems(items1 = [[1,3],[2,2]], items2 = [[7,1],[2,2],[1,4]])\n",
    "print (result) "
   ]
  },
  {
   "cell_type": "markdown",
   "id": "1adae0bd",
   "metadata": {},
   "source": [
    "### 2032. Two Out of Three\n"
   ]
  },
  {
   "cell_type": "code",
   "execution_count": 173,
   "id": "47480193",
   "metadata": {},
   "outputs": [],
   "source": [
    "class Solution:\n",
    "    def twoOutOfThree(self, nums1: List[int], nums2: List[int], nums3: List[int]) -> List[int]:\n",
    "        \n",
    "        def finder (l1, l2):\n",
    "            f = []\n",
    "        \n",
    "            for i in l1:\n",
    "                if i in l2:\n",
    "                    f.append(i)\n",
    "            return f\n",
    "         \n",
    "        a = finder(nums1, nums2)\n",
    "        b = finder(nums1, nums3)\n",
    "        c = finder(nums2, nums3)\n",
    "        \n",
    "        return list(set(a + b + c))"
   ]
  },
  {
   "cell_type": "code",
   "execution_count": 174,
   "id": "df58d83f",
   "metadata": {},
   "outputs": [
    {
     "name": "stdout",
     "output_type": "stream",
     "text": [
      "[2, 3]\n"
     ]
    }
   ],
   "source": [
    "s = Solution()\n",
    "\n",
    "result = s.twoOutOfThree( nums1 = [1,1,3,2], nums2 = [2,3], nums3 = [3])\n",
    "print (result) "
   ]
  },
  {
   "cell_type": "code",
   "execution_count": 175,
   "id": "c0bca2af",
   "metadata": {},
   "outputs": [
    {
     "name": "stdout",
     "output_type": "stream",
     "text": [
      "[1, 2, 3]\n"
     ]
    }
   ],
   "source": [
    "s = Solution()\n",
    "\n",
    "result = s.twoOutOfThree( nums1 = [3,1], nums2 = [2,3], nums3 = [1,2])\n",
    "print (result) "
   ]
  },
  {
   "cell_type": "code",
   "execution_count": 176,
   "id": "745a29bd",
   "metadata": {},
   "outputs": [
    {
     "name": "stdout",
     "output_type": "stream",
     "text": [
      "[]\n"
     ]
    }
   ],
   "source": [
    "s = Solution()\n",
    "\n",
    "result = s.twoOutOfThree( nums1 = [1,2,2], nums2 = [4,3,3], nums3 = [5])\n",
    "print (result) "
   ]
  },
  {
   "cell_type": "markdown",
   "id": "5cf488c8",
   "metadata": {},
   "source": [
    "### 1365. How Many Numbers Are Smaller Than the Current Number\n"
   ]
  },
  {
   "cell_type": "code",
   "execution_count": 81,
   "id": "1e90cb87",
   "metadata": {},
   "outputs": [],
   "source": [
    "class Solution:\n",
    "    def smallerNumbersThanCurrent(self, nums: List[int]) -> List[int]:\n",
    "        res = []\n",
    "        for i in range(len(nums)):\n",
    "            c = 0 \n",
    "            for j in range(len(nums)):\n",
    "                \n",
    "                if i!= j  and nums[i] > nums[j]:\n",
    "                    c += 1\n",
    "            res.append(c)\n",
    "            \n",
    "        return res"
   ]
  },
  {
   "cell_type": "code",
   "execution_count": 82,
   "id": "abed957f",
   "metadata": {},
   "outputs": [
    {
     "name": "stdout",
     "output_type": "stream",
     "text": [
      "[4, 0, 1, 1, 3]\n"
     ]
    }
   ],
   "source": [
    "s = Solution()\n",
    "\n",
    "result = s.smallerNumbersThanCurrent(nums = [8,1,2,2,3])\n",
    "print (result) "
   ]
  },
  {
   "cell_type": "code",
   "execution_count": 83,
   "id": "b8ae66ea",
   "metadata": {},
   "outputs": [
    {
     "name": "stdout",
     "output_type": "stream",
     "text": [
      "[2, 1, 0, 3]\n"
     ]
    }
   ],
   "source": [
    "s = Solution()\n",
    "\n",
    "result = s.smallerNumbersThanCurrent(nums = [6,5,4,8])\n",
    "print (result) "
   ]
  },
  {
   "cell_type": "code",
   "execution_count": 84,
   "id": "eed894bb",
   "metadata": {},
   "outputs": [
    {
     "name": "stdout",
     "output_type": "stream",
     "text": [
      "[0, 0, 0, 0]\n"
     ]
    }
   ],
   "source": [
    "s = Solution()\n",
    "\n",
    "result = s.smallerNumbersThanCurrent(nums = [7,7,7,7])\n",
    "print (result) "
   ]
  },
  {
   "cell_type": "markdown",
   "id": "85b86d6e",
   "metadata": {},
   "source": [
    "### 2006. Count Number of Pairs With Absolute Difference K\n"
   ]
  },
  {
   "cell_type": "code",
   "execution_count": 75,
   "id": "b7b5afc2",
   "metadata": {},
   "outputs": [],
   "source": [
    "from typing import List\n",
    "class Solution:\n",
    "    def countKDifference(self, nums: List[int], k: int) -> int:\n",
    "        c = 0 \n",
    "        for i in range(len(nums)):\n",
    "            for j in range(i, len(nums)):\n",
    "                if abs(nums[i]-nums[j]) == k:\n",
    "                    c +=1\n",
    "                    \n",
    "        return c"
   ]
  },
  {
   "cell_type": "code",
   "execution_count": 76,
   "id": "9317fa08",
   "metadata": {},
   "outputs": [
    {
     "name": "stdout",
     "output_type": "stream",
     "text": [
      "4\n"
     ]
    }
   ],
   "source": [
    "s = Solution()\n",
    "\n",
    "result = s.countKDifference(nums = [1,2,2,1], k = 1)\n",
    "print (result) "
   ]
  },
  {
   "cell_type": "code",
   "execution_count": 77,
   "id": "f21c1ee7",
   "metadata": {},
   "outputs": [
    {
     "name": "stdout",
     "output_type": "stream",
     "text": [
      "0\n"
     ]
    }
   ],
   "source": [
    "s = Solution()\n",
    "\n",
    "result = s.countKDifference(nums = [1,3], k = 3)\n",
    "print (result)"
   ]
  },
  {
   "cell_type": "code",
   "execution_count": 78,
   "id": "a71ca7ec",
   "metadata": {},
   "outputs": [
    {
     "name": "stdout",
     "output_type": "stream",
     "text": [
      "3\n"
     ]
    }
   ],
   "source": [
    "s = Solution()\n",
    "\n",
    "result = s.countKDifference(nums = [3,2,1,5,4], k = 2)\n",
    "print (result)"
   ]
  },
  {
   "cell_type": "markdown",
   "id": "52206bf7",
   "metadata": {},
   "source": [
    "### 2418. Sort the People\n"
   ]
  },
  {
   "cell_type": "code",
   "execution_count": 273,
   "id": "15775c74",
   "metadata": {},
   "outputs": [],
   "source": [
    "class Solution(object):\n",
    "    def sortPeople(self, names, heights):\n",
    "        \n",
    "        f = zip(names, heights)\n",
    "        res = []\n",
    "        for i in f:\n",
    "            res.append(i)\n",
    "        a = sorted(res, key= lambda x:x[1], reverse = True) \n",
    "        ans = list(map(lambda x : x[0], a) )\n",
    "        return  ans"
   ]
  },
  {
   "cell_type": "code",
   "execution_count": 274,
   "id": "9c05ea1e",
   "metadata": {},
   "outputs": [
    {
     "name": "stdout",
     "output_type": "stream",
     "text": [
      "['Mary', 'Emma', 'John']\n"
     ]
    }
   ],
   "source": [
    "s = Solution()\n",
    "\n",
    "result = s.sortPeople(names = [\"Mary\",\"John\",\"Emma\"], heights = [180,165,170])\n",
    "print (result) "
   ]
  },
  {
   "cell_type": "code",
   "execution_count": 275,
   "id": "5dd8c831",
   "metadata": {},
   "outputs": [
    {
     "name": "stdout",
     "output_type": "stream",
     "text": [
      "['Bob', 'Alice', 'Bob']\n"
     ]
    }
   ],
   "source": [
    "s = Solution()\n",
    "\n",
    "result = s.sortPeople(names = [\"Alice\",\"Bob\",\"Bob\"], heights = [155,185,150])\n",
    "print (result) "
   ]
  },
  {
   "cell_type": "markdown",
   "id": "308012c1",
   "metadata": {},
   "source": [
    "### 1436. Destination City\n"
   ]
  },
  {
   "cell_type": "code",
   "execution_count": 292,
   "id": "e730a613",
   "metadata": {},
   "outputs": [],
   "source": [
    "class Solution:\n",
    "    def destCity(self, paths: List[List[str]]) -> str:\n",
    "        \n",
    "        # I need to get the 2nd element which is not in the first one\n",
    "        \n",
    "        dest = []\n",
    "        f = []\n",
    "        for i in range(len(paths)):\n",
    "            des = paths[i][1]\n",
    "            dest.append(des) \n",
    "            f.append(paths[i][0]) \n",
    "        \n",
    "        for c in dest:\n",
    "            if c not in f:\n",
    "                return c\n",
    "        "
   ]
  },
  {
   "cell_type": "code",
   "execution_count": 293,
   "id": "d4c2686b",
   "metadata": {},
   "outputs": [
    {
     "name": "stdout",
     "output_type": "stream",
     "text": [
      "Sao Paulo\n"
     ]
    }
   ],
   "source": [
    "s = Solution()\n",
    "\n",
    "result = s.destCity(paths = [[\"London\",\"New York\"],[\"New York\",\"Lima\"],[\"Lima\",\"Sao Paulo\"]])\n",
    "print (result) "
   ]
  },
  {
   "cell_type": "code",
   "execution_count": 294,
   "id": "77c0e72b",
   "metadata": {},
   "outputs": [
    {
     "name": "stdout",
     "output_type": "stream",
     "text": [
      "A\n"
     ]
    }
   ],
   "source": [
    "s = Solution()\n",
    "\n",
    "result = s.destCity(paths = [[\"B\",\"C\"],[\"D\",\"B\"],[\"C\",\"A\"]])\n",
    "print (result) "
   ]
  },
  {
   "cell_type": "code",
   "execution_count": 295,
   "id": "bea7ed04",
   "metadata": {},
   "outputs": [
    {
     "name": "stdout",
     "output_type": "stream",
     "text": [
      "Z\n"
     ]
    }
   ],
   "source": [
    "s = Solution()\n",
    "\n",
    "result = s.destCity(paths = [[\"A\",\"Z\"]])\n",
    "print (result) "
   ]
  },
  {
   "cell_type": "markdown",
   "id": "9d933579",
   "metadata": {},
   "source": [
    "### 1941. Check if All Characters Have Equal Number of Occurrences\n"
   ]
  },
  {
   "cell_type": "code",
   "execution_count": 25,
   "id": "aaf4ffe2",
   "metadata": {},
   "outputs": [],
   "source": [
    "class Solution:\n",
    "    def areOccurrencesEqual(self, s: str) -> bool:\n",
    "        \n",
    "        d = {}\n",
    "        for l in s:\n",
    "            if l not in d:\n",
    "                d[l] = 1\n",
    "            else:\n",
    "                d[l] += 1\n",
    "        \n",
    "        f = list(map(lambda x:x[1], d.items()))\n",
    "        if len(set(f)) == 1:\n",
    "            \n",
    "            return True\n",
    "        else:\n",
    "            return False"
   ]
  },
  {
   "cell_type": "code",
   "execution_count": 26,
   "id": "104b0608",
   "metadata": {},
   "outputs": [
    {
     "name": "stdout",
     "output_type": "stream",
     "text": [
      "True\n"
     ]
    }
   ],
   "source": [
    "s = Solution()\n",
    "\n",
    "result = s.areOccurrencesEqual(s = \"abacbc\")\n",
    "print (result) "
   ]
  },
  {
   "cell_type": "code",
   "execution_count": 27,
   "id": "7f1096b6",
   "metadata": {},
   "outputs": [
    {
     "name": "stdout",
     "output_type": "stream",
     "text": [
      "False\n"
     ]
    }
   ],
   "source": [
    "s = Solution()\n",
    "\n",
    "result = s.areOccurrencesEqual(s = \"aaabb\")\n",
    "print (result) "
   ]
  },
  {
   "cell_type": "markdown",
   "id": "561a0a1c",
   "metadata": {},
   "source": [
    "### 1742. Maximum Number of Balls in a Box\n"
   ]
  },
  {
   "cell_type": "code",
   "execution_count": 43,
   "id": "cb10ba61",
   "metadata": {},
   "outputs": [],
   "source": [
    "class Solution:\n",
    "    def countBalls(self, lowLimit: int, highLimit: int) -> int:\n",
    "        \n",
    "        ball_num = [] \n",
    "        for i in range (highLimit - lowLimit + 1):\n",
    "            ball_num.append(lowLimit + i)\n",
    "        \n",
    "        t_l = []\n",
    "        for n in ball_num:\n",
    "        \n",
    "            l = list(str(n))\n",
    "            t = 0\n",
    "            \n",
    "            for j in range(len(l)):\n",
    "                t += int(l[j])\n",
    "                \n",
    "            t_l.append(t)\n",
    "        d = {}\n",
    "        for i in t_l:\n",
    "            if i not in d:\n",
    "                d[i] = 1\n",
    "            else:\n",
    "                d[i] += 1\n",
    "        \n",
    "        res = max(list(map(lambda x:x[1], d.items())))\n",
    "        return res"
   ]
  },
  {
   "cell_type": "code",
   "execution_count": 44,
   "id": "abd758f1",
   "metadata": {},
   "outputs": [
    {
     "name": "stdout",
     "output_type": "stream",
     "text": [
      "2\n"
     ]
    }
   ],
   "source": [
    "s = Solution()\n",
    "\n",
    "result = s.countBalls(lowLimit = 1, highLimit = 10)\n",
    "print (result) "
   ]
  },
  {
   "cell_type": "code",
   "execution_count": 45,
   "id": "b1062604",
   "metadata": {},
   "outputs": [
    {
     "name": "stdout",
     "output_type": "stream",
     "text": [
      "2\n"
     ]
    }
   ],
   "source": [
    "s = Solution()\n",
    "\n",
    "result = s.countBalls(lowLimit = 19, highLimit = 28)\n",
    "print (result) "
   ]
  },
  {
   "cell_type": "code",
   "execution_count": 46,
   "id": "3731311b",
   "metadata": {},
   "outputs": [
    {
     "name": "stdout",
     "output_type": "stream",
     "text": [
      "2\n"
     ]
    }
   ],
   "source": [
    "s = Solution()\n",
    "\n",
    "result = s.countBalls(lowLimit = 5, highLimit = 15)\n",
    "print (result) "
   ]
  },
  {
   "cell_type": "markdown",
   "id": "5c71cee2",
   "metadata": {},
   "source": [
    "### 1935. Maximum Number of Words You Can Type\n"
   ]
  },
  {
   "cell_type": "code",
   "execution_count": 67,
   "id": "9a14522d",
   "metadata": {},
   "outputs": [],
   "source": [
    "class Solution:\n",
    "    def canBeTypedWords(self, text: str, brokenLetters: str) -> int:\n",
    "        \n",
    "        list_w = text.split()\n",
    "        \n",
    "        c = len(list_w)\n",
    "        \n",
    "        for w in list_w:\n",
    "            for l in w:\n",
    "                if l in brokenLetters:\n",
    "                    c -=1 \n",
    "                    break\n",
    "        return c     "
   ]
  },
  {
   "cell_type": "code",
   "execution_count": 68,
   "id": "6649a23d",
   "metadata": {},
   "outputs": [
    {
     "name": "stdout",
     "output_type": "stream",
     "text": [
      "1\n"
     ]
    }
   ],
   "source": [
    "s = Solution()\n",
    "\n",
    "result = s.canBeTypedWords(text = \"hello world\", brokenLetters = \"ad\")\n",
    "print (result) "
   ]
  },
  {
   "cell_type": "code",
   "execution_count": 69,
   "id": "cc805990",
   "metadata": {},
   "outputs": [
    {
     "name": "stdout",
     "output_type": "stream",
     "text": [
      "1\n"
     ]
    }
   ],
   "source": [
    "s = Solution()\n",
    "\n",
    "result = s.canBeTypedWords(text = \"leet code\", brokenLetters = \"lt\")\n",
    "print (result) "
   ]
  },
  {
   "cell_type": "code",
   "execution_count": 70,
   "id": "90b33683",
   "metadata": {},
   "outputs": [
    {
     "name": "stdout",
     "output_type": "stream",
     "text": [
      "0\n"
     ]
    }
   ],
   "source": [
    "s = Solution()\n",
    "\n",
    "result = s.canBeTypedWords(text = \"leet code\", brokenLetters = \"e\")\n",
    "print (result) "
   ]
  },
  {
   "cell_type": "markdown",
   "id": "e2849104",
   "metadata": {},
   "source": [
    "### 2670. Find the Distinct Difference Array\n"
   ]
  },
  {
   "cell_type": "code",
   "execution_count": 103,
   "id": "be2ab00e",
   "metadata": {},
   "outputs": [],
   "source": [
    "class Solution:\n",
    "    def distinctDifferenceArray(self, nums: List[int]) -> List[int]:\n",
    "        n = [] \n",
    "        for i in range(len(nums)):\n",
    "            pref = set(nums[:i+1])\n",
    "            suf = set(nums[i+1:])\n",
    "#             print(f\"pref is {pref}\")\n",
    "#             print(f\"suf is {suf}\")\n",
    "\n",
    "            n.append(len(pref) - len(suf))\n",
    "                \n",
    "        return n"
   ]
  },
  {
   "cell_type": "code",
   "execution_count": 104,
   "id": "1fdf43a4",
   "metadata": {},
   "outputs": [
    {
     "name": "stdout",
     "output_type": "stream",
     "text": [
      "[-3, -1, 1, 3, 5]\n"
     ]
    }
   ],
   "source": [
    "s = Solution()\n",
    "\n",
    "result = s.distinctDifferenceArray(nums = [1,2,3,4,5])\n",
    "print (result) "
   ]
  },
  {
   "cell_type": "code",
   "execution_count": 105,
   "id": "71586f28",
   "metadata": {},
   "outputs": [
    {
     "name": "stdout",
     "output_type": "stream",
     "text": [
      "[-2, -1, 0, 2, 3]\n"
     ]
    }
   ],
   "source": [
    "s = Solution()\n",
    "\n",
    "result = s.distinctDifferenceArray(nums = [3,2,3,4,2])\n",
    "print (result) "
   ]
  },
  {
   "cell_type": "markdown",
   "id": "e328f29c",
   "metadata": {},
   "source": [
    "### 1207. Unique Number of Occurrences\n"
   ]
  },
  {
   "cell_type": "code",
   "execution_count": 112,
   "id": "4feff9c1",
   "metadata": {},
   "outputs": [],
   "source": [
    "class Solution:\n",
    "    def uniqueOccurrences(self, arr: List[int]) -> bool:\n",
    "        d={}\n",
    "        for n in arr:\n",
    "            if n not in d:\n",
    "                d[n] = 1\n",
    "            else:\n",
    "                d[n] += 1\n",
    "        \n",
    "        if len(d) == len(set(map(lambda x:x[1], d.items()))):\n",
    "            return True\n",
    "        else:\n",
    "            return False"
   ]
  },
  {
   "cell_type": "code",
   "execution_count": 113,
   "id": "5ea796b9",
   "metadata": {},
   "outputs": [
    {
     "name": "stdout",
     "output_type": "stream",
     "text": [
      "True\n"
     ]
    }
   ],
   "source": [
    "s = Solution()\n",
    "\n",
    "result = s.uniqueOccurrences(arr = [1,2,2,1,1,3])\n",
    "print (result) "
   ]
  },
  {
   "cell_type": "code",
   "execution_count": 114,
   "id": "f61a2b22",
   "metadata": {},
   "outputs": [
    {
     "name": "stdout",
     "output_type": "stream",
     "text": [
      "False\n"
     ]
    }
   ],
   "source": [
    "s = Solution()\n",
    "\n",
    "result = s.uniqueOccurrences(arr = [1,2])\n",
    "print (result) "
   ]
  },
  {
   "cell_type": "code",
   "execution_count": 115,
   "id": "67336187",
   "metadata": {},
   "outputs": [
    {
     "name": "stdout",
     "output_type": "stream",
     "text": [
      "True\n"
     ]
    }
   ],
   "source": [
    "s = Solution()\n",
    "\n",
    "result = s.uniqueOccurrences(arr = [-3,0,1,-3,1,1,1,-3,10,0])\n",
    "print (result) "
   ]
  },
  {
   "cell_type": "markdown",
   "id": "e9cd1ad7",
   "metadata": {},
   "source": [
    "### 2206. Divide Array Into Equal Pairs\n"
   ]
  },
  {
   "cell_type": "code",
   "execution_count": 116,
   "id": "3b81d13b",
   "metadata": {},
   "outputs": [],
   "source": [
    "class Solution:\n",
    "    def divideArray(self, nums: List[int]) -> bool:\n",
    "        \n",
    "        d = {}\n",
    "        \n",
    "        for i in nums:\n",
    "            if i not in d:\n",
    "                d[i] = 1\n",
    "            else:\n",
    "                d[i] += 1\n",
    "                \n",
    "        for k, v in d.items():\n",
    "            if v%2 !=0:\n",
    "                return False\n",
    "        return True\n",
    "        "
   ]
  },
  {
   "cell_type": "code",
   "execution_count": 117,
   "id": "150d4553",
   "metadata": {},
   "outputs": [
    {
     "name": "stdout",
     "output_type": "stream",
     "text": [
      "True\n"
     ]
    }
   ],
   "source": [
    "s = Solution()\n",
    "\n",
    "result = s.divideArray(nums = [3,2,3,2,2,2])\n",
    "print (result) "
   ]
  },
  {
   "cell_type": "code",
   "execution_count": 118,
   "id": "7cabfe87",
   "metadata": {},
   "outputs": [
    {
     "name": "stdout",
     "output_type": "stream",
     "text": [
      "False\n"
     ]
    }
   ],
   "source": [
    "s = Solution()\n",
    "\n",
    "result = s.divideArray(nums = [1,2,3,4])\n",
    "print (result) "
   ]
  },
  {
   "cell_type": "markdown",
   "id": "68564999",
   "metadata": {},
   "source": [
    "### 2570. Merge Two 2D Arrays by Summing Values"
   ]
  },
  {
   "cell_type": "code",
   "execution_count": 198,
   "id": "aba6100b",
   "metadata": {},
   "outputs": [],
   "source": [
    "class Solution:\n",
    "    def mergeArrays(self, nums1: List[List[int]], nums2: List[List[int]]) -> List[List[int]]:\n",
    "        \n",
    "        def l_creator(n):\n",
    "            f = [] \n",
    "            s =[]\n",
    "            for i in range(len(n)):\n",
    "                f.append(n[i][0])\n",
    "                s.append(n[i][1])\n",
    "            return f, s\n",
    "        \n",
    "        f1, l1= l_creator(nums1)\n",
    "        f2, l2 = l_creator(nums2)\n",
    "        \n",
    "        n1 = dict(zip(f1, l1))\n",
    "        n2 = dict(zip(f2, l2))\n",
    "        \n",
    "        d_f = {}\n",
    "        for k, v in n1.items():\n",
    "            if k in n2:\n",
    "                d_f[k] = v + n2[k]\n",
    "            else:\n",
    "                d_f[k] = v\n",
    "        \n",
    "        for k, v in n2.items():\n",
    "            \n",
    "            if k not in n1:\n",
    "                    d_f[k] = v\n",
    "        \n",
    "\n",
    "        return [[k, v] for k, v in dict(sorted(d_f.items())).items()]\n",
    "    \n",
    "          "
   ]
  },
  {
   "cell_type": "code",
   "execution_count": 199,
   "id": "6feae860",
   "metadata": {},
   "outputs": [
    {
     "name": "stdout",
     "output_type": "stream",
     "text": [
      "[[1, 6], [2, 3], [3, 2], [4, 6]]\n"
     ]
    }
   ],
   "source": [
    "s = Solution()\n",
    "\n",
    "result = s.mergeArrays(nums1 = [[1,2],[2,3],[4,5]], nums2 = [[1,4],[3,2],[4,1]])\n",
    "print (result) "
   ]
  },
  {
   "cell_type": "code",
   "execution_count": 200,
   "id": "f69a6fc2",
   "metadata": {},
   "outputs": [
    {
     "name": "stdout",
     "output_type": "stream",
     "text": [
      "[[1, 3], [2, 4], [3, 6], [4, 3], [5, 5]]\n"
     ]
    }
   ],
   "source": [
    "s = Solution()\n",
    "\n",
    "result = s.mergeArrays(nums1 = [[2,4],[3,6],[5,5]], nums2 = [[1,3],[4,3]])\n",
    "print (result) "
   ]
  },
  {
   "cell_type": "markdown",
   "id": "30a1d613",
   "metadata": {},
   "source": [
    "### 1122. Relative Sort Array\n"
   ]
  },
  {
   "cell_type": "code",
   "execution_count": 869,
   "id": "1352d1fa",
   "metadata": {},
   "outputs": [],
   "source": [
    "class Solution:\n",
    "    def relativeSortArray(self, arr1: List[int], arr2: List[int]) -> List[int]:\n",
    "        \n",
    "        order = {}\n",
    "        \n",
    "        for i in range(len(arr2)):\n",
    "            order[arr2[i]] = i\n",
    "        \n",
    "        arr1.sort(key=lambda x:order.get(x, 1000 + x))\n",
    "\n",
    "        return arr1"
   ]
  },
  {
   "cell_type": "code",
   "execution_count": 870,
   "id": "35b3c19c",
   "metadata": {},
   "outputs": [
    {
     "name": "stdout",
     "output_type": "stream",
     "text": [
      "[2, 2, 2, 1, 4, 3, 3, 9, 6, 7, 19]\n"
     ]
    }
   ],
   "source": [
    "s = Solution()\n",
    "\n",
    "result = s.relativeSortArray(arr1 = [2,3,1,3,2,4,6,7,9,2,19], arr2 = [2,1,4,3,9,6])\n",
    "print (result) "
   ]
  },
  {
   "cell_type": "code",
   "execution_count": 871,
   "id": "bca8aa81",
   "metadata": {},
   "outputs": [
    {
     "name": "stdout",
     "output_type": "stream",
     "text": [
      "[22, 28, 8, 6, 17, 44]\n"
     ]
    }
   ],
   "source": [
    "s = Solution()\n",
    "\n",
    "result = s.relativeSortArray( arr1 = [28,6,22,8,44,17], arr2 = [22,28,8,6])\n",
    "print (result) "
   ]
  },
  {
   "cell_type": "markdown",
   "id": "a1c22786",
   "metadata": {},
   "source": [
    "### 387. First Unique Character in a String\n"
   ]
  },
  {
   "cell_type": "code",
   "execution_count": 872,
   "id": "654990b5",
   "metadata": {},
   "outputs": [],
   "source": [
    "class Solution:\n",
    "    def firstUniqChar(self, s: str) -> int:\n",
    "        \n",
    "        d = {}\n",
    "        for i in s:\n",
    "            if i not in d:\n",
    "                d[i] = 1\n",
    "            else:\n",
    "                d[i] +=1\n",
    "                \n",
    "        for k, v in d.items():\n",
    "            if v == 1:\n",
    "                return s.index(k)\n",
    "        return -1\n",
    "            "
   ]
  },
  {
   "cell_type": "code",
   "execution_count": 873,
   "id": "07f1777a",
   "metadata": {},
   "outputs": [
    {
     "name": "stdout",
     "output_type": "stream",
     "text": [
      "0\n"
     ]
    }
   ],
   "source": [
    "s = Solution()\n",
    "\n",
    "result = s.firstUniqChar(s = \"leetcode\" )\n",
    "print (result) "
   ]
  },
  {
   "cell_type": "code",
   "execution_count": 874,
   "id": "d1fd58ee",
   "metadata": {},
   "outputs": [
    {
     "name": "stdout",
     "output_type": "stream",
     "text": [
      "2\n"
     ]
    }
   ],
   "source": [
    "s = Solution()\n",
    "\n",
    "result = s.firstUniqChar(s = \"loveleetcode\" )\n",
    "print (result) "
   ]
  },
  {
   "cell_type": "code",
   "execution_count": 875,
   "id": "3fab0b1a",
   "metadata": {},
   "outputs": [
    {
     "name": "stdout",
     "output_type": "stream",
     "text": [
      "-1\n"
     ]
    }
   ],
   "source": [
    "s = Solution()\n",
    "\n",
    "result = s.firstUniqChar(s = \"aabb\" )\n",
    "print (result) "
   ]
  },
  {
   "cell_type": "markdown",
   "id": "2c954631",
   "metadata": {},
   "source": [
    "### 1496. Path Crossing\n",
    "\n"
   ]
  },
  {
   "cell_type": "code",
   "execution_count": 923,
   "id": "bc8009b0",
   "metadata": {},
   "outputs": [],
   "source": [
    "from operator import add\n",
    "class Solution:\n",
    "    def isPathCrossing(self, path: str) -> bool:\n",
    "        l = [[0, 0]]\n",
    "        d = [0, 0]\n",
    "        for i in path:\n",
    "            \n",
    "            if i == 'N':\n",
    "                d = list(map(add, d, [1, 0]))\n",
    "            elif i == 'S':\n",
    "                d = list(map(add, d, [-1, 0]))\n",
    "            elif i == 'E':\n",
    "                d = list(map(add, d, [0, 1]))\n",
    "            else:\n",
    "                d = list(map(add, d, [0, -1]))\n",
    "            l.append(d)\n",
    "        \n",
    "        for i in range(len(l)):\n",
    "            for j in range(i+1, len(l)):\n",
    "                if l[i] == l[j]:\n",
    "                    return True\n",
    "        return False\n",
    "                "
   ]
  },
  {
   "cell_type": "code",
   "execution_count": 924,
   "id": "ce47a948",
   "metadata": {},
   "outputs": [
    {
     "name": "stdout",
     "output_type": "stream",
     "text": [
      "False\n"
     ]
    }
   ],
   "source": [
    "s = Solution()\n",
    "\n",
    "result = s.isPathCrossing(path = \"NES\" )\n",
    "print (result) "
   ]
  },
  {
   "cell_type": "code",
   "execution_count": 925,
   "id": "a9c80662",
   "metadata": {},
   "outputs": [
    {
     "name": "stdout",
     "output_type": "stream",
     "text": [
      "True\n"
     ]
    }
   ],
   "source": [
    "s = Solution()\n",
    "\n",
    "result = s.isPathCrossing(path = \"NESWW\" )\n",
    "print (result) "
   ]
  },
  {
   "cell_type": "markdown",
   "id": "7c6d0772",
   "metadata": {},
   "source": [
    "### 290. Word Pattern\n",
    "\n"
   ]
  },
  {
   "cell_type": "code",
   "execution_count": 989,
   "id": "91ca0edc",
   "metadata": {},
   "outputs": [],
   "source": [
    "class Solution:\n",
    "    def wordPattern(self, pattern: str, s: str) -> bool:\n",
    "        \n",
    "        ss = s.split()\n",
    "        \n",
    "        if len(ss) != len(pattern):\n",
    "            return False\n",
    "        \n",
    "        ss_map = {}\n",
    "        for i in range(len(ss)):\n",
    "            ss_map[ss[i]] = pattern[i]\n",
    "        \n",
    "        pattern_map = {}\n",
    "        for i in range(len(pattern)):\n",
    "            pattern_map[pattern[i]] = ss[i]\n",
    "        \n",
    "        for i in range(len(pattern)):\n",
    "            if pattern[i] not in pattern_map and ss[i] not in ss_map:\n",
    "                pattern_map[pattern[i]] = ss[i] \n",
    "                ss_map[ss[i]] = pattern[i] \n",
    "            if pattern[i] in pattern_map and pattern_map[pattern[i]] != ss[i] :\n",
    "                    return False\n",
    "            if ss[i]  in ss_map and ss_map[ss[i] ] != pattern[i] :\n",
    "                    return False\n",
    "                    \n",
    "        return True"
   ]
  },
  {
   "cell_type": "code",
   "execution_count": 990,
   "id": "5fdf1513",
   "metadata": {},
   "outputs": [
    {
     "name": "stdout",
     "output_type": "stream",
     "text": [
      "True\n"
     ]
    }
   ],
   "source": [
    "s = Solution()\n",
    "\n",
    "result = s.wordPattern(pattern = \"abba\", s = \"dog cat cat dog\")\n",
    "print (result) "
   ]
  },
  {
   "cell_type": "code",
   "execution_count": 991,
   "id": "19114e68",
   "metadata": {},
   "outputs": [
    {
     "name": "stdout",
     "output_type": "stream",
     "text": [
      "False\n"
     ]
    }
   ],
   "source": [
    "s = Solution()\n",
    "\n",
    "result = s.wordPattern(pattern = \"abba\", s = \"dog cat cat fish\")\n",
    "print (result) "
   ]
  },
  {
   "cell_type": "code",
   "execution_count": 992,
   "id": "080ed246",
   "metadata": {},
   "outputs": [
    {
     "name": "stdout",
     "output_type": "stream",
     "text": [
      "False\n"
     ]
    }
   ],
   "source": [
    "s = Solution()\n",
    "\n",
    "result = s.wordPattern(pattern = \"aaaa\", s = \"dog cat cat dog\")\n",
    "print (result) "
   ]
  },
  {
   "cell_type": "code",
   "execution_count": 993,
   "id": "74252b23",
   "metadata": {},
   "outputs": [
    {
     "name": "stdout",
     "output_type": "stream",
     "text": [
      "False\n"
     ]
    }
   ],
   "source": [
    "s = Solution()\n",
    "\n",
    "result = s.wordPattern(pattern = \"abaaba\", s = \"dog cat fish fish cat dog\")\n",
    "print (result) \n"
   ]
  },
  {
   "cell_type": "markdown",
   "id": "763f2a9e",
   "metadata": {},
   "source": [
    "### 141. Linked List Cycle\n"
   ]
  },
  {
   "cell_type": "code",
   "execution_count": 1056,
   "id": "d266be74",
   "metadata": {},
   "outputs": [],
   "source": [
    "from typing import Optional\n",
    "\n",
    "class ListNode:\n",
    "    def __init__(self, x):\n",
    "        self.val = x\n",
    "        self.next = None\n",
    "\n",
    "class Solution:\n",
    "    def hasCycle(self, head: Optional[ListNode]) -> bool:\n",
    "        \n",
    "        d = set()\n",
    "        temp = head \n",
    "        while temp:\n",
    "            if temp in d:\n",
    "                return True\n",
    "            else:\n",
    "                d.add(temp) \n",
    "                temp = temp.next\n",
    "                \n",
    "        return False"
   ]
  },
  {
   "cell_type": "code",
   "execution_count": 1057,
   "id": "b191d2d1",
   "metadata": {},
   "outputs": [
    {
     "name": "stdout",
     "output_type": "stream",
     "text": [
      "True\n"
     ]
    }
   ],
   "source": [
    "c = Solution()\n",
    "head = ListNode(3)\n",
    "node2 = ListNode(2)\n",
    "node3 = ListNode(0)\n",
    "node4 = ListNode(-4)\n",
    "\n",
    "head.next = node2\n",
    "node2.next = node3\n",
    "node3.next = node4\n",
    "node4.next = node2  \n",
    "\n",
    "has_cycle = c.hasCycle(head)\n",
    "print(has_cycle)\n"
   ]
  },
  {
   "cell_type": "code",
   "execution_count": 1058,
   "id": "cf831967",
   "metadata": {},
   "outputs": [
    {
     "name": "stdout",
     "output_type": "stream",
     "text": [
      "False\n"
     ]
    }
   ],
   "source": [
    "c = Solution()\n",
    "head = ListNode(1)\n",
    "node2 = ListNode(2)\n",
    "\n",
    "head.next = node2\n",
    "\n",
    "\n",
    "has_cycle = c.hasCycle(head)\n",
    "print(has_cycle)\n"
   ]
  },
  {
   "cell_type": "code",
   "execution_count": 1059,
   "id": "8f6e44cd",
   "metadata": {},
   "outputs": [
    {
     "name": "stdout",
     "output_type": "stream",
     "text": [
      "False\n"
     ]
    }
   ],
   "source": [
    "c = Solution()\n",
    "head = ListNode(1)\n",
    "\n",
    "\n",
    "\n",
    "has_cycle = c.hasCycle(head)\n",
    "print(has_cycle)\n"
   ]
  },
  {
   "cell_type": "markdown",
   "id": "9625ad4a",
   "metadata": {},
   "source": [
    "### 2357. Make Array Zero by Subtracting Equal Amounts"
   ]
  },
  {
   "cell_type": "code",
   "execution_count": 1099,
   "id": "86ef74da",
   "metadata": {},
   "outputs": [],
   "source": [
    "class Solution:\n",
    "    def minimumOperations(self, nums: List[int]) -> int:\n",
    "        \n",
    "        c = 0\n",
    "        while sum(nums) != 0:\n",
    "            non_zero = [x for x in nums if x != 0]\n",
    "            x = min(non_zero)\n",
    "            \n",
    "            new_l = []\n",
    "            for i in nums:\n",
    "                if i !=0:\n",
    "                    new_l.append(i - x)\n",
    "                else:\n",
    "                    new_l.append(i)\n",
    "            c += 1\n",
    "            nums = new_l\n",
    "        return c\n",
    "            \n",
    "         \n",
    "    "
   ]
  },
  {
   "cell_type": "code",
   "execution_count": 1100,
   "id": "b2c6569c",
   "metadata": {},
   "outputs": [
    {
     "name": "stdout",
     "output_type": "stream",
     "text": [
      "3\n"
     ]
    }
   ],
   "source": [
    "s = Solution()\n",
    "\n",
    "result = s.minimumOperations(nums = [1,5,0,3,5])\n",
    "print (result) "
   ]
  },
  {
   "cell_type": "code",
   "execution_count": 1101,
   "id": "922a9ae6",
   "metadata": {},
   "outputs": [
    {
     "name": "stdout",
     "output_type": "stream",
     "text": [
      "0\n"
     ]
    }
   ],
   "source": [
    "s = Solution()\n",
    "\n",
    "result = s.minimumOperations(nums = [0])\n",
    "print (result) "
   ]
  },
  {
   "cell_type": "markdown",
   "id": "5ceb9ba9",
   "metadata": {},
   "source": [
    "### 1394. Find Lucky Integer in an Array\n"
   ]
  },
  {
   "cell_type": "code",
   "execution_count": 2,
   "id": "890a7b29",
   "metadata": {},
   "outputs": [],
   "source": [
    "from typing import List\n",
    "class Solution:\n",
    "    def findLucky(self, arr: List[int]) -> int:\n",
    "        \n",
    "        d ={}\n",
    "        \n",
    "        for i in arr:\n",
    "            if i not in d:\n",
    "                d[i] = 1\n",
    "            else:\n",
    "                d[i] += 1\n",
    "                \n",
    "        l = []\n",
    "        for k, v in d.items():\n",
    "            if k == v:\n",
    "                l.append(k)\n",
    "        if l:\n",
    "            return max(l)\n",
    "        else:\n",
    "            return -1"
   ]
  },
  {
   "cell_type": "code",
   "execution_count": 3,
   "id": "8b344bb6",
   "metadata": {},
   "outputs": [
    {
     "name": "stdout",
     "output_type": "stream",
     "text": [
      "2\n"
     ]
    }
   ],
   "source": [
    "s = Solution()\n",
    "\n",
    "result = s.findLucky( arr = [2,2,3,4])\n",
    "print (result) "
   ]
  },
  {
   "cell_type": "code",
   "execution_count": 4,
   "id": "73d9a036",
   "metadata": {},
   "outputs": [
    {
     "name": "stdout",
     "output_type": "stream",
     "text": [
      "3\n"
     ]
    }
   ],
   "source": [
    "s = Solution()\n",
    "\n",
    "result = s.findLucky( arr = [1,2,2,3,3,3])\n",
    "print (result) "
   ]
  },
  {
   "cell_type": "code",
   "execution_count": 5,
   "id": "9a6a512b",
   "metadata": {},
   "outputs": [
    {
     "name": "stdout",
     "output_type": "stream",
     "text": [
      "-1\n"
     ]
    }
   ],
   "source": [
    "s = Solution()\n",
    "\n",
    "result = s.findLucky( arr = [2,2,2,3,3])\n",
    "print (result) "
   ]
  },
  {
   "cell_type": "markdown",
   "id": "d01a9356",
   "metadata": {},
   "source": [
    "## 6. Two Pointers"
   ]
  },
  {
   "cell_type": "markdown",
   "id": "8d68ab83",
   "metadata": {},
   "source": [
    "### 832. Flipping an Image\n"
   ]
  },
  {
   "cell_type": "code",
   "execution_count": 226,
   "id": "099b2af4",
   "metadata": {},
   "outputs": [],
   "source": [
    "class Solution:\n",
    "    def flipAndInvertImage(self, image: List[List[int]]) -> List[List[int]]:\n",
    "        \n",
    "        res = [] \n",
    "        for i in range(len(image)):\n",
    "            \n",
    "            res.append(image[i][::-1])\n",
    "            \n",
    "            \n",
    "        for i in range(len(res)): \n",
    "            for j in range(len(res[0])):\n",
    "                \n",
    "                if res[i][j] == 1:\n",
    "                    res[i][j] = 0\n",
    "                else:\n",
    "                    res[i][j] = 1\n",
    "        return res\n",
    "                    "
   ]
  },
  {
   "cell_type": "code",
   "execution_count": 227,
   "id": "2fe09c5f",
   "metadata": {},
   "outputs": [
    {
     "name": "stdout",
     "output_type": "stream",
     "text": [
      "[[1, 0, 0], [0, 1, 0], [1, 1, 1]]\n"
     ]
    }
   ],
   "source": [
    "s = Solution()\n",
    "\n",
    "result = s.flipAndInvertImage(image = [[1,1,0],[1,0,1],[0,0,0]])\n",
    "print (result) "
   ]
  },
  {
   "cell_type": "code",
   "execution_count": 228,
   "id": "dbdc74e4",
   "metadata": {},
   "outputs": [
    {
     "name": "stdout",
     "output_type": "stream",
     "text": [
      "[[1, 1, 0, 0], [0, 1, 1, 0], [0, 0, 0, 1], [1, 0, 1, 0]]\n"
     ]
    }
   ],
   "source": [
    "s = Solution()\n",
    "\n",
    "result = s.flipAndInvertImage(image = [[1,1,0,0],[1,0,0,1],[0,1,1,1],[1,0,1,0]])\n",
    "print (result) "
   ]
  },
  {
   "cell_type": "markdown",
   "id": "cf38aee7",
   "metadata": {},
   "source": [
    "### 905. Sort Array By Parity\n"
   ]
  },
  {
   "cell_type": "code",
   "execution_count": 231,
   "id": "5c0ff193",
   "metadata": {},
   "outputs": [],
   "source": [
    "class Solution:\n",
    "    def sortArrayByParity(self, nums: List[int]) -> List[int]:\n",
    "        \n",
    "        even = [] \n",
    "        odd = []\n",
    "        for i in nums:\n",
    "            if i%2 == 0:\n",
    "                even.append(i)\n",
    "            else:\n",
    "                odd.append(i)\n",
    "        return even + odd"
   ]
  },
  {
   "cell_type": "code",
   "execution_count": 232,
   "id": "7285ef84",
   "metadata": {},
   "outputs": [
    {
     "name": "stdout",
     "output_type": "stream",
     "text": [
      "[2, 4, 3, 1]\n"
     ]
    }
   ],
   "source": [
    "s = Solution()\n",
    "\n",
    "result = s.sortArrayByParity(nums = [3,1,2,4])\n",
    "print (result) "
   ]
  },
  {
   "cell_type": "code",
   "execution_count": 233,
   "id": "1e3e0b4e",
   "metadata": {},
   "outputs": [
    {
     "name": "stdout",
     "output_type": "stream",
     "text": [
      "[0]\n"
     ]
    }
   ],
   "source": [
    "s = Solution()\n",
    "\n",
    "result = s.sortArrayByParity(nums = [0])\n",
    "print (result) "
   ]
  },
  {
   "cell_type": "markdown",
   "id": "f6c6438d",
   "metadata": {},
   "source": [
    "### 977. Squares of a Sorted Array\n"
   ]
  },
  {
   "cell_type": "code",
   "execution_count": 237,
   "id": "82edcd9f",
   "metadata": {},
   "outputs": [],
   "source": [
    "class Solution:\n",
    "    def sortedSquares(self, nums: List[int]) -> List[int]:\n",
    "        res = [] \n",
    "        for n in nums:\n",
    "            res.append(n**2)\n",
    "            \n",
    "        return sorted(res)"
   ]
  },
  {
   "cell_type": "code",
   "execution_count": 238,
   "id": "d029a594",
   "metadata": {},
   "outputs": [
    {
     "name": "stdout",
     "output_type": "stream",
     "text": [
      "[0, 1, 9, 16, 100]\n"
     ]
    }
   ],
   "source": [
    "s = Solution()\n",
    "\n",
    "result = s.sortedSquares(nums = [-4,-1,0,3,10])\n",
    "print (result) "
   ]
  },
  {
   "cell_type": "code",
   "execution_count": 239,
   "id": "b83f6f23",
   "metadata": {},
   "outputs": [
    {
     "name": "stdout",
     "output_type": "stream",
     "text": [
      "[4, 9, 9, 49, 121]\n"
     ]
    }
   ],
   "source": [
    "s = Solution()\n",
    "\n",
    "result = s.sortedSquares([-7,-3,2,3,11])\n",
    "print (result) "
   ]
  },
  {
   "cell_type": "markdown",
   "id": "9f7aa2a6",
   "metadata": {},
   "source": [
    "### 349. Intersection of Two Arrays\n"
   ]
  },
  {
   "cell_type": "code",
   "execution_count": 242,
   "id": "3ae23df0",
   "metadata": {},
   "outputs": [],
   "source": [
    "class Solution:\n",
    "    def intersection(self, nums1: List[int], nums2: List[int]) -> List[int]:\n",
    "        \n",
    "        return list(set(nums1).intersection(set(nums2)))"
   ]
  },
  {
   "cell_type": "code",
   "execution_count": 243,
   "id": "15d26dd8",
   "metadata": {},
   "outputs": [
    {
     "name": "stdout",
     "output_type": "stream",
     "text": [
      "[2]\n"
     ]
    }
   ],
   "source": [
    "s = Solution()\n",
    "\n",
    "result = s.intersection( nums1 = [1,2,2,1], nums2 = [2,2])\n",
    "print (result) "
   ]
  },
  {
   "cell_type": "code",
   "execution_count": 244,
   "id": "3a206027",
   "metadata": {},
   "outputs": [
    {
     "name": "stdout",
     "output_type": "stream",
     "text": [
      "[9, 4]\n"
     ]
    }
   ],
   "source": [
    "s = Solution()\n",
    "\n",
    "result = s.intersection(nums1 = [4,9,5], nums2 = [9,4,9,8,4])\n",
    "print (result) "
   ]
  },
  {
   "cell_type": "markdown",
   "id": "4f3ec5c4",
   "metadata": {},
   "source": [
    "### 922. Sort Array By Parity II\n"
   ]
  },
  {
   "cell_type": "code",
   "execution_count": 249,
   "id": "5c162e30",
   "metadata": {},
   "outputs": [],
   "source": [
    "class Solution:\n",
    "    def sortArrayByParityII(self, nums: List[int]) -> List[int]:\n",
    "        \n",
    "        res = [] \n",
    "        odd = []\n",
    "        even = [] \n",
    "        for i in range(len(nums)):\n",
    "            if nums[i]%2 == 0:\n",
    "                even.append(nums[i])\n",
    "            else:\n",
    "                odd.append(nums[i])\n",
    "                \n",
    "        for i in range(len(nums)):\n",
    "            if i%2 == 0:\n",
    "                res.append(even[int(i/2)])\n",
    "            else:\n",
    "                res.append(odd[int(i/2)])\n",
    "\n",
    "        return res"
   ]
  },
  {
   "cell_type": "code",
   "execution_count": 250,
   "id": "af13c554",
   "metadata": {},
   "outputs": [
    {
     "name": "stdout",
     "output_type": "stream",
     "text": [
      "[4, 5, 2, 7]\n"
     ]
    }
   ],
   "source": [
    "s = Solution()\n",
    "\n",
    "result = s.sortArrayByParityII(nums = [4,2,5,7])\n",
    "print (result) "
   ]
  },
  {
   "cell_type": "code",
   "execution_count": 251,
   "id": "ccc48bc7",
   "metadata": {},
   "outputs": [
    {
     "name": "stdout",
     "output_type": "stream",
     "text": [
      "[2, 3]\n"
     ]
    }
   ],
   "source": [
    "s = Solution()\n",
    "\n",
    "result = s.sortArrayByParityII(nums = [2,3])\n",
    "print (result) "
   ]
  },
  {
   "cell_type": "markdown",
   "id": "99b55ed6",
   "metadata": {},
   "source": [
    "### 2562. Find the Array Concatenation Value\n"
   ]
  },
  {
   "cell_type": "code",
   "execution_count": 460,
   "id": "72286e7c",
   "metadata": {},
   "outputs": [],
   "source": [
    "class Solution:\n",
    "    def findTheArrayConcVal(self, nums: List[int]) -> int:\n",
    "        import math\n",
    "        left = 0\n",
    "        right = len(nums) - 1\n",
    "        concat = 0\n",
    "        \n",
    "        while left <= right:\n",
    "            \n",
    "            if left == right:\n",
    "                concat += nums[math.floor(len(nums)/2 )]\n",
    "            \n",
    "            else:\n",
    "                concat += int(str(nums[left]) + str(nums[right]))\n",
    "            \n",
    "            right -=1\n",
    "            left +=1 \n",
    "            \n",
    "        return concat     "
   ]
  },
  {
   "cell_type": "code",
   "execution_count": 461,
   "id": "036a4d5e",
   "metadata": {},
   "outputs": [
    {
     "name": "stdout",
     "output_type": "stream",
     "text": [
      "596\n"
     ]
    }
   ],
   "source": [
    "s = Solution()\n",
    "\n",
    "result = s.findTheArrayConcVal(nums = [7,52,2,4])\n",
    "print (result) "
   ]
  },
  {
   "cell_type": "code",
   "execution_count": 462,
   "id": "6598b114",
   "metadata": {},
   "outputs": [
    {
     "name": "stdout",
     "output_type": "stream",
     "text": [
      "673\n"
     ]
    }
   ],
   "source": [
    "s = Solution()\n",
    "\n",
    "result = s.findTheArrayConcVal(nums = [5,14,13,8,12])\n",
    "print (result) "
   ]
  },
  {
   "cell_type": "markdown",
   "id": "4da974d5",
   "metadata": {},
   "source": [
    "### 2441. Largest Positive Integer That Exists With Its Negative\n"
   ]
  },
  {
   "cell_type": "code",
   "execution_count": 476,
   "id": "68a92683",
   "metadata": {},
   "outputs": [],
   "source": [
    "class Solution:\n",
    "    def findMaxK(self, nums: List[int]) -> int:\n",
    "        \n",
    "        l =[] \n",
    "        for i in range(len(nums)):\n",
    "            \n",
    "            for j in range(len(nums)):\n",
    "                if  nums[i] == nums[j] * (-1):\n",
    "                    l.append(nums[i])\n",
    "                \n",
    "            \n",
    "        if l:\n",
    "            return max(l)\n",
    "        else:\n",
    "            return -1"
   ]
  },
  {
   "cell_type": "code",
   "execution_count": 477,
   "id": "c67d65f8",
   "metadata": {},
   "outputs": [
    {
     "name": "stdout",
     "output_type": "stream",
     "text": [
      "3\n"
     ]
    }
   ],
   "source": [
    "s = Solution()\n",
    "\n",
    "result = s.findMaxK(nums = [-1,2,-3,3])\n",
    "print (result) "
   ]
  },
  {
   "cell_type": "code",
   "execution_count": 478,
   "id": "45bc9d07",
   "metadata": {},
   "outputs": [
    {
     "name": "stdout",
     "output_type": "stream",
     "text": [
      "7\n"
     ]
    }
   ],
   "source": [
    "s = Solution()\n",
    "\n",
    "result = s.findMaxK(nums = [-1,10,6,7,-7,1])\n",
    "print (result) "
   ]
  },
  {
   "cell_type": "code",
   "execution_count": 479,
   "id": "258836d6",
   "metadata": {},
   "outputs": [
    {
     "name": "stdout",
     "output_type": "stream",
     "text": [
      "-1\n"
     ]
    }
   ],
   "source": [
    "s = Solution()\n",
    "\n",
    "result = s.findMaxK(nums = [-10,8,6,7,-2,-3])\n",
    "print (result) "
   ]
  },
  {
   "cell_type": "markdown",
   "id": "31403abc",
   "metadata": {},
   "source": [
    "### 1385. Find the Distance Value Between Two Arrays\n"
   ]
  },
  {
   "cell_type": "code",
   "execution_count": 485,
   "id": "30f426b7",
   "metadata": {},
   "outputs": [],
   "source": [
    "class Solution:\n",
    "    def findTheDistanceValue(self, arr1: List[int], arr2: List[int], d: int) -> int:\n",
    "        c = 0 \n",
    "        for i in range(len(arr1)):\n",
    "            for j in range(len(arr2)):\n",
    "                \n",
    "                if abs(arr1[i] - arr2[j]) > d:\n",
    "                    pass\n",
    "                else:\n",
    "                    c += 1\n",
    "                    break\n",
    "                    \n",
    "        return len(arr1) - c"
   ]
  },
  {
   "cell_type": "code",
   "execution_count": 486,
   "id": "37bb5ed7",
   "metadata": {},
   "outputs": [
    {
     "name": "stdout",
     "output_type": "stream",
     "text": [
      "2\n"
     ]
    }
   ],
   "source": [
    "s = Solution()\n",
    "\n",
    "result = s.findTheDistanceValue(arr1 = [4,5,8], arr2 = [10,9,1,8], d = 2)\n",
    "print (result) "
   ]
  },
  {
   "cell_type": "code",
   "execution_count": 487,
   "id": "653b86ad",
   "metadata": {},
   "outputs": [
    {
     "name": "stdout",
     "output_type": "stream",
     "text": [
      "2\n"
     ]
    }
   ],
   "source": [
    "s = Solution()\n",
    "\n",
    "result = s.findTheDistanceValue(arr1 = [1,4,2,3], arr2 = [-4,-3,6,10,20,30], d = 3)\n",
    "print (result) "
   ]
  },
  {
   "cell_type": "code",
   "execution_count": 488,
   "id": "8fa0bcb7",
   "metadata": {},
   "outputs": [
    {
     "name": "stdout",
     "output_type": "stream",
     "text": [
      "1\n"
     ]
    }
   ],
   "source": [
    "s = Solution()\n",
    "\n",
    "result = s.findTheDistanceValue(arr1 = [2,1,100,3], arr2 = [-5,-2,10,-3,7], d = 6)\n",
    "print (result) "
   ]
  },
  {
   "cell_type": "markdown",
   "id": "dc42096c",
   "metadata": {},
   "source": [
    "### 696. Count Binary Substrings\n"
   ]
  },
  {
   "cell_type": "code",
   "execution_count": null,
   "id": "ef2868c5",
   "metadata": {},
   "outputs": [],
   "source": [
    "class Solution:\n",
    "    def countBinarySubstrings(self, s: str) -> int:\n",
    "        \n",
    "        for i in range(len(s)):\n",
    "            for j in range(i+1, len(s)):\n",
    "                "
   ]
  },
  {
   "cell_type": "code",
   "execution_count": null,
   "id": "4e7a0c2b",
   "metadata": {},
   "outputs": [],
   "source": [
    "s = Solution()\n",
    "\n",
    "result = s.countBinarySubstrings()\n",
    "print (result) "
   ]
  },
  {
   "cell_type": "code",
   "execution_count": null,
   "id": "417ff666",
   "metadata": {},
   "outputs": [],
   "source": []
  },
  {
   "cell_type": "markdown",
   "id": "63d07673",
   "metadata": {},
   "source": [
    "### 917. Reverse Only Letters\n"
   ]
  },
  {
   "cell_type": "code",
   "execution_count": null,
   "id": "5fbdd024",
   "metadata": {},
   "outputs": [],
   "source": [
    "class Solution:\n",
    "    def reverseOnlyLetters(self, s: str) -> str:\n",
    "        "
   ]
  },
  {
   "cell_type": "code",
   "execution_count": null,
   "id": "805c0555",
   "metadata": {},
   "outputs": [],
   "source": [
    "s = Solution()\n",
    "\n",
    "result = s.()\n",
    "print (result) "
   ]
  },
  {
   "cell_type": "markdown",
   "id": "579c5dd4",
   "metadata": {},
   "source": [
    "### 283. Move Zeroes\n"
   ]
  },
  {
   "cell_type": "code",
   "execution_count": 497,
   "id": "64fa748f",
   "metadata": {},
   "outputs": [],
   "source": [
    "class Solution:\n",
    "    def moveZeroes(self, nums: List[int]) -> None:\n",
    "        \"\"\"\n",
    "        Do not return anything, modify nums in-place instead.\n",
    "        \"\"\"\n",
    "        \n",
    "        for i in range(len(nums)):\n",
    "            if nums[i] == 0:\n",
    "                #nums[i]= nums[-1]\n",
    "                nums.remove(nums[i])\n",
    "                nums.append(0)\n",
    "                \n",
    "        return nums\n",
    "                    \n",
    "                "
   ]
  },
  {
   "cell_type": "code",
   "execution_count": 498,
   "id": "8a8c829d",
   "metadata": {},
   "outputs": [
    {
     "name": "stdout",
     "output_type": "stream",
     "text": [
      "[1, 3, 12, 0, 0]\n"
     ]
    }
   ],
   "source": [
    "s = Solution()\n",
    "\n",
    "result = s.moveZeroes(nums = [0,1,0,3,12])\n",
    "print (result) "
   ]
  },
  {
   "cell_type": "code",
   "execution_count": 499,
   "id": "502a6a0e",
   "metadata": {
    "scrolled": true
   },
   "outputs": [
    {
     "name": "stdout",
     "output_type": "stream",
     "text": [
      "[0]\n"
     ]
    }
   ],
   "source": [
    "s = Solution()\n",
    "\n",
    "result = s.moveZeroes(nums = [0])\n",
    "print (result) "
   ]
  },
  {
   "cell_type": "markdown",
   "id": "08519da2",
   "metadata": {},
   "source": [
    "### 653. Two Sum IV - Input is a BST\n"
   ]
  },
  {
   "cell_type": "code",
   "execution_count": null,
   "id": "a8ff80e2",
   "metadata": {},
   "outputs": [],
   "source": [
    "# Definition for a binary tree node.\n",
    "class TreeNode:\n",
    "    def __init__(self, val=0, left=None, right=None):\n",
    "        self.val = val\n",
    "        self.left = left\n",
    "        self.right = right\n",
    "class Solution:\n",
    "    def findTarget(self, root: Optional[TreeNode], k: int) -> bool:\n",
    "        \n",
    "        \n",
    "            "
   ]
  },
  {
   "cell_type": "code",
   "execution_count": null,
   "id": "a107c7a1",
   "metadata": {},
   "outputs": [],
   "source": [
    "s = Solution()\n",
    "\n",
    "result = s.()\n",
    "print (result) "
   ]
  },
  {
   "cell_type": "markdown",
   "id": "22bf1d22",
   "metadata": {},
   "source": [
    "### 2465. Number of Distinct Averages\n"
   ]
  },
  {
   "cell_type": "code",
   "execution_count": 530,
   "id": "4798084d",
   "metadata": {},
   "outputs": [],
   "source": [
    "class Solution:\n",
    "    def distinctAverages(self, nums: List[int]) -> int:\n",
    "        \n",
    "        sorted_n = sorted(nums)\n",
    "        \n",
    "        left = 0\n",
    "        right = len(nums) - 1\n",
    "        \n",
    "        res = [] \n",
    "        while left < right:\n",
    "            res.append((sorted_n[left] + sorted_n[right])/2)\n",
    "            left +=1\n",
    "            right -=1\n",
    "            \n",
    "        return len(set(res))\n",
    "        \n",
    "        "
   ]
  },
  {
   "cell_type": "code",
   "execution_count": 531,
   "id": "c138b28d",
   "metadata": {},
   "outputs": [
    {
     "name": "stdout",
     "output_type": "stream",
     "text": [
      "2\n"
     ]
    }
   ],
   "source": [
    "s = Solution()\n",
    "\n",
    "result = s.distinctAverages([4,1,4,0,3,5])\n",
    "print (result) "
   ]
  },
  {
   "cell_type": "code",
   "execution_count": 532,
   "id": "37c24eae",
   "metadata": {},
   "outputs": [
    {
     "name": "stdout",
     "output_type": "stream",
     "text": [
      "1\n"
     ]
    }
   ],
   "source": [
    "s = Solution()\n",
    "\n",
    "result = s.distinctAverages(nums = [1,100])\n",
    "print (result) "
   ]
  },
  {
   "cell_type": "code",
   "execution_count": 533,
   "id": "e32d392d",
   "metadata": {},
   "outputs": [
    {
     "name": "stdout",
     "output_type": "stream",
     "text": [
      "2\n"
     ]
    }
   ],
   "source": [
    "s = Solution()\n",
    "\n",
    "result = s.distinctAverages([10,2,2,0,4,0])\n",
    "print (result)"
   ]
  },
  {
   "cell_type": "markdown",
   "id": "d5a12e1b",
   "metadata": {},
   "source": [
    "### 202. Happy Number\n"
   ]
  },
  {
   "cell_type": "code",
   "execution_count": 606,
   "id": "5bd3d320",
   "metadata": {},
   "outputs": [],
   "source": [
    "class Solution:\n",
    "    def isHappy(self, n: int) -> bool:\n",
    "        \n",
    "        new_n = 0\n",
    "        d ={}        \n",
    "        while new_n != 1:\n",
    "            new_n = 0\n",
    "            for i in str(n):\n",
    "                new_n += int(i)**2\n",
    "            \n",
    "            if new_n not in d:\n",
    "                d[new_n] = 1\n",
    "            else:\n",
    "                d[new_n] += 1\n",
    "                            \n",
    "            if new_n == 1:\n",
    "                return True\n",
    "            \n",
    "            if d[new_n] > 1:\n",
    "                return False\n",
    "                \n",
    "            n = new_n\n",
    "           \n",
    "        return True   "
   ]
  },
  {
   "cell_type": "code",
   "execution_count": 607,
   "id": "9e051fd7",
   "metadata": {},
   "outputs": [
    {
     "name": "stdout",
     "output_type": "stream",
     "text": [
      "True\n"
     ]
    }
   ],
   "source": [
    "s = Solution()\n",
    "\n",
    "result = s.isHappy(n = 19)\n",
    "print (result)"
   ]
  },
  {
   "cell_type": "code",
   "execution_count": 608,
   "id": "4226bbc9",
   "metadata": {},
   "outputs": [
    {
     "name": "stdout",
     "output_type": "stream",
     "text": [
      "False\n"
     ]
    }
   ],
   "source": [
    "s = Solution()\n",
    "\n",
    "result = s.isHappy(n = 2)\n",
    "print (result)"
   ]
  },
  {
   "cell_type": "markdown",
   "id": "6954c289",
   "metadata": {},
   "source": [
    "### 392. Is Subsequence\n"
   ]
  },
  {
   "cell_type": "code",
   "execution_count": 609,
   "id": "95e2b322",
   "metadata": {},
   "outputs": [],
   "source": [
    "class Solution:\n",
    "    def isSubsequence(self, s: str, t: str) -> bool:\n",
    "        \n",
    "        for i in range(len(t)):\n",
    "            \n",
    "            if s in t[i:]:\n",
    "                return True\n",
    "        return False"
   ]
  },
  {
   "cell_type": "code",
   "execution_count": null,
   "id": "fb575113",
   "metadata": {},
   "outputs": [],
   "source": [
    "s = Solution()\n",
    "\n",
    "result = s.isSubsequence(s = \"abc\", t = \"ahbgdc\")\n",
    "print (result)"
   ]
  },
  {
   "cell_type": "markdown",
   "id": "9d7ec2b8",
   "metadata": {},
   "source": [
    "### 27. Remove Element\n",
    "\n"
   ]
  },
  {
   "cell_type": "code",
   "execution_count": null,
   "id": "46c9840e",
   "metadata": {},
   "outputs": [],
   "source": [
    "class Solution:\n",
    "    def removeElement(self, nums: List[int], val: int) -> int:\n",
    "        "
   ]
  },
  {
   "cell_type": "code",
   "execution_count": null,
   "id": "e2f866f1",
   "metadata": {},
   "outputs": [],
   "source": [
    "s = Solution()\n",
    "\n",
    "result = s.()\n",
    "print (result)"
   ]
  },
  {
   "cell_type": "markdown",
   "id": "635fa1a2",
   "metadata": {},
   "source": [
    "### 2540. Minimum Common Value\n"
   ]
  },
  {
   "cell_type": "code",
   "execution_count": 635,
   "id": "da15b392",
   "metadata": {},
   "outputs": [],
   "source": [
    "class Solution:\n",
    "    def getCommon(self, nums1: List[int], nums2: List[int]) -> int:\n",
    "        \n",
    "        f = set(nums1).intersection(set(nums2)) \n",
    "        #or f = set(nums1) & set(nums2)\n",
    "        if f:\n",
    "            return min(f)\n",
    "        else:\n",
    "            return -1\n",
    "        "
   ]
  },
  {
   "cell_type": "code",
   "execution_count": 636,
   "id": "54d88a8f",
   "metadata": {},
   "outputs": [
    {
     "name": "stdout",
     "output_type": "stream",
     "text": [
      "2\n"
     ]
    }
   ],
   "source": [
    "s = Solution()\n",
    "\n",
    "result = s.getCommon(nums1 = [1,2,3], nums2 = [2,4])\n",
    "print (result)"
   ]
  },
  {
   "cell_type": "code",
   "execution_count": 637,
   "id": "708e8bcf",
   "metadata": {},
   "outputs": [
    {
     "name": "stdout",
     "output_type": "stream",
     "text": [
      "2\n"
     ]
    }
   ],
   "source": [
    "s = Solution()\n",
    "\n",
    "result = s.getCommon(nums1 = [1,2,3,6], nums2 = [2,3,4,5])\n",
    "print (result)"
   ]
  },
  {
   "cell_type": "markdown",
   "id": "992bbe90",
   "metadata": {},
   "source": [
    "### 345. Reverse Vowels of a String\n"
   ]
  },
  {
   "cell_type": "code",
   "execution_count": 657,
   "id": "991e05f5",
   "metadata": {},
   "outputs": [],
   "source": [
    "class Solution:\n",
    "    def reverseVowels(self, s: str) -> str:\n",
    "        \n",
    "        l_s = list(s)\n",
    "        \n",
    "        left = 0\n",
    "        right = len(s) - 1\n",
    "        \n",
    "        while left < right:\n",
    "            \n",
    "            if l_s[left] not in 'aeiouAEIOU':\n",
    "                left += 1 \n",
    "                \n",
    "            elif l_s[right] not in 'aeiouAEIOU':\n",
    "                right -=1\n",
    "                \n",
    "            else:\n",
    "                temp = l_s[left] \n",
    "                l_s[left] = l_s[right]\n",
    "                l_s[right] = temp \n",
    "                \n",
    "                left +=1\n",
    "                right -=1          \n",
    "                \n",
    "        return ''.join(l_s)"
   ]
  },
  {
   "cell_type": "code",
   "execution_count": 658,
   "id": "47ffa0d4",
   "metadata": {},
   "outputs": [
    {
     "name": "stdout",
     "output_type": "stream",
     "text": [
      "holle\n"
     ]
    }
   ],
   "source": [
    "s = Solution()\n",
    "\n",
    "result = s.reverseVowels(s = \"hello\")\n",
    "print (result)"
   ]
  },
  {
   "cell_type": "code",
   "execution_count": 659,
   "id": "0193094c",
   "metadata": {},
   "outputs": [
    {
     "name": "stdout",
     "output_type": "stream",
     "text": [
      "leotcede\n"
     ]
    }
   ],
   "source": [
    "s = Solution()\n",
    "\n",
    "result = s.reverseVowels(s = \"leetcode\")\n",
    "print (result)"
   ]
  },
  {
   "cell_type": "markdown",
   "id": "bafbfba6",
   "metadata": {},
   "source": [
    "## 7. String Matching"
   ]
  },
  {
   "cell_type": "markdown",
   "id": "ec50e574",
   "metadata": {},
   "source": [
    "### 1408. String Matching in an Array\n"
   ]
  },
  {
   "cell_type": "code",
   "execution_count": 689,
   "id": "466cd1cd",
   "metadata": {},
   "outputs": [],
   "source": [
    "class Solution:\n",
    "    def stringMatching(self, words: List[str]) -> List[str]:\n",
    "        \n",
    "        l = []\n",
    "        for i in range(len(words)):\n",
    "            for j in range(len(words)):\n",
    "                \n",
    "                if i!=j and words[i] in words[j]:\n",
    "                    l.append(words[i])\n",
    "        \n",
    "# or\n",
    "        #         l = []\n",
    "#         for i in words:\n",
    "#             for j in words:\n",
    "#                 if i!=j and i in j:\n",
    "#                     l.append(i)\n",
    "                    \n",
    "        return list(set(l))"
   ]
  },
  {
   "cell_type": "code",
   "execution_count": 690,
   "id": "1dc23430",
   "metadata": {},
   "outputs": [
    {
     "name": "stdout",
     "output_type": "stream",
     "text": [
      "['hero', 'as']\n"
     ]
    }
   ],
   "source": [
    "s = Solution()\n",
    "\n",
    "result = s.stringMatching(words = [\"mass\",\"as\",\"hero\",\"superhero\"])\n",
    "print (result)"
   ]
  },
  {
   "cell_type": "code",
   "execution_count": 691,
   "id": "2ed1511a",
   "metadata": {},
   "outputs": [
    {
     "name": "stdout",
     "output_type": "stream",
     "text": [
      "['code', 'et']\n"
     ]
    }
   ],
   "source": [
    "s = Solution()\n",
    "\n",
    "result = s.stringMatching(words = [\"leetcode\",\"et\",\"code\"])\n",
    "print (result)"
   ]
  },
  {
   "cell_type": "code",
   "execution_count": 692,
   "id": "a2cf0bf6",
   "metadata": {},
   "outputs": [
    {
     "name": "stdout",
     "output_type": "stream",
     "text": [
      "[]\n"
     ]
    }
   ],
   "source": [
    "s = Solution()\n",
    "\n",
    "result = s.stringMatching(words = [\"blue\",\"green\",\"bu\"])\n",
    "print (result)"
   ]
  },
  {
   "cell_type": "code",
   "execution_count": 693,
   "id": "1954a506",
   "metadata": {},
   "outputs": [
    {
     "name": "stdout",
     "output_type": "stream",
     "text": [
      "['od', 'leetcode', 'am']\n"
     ]
    }
   ],
   "source": [
    "s = Solution()\n",
    "\n",
    "result = s.stringMatching(words =[\"leetcoder\",\"leetcode\",\"od\",\"hamlet\",\"am\"])\n",
    "print (result)"
   ]
  },
  {
   "cell_type": "markdown",
   "id": "20a25992",
   "metadata": {},
   "source": [
    "### 796. Rotate String\n"
   ]
  },
  {
   "cell_type": "code",
   "execution_count": 714,
   "id": "ca5867d6",
   "metadata": {},
   "outputs": [],
   "source": [
    "class Solution:\n",
    "    def rotateString(self, s: str, goal: str) -> bool:\n",
    "        \n",
    "        l_s = list(s)\n",
    "        n = 0\n",
    "        while n < len(s):\n",
    "            \n",
    "            l_s.append(l_s[0])\n",
    "            l_s.remove(l_s[0])\n",
    "            n +=1 \n",
    "            #print (''.join(l_s))\n",
    "            if ''.join(l_s) == goal:\n",
    "                return True\n",
    "        return False"
   ]
  },
  {
   "cell_type": "code",
   "execution_count": 715,
   "id": "81bcf833",
   "metadata": {},
   "outputs": [
    {
     "name": "stdout",
     "output_type": "stream",
     "text": [
      "True\n"
     ]
    }
   ],
   "source": [
    "s = Solution()\n",
    "\n",
    "result = s.rotateString(s = \"abcde\", goal = \"cdeab\")\n",
    "print (result)"
   ]
  },
  {
   "cell_type": "code",
   "execution_count": 716,
   "id": "9927df75",
   "metadata": {},
   "outputs": [
    {
     "name": "stdout",
     "output_type": "stream",
     "text": [
      "False\n"
     ]
    }
   ],
   "source": [
    "s = Solution()\n",
    "\n",
    "result = s.rotateString(s = \"abcde\", goal = \"abced\")\n",
    "print (result)"
   ]
  },
  {
   "cell_type": "markdown",
   "id": "e29e5cfb",
   "metadata": {},
   "source": [
    "### 459. Repeated Substring Pattern\n"
   ]
  },
  {
   "cell_type": "code",
   "execution_count": 733,
   "id": "42c4e4e6",
   "metadata": {},
   "outputs": [],
   "source": [
    "class Solution:\n",
    "    def repeatedSubstringPattern(self, s: str) -> bool:\n",
    "        \n",
    "        sub = []\n",
    "        n = len(s)\n",
    "        for i in range(1, len(s)):\n",
    "            #print (s[:i])\n",
    "            sub.append(s[:i])\n",
    "            if s[i:] * (int(n/len(s[i:]))) == s:\n",
    "                return True\n",
    "           \n",
    "        return False"
   ]
  },
  {
   "cell_type": "code",
   "execution_count": 734,
   "id": "b6624d96",
   "metadata": {},
   "outputs": [
    {
     "name": "stdout",
     "output_type": "stream",
     "text": [
      "True\n"
     ]
    }
   ],
   "source": [
    "s = Solution()\n",
    "\n",
    "result = s.repeatedSubstringPattern(s = \"abab\")\n",
    "print (result)"
   ]
  },
  {
   "cell_type": "code",
   "execution_count": 735,
   "id": "118720c1",
   "metadata": {},
   "outputs": [
    {
     "name": "stdout",
     "output_type": "stream",
     "text": [
      "False\n"
     ]
    }
   ],
   "source": [
    "s = Solution()\n",
    "\n",
    "result = s.repeatedSubstringPattern(s = \"aba\")\n",
    "print (result)"
   ]
  },
  {
   "cell_type": "code",
   "execution_count": 736,
   "id": "14c6097e",
   "metadata": {},
   "outputs": [
    {
     "name": "stdout",
     "output_type": "stream",
     "text": [
      "True\n"
     ]
    }
   ],
   "source": [
    "s = Solution()\n",
    "\n",
    "result = s.repeatedSubstringPattern(s = \"abcabcabcabc\")\n",
    "print (result)"
   ]
  },
  {
   "cell_type": "markdown",
   "id": "955c48ee",
   "metadata": {},
   "source": [
    "### 28. Find the Index of the First Occurrence in a String\n"
   ]
  },
  {
   "cell_type": "code",
   "execution_count": 741,
   "id": "11cdd825",
   "metadata": {},
   "outputs": [],
   "source": [
    "class Solution:\n",
    "    def strStr(self, haystack: str, needle: str) -> int:\n",
    "        \n",
    "        for i in range(len(haystack)):\n",
    "            j = len(needle)\n",
    "            if needle in haystack[i:i+j]:\n",
    "                return i\n",
    "        return -1\n",
    "                "
   ]
  },
  {
   "cell_type": "code",
   "execution_count": 742,
   "id": "fcab5f0c",
   "metadata": {},
   "outputs": [
    {
     "name": "stdout",
     "output_type": "stream",
     "text": [
      "0\n"
     ]
    }
   ],
   "source": [
    "s = Solution()\n",
    "\n",
    "result = s.strStr( haystack = \"sadbutsad\", needle = \"sad\")\n",
    "print (result)"
   ]
  },
  {
   "cell_type": "code",
   "execution_count": 743,
   "id": "b8a4a3fd",
   "metadata": {},
   "outputs": [
    {
     "name": "stdout",
     "output_type": "stream",
     "text": [
      "-1\n"
     ]
    }
   ],
   "source": [
    "s = Solution()\n",
    "\n",
    "result = s.strStr( haystack = \"leetcode\", needle = \"leeto\")\n",
    "print (result)"
   ]
  },
  {
   "cell_type": "code",
   "execution_count": 744,
   "id": "5adde05b",
   "metadata": {},
   "outputs": [
    {
     "name": "stdout",
     "output_type": "stream",
     "text": [
      "2\n"
     ]
    }
   ],
   "source": [
    "s = Solution()\n",
    "\n",
    "result = s.strStr( haystack = \"hello\", needle = \"ll\")\n",
    "print (result) \n"
   ]
  },
  {
   "cell_type": "markdown",
   "id": "b931018f",
   "metadata": {},
   "source": [
    "### 1668. Maximum Repeating Substring\n"
   ]
  },
  {
   "cell_type": "code",
   "execution_count": 827,
   "id": "bc45a9fa",
   "metadata": {},
   "outputs": [],
   "source": [
    "class Solution:\n",
    "    def maxRepeating(self, sequence: str, word: str) -> int:\n",
    "        \n",
    "        if word not in sequence:\n",
    "            return 0\n",
    "        \n",
    "        n = 0\n",
    "        for i in range(1, len(sequence)+1):\n",
    "            #print (word * i)\n",
    "            if word * i in sequence:\n",
    "                n += 1\n",
    "              \n",
    "        if n!=0:\n",
    "            return n\n",
    "        else:\n",
    "            return 1\n",
    "            "
   ]
  },
  {
   "cell_type": "code",
   "execution_count": 828,
   "id": "6086c218",
   "metadata": {},
   "outputs": [
    {
     "name": "stdout",
     "output_type": "stream",
     "text": [
      "2\n"
     ]
    }
   ],
   "source": [
    "s = Solution()\n",
    "\n",
    "result = s.maxRepeating( sequence = \"ababc\", word = \"ab\")\n",
    "print (result) "
   ]
  },
  {
   "cell_type": "code",
   "execution_count": 829,
   "id": "7699239a",
   "metadata": {},
   "outputs": [
    {
     "name": "stdout",
     "output_type": "stream",
     "text": [
      "1\n"
     ]
    }
   ],
   "source": [
    "s = Solution()\n",
    "\n",
    "result = s.maxRepeating( sequence = \"ababc\", word = \"ba\")\n",
    "print (result) "
   ]
  },
  {
   "cell_type": "code",
   "execution_count": 830,
   "id": "dbf06687",
   "metadata": {},
   "outputs": [
    {
     "name": "stdout",
     "output_type": "stream",
     "text": [
      "0\n"
     ]
    }
   ],
   "source": [
    "s = Solution()\n",
    "\n",
    "result = s.maxRepeating( sequence = \"ababc\", word = \"ac\")\n",
    "print (result)"
   ]
  },
  {
   "cell_type": "code",
   "execution_count": 831,
   "id": "ae96707b",
   "metadata": {},
   "outputs": [
    {
     "name": "stdout",
     "output_type": "stream",
     "text": [
      "3\n"
     ]
    }
   ],
   "source": [
    "s = Solution()\n",
    "\n",
    "result = s.maxRepeating( sequence = \"aaa\", word = \"a\")\n",
    "print (result)"
   ]
  },
  {
   "cell_type": "markdown",
   "id": "fe41c350",
   "metadata": {},
   "source": [
    "## 8. Stack"
   ]
  },
  {
   "cell_type": "markdown",
   "id": "1dd54754",
   "metadata": {},
   "source": [
    "### 897. Increasing Order Search Tree\n"
   ]
  },
  {
   "cell_type": "code",
   "execution_count": 1043,
   "id": "33ae719d",
   "metadata": {},
   "outputs": [],
   "source": [
    "# Definition for a binary tree node.\n",
    "# class TreeNode:\n",
    "#     def __init__(self, val=0, left=None, right=None):\n",
    "#         self.val = val\n",
    "#         self.left = left\n",
    "#         self.right = right\n",
    "class Solution:\n",
    "    def increasingBST(self, root: TreeNode) -> TreeNode:\n",
    "        "
   ]
  },
  {
   "cell_type": "code",
   "execution_count": null,
   "id": "8210ac83",
   "metadata": {},
   "outputs": [],
   "source": []
  },
  {
   "cell_type": "markdown",
   "id": "72e403ab",
   "metadata": {},
   "source": [
    "### 590. N-ary Tree Postorder Traversal\n"
   ]
  },
  {
   "cell_type": "code",
   "execution_count": 1234,
   "id": "83c80fd8",
   "metadata": {},
   "outputs": [],
   "source": [
    "# Definition for a Node.\n",
    "class Node:\n",
    "    def __init__(self, val=None, children=None):\n",
    "        self.val = val\n",
    "        self.children = children\n",
    "\n",
    "class Solution:\n",
    "    def postorder(self, root: 'Node') -> List[int]:\n",
    "        if not root:\n",
    "            return []\n",
    "        \n",
    "        stack = [root]\n",
    "        output = [] \n",
    "        \n",
    "        while stack:\n",
    "            temp = stack.pop()\n",
    "            output.append(temp.val)\n",
    "            \n",
    "            if temp.children:\n",
    "                stack.extend(temp.children)\n",
    "            \n",
    "        return output[::-1]\n"
   ]
  },
  {
   "cell_type": "code",
   "execution_count": 1235,
   "id": "973c4c19",
   "metadata": {},
   "outputs": [
    {
     "name": "stdout",
     "output_type": "stream",
     "text": [
      "[5, 6, 3, 2, 4, 1]\n"
     ]
    }
   ],
   "source": [
    "solution = Solution()\n",
    "\n",
    "# Create a sample tree for the root: root = [1,null,3,2,4,null,5,6]\n",
    "root = Node(1)\n",
    "child1 = Node(3)\n",
    "child2 = Node(2)\n",
    "child3 = Node(4)\n",
    "child4 = Node(5)\n",
    "child5 = Node(6)\n",
    "\n",
    "# Link the nodes together\n",
    "root.children = [child1, child2, child3]\n",
    "child1.children = [child4, child5]\n",
    "\n",
    "# Call the postorder method\n",
    "result = solution.postorder(root)\n",
    "\n",
    "# Print the result\n",
    "print(result)\n",
    "\n"
   ]
  },
  {
   "cell_type": "markdown",
   "id": "257f1213",
   "metadata": {},
   "source": [
    "### 1475. Final Prices With a Special Discount in a Shop\n"
   ]
  },
  {
   "cell_type": "code",
   "execution_count": 2001,
   "id": "63d2955a",
   "metadata": {},
   "outputs": [],
   "source": [
    "class Solution:\n",
    "    def finalPrices(self, prices: List[int]) -> List[int]:\n",
    "        \n",
    "        res = [] \n",
    "        for i in range(len(prices)):\n",
    "            dis = 0 \n",
    "            for j in range(i+1, len(prices)):\n",
    "                if prices[j]<= prices[i]:\n",
    "                    dis = prices[j]\n",
    "                    break\n",
    "            res.append (prices[i] - dis)\n",
    "        return res"
   ]
  },
  {
   "cell_type": "code",
   "execution_count": 2002,
   "id": "524c625d",
   "metadata": {},
   "outputs": [
    {
     "name": "stdout",
     "output_type": "stream",
     "text": [
      "[4, 2, 4, 2, 3]\n"
     ]
    }
   ],
   "source": [
    "s = Solution()\n",
    "\n",
    "result = s.finalPrices(prices = [8,4,6,2,3])\n",
    "print (result)"
   ]
  },
  {
   "cell_type": "code",
   "execution_count": 2003,
   "id": "870eb034",
   "metadata": {},
   "outputs": [
    {
     "name": "stdout",
     "output_type": "stream",
     "text": [
      "[1, 2, 3, 4, 5]\n"
     ]
    }
   ],
   "source": [
    "s = Solution()\n",
    "\n",
    "result = s.finalPrices(prices = [1,2,3,4,5])\n",
    "print (result)"
   ]
  },
  {
   "cell_type": "code",
   "execution_count": 2004,
   "id": "878c795c",
   "metadata": {},
   "outputs": [
    {
     "name": "stdout",
     "output_type": "stream",
     "text": [
      "[9, 0, 1, 6]\n"
     ]
    }
   ],
   "source": [
    "s = Solution()\n",
    "\n",
    "result = s.finalPrices(prices = [10,1,1,6])\n",
    "print (result)"
   ]
  },
  {
   "cell_type": "markdown",
   "id": "98f62e5d",
   "metadata": {},
   "source": [
    "### 589. N-ary Tree Preorder Traversal"
   ]
  },
  {
   "cell_type": "code",
   "execution_count": null,
   "id": "4f7504b0",
   "metadata": {},
   "outputs": [],
   "source": [
    "\"\"\"\n",
    "# Definition for a Node.\n",
    "class Node:\n",
    "    def __init__(self, val=None, children=None):\n",
    "        self.val = val\n",
    "        self.children = children\n",
    "\"\"\"\n",
    "class Node:\n",
    "    def __init__(self, val=None, children=None):\n",
    "        self.val = val\n",
    "        self.children = children\n",
    "        \n",
    "class Solution:\n",
    "    def preorder(self, root: 'Node') -> List[int]:\n",
    "        "
   ]
  },
  {
   "cell_type": "markdown",
   "id": "528ca870",
   "metadata": {},
   "source": [
    "### 682. Baseball Game\n"
   ]
  },
  {
   "cell_type": "code",
   "execution_count": 2024,
   "id": "e45c9ba0",
   "metadata": {},
   "outputs": [],
   "source": [
    "class Solution:\n",
    "    def calPoints(self, operations: List[str]) -> int:\n",
    "        \n",
    "        res  = [] \n",
    "        for i in range(len(operations)):\n",
    "            try:\n",
    "                int (operations[i])\n",
    "                res.append(int (operations[i]))\n",
    "                \n",
    "            except:\n",
    "                \n",
    "                if operations[i] == '+':\n",
    "                    res.append(sum(res[-2:]))\n",
    "                elif operations[i] == 'D':\n",
    "                    res.append(res[-1] * 2)\n",
    "                else:\n",
    "                    res.remove(res[-1])\n",
    "                               \n",
    "                               \n",
    "        return sum(res      )\n",
    "                    "
   ]
  },
  {
   "cell_type": "code",
   "execution_count": 2025,
   "id": "50ed7206",
   "metadata": {},
   "outputs": [
    {
     "name": "stdout",
     "output_type": "stream",
     "text": [
      "30\n"
     ]
    }
   ],
   "source": [
    "s = Solution()\n",
    "\n",
    "result = s.calPoints(operations = [\"5\",\"2\",\"C\",\"D\",\"+\"])\n",
    "print (result)"
   ]
  },
  {
   "cell_type": "code",
   "execution_count": 2027,
   "id": "652be507",
   "metadata": {},
   "outputs": [
    {
     "name": "stdout",
     "output_type": "stream",
     "text": [
      "27\n"
     ]
    }
   ],
   "source": [
    "s = Solution()\n",
    "\n",
    "result = s.calPoints( operations = [\"5\",\"-2\",\"4\",\"C\",\"D\",\"9\",\"+\",\"+\"])\n",
    "print (result)"
   ]
  },
  {
   "cell_type": "code",
   "execution_count": 2028,
   "id": "9a887b70",
   "metadata": {},
   "outputs": [
    {
     "name": "stdout",
     "output_type": "stream",
     "text": [
      "0\n"
     ]
    }
   ],
   "source": [
    "s = Solution()\n",
    "\n",
    "result = s.calPoints( operations = [\"1\",\"C\"])\n",
    "print (result) "
   ]
  },
  {
   "cell_type": "markdown",
   "id": "97e79911",
   "metadata": {},
   "source": [
    "### 496. Next Greater Element I\n"
   ]
  },
  {
   "cell_type": "code",
   "execution_count": 2090,
   "id": "8da9b6bd",
   "metadata": {},
   "outputs": [],
   "source": [
    "class Solution:\n",
    "    def nextGreaterElement(self, nums1: List[int], nums2: List[int]) -> List[int]:\n",
    "        res = []\n",
    "        ind = []\n",
    "        for i in range(len(nums1)):\n",
    "            for j in range(len(nums2)):\n",
    "                if nums1[i] == nums2[j]:\n",
    "                    ind.append(j)\n",
    "                    \n",
    "                    if j == (len(nums2) - 1):\n",
    "                        res.append(-1)\n",
    "                        \n",
    "                    else:\n",
    "                        found = False\n",
    "                        for k in range(j+1, len(nums2)):\n",
    "                            if nums2[k] > nums2[j]:\n",
    "                                res.append(nums2[k])\n",
    "                                found = True\n",
    "                                break\n",
    "                        if found is False:\n",
    "                            res.append(-1)\n",
    "                            \n",
    "        return res "
   ]
  },
  {
   "cell_type": "code",
   "execution_count": 2091,
   "id": "e2599ae1",
   "metadata": {
    "scrolled": true
   },
   "outputs": [
    {
     "name": "stdout",
     "output_type": "stream",
     "text": [
      "[-1, 3, -1]\n"
     ]
    }
   ],
   "source": [
    "s = Solution()\n",
    "\n",
    "result = s.nextGreaterElement(nums1 = [4,1,2], nums2 = [1,3,4,2] )\n",
    "print (result) "
   ]
  },
  {
   "cell_type": "code",
   "execution_count": 2092,
   "id": "d08d9581",
   "metadata": {
    "scrolled": true
   },
   "outputs": [
    {
     "name": "stdout",
     "output_type": "stream",
     "text": [
      "[3, -1]\n"
     ]
    }
   ],
   "source": [
    "s = Solution()\n",
    "\n",
    "result = s.nextGreaterElement(nums1 = [2,4], nums2 = [1,2,3,4])\n",
    "print (result) "
   ]
  },
  {
   "cell_type": "markdown",
   "id": "118e51e1",
   "metadata": {},
   "source": [
    "### 1700. Number of Students Unable to Eat Lunch HERE\n"
   ]
  },
  {
   "cell_type": "code",
   "execution_count": null,
   "id": "deb3256a",
   "metadata": {},
   "outputs": [],
   "source": [
    "class Solution:\n",
    "    def countStudents(self, students: List[int], sandwiches: List[int]) -> int:\n",
    "        "
   ]
  },
  {
   "cell_type": "code",
   "execution_count": null,
   "id": "5f8ed307",
   "metadata": {},
   "outputs": [],
   "source": [
    "s = Solution()\n",
    "\n",
    "result = s.()\n",
    "print (result) "
   ]
  },
  {
   "cell_type": "markdown",
   "id": "50e72493",
   "metadata": {},
   "source": [
    "## 9. Binary Tree"
   ]
  },
  {
   "cell_type": "markdown",
   "id": "5eb92bb6",
   "metadata": {},
   "source": [
    "### 1379. Find a Corresponding Node of a Binary Tree in a Clone of That Tree\n"
   ]
  },
  {
   "cell_type": "code",
   "execution_count": null,
   "id": "0e0e794a",
   "metadata": {},
   "outputs": [],
   "source": [
    "# Definition for a binary tree node.\n",
    "# class TreeNode:\n",
    "#     def __init__(self, x):\n",
    "#         self.val = x\n",
    "#         self.left = None\n",
    "#         self.right = None\n",
    "\n",
    "class Solution:\n",
    "    def getTargetCopy(self, original: TreeNode, cloned: TreeNode, target: TreeNode) -> TreeNode:\n",
    "        "
   ]
  },
  {
   "cell_type": "code",
   "execution_count": null,
   "id": "ac48a0d0",
   "metadata": {},
   "outputs": [],
   "source": []
  },
  {
   "cell_type": "markdown",
   "id": "c9f51ded",
   "metadata": {},
   "source": [
    "### 938. Range Sum of BST\n"
   ]
  },
  {
   "cell_type": "code",
   "execution_count": 1447,
   "id": "12fd6f3c",
   "metadata": {},
   "outputs": [],
   "source": [
    "# Definition for a binary tree node.\n",
    "class TreeNode:\n",
    "    def __init__(self, val=0, left=None, right=None):\n",
    "        self.val = val\n",
    "        self.left = left\n",
    "        self.right = right\n",
    "class Solution:\n",
    "    def rangeSumBST(self, root: Optional[TreeNode], low: int, high: int) -> int:\n",
    "        \n",
    "        queue =[] \n",
    "        res = []\n",
    "        current_node = root\n",
    "        queue.append(current_node)\n",
    "        \n",
    "        while len(queue) > 0:\n",
    "            \n",
    "            current_node = queue.pop(0)\n",
    "            \n",
    "            if low <= current_node.val <= high:\n",
    "                res.append(current_node.val)\n",
    "           \n",
    "            if current_node.left:\n",
    "                queue.append(current_node.left)\n",
    "                \n",
    "            if current_node.right:\n",
    "                queue.append(current_node.right)\n",
    "            \n",
    "        return sum(res)"
   ]
  },
  {
   "cell_type": "code",
   "execution_count": 1448,
   "id": "20fdbad5",
   "metadata": {},
   "outputs": [
    {
     "name": "stdout",
     "output_type": "stream",
     "text": [
      "32\n"
     ]
    }
   ],
   "source": [
    "# root = [10,5,15,3,7,null,18], low = 7, high = 15\n",
    "\n",
    "solution = Solution()\n",
    "\n",
    "# Create the binary tree\n",
    "root = TreeNode(10)\n",
    "root.left = TreeNode(5)\n",
    "root.right = TreeNode(15)\n",
    "root.left.left = TreeNode(3)\n",
    "root.left.right = TreeNode(7)\n",
    "root.right.left = TreeNode(18)\n",
    "\n",
    "# Calculate the sum within the range\n",
    "result = solution.rangeSumBST(root, 7, 15)\n",
    "print(result)"
   ]
  },
  {
   "cell_type": "code",
   "execution_count": 1450,
   "id": "3f8b351c",
   "metadata": {},
   "outputs": [
    {
     "name": "stdout",
     "output_type": "stream",
     "text": [
      "23\n"
     ]
    }
   ],
   "source": [
    "# root = [10,5,15,3,7,13,18,1,null,6], low = 6, high = 10\n",
    "\n",
    "solution = Solution()\n",
    "\n",
    "root = TreeNode(10)\n",
    "root.left = TreeNode(5)\n",
    "root.right = TreeNode(15)\n",
    "root.left.left = TreeNode(3)\n",
    "root.left.right = TreeNode(7)\n",
    "root.right.left = TreeNode(13)\n",
    "root.right.right = TreeNode(18)\n",
    "root.left.left.left = TreeNode(1)\n",
    "root.left.right.left = TreeNode(6)\n",
    "\n",
    "\n",
    "# Calculate the sum within the range\n",
    "result = solution.rangeSumBST(root, 6, 10)\n",
    "print(result)"
   ]
  },
  {
   "cell_type": "markdown",
   "id": "e1430412",
   "metadata": {},
   "source": [
    "### 2236. Root Equals Sum of Children\n"
   ]
  },
  {
   "cell_type": "code",
   "execution_count": 1452,
   "id": "225868d0",
   "metadata": {},
   "outputs": [],
   "source": [
    "# Definition for a binary tree node.\n",
    "class TreeNode:\n",
    "    def __init__(self, val=0, left=None, right=None):\n",
    "        self.val = val\n",
    "        self.left = left\n",
    "        self.right = right\n",
    "class Solution:\n",
    "    def checkTree(self, root: Optional[TreeNode]) -> bool:\n",
    "        \n",
    "        if root.left.val + root.right.val == root.val:\n",
    "            return True\n",
    "        else:\n",
    "            return False "
   ]
  },
  {
   "cell_type": "code",
   "execution_count": 1455,
   "id": "4930b34b",
   "metadata": {},
   "outputs": [
    {
     "name": "stdout",
     "output_type": "stream",
     "text": [
      "True\n"
     ]
    }
   ],
   "source": [
    "#root = [10,4,6]\n",
    "\n",
    "solution = Solution()\n",
    "root = TreeNode(10)\n",
    "root.left = TreeNode(4)\n",
    "root.right = TreeNode(6)\n",
    "\n",
    "result = solution.checkTree(root)\n",
    "\n",
    "print (result)\n"
   ]
  },
  {
   "cell_type": "code",
   "execution_count": 1456,
   "id": "08eb5fe4",
   "metadata": {},
   "outputs": [
    {
     "name": "stdout",
     "output_type": "stream",
     "text": [
      "False\n"
     ]
    }
   ],
   "source": [
    "#root = [5,3,1]\n",
    "\n",
    "solution = Solution()\n",
    "root = TreeNode(5)\n",
    "root.left = TreeNode(3)\n",
    "root.right = TreeNode(1)\n",
    "\n",
    "result = solution.checkTree(root)\n",
    "\n",
    "print (result)\n"
   ]
  },
  {
   "cell_type": "markdown",
   "id": "410b2146",
   "metadata": {},
   "source": [
    "### 617. Merge Two Binary Trees"
   ]
  },
  {
   "cell_type": "code",
   "execution_count": null,
   "id": "4f2d1397",
   "metadata": {},
   "outputs": [],
   "source": [
    "# Definition for a binary tree node.\n",
    "class TreeNode:\n",
    "    def __init__(self, val=0, left=None, right=None):\n",
    "        self.val = val\n",
    "        self.left = left\n",
    "        self.right = right\n",
    "class Solution:\n",
    "    def mergeTrees(self, root1: Optional[TreeNode], root2: Optional[TreeNode]) -> Optional[TreeNode]:\n",
    "        \n",
    "        current_node_1 = root1.val\n",
    "        current_node_2 = root2.val\n",
    "        \n",
    "        while current_node_1 or current_node_2:\n",
    "            \n",
    "            \n",
    "        "
   ]
  },
  {
   "cell_type": "markdown",
   "id": "30c5af7f",
   "metadata": {},
   "source": [
    "## 10. Greedy"
   ]
  },
  {
   "cell_type": "markdown",
   "id": "20374b31",
   "metadata": {},
   "source": [
    "### 1827. Minimum Operations to Make the Array Increasing\n"
   ]
  },
  {
   "cell_type": "code",
   "execution_count": 43,
   "id": "3370de2e",
   "metadata": {},
   "outputs": [],
   "source": [
    "class Solution:\n",
    "    def minOperations(self, nums: List[int]) -> int:\n",
    "        \n",
    "        c = 0\n",
    "        for i in range(len(nums) - 1):\n",
    "\n",
    "            if nums[i+1] <= nums[i]:\n",
    "                \n",
    "                dif = nums[i] - nums[i+1] + 1\n",
    "                nums[i+1] += dif\n",
    "                c += dif\n",
    "\n",
    "               \n",
    "        return c           "
   ]
  },
  {
   "cell_type": "code",
   "execution_count": 44,
   "id": "d1f8503f",
   "metadata": {},
   "outputs": [
    {
     "name": "stdout",
     "output_type": "stream",
     "text": [
      "3\n"
     ]
    }
   ],
   "source": [
    "s = Solution()\n",
    "\n",
    "result = s.minOperations(nums = [1,1,1] )\n",
    "print (result) "
   ]
  },
  {
   "cell_type": "code",
   "execution_count": 45,
   "id": "fade827a",
   "metadata": {},
   "outputs": [
    {
     "name": "stdout",
     "output_type": "stream",
     "text": [
      "14\n"
     ]
    }
   ],
   "source": [
    "s = Solution()\n",
    "\n",
    "result = s.minOperations(nums = [1,5,2,4,1] )\n",
    "print (result) "
   ]
  },
  {
   "cell_type": "code",
   "execution_count": 46,
   "id": "2bf2e9c2",
   "metadata": {},
   "outputs": [
    {
     "name": "stdout",
     "output_type": "stream",
     "text": [
      "0\n"
     ]
    }
   ],
   "source": [
    "s = Solution()\n",
    "\n",
    "result = s.minOperations(nums = [8] )\n",
    "print (result) "
   ]
  },
  {
   "cell_type": "markdown",
   "id": "30b7eb06",
   "metadata": {},
   "source": [
    "### 860. Lemonade Change\n"
   ]
  },
  {
   "cell_type": "code",
   "execution_count": 15,
   "id": "47b08d64",
   "metadata": {},
   "outputs": [],
   "source": [
    "from typing import List\n",
    "class Solution:\n",
    "    def lemonadeChange(self, bills: List[int]) -> bool:\n",
    "        \n",
    "        count_5 = 0\n",
    "        count_10 = 0\n",
    "        \n",
    "        for b in bills:\n",
    "            if b == 5:\n",
    "                count_5 += 1\n",
    "                \n",
    "            elif b == 10:\n",
    "                count_10 += 1\n",
    "                if count_5 > 0:\n",
    "                    count_5 -= 1\n",
    "                else:\n",
    "                    return False\n",
    "                \n",
    "            elif b == 20:\n",
    "                \n",
    "                if count_5 > 0 and count_10 >0:\n",
    "                    count_5 -= 1\n",
    "                    count_10 -=1\n",
    "                elif count_5 >2:\n",
    "                    count_5 -= 3\n",
    "                else:\n",
    "                    return False\n",
    "               \n",
    "        return True   "
   ]
  },
  {
   "cell_type": "code",
   "execution_count": 16,
   "id": "1f6a11b0",
   "metadata": {},
   "outputs": [
    {
     "name": "stdout",
     "output_type": "stream",
     "text": [
      "True\n"
     ]
    }
   ],
   "source": [
    "s = Solution()\n",
    "\n",
    "result = s.lemonadeChange( bills = [5,5,5,10,20] )\n",
    "print (result) "
   ]
  },
  {
   "cell_type": "code",
   "execution_count": 17,
   "id": "7a9f1ed9",
   "metadata": {},
   "outputs": [
    {
     "name": "stdout",
     "output_type": "stream",
     "text": [
      "False\n"
     ]
    }
   ],
   "source": [
    "s = Solution()\n",
    "\n",
    "result = s.lemonadeChange( bills = [5,5,10,10,20])\n",
    "print (result) "
   ]
  },
  {
   "cell_type": "markdown",
   "id": "0897bc68",
   "metadata": {},
   "source": [
    "### 1903. Largest Odd Number in String\n"
   ]
  },
  {
   "cell_type": "code",
   "execution_count": 39,
   "id": "ff0b8a8f",
   "metadata": {},
   "outputs": [],
   "source": [
    "class Solution:\n",
    "    def largestOddNumber(self, num: str) -> str:\n",
    "        \n",
    "        l = [] \n",
    "        for i in range(len(num)):\n",
    "            for j in range(len(num)):\n",
    "                #print (i, j)\n",
    "                if num[i:j+1]:\n",
    "                    l.append(int(num[i:j+1]))\n",
    "        for i in reversed(sorted(l)):\n",
    "            if i % 2 !=0:\n",
    "                return str(i)\n",
    "        return ''"
   ]
  },
  {
   "cell_type": "code",
   "execution_count": null,
   "id": "6e26df35",
   "metadata": {},
   "outputs": [],
   "source": [
    "# the above solution got time limit exceeded error and so I revised it as follows: "
   ]
  },
  {
   "cell_type": "code",
   "execution_count": 70,
   "id": "9ebfee73",
   "metadata": {},
   "outputs": [],
   "source": [
    "class Solution:\n",
    "    def largestOddNumber(self, num: str) -> str:\n",
    "        \n",
    "        i = len(num) - 1\n",
    "        \n",
    "        while i >= 0:\n",
    "            if int(num[i])%2 != 0:\n",
    "                  return num[:i+1]\n",
    "            i -= 1\n",
    "                  \n",
    "        return ''"
   ]
  },
  {
   "cell_type": "code",
   "execution_count": 71,
   "id": "95601ed6",
   "metadata": {},
   "outputs": [
    {
     "name": "stdout",
     "output_type": "stream",
     "text": [
      "5\n"
     ]
    }
   ],
   "source": [
    "s = Solution()\n",
    "\n",
    "result = s.largestOddNumber( num = \"52\")\n",
    "print (result)"
   ]
  },
  {
   "cell_type": "code",
   "execution_count": 72,
   "id": "aee57cf0",
   "metadata": {},
   "outputs": [
    {
     "name": "stdout",
     "output_type": "stream",
     "text": [
      "\n"
     ]
    }
   ],
   "source": [
    "s = Solution()\n",
    "\n",
    "result = s.largestOddNumber( num = \"4206\")\n",
    "print (result)"
   ]
  },
  {
   "cell_type": "code",
   "execution_count": 73,
   "id": "92e87081",
   "metadata": {},
   "outputs": [
    {
     "name": "stdout",
     "output_type": "stream",
     "text": [
      "35427\n"
     ]
    }
   ],
   "source": [
    "s = Solution()\n",
    "\n",
    "result = s.largestOddNumber(  num = \"35427\")\n",
    "print (result)"
   ]
  },
  {
   "cell_type": "markdown",
   "id": "1290eba9",
   "metadata": {},
   "source": [
    "### 680. Valid Palindrome II\n"
   ]
  },
  {
   "cell_type": "code",
   "execution_count": 95,
   "id": "0b7df556",
   "metadata": {},
   "outputs": [],
   "source": [
    "class Solution:\n",
    "    def validPalindrome(self, s: str) -> bool:\n",
    "        \n",
    "        left = 0\n",
    "        right = len(s) - 1\n",
    "        \n",
    "        while left < right:\n",
    "            if s[left] == s[right]:\n",
    "                left += 1\n",
    "                right -=1\n",
    "            else:\n",
    "                temp1 = s[:left] + s[left+1:]\n",
    "                temp2 = s[:right] + s[right+1:]\n",
    "                \n",
    "                return temp1 == temp1[::-1] or temp2 == temp2[::-1]\n",
    "        return True"
   ]
  },
  {
   "cell_type": "code",
   "execution_count": 96,
   "id": "0420e882",
   "metadata": {},
   "outputs": [
    {
     "name": "stdout",
     "output_type": "stream",
     "text": [
      "True\n"
     ]
    }
   ],
   "source": [
    "s = Solution()\n",
    "\n",
    "result = s.validPalindrome(s = \"aba\")\n",
    "print (result)"
   ]
  },
  {
   "cell_type": "code",
   "execution_count": 97,
   "id": "7afbeb79",
   "metadata": {},
   "outputs": [
    {
     "name": "stdout",
     "output_type": "stream",
     "text": [
      "True\n"
     ]
    }
   ],
   "source": [
    "s = Solution()\n",
    "\n",
    "result = s.validPalindrome(s = \"abca\")\n",
    "print (result)"
   ]
  },
  {
   "cell_type": "code",
   "execution_count": 98,
   "id": "f059f9db",
   "metadata": {},
   "outputs": [
    {
     "name": "stdout",
     "output_type": "stream",
     "text": [
      "False\n"
     ]
    }
   ],
   "source": [
    "s = Solution()\n",
    "\n",
    "result = s.validPalindrome(s = \"abc\")\n",
    "print (result)"
   ]
  },
  {
   "cell_type": "markdown",
   "id": "f5c8a2af",
   "metadata": {},
   "source": [
    "### 2591. Distribute Money to Maximum Children\n"
   ]
  },
  {
   "cell_type": "code",
   "execution_count": 184,
   "id": "cacdd91a",
   "metadata": {},
   "outputs": [],
   "source": [
    "class Solution:\n",
    "    def distMoney(self, money: int, children: int) -> int:\n",
    "        \n",
    "        money = money - children\n",
    "        if money < 0:\n",
    "            return -1\n",
    "        if money // 7 == children and money % 7 == 0:\n",
    "            return children\n",
    "        if money // 7 == children - 1 and money % 7 == 3:\n",
    "            return children - 2\n",
    "        \n",
    "        return min(money // 7, children - 1)"
   ]
  },
  {
   "cell_type": "code",
   "execution_count": 185,
   "id": "cab3fd2e",
   "metadata": {},
   "outputs": [
    {
     "name": "stdout",
     "output_type": "stream",
     "text": [
      "1\n"
     ]
    }
   ],
   "source": [
    "s = Solution()\n",
    "\n",
    "result = s.distMoney(money = 20, children = 3)\n",
    "print (result)"
   ]
  },
  {
   "cell_type": "code",
   "execution_count": 186,
   "id": "9d05cd86",
   "metadata": {},
   "outputs": [
    {
     "name": "stdout",
     "output_type": "stream",
     "text": [
      "2\n"
     ]
    }
   ],
   "source": [
    "s = Solution()\n",
    "\n",
    "result = s.distMoney(money = 16, children = 2)\n",
    "print (result) "
   ]
  },
  {
   "cell_type": "code",
   "execution_count": 187,
   "id": "ba7341ae",
   "metadata": {},
   "outputs": [
    {
     "name": "stdout",
     "output_type": "stream",
     "text": [
      "0\n"
     ]
    }
   ],
   "source": [
    "s = Solution()\n",
    "\n",
    "result = s.distMoney(money = 2, children = 2)\n",
    "print (result) "
   ]
  },
  {
   "cell_type": "code",
   "execution_count": 188,
   "id": "cecbaf57",
   "metadata": {},
   "outputs": [
    {
     "name": "stdout",
     "output_type": "stream",
     "text": [
      "0\n"
     ]
    }
   ],
   "source": [
    "s = Solution()\n",
    "\n",
    "result = s.distMoney(money = 3, children = 2)\n",
    "print (result) "
   ]
  },
  {
   "cell_type": "code",
   "execution_count": 189,
   "id": "286a8579",
   "metadata": {},
   "outputs": [
    {
     "name": "stdout",
     "output_type": "stream",
     "text": [
      "0\n"
     ]
    }
   ],
   "source": [
    "s = Solution()\n",
    "\n",
    "result = s.distMoney(money = 8, children = 2)\n",
    "print (result) "
   ]
  },
  {
   "cell_type": "code",
   "execution_count": 190,
   "id": "29d3a014",
   "metadata": {},
   "outputs": [
    {
     "name": "stdout",
     "output_type": "stream",
     "text": [
      "1\n"
     ]
    }
   ],
   "source": [
    "s = Solution()\n",
    "\n",
    "result = s.distMoney(money = 9, children = 2)\n",
    "print (result) "
   ]
  },
  {
   "cell_type": "code",
   "execution_count": 191,
   "id": "065d9ca3",
   "metadata": {},
   "outputs": [
    {
     "name": "stdout",
     "output_type": "stream",
     "text": [
      "0\n"
     ]
    }
   ],
   "source": [
    "s = Solution()\n",
    "\n",
    "result = s.distMoney(money = 12, children = 2)\n",
    "print (result) "
   ]
  },
  {
   "cell_type": "markdown",
   "id": "95271d34",
   "metadata": {},
   "source": [
    "### 2600. K Items With the Maximum Sum\n"
   ]
  },
  {
   "cell_type": "code",
   "execution_count": 214,
   "id": "9c0be929",
   "metadata": {},
   "outputs": [],
   "source": [
    "class Solution:\n",
    "    def kItemsWithMaximumSum(self, numOnes: int, numZeros: int, numNegOnes: int, k: int) -> int:\n",
    "        \n",
    "        if k <= numOnes:\n",
    "            return k\n",
    "        \n",
    "        elif k <= (numOnes + numZeros):\n",
    "            return numOnes \n",
    "        else:\n",
    "            return numOnes - (k - numOnes - numZeros)\n",
    "            "
   ]
  },
  {
   "cell_type": "code",
   "execution_count": 215,
   "id": "611f0498",
   "metadata": {},
   "outputs": [
    {
     "name": "stdout",
     "output_type": "stream",
     "text": [
      "1\n"
     ]
    }
   ],
   "source": [
    "s = Solution()\n",
    "\n",
    "result = s.kItemsWithMaximumSum (numOnes = 1, numZeros = 4, numNegOnes = 1, k = 3)\n",
    "print (result) "
   ]
  },
  {
   "cell_type": "code",
   "execution_count": 216,
   "id": "7665c55d",
   "metadata": {},
   "outputs": [
    {
     "name": "stdout",
     "output_type": "stream",
     "text": [
      "2\n"
     ]
    }
   ],
   "source": [
    "s = Solution()\n",
    "\n",
    "result = s.kItemsWithMaximumSum(numOnes = 3, numZeros = 2, numNegOnes = 0, k = 2)\n",
    "print (result) "
   ]
  },
  {
   "cell_type": "code",
   "execution_count": 217,
   "id": "d0645d5a",
   "metadata": {},
   "outputs": [
    {
     "name": "stdout",
     "output_type": "stream",
     "text": [
      "3\n"
     ]
    }
   ],
   "source": [
    "s = Solution()\n",
    "\n",
    "result = s.kItemsWithMaximumSum (numOnes = 3, numZeros = 2, numNegOnes = 0, k = 4)\n",
    "print (result) "
   ]
  },
  {
   "cell_type": "code",
   "execution_count": 218,
   "id": "cef3d7f6",
   "metadata": {},
   "outputs": [
    {
     "name": "stdout",
     "output_type": "stream",
     "text": [
      "2\n"
     ]
    }
   ],
   "source": [
    "s = Solution()\n",
    "\n",
    "result = s.kItemsWithMaximumSum (numOnes = 3, numZeros = 2, numNegOnes = 1, k = 6)\n",
    "print (result) "
   ]
  },
  {
   "cell_type": "code",
   "execution_count": null,
   "id": "bca61d9e",
   "metadata": {},
   "outputs": [],
   "source": []
  },
  {
   "cell_type": "code",
   "execution_count": 47,
   "id": "231f704c",
   "metadata": {},
   "outputs": [
    {
     "data": {
      "text/plain": [
       "8137"
      ]
     },
     "execution_count": 47,
     "metadata": {},
     "output_type": "execute_result"
    }
   ],
   "source": [
    "# total number of Leetcode questions:\n",
    "\n",
    "244+174+234+221+92+221+127+123+120+98+95+85+76+171+169+161+142+141+128+274+226+226+218+214+198+1381+615+475+431+430+318+309"
   ]
  },
  {
   "cell_type": "code",
   "execution_count": 1459,
   "id": "fb95154e",
   "metadata": {},
   "outputs": [
    {
     "data": {
      "text/plain": [
       "[1, 2, 3]"
      ]
     },
     "execution_count": 1459,
     "metadata": {},
     "output_type": "execute_result"
    }
   ],
   "source": [
    "a = sorted([3,2,1])\n",
    "a"
   ]
  },
  {
   "cell_type": "code",
   "execution_count": null,
   "id": "0939e4ae",
   "metadata": {},
   "outputs": [],
   "source": []
  }
 ],
 "metadata": {
  "kernelspec": {
   "display_name": "Python 3 (ipykernel)",
   "language": "python",
   "name": "python3"
  },
  "language_info": {
   "codemirror_mode": {
    "name": "ipython",
    "version": 3
   },
   "file_extension": ".py",
   "mimetype": "text/x-python",
   "name": "python",
   "nbconvert_exporter": "python",
   "pygments_lexer": "ipython3",
   "version": "3.8.8"
  },
  "varInspector": {
   "cols": {
    "lenName": 16,
    "lenType": 16,
    "lenVar": 40
   },
   "kernels_config": {
    "python": {
     "delete_cmd_postfix": "",
     "delete_cmd_prefix": "del ",
     "library": "var_list.py",
     "varRefreshCmd": "print(var_dic_list())"
    },
    "r": {
     "delete_cmd_postfix": ") ",
     "delete_cmd_prefix": "rm(",
     "library": "var_list.r",
     "varRefreshCmd": "cat(var_dic_list()) "
    }
   },
   "types_to_exclude": [
    "module",
    "function",
    "builtin_function_or_method",
    "instance",
    "_Feature"
   ],
   "window_display": false
  }
 },
 "nbformat": 4,
 "nbformat_minor": 5
}
