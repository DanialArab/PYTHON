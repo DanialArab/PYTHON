{
 "cells": [
  {
   "cell_type": "markdown",
   "id": "3900421a",
   "metadata": {},
   "source": [
    "# This file contains my solutions to Leetcode programming questions - all in Python"
   ]
  },
  {
   "cell_type": "markdown",
   "id": "6da6ddd3",
   "metadata": {},
   "source": [
    "## 1. String"
   ]
  },
  {
   "cell_type": "markdown",
   "id": "0be2f6b4",
   "metadata": {},
   "source": [
    "### 1108. Defanging an IP Address"
   ]
  },
  {
   "cell_type": "code",
   "execution_count": 18,
   "id": "59f2a3d6",
   "metadata": {},
   "outputs": [],
   "source": [
    "class Solution:\n",
    "    def defangIPaddr(self, address: str) -> str:\n",
    "\n",
    "        return address.replace('.', '[.]')"
   ]
  },
  {
   "cell_type": "code",
   "execution_count": 19,
   "id": "6f2d85a8",
   "metadata": {},
   "outputs": [
    {
     "name": "stdout",
     "output_type": "stream",
     "text": [
      "1[.]1[.]1[.]1\n"
     ]
    }
   ],
   "source": [
    "s = Solution()\n",
    "\n",
    "result = s.defangIPaddr (\"1.1.1.1\")\n",
    "print (result)"
   ]
  },
  {
   "cell_type": "markdown",
   "id": "316638b1",
   "metadata": {},
   "source": [
    "### 2011. Final Value of Variable After Performing Operations"
   ]
  },
  {
   "cell_type": "code",
   "execution_count": 29,
   "id": "c2ea0a19",
   "metadata": {
    "code_folding": []
   },
   "outputs": [],
   "source": [
    "from typing import List\n",
    "\n",
    "class Solution:\n",
    "    def finalValueAfterOperations(self, operations: List[str]) -> int:\n",
    "\n",
    "        X = 0\n",
    "\n",
    "        for one_operation in operations:\n",
    "            if one_operation == \"++X\" or one_operation == \"X++\":\n",
    "                X += 1\n",
    "            else:\n",
    "                X -= 1\n",
    "\n",
    "        return X"
   ]
  },
  {
   "cell_type": "code",
   "execution_count": 30,
   "id": "4228a943",
   "metadata": {},
   "outputs": [
    {
     "name": "stdout",
     "output_type": "stream",
     "text": [
      "3\n"
     ]
    }
   ],
   "source": [
    "s = Solution()\n",
    "\n",
    "result = s.finalValueAfterOperations([\"++X\",\"++X\",\"X++\"])\n",
    "print(result)"
   ]
  },
  {
   "cell_type": "markdown",
   "id": "e486b5f3",
   "metadata": {},
   "source": [
    "### 771. Jewels and Stones"
   ]
  },
  {
   "cell_type": "code",
   "execution_count": 34,
   "id": "4b9afa72",
   "metadata": {},
   "outputs": [],
   "source": [
    "class Solution:\n",
    "    def numJewelsInStones(self, jewels: str, stones: str) -> int:\n",
    "        number_of_stones = 0\n",
    "        for one_stone in stones:\n",
    "            if one_stone in list(jewels):\n",
    "                number_of_stones += 1\n",
    "\n",
    "        return number_of_stones"
   ]
  },
  {
   "cell_type": "code",
   "execution_count": 35,
   "id": "05fadba2",
   "metadata": {},
   "outputs": [
    {
     "name": "stdout",
     "output_type": "stream",
     "text": [
      "3\n"
     ]
    }
   ],
   "source": [
    "s = Solution()\n",
    "\n",
    "result = s.numJewelsInStones(jewels = \"aA\", stones = \"aAAbbbb\")\n",
    "print (result)"
   ]
  },
  {
   "cell_type": "code",
   "execution_count": 36,
   "id": "e731b684",
   "metadata": {},
   "outputs": [
    {
     "name": "stdout",
     "output_type": "stream",
     "text": [
      "0\n"
     ]
    }
   ],
   "source": [
    "s = Solution()\n",
    "\n",
    "result = s.numJewelsInStones(jewels = \"z\", stones = \"ZZ\")\n",
    "print (result) "
   ]
  },
  {
   "cell_type": "markdown",
   "id": "02fbb02d",
   "metadata": {},
   "source": [
    "### 2114. Maximum Number of Words Found in Sentences"
   ]
  },
  {
   "cell_type": "code",
   "execution_count": 37,
   "id": "af6cfd97",
   "metadata": {},
   "outputs": [],
   "source": [
    "class Solution:\n",
    "    def mostWordsFound(self, sentences: List[str]) -> int:\n",
    "        num_of_words = []\n",
    "        for one_sentence in sentences:\n",
    "            num_of_words.append(len(one_sentence.strip().split()))\n",
    "\n",
    "        return max(num_of_words)"
   ]
  },
  {
   "cell_type": "code",
   "execution_count": 38,
   "id": "995cf82a",
   "metadata": {},
   "outputs": [
    {
     "name": "stdout",
     "output_type": "stream",
     "text": [
      "6\n"
     ]
    }
   ],
   "source": [
    "s = Solution()\n",
    "\n",
    "result = s.mostWordsFound([\"alice and bob love leetcode\", \"i think so too\", \"this is great thanks very much\"])\n",
    "print (result) "
   ]
  },
  {
   "cell_type": "markdown",
   "id": "4d9add0e",
   "metadata": {},
   "source": [
    "### 1678. Goal Parser Interpretation"
   ]
  },
  {
   "cell_type": "code",
   "execution_count": 70,
   "id": "60175edd",
   "metadata": {},
   "outputs": [],
   "source": [
    "class Solution:\n",
    "    def interpret(self, command: str) -> str:\n",
    "         \n",
    "        command = command.replace(\"()\", \"o\")\n",
    "        command = command.replace(\"(al)\", \"al\")\n",
    "\n",
    "        return command"
   ]
  },
  {
   "cell_type": "code",
   "execution_count": 71,
   "id": "e3cc91fb",
   "metadata": {},
   "outputs": [
    {
     "name": "stdout",
     "output_type": "stream",
     "text": [
      "Goal\n"
     ]
    }
   ],
   "source": [
    "s = Solution()\n",
    "\n",
    "result = s.interpret(\"G()(al)\")\n",
    "print (result) "
   ]
  },
  {
   "cell_type": "markdown",
   "id": "8f798909",
   "metadata": {},
   "source": [
    "### 1221. Split a String in Balanced Strings"
   ]
  },
  {
   "cell_type": "code",
   "execution_count": 82,
   "id": "cb287847",
   "metadata": {},
   "outputs": [],
   "source": [
    "class Solution:\n",
    "    def balancedStringSplit(self, s: str) -> int:\n",
    "        count = result = 0 \n",
    "        for c in s:\n",
    "\n",
    "            if c == 'R':\n",
    "                count += 1\n",
    "            else:\n",
    "                count -= 1\n",
    "\n",
    "            if count == 0:\n",
    "                result += 1\n",
    "\n",
    "        return result"
   ]
  },
  {
   "cell_type": "code",
   "execution_count": 84,
   "id": "678c5b79",
   "metadata": {},
   "outputs": [
    {
     "name": "stdout",
     "output_type": "stream",
     "text": [
      "2\n"
     ]
    }
   ],
   "source": [
    "s = Solution()\n",
    "\n",
    "result = s.balancedStringSplit(\"RLRRRLLRLL\")\n",
    "print (result) "
   ]
  },
  {
   "cell_type": "markdown",
   "id": "03181879",
   "metadata": {},
   "source": [
    "### 1528. Shuffle String"
   ]
  },
  {
   "cell_type": "code",
   "execution_count": 25,
   "id": "6d3e38d9",
   "metadata": {},
   "outputs": [],
   "source": [
    "from typing import List\n",
    "class Solution:\n",
    "\n",
    "    def restoreString(self, s: str, indices: List[int]) -> str:\n",
    "\n",
    "        chars = [''] * len(s)\n",
    "        \n",
    "\n",
    "        for i in range(len(indices)):\n",
    "            chars[indices[i]] = s[i]\n",
    "\n",
    "\n",
    "        return \"\".join(chars)\n"
   ]
  },
  {
   "cell_type": "code",
   "execution_count": 26,
   "id": "cbcb8085",
   "metadata": {},
   "outputs": [
    {
     "name": "stdout",
     "output_type": "stream",
     "text": [
      "leetcode\n"
     ]
    }
   ],
   "source": [
    "s = Solution()\n",
    "\n",
    "result = s.restoreString(s = \"codeleet\", indices = [4,5,6,7,0,2,1,3])\n",
    "print (result) "
   ]
  },
  {
   "cell_type": "markdown",
   "id": "8cf82f13",
   "metadata": {},
   "source": [
    "### 1773. Count Items Matching a Rule\n"
   ]
  },
  {
   "cell_type": "code",
   "execution_count": 1,
   "id": "4cf98b1c",
   "metadata": {},
   "outputs": [],
   "source": [
    "from typing import List\n",
    "\n",
    "class Solution:\n",
    "    def countMatches(self, items: List[List[str]], ruleKey: str, ruleValue: str) -> int:\n",
    "        match_num = 0 \n",
    "        for i in range(len(items)):\n",
    "            if ruleKey == \"type\" and items[i][0] == ruleValue:\n",
    "                match_num +=1\n",
    "\n",
    "            elif ruleKey == \"color\" and items[i][1] == ruleValue:\n",
    "                match_num +=1\n",
    "\n",
    "            elif ruleKey == \"name\" and items[i][2] == ruleValue:\n",
    "                match_num +=1\n",
    "\n",
    "        return match_num"
   ]
  },
  {
   "cell_type": "code",
   "execution_count": 5,
   "id": "4f73a50f",
   "metadata": {
    "scrolled": true
   },
   "outputs": [
    {
     "name": "stdout",
     "output_type": "stream",
     "text": [
      "1\n"
     ]
    }
   ],
   "source": [
    "s = Solution()\n",
    "\n",
    "result = s.countMatches(items = [[\"phone\",\"blue\",\"pixel\"],[\"computer\",\"silver\",\"lenovo\"],[\"phone\",\"gold\",\"iphone\"]], ruleKey = \"color\", ruleValue = \"silver\")\n",
    "print (result) "
   ]
  },
  {
   "cell_type": "code",
   "execution_count": 6,
   "id": "a0294801",
   "metadata": {},
   "outputs": [
    {
     "name": "stdout",
     "output_type": "stream",
     "text": [
      "2\n"
     ]
    }
   ],
   "source": [
    "s = Solution()\n",
    "\n",
    "result = s.countMatches(items = [[\"phone\",\"blue\",\"pixel\"],[\"computer\",\"silver\",\"phone\"],[\"phone\",\"gold\",\"iphone\"]], ruleKey = \"type\", ruleValue = \"phone\")\n",
    "print (result) "
   ]
  },
  {
   "cell_type": "markdown",
   "id": "9eb5ee95",
   "metadata": {},
   "source": [
    "### 2194. Cells in a Range on an Excel Sheet\n"
   ]
  },
  {
   "cell_type": "code",
   "execution_count": 38,
   "id": "1c1f9e57",
   "metadata": {},
   "outputs": [],
   "source": [
    "from typing import List\n",
    "class Solution:\n",
    "    def cellsInRange(self, s: str) -> List[str]:\n",
    "\n",
    "        first, second = s.split(':')\n",
    "\n",
    "        c1, r1 = first\n",
    "\n",
    "        c2, r2 = second \n",
    "        \n",
    "        char_list = []\n",
    "        for i in range(ord(c1), ord(c2)+1):\n",
    "            #print(chr(i))\n",
    "            char_list.append(chr(i))\n",
    "        \n",
    "        int_list = []\n",
    "        for i in range(int(r1), int(r2) + 1):\n",
    "            int_list.append(i)\n",
    "        \n",
    "        res = []\n",
    "        for one_char in char_list:\n",
    "            for one_int in int_list:\n",
    "                res.append(one_char + str(one_int))\n",
    "        \n",
    "        \n",
    "        return res\n"
   ]
  },
  {
   "cell_type": "code",
   "execution_count": 39,
   "id": "98b4ba2f",
   "metadata": {},
   "outputs": [
    {
     "name": "stdout",
     "output_type": "stream",
     "text": [
      "['K1', 'K2', 'L1', 'L2']\n"
     ]
    }
   ],
   "source": [
    "s = Solution()\n",
    "\n",
    "result = s.cellsInRange(\"K1:L2\")\n",
    "print (result) "
   ]
  },
  {
   "cell_type": "code",
   "execution_count": 40,
   "id": "8845f95b",
   "metadata": {},
   "outputs": [
    {
     "name": "stdout",
     "output_type": "stream",
     "text": [
      "['A1', 'B1', 'C1', 'D1', 'E1', 'F1']\n"
     ]
    }
   ],
   "source": [
    "s = Solution()\n",
    "\n",
    "result = s.cellsInRange(\"A1:F1\")\n",
    "print (result) "
   ]
  },
  {
   "cell_type": "markdown",
   "id": "d8d278c4",
   "metadata": {},
   "source": [
    "### 2325. Decode the Message"
   ]
  },
  {
   "cell_type": "code",
   "execution_count": 177,
   "id": "bd82cbc4",
   "metadata": {},
   "outputs": [],
   "source": [
    "from typing import List \n",
    "class Solution:\n",
    "    def decodeMessage(self, key: str, message: str) -> str:\n",
    "        import string\n",
    "        \n",
    "        indecies = []\n",
    "        chars = []\n",
    "        my_dic = {}\n",
    "        for i in list(key):\n",
    "            #print (i)\n",
    "            if i not in chars and i != ' ':\n",
    "                \n",
    "                chars.append(i)\n",
    "                indecies.append(chars.index(i))\n",
    "                my_dic[i] = chars.index(i)\n",
    "        \n",
    "        res = ''\n",
    "        for i in list(message):\n",
    "            if i == ' ':\n",
    "                res += ' '\n",
    "            else: \n",
    "                res += string.ascii_lowercase[my_dic[i]]\n",
    "                #print(string.ascii_lowercase[my_dic[i]] )\n",
    "                \n",
    "\n",
    "        return res "
   ]
  },
  {
   "cell_type": "code",
   "execution_count": 178,
   "id": "ef17af98",
   "metadata": {
    "scrolled": true
   },
   "outputs": [
    {
     "name": "stdout",
     "output_type": "stream",
     "text": [
      "this is a secret\n"
     ]
    }
   ],
   "source": [
    "s = Solution()\n",
    "\n",
    "result = s.decodeMessage(key = \"the quick brown fox jumps over the lazy dog\", message = \"vkbs bs t suepuv\")\n",
    "print (result) "
   ]
  },
  {
   "cell_type": "code",
   "execution_count": 179,
   "id": "a27c687c",
   "metadata": {},
   "outputs": [
    {
     "name": "stdout",
     "output_type": "stream",
     "text": [
      "the five boxing wizards jump quickly\n"
     ]
    }
   ],
   "source": [
    "s = Solution()\n",
    "\n",
    "result = s.decodeMessage(key = \"eljuxhpwnyrdgtqkviszcfmabo\", message = \"zwx hnfx lqantp mnoeius ycgk vcnjrdb\")\n",
    "print (result) "
   ]
  },
  {
   "cell_type": "markdown",
   "id": "64c88371",
   "metadata": {},
   "source": [
    "### 1859. Sorting the Sentence\n"
   ]
  },
  {
   "cell_type": "code",
   "execution_count": 234,
   "id": "99115363",
   "metadata": {},
   "outputs": [],
   "source": [
    "class Solution:\n",
    "    def sortSentence(self, s: str) -> str:\n",
    "\n",
    "        my_dict = {}\n",
    "        for i in s.split():\n",
    "            \n",
    "            my_dict[i[-1]] = i[:-1]\n",
    "            \n",
    "        \n",
    "        sorted_dict = {}        \n",
    "        for key in sorted(my_dict.keys()):\n",
    "            sorted_dict[key] = my_dict[key]\n",
    "            \n",
    "        \n",
    "            \n",
    "        return  ' '.join(sorted_dict.values()) "
   ]
  },
  {
   "cell_type": "code",
   "execution_count": 235,
   "id": "e2e92fc5",
   "metadata": {},
   "outputs": [
    {
     "name": "stdout",
     "output_type": "stream",
     "text": [
      "This is a sentence\n"
     ]
    }
   ],
   "source": [
    "s = Solution()\n",
    "\n",
    "result = s.sortSentence(s = \"is2 sentence4 This1 a3\")\n",
    "print (result)"
   ]
  },
  {
   "cell_type": "code",
   "execution_count": 236,
   "id": "8fb5b8cf",
   "metadata": {},
   "outputs": [
    {
     "name": "stdout",
     "output_type": "stream",
     "text": [
      "Me Myself and I\n"
     ]
    }
   ],
   "source": [
    "s = Solution()\n",
    "\n",
    "result = s.sortSentence(s = \"Myself2 Me1 I4 and3\")\n",
    "print (result) "
   ]
  },
  {
   "cell_type": "markdown",
   "id": "17137c51",
   "metadata": {},
   "source": [
    "### 1662. Check If Two String Arrays are Equivalent\n"
   ]
  },
  {
   "cell_type": "code",
   "execution_count": 238,
   "id": "530da20f",
   "metadata": {},
   "outputs": [],
   "source": [
    "from typing import List\n",
    "class Solution:\n",
    "    def arrayStringsAreEqual(self, word1: List[str], word2: List[str]) -> bool:\n",
    "\n",
    "        w1 = ''\n",
    "        for i in word1:\n",
    "            w1+= i \n",
    "\n",
    "        w2 = ''\n",
    "        for j in word2:\n",
    "            w2 += j \n",
    "\n",
    "        if w1 == w2:\n",
    "            return True\n",
    "        else:\n",
    "            return False        "
   ]
  },
  {
   "cell_type": "code",
   "execution_count": 239,
   "id": "98e954d4",
   "metadata": {},
   "outputs": [
    {
     "name": "stdout",
     "output_type": "stream",
     "text": [
      "True\n"
     ]
    }
   ],
   "source": [
    "s = Solution()\n",
    "\n",
    "result = s.arrayStringsAreEqual(word1  = [\"abc\", \"d\", \"defg\"], word2 = [\"abcddefg\"])\n",
    "print (result) "
   ]
  },
  {
   "cell_type": "markdown",
   "id": "58c3b604",
   "metadata": {},
   "source": [
    "### 1832. Check if the Sentence Is Pangram\n"
   ]
  },
  {
   "cell_type": "code",
   "execution_count": 242,
   "id": "e571a4a4",
   "metadata": {},
   "outputs": [],
   "source": [
    "class Solution:\n",
    "    def checkIfPangram(self, sentence: str) -> bool:\n",
    "\n",
    "        if len (set(sentence)) == 26:\n",
    "            return True\n",
    "        else:\n",
    "            return False  "
   ]
  },
  {
   "cell_type": "code",
   "execution_count": 243,
   "id": "175f9a57",
   "metadata": {},
   "outputs": [
    {
     "name": "stdout",
     "output_type": "stream",
     "text": [
      "True\n"
     ]
    }
   ],
   "source": [
    "s = Solution()\n",
    "\n",
    "result = s.checkIfPangram(sentence = \"thequickbrownfoxjumpsoverthelazydog\")\n",
    "print (result) "
   ]
  },
  {
   "cell_type": "code",
   "execution_count": 244,
   "id": "5c792e9e",
   "metadata": {},
   "outputs": [
    {
     "name": "stdout",
     "output_type": "stream",
     "text": [
      "False\n"
     ]
    }
   ],
   "source": [
    "s = Solution()\n",
    "\n",
    "result = s.checkIfPangram( sentence = \"leetcode\")\n",
    "print (result) "
   ]
  },
  {
   "cell_type": "markdown",
   "id": "d67f1db8",
   "metadata": {},
   "source": [
    "### 1816. Truncate Sentence\n"
   ]
  },
  {
   "cell_type": "code",
   "execution_count": 251,
   "id": "34d55d8e",
   "metadata": {},
   "outputs": [],
   "source": [
    "class Solution:\n",
    "    def truncateSentence(self, s: str, k: int) -> str:\n",
    "\n",
    "        return \" \".join(s.split()[:k])"
   ]
  },
  {
   "cell_type": "code",
   "execution_count": 254,
   "id": "e43e4f5a",
   "metadata": {},
   "outputs": [
    {
     "name": "stdout",
     "output_type": "stream",
     "text": [
      "chopper is not a tanuki\n"
     ]
    }
   ],
   "source": [
    "s = Solution()\n",
    "\n",
    "result = s.truncateSentence(s = \"chopper is not a tanuki\", k = 5)\n",
    "print (result) "
   ]
  },
  {
   "cell_type": "code",
   "execution_count": 255,
   "id": "cef08408",
   "metadata": {},
   "outputs": [
    {
     "name": "stdout",
     "output_type": "stream",
     "text": [
      "Hello how are you\n"
     ]
    }
   ],
   "source": [
    "s = Solution()\n",
    "\n",
    "result = s.truncateSentence(s = \"Hello how are you Contestant\", k = 4)\n",
    "print (result) "
   ]
  },
  {
   "cell_type": "markdown",
   "id": "69215653",
   "metadata": {},
   "source": [
    "### 1768. Merge Strings Alternately \n"
   ]
  },
  {
   "cell_type": "code",
   "execution_count": 101,
   "id": "fe5db01f",
   "metadata": {},
   "outputs": [],
   "source": [
    "class Solution:\n",
    "    def mergeAlternately(self, word1: str, word2: str) -> str:\n",
    "        res = ''\n",
    "        \n",
    "        for a, b in zip (word1, word2):\n",
    "            res += a + b\n",
    "        a = min(len(word1), len(word2))\n",
    "        return res + word1[a:] + word2[a:]\n",
    "        "
   ]
  },
  {
   "cell_type": "code",
   "execution_count": 102,
   "id": "0e6cb6ed",
   "metadata": {},
   "outputs": [
    {
     "name": "stdout",
     "output_type": "stream",
     "text": [
      "apbqcd\n"
     ]
    }
   ],
   "source": [
    "s = Solution()\n",
    "\n",
    "result = s.mergeAlternately(word1 = \"abcd\", word2 = \"pq\")\n",
    "print (result) "
   ]
  },
  {
   "cell_type": "code",
   "execution_count": 103,
   "id": "c1c77393",
   "metadata": {},
   "outputs": [
    {
     "name": "stdout",
     "output_type": "stream",
     "text": [
      "apbqrs\n"
     ]
    }
   ],
   "source": [
    "s = Solution()\n",
    "\n",
    "result = s.mergeAlternately(word1 = \"ab\", word2 = \"pqrs\")\n",
    "print (result) "
   ]
  },
  {
   "cell_type": "code",
   "execution_count": 104,
   "id": "fadba1b2",
   "metadata": {},
   "outputs": [
    {
     "name": "stdout",
     "output_type": "stream",
     "text": [
      "apbqcr\n"
     ]
    }
   ],
   "source": [
    "s = Solution()\n",
    "\n",
    "result = s.mergeAlternately(word1 = \"abc\", word2 = \"pqr\")\n",
    "print (result) "
   ]
  },
  {
   "cell_type": "markdown",
   "id": "5c185e14",
   "metadata": {},
   "source": [
    "### 804. Unique Morse Code Words \n"
   ]
  },
  {
   "cell_type": "code",
   "execution_count": 19,
   "id": "022d08b9",
   "metadata": {},
   "outputs": [],
   "source": [
    "from typing import List \n",
    "\n",
    "class Solution:\n",
    "    def uniqueMorseRepresentations(self, words: List[str]) -> int:\n",
    "        \n",
    "        code = [\".-\",\"-...\",\"-.-.\",\"-..\",\".\",\"..-.\",\"--.\",\"....\",\"..\",\".---\",\"-.-\",\".-..\",\"--\",\"-.\",\"---\",\".--.\",\"--.-\",\".-.\",\"...\",\"-\",\"..-\",\"...-\",\".--\",\"-..-\",\"-.--\",\"--..\"]\n",
    "        \n",
    "        res = [] \n",
    "        for w in words:\n",
    "            aa = ''\n",
    "            for l in w:\n",
    "                aa += code[(ord(l.lower()) - 96 - 1)] \n",
    "            res.append(aa)\n",
    "        return len(set(res))"
   ]
  },
  {
   "cell_type": "code",
   "execution_count": 20,
   "id": "25414597",
   "metadata": {},
   "outputs": [
    {
     "name": "stdout",
     "output_type": "stream",
     "text": [
      "2\n"
     ]
    }
   ],
   "source": [
    "s = Solution()\n",
    "\n",
    "result = s.uniqueMorseRepresentations(words = [\"gin\",\"zen\",\"gig\",\"msg\"])\n",
    "print (result) "
   ]
  },
  {
   "cell_type": "code",
   "execution_count": 21,
   "id": "eeea520f",
   "metadata": {},
   "outputs": [
    {
     "name": "stdout",
     "output_type": "stream",
     "text": [
      "1\n"
     ]
    }
   ],
   "source": [
    "s = Solution()\n",
    "\n",
    "result = s.uniqueMorseRepresentations(words = [\"a\"])\n",
    "print (result) "
   ]
  },
  {
   "cell_type": "markdown",
   "id": "48dfe3f9",
   "metadata": {},
   "source": [
    "### 709. To Lower Case"
   ]
  },
  {
   "cell_type": "code",
   "execution_count": 22,
   "id": "6050fda2",
   "metadata": {},
   "outputs": [],
   "source": [
    "class Solution:\n",
    "    def toLowerCase(self, s: str) -> str:\n",
    "        res = ''\n",
    "        for l in s:\n",
    "            if l.isupper():\n",
    "                res += l.lower()\n",
    "            else:\n",
    "                res += l \n",
    "\n",
    "        return res "
   ]
  },
  {
   "cell_type": "code",
   "execution_count": 23,
   "id": "2313219f",
   "metadata": {},
   "outputs": [
    {
     "name": "stdout",
     "output_type": "stream",
     "text": [
      "lovely\n"
     ]
    }
   ],
   "source": [
    "s = Solution()\n",
    "\n",
    "result = s.toLowerCase(s = \"LOVELY\")\n",
    "print (result) "
   ]
  },
  {
   "cell_type": "markdown",
   "id": "72369dc0",
   "metadata": {},
   "source": [
    "### 1684. Count the Number of Consistent Strings"
   ]
  },
  {
   "cell_type": "code",
   "execution_count": 24,
   "id": "3333646c",
   "metadata": {},
   "outputs": [],
   "source": [
    "from typing import List \n",
    "class Solution:\n",
    "    def countConsistentStrings(self, allowed: str, words: List[str]) -> int:\n",
    "        count = len(words)\n",
    "        for w in words:\n",
    "            for l in w:\n",
    "                if l not in allowed:\n",
    "                    count -= 1\n",
    "                    break \n",
    "\n",
    "        return count"
   ]
  },
  {
   "cell_type": "code",
   "execution_count": 25,
   "id": "f7ec1689",
   "metadata": {},
   "outputs": [
    {
     "name": "stdout",
     "output_type": "stream",
     "text": [
      "4\n"
     ]
    }
   ],
   "source": [
    "s = Solution()\n",
    "\n",
    "result = s.countConsistentStrings(allowed = \"cad\", words = [\"cc\",\"acd\",\"b\",\"ba\",\"bac\",\"bad\",\"ac\",\"d\"])\n",
    "print (result) "
   ]
  },
  {
   "cell_type": "markdown",
   "id": "50bc71c4",
   "metadata": {},
   "source": [
    "### 1614. Maximum Nesting Depth of the Parentheses\n"
   ]
  },
  {
   "cell_type": "code",
   "execution_count": 28,
   "id": "2e6d349a",
   "metadata": {},
   "outputs": [],
   "source": [
    "class Solution:\n",
    "    def maxDepth(self, s: str) -> int:\n",
    "\n",
    "        depth = 0 \n",
    "        mx = 0\n",
    "\n",
    "        for l in s:\n",
    "            if l == '(':\n",
    "                depth += 1\n",
    "                mx = max (mx, depth)\n",
    "            elif l == ')':\n",
    "                depth -= 1\n",
    "        return mx "
   ]
  },
  {
   "cell_type": "code",
   "execution_count": 29,
   "id": "d1cefb43",
   "metadata": {},
   "outputs": [
    {
     "name": "stdout",
     "output_type": "stream",
     "text": [
      "3\n"
     ]
    }
   ],
   "source": [
    "s = Solution()\n",
    "\n",
    "result = s.maxDepth( s = \"(1+(2*3)+((8)/4))+1\")\n",
    "print (result) "
   ]
  },
  {
   "cell_type": "markdown",
   "id": "6af7d52d",
   "metadata": {},
   "source": [
    "### 2315. Count Asterisks\n"
   ]
  },
  {
   "cell_type": "code",
   "execution_count": 43,
   "id": "4d745d2f",
   "metadata": {},
   "outputs": [],
   "source": [
    "class Solution:\n",
    "    def countAsterisks(self, s: str) -> int:\n",
    "        \n",
    "        words = s.split('|')\n",
    "        \n",
    "        count = 0 \n",
    "        good = True \n",
    "        \n",
    "        for word in words:\n",
    "            if good:\n",
    "                c = word.count('*')\n",
    "                count += c\n",
    "                \n",
    "            good = not good \n",
    "        return count "
   ]
  },
  {
   "cell_type": "code",
   "execution_count": 44,
   "id": "34ab9984",
   "metadata": {},
   "outputs": [
    {
     "name": "stdout",
     "output_type": "stream",
     "text": [
      "2\n"
     ]
    }
   ],
   "source": [
    "s = Solution()\n",
    "\n",
    "result = s.countAsterisks(\"l|*e*et|c**o|*de|\")\n",
    "print (result) "
   ]
  },
  {
   "cell_type": "markdown",
   "id": "77d3ed79",
   "metadata": {},
   "source": [
    "###  557. Reverse Words in a String III"
   ]
  },
  {
   "cell_type": "code",
   "execution_count": 99,
   "id": "c2f33230",
   "metadata": {},
   "outputs": [],
   "source": [
    "class Solution:\n",
    "    def reverseWords(self, s: str) -> str:\n",
    "\n",
    "        res = []\n",
    "\n",
    "        words = s.split()\n",
    "\n",
    "        for w in words:\n",
    "            w_l = list(w)\n",
    "            rev_l = w_l.reverse()\n",
    "            #print(w_l)\n",
    "            res.append(''.join(w_l))\n",
    "\n",
    "        return ' '.join(res)\n"
   ]
  },
  {
   "cell_type": "code",
   "execution_count": 100,
   "id": "e6443697",
   "metadata": {},
   "outputs": [
    {
     "name": "stdout",
     "output_type": "stream",
     "text": [
      "s'teL ekat edoCteeL tsetnoc\n"
     ]
    }
   ],
   "source": [
    "s = Solution()\n",
    "\n",
    "result = s.reverseWords(s = \"Let's take LeetCode contest\")\n",
    "print (result) "
   ]
  },
  {
   "cell_type": "code",
   "execution_count": 101,
   "id": "b5a76460",
   "metadata": {},
   "outputs": [
    {
     "name": "stdout",
     "output_type": "stream",
     "text": [
      "doG gniD\n"
     ]
    }
   ],
   "source": [
    " s = Solution()\n",
    "\n",
    "result = s.reverseWords(s = \"God Ding\")\n",
    "print (result) "
   ]
  },
  {
   "cell_type": "markdown",
   "id": "c2903eb0",
   "metadata": {},
   "source": [
    "### 2103. Rings and Rods\n"
   ]
  },
  {
   "cell_type": "code",
   "execution_count": 55,
   "id": "039036e9",
   "metadata": {},
   "outputs": [],
   "source": [
    "class Solution:\n",
    "    def countPoints(self, rings: str) -> int:\n",
    "\n",
    "        r, g, b =[], [], []\n",
    "        for c in range(int(len(rings)/2)):\n",
    "\n",
    "            if rings[2 * c] == 'R':\n",
    "                #print(rings[2*c + 1])\n",
    "                r.append(rings[2*c + 1])\n",
    "            elif rings[2 * c] == 'G':\n",
    "                g.append(rings[2*c + 1])\n",
    "            else:\n",
    "                b.append(rings[2*c + 1])\n",
    "                \n",
    "        return len(set(r).intersection(set(g)).intersection(set(b)))       \n"
   ]
  },
  {
   "cell_type": "code",
   "execution_count": 56,
   "id": "1e81ac11",
   "metadata": {},
   "outputs": [
    {
     "name": "stdout",
     "output_type": "stream",
     "text": [
      "1\n"
     ]
    }
   ],
   "source": [
    "s = Solution()\n",
    "\n",
    "result = s.countPoints(\"B0R0G0R9R0B0G0\")\n",
    "print (result) "
   ]
  },
  {
   "cell_type": "code",
   "execution_count": 57,
   "id": "f99aa8b6",
   "metadata": {},
   "outputs": [
    {
     "name": "stdout",
     "output_type": "stream",
     "text": [
      "1\n"
     ]
    }
   ],
   "source": [
    "s = Solution()\n",
    "\n",
    "result = s.countPoints(\"B0B6G0R6R0R6G9\")\n",
    "print (result) "
   ]
  },
  {
   "cell_type": "code",
   "execution_count": 58,
   "id": "b5f898da",
   "metadata": {},
   "outputs": [
    {
     "name": "stdout",
     "output_type": "stream",
     "text": [
      "0\n"
     ]
    }
   ],
   "source": [
    "s = Solution()\n",
    "\n",
    "result = s.countPoints(\"G4\")\n",
    "print (result) "
   ]
  },
  {
   "cell_type": "markdown",
   "id": "f781dc0e",
   "metadata": {},
   "source": [
    "### 2697. Lexicographically Smallest Palindrome"
   ]
  },
  {
   "cell_type": "markdown",
   "id": "90a9b1ba",
   "metadata": {},
   "source": [
    "I should remember this to be able to solve this question:\n",
    "\n",
    "A palindrome is a word, phrase, number, or sequence of characters that reads the same forwards and backwards. In other words, when the characters are reversed, the resulting sequence remains unchanged."
   ]
  },
  {
   "cell_type": "code",
   "execution_count": 95,
   "id": "171657e8",
   "metadata": {},
   "outputs": [],
   "source": [
    "class Solution:\n",
    "    def makeSmallestPalindrome(self, s: str) -> str:\n",
    "        s_list = list(s)\n",
    "        for i in range(len(s_list)//2):\n",
    "\n",
    "            if s_list[len(s_list) - i - 1] < s_list[i]:\n",
    "                s_list[i] = s_list[len(s_list) - i - 1] \n",
    "            else:\n",
    "                s_list[len(s_list) - i - 1] = s_list[i] \n",
    "        return ''.join(s_list)"
   ]
  },
  {
   "cell_type": "code",
   "execution_count": 96,
   "id": "36b6bfc1",
   "metadata": {},
   "outputs": [
    {
     "name": "stdout",
     "output_type": "stream",
     "text": [
      "efcfe\n"
     ]
    }
   ],
   "source": [
    "s = Solution()\n",
    "\n",
    "result = s.makeSmallestPalindrome(\"egcfe\")\n",
    "print (result) "
   ]
  },
  {
   "cell_type": "code",
   "execution_count": 97,
   "id": "7f051a24",
   "metadata": {},
   "outputs": [
    {
     "name": "stdout",
     "output_type": "stream",
     "text": [
      "abba\n"
     ]
    }
   ],
   "source": [
    "s = Solution()\n",
    "\n",
    "result = s.makeSmallestPalindrome(\"abcd\")\n",
    "print (result)  "
   ]
  },
  {
   "cell_type": "code",
   "execution_count": 98,
   "id": "7ede8617",
   "metadata": {},
   "outputs": [
    {
     "name": "stdout",
     "output_type": "stream",
     "text": [
      "neven\n"
     ]
    }
   ],
   "source": [
    "s = Solution()\n",
    "\n",
    "result = s.makeSmallestPalindrome(\"seven\")\n",
    "print (result)   "
   ]
  },
  {
   "cell_type": "markdown",
   "id": "687c7c53",
   "metadata": {},
   "source": [
    "### 1021. Remove Outermost Parentheses\n"
   ]
  },
  {
   "cell_type": "code",
   "execution_count": 16,
   "id": "a7fcd3a4",
   "metadata": {},
   "outputs": [],
   "source": [
    "class Solution:\n",
    "    def removeOuterParentheses(self, s: str) -> str:\n",
    "        \n",
    "        l = []\n",
    "        count = 0 \n",
    "        temp = 0\n",
    "        start = 0\n",
    "        for i in s:\n",
    "\n",
    "            if i == '(':\n",
    "                count +=1 \n",
    "            else:\n",
    "                count -=1 \n",
    "            temp += 1\n",
    "            if count == 0:\n",
    "                #print (s[start: temp])\n",
    "                l.append(s[start+1: temp-1])\n",
    "                start = temp\n",
    "        return ''.join(l)  "
   ]
  },
  {
   "cell_type": "code",
   "execution_count": 15,
   "id": "9006d35a",
   "metadata": {},
   "outputs": [
    {
     "data": {
      "text/plain": [
       "'()()()()(())'"
      ]
     },
     "execution_count": 15,
     "metadata": {},
     "output_type": "execute_result"
    }
   ],
   "source": [
    "s = \"(()())(())(()(()))\"\n",
    "\n",
    "l = []\n",
    "count = 0 \n",
    "temp = 0\n",
    "start = 0\n",
    "for i in s:\n",
    "\n",
    "    if i == '(':\n",
    "        count +=1 \n",
    "    else:\n",
    "        count -=1 \n",
    "    temp += 1\n",
    "    if count == 0:\n",
    "        #print (s[start: temp])\n",
    "        l.append(s[start+1: temp-1])\n",
    "        start = temp\n",
    "''.join(l)   "
   ]
  },
  {
   "cell_type": "code",
   "execution_count": 18,
   "id": "0baf2581",
   "metadata": {},
   "outputs": [
    {
     "name": "stdout",
     "output_type": "stream",
     "text": [
      "()()()\n"
     ]
    }
   ],
   "source": [
    "s = Solution()\n",
    "\n",
    "result = s.removeOuterParentheses(\"(()())(())\")\n",
    "print (result)"
   ]
  },
  {
   "cell_type": "code",
   "execution_count": 17,
   "id": "3ce7d821",
   "metadata": {},
   "outputs": [
    {
     "name": "stdout",
     "output_type": "stream",
     "text": [
      "()()()()(())\n"
     ]
    }
   ],
   "source": [
    "s = Solution()\n",
    "\n",
    "result = s.removeOuterParentheses(\"(()())(())(()(()))\")\n",
    "print (result) "
   ]
  },
  {
   "cell_type": "code",
   "execution_count": 20,
   "id": "667fe719",
   "metadata": {},
   "outputs": [
    {
     "name": "stdout",
     "output_type": "stream",
     "text": [
      "\n"
     ]
    }
   ],
   "source": [
    "s = Solution()\n",
    "\n",
    "result = s.removeOuterParentheses(\"()()\")\n",
    "print (result) "
   ]
  },
  {
   "cell_type": "markdown",
   "id": "e95323a6",
   "metadata": {},
   "source": [
    "### 1309. Decrypt String from Alphabet to Integer Mapping"
   ]
  },
  {
   "cell_type": "code",
   "execution_count": 13,
   "id": "63aa4c7c",
   "metadata": {},
   "outputs": [],
   "source": [
    "class Solution:\n",
    "     def freqAlphabets(self, s: str) -> str:\n",
    "        res = []\n",
    "        i = 0 \n",
    "        while i < len(s):\n",
    "            if i+2 < len(s) and s[i+2] == '#':\n",
    "                res.append(chr(int(s[i: i+2]) + 96))\n",
    "                i+=3 \n",
    "            else:\n",
    "                res.append(chr(int(s[i]) + 96))\n",
    "                i +=1\n",
    "        return ''.join(res)         "
   ]
  },
  {
   "cell_type": "code",
   "execution_count": 14,
   "id": "68c7f89a",
   "metadata": {},
   "outputs": [
    {
     "name": "stdout",
     "output_type": "stream",
     "text": [
      "jkab\n"
     ]
    }
   ],
   "source": [
    "s = Solution()\n",
    "\n",
    "result = s.freqAlphabets(s = \"10#11#12\")\n",
    "print (result) "
   ]
  },
  {
   "cell_type": "code",
   "execution_count": 15,
   "id": "3eb1f56b",
   "metadata": {},
   "outputs": [
    {
     "name": "stdout",
     "output_type": "stream",
     "text": [
      "acz\n"
     ]
    }
   ],
   "source": [
    "s = Solution()\n",
    "\n",
    "result = s.freqAlphabets(s = \"1326#\")\n",
    "print (result) "
   ]
  },
  {
   "cell_type": "markdown",
   "id": "798ee068",
   "metadata": {},
   "source": [
    "### 2000. Reverse Prefix of Word"
   ]
  },
  {
   "cell_type": "code",
   "execution_count": 55,
   "id": "50e61249",
   "metadata": {},
   "outputs": [],
   "source": [
    "class Solution:\n",
    "    def reversePrefix(self, word: str, ch: str) -> str:\n",
    "        count = 0 \n",
    "        for i in word:\n",
    "            count +=1 \n",
    "            if i == ch:\n",
    "                first = word[0: count]\n",
    "                rev_first = ''.join(reversed(first))\n",
    "                rest = word[count :]\n",
    "                res = ''.join(rev_first + rest)\n",
    "                break\n",
    "            else:\n",
    "                res = word\n",
    "        return res"
   ]
  },
  {
   "cell_type": "code",
   "execution_count": 56,
   "id": "9e52b213",
   "metadata": {},
   "outputs": [
    {
     "name": "stdout",
     "output_type": "stream",
     "text": [
      "dcbaefd\n"
     ]
    }
   ],
   "source": [
    "s = Solution()\n",
    "\n",
    "result = s.reversePrefix(word = \"abcdefd\", ch = \"d\")\n",
    "print (result) "
   ]
  },
  {
   "cell_type": "code",
   "execution_count": 57,
   "id": "e2127b1a",
   "metadata": {},
   "outputs": [
    {
     "name": "stdout",
     "output_type": "stream",
     "text": [
      "zxyxxe\n"
     ]
    }
   ],
   "source": [
    "s = Solution()\n",
    "\n",
    "result = s.reversePrefix(word = \"xyxzxe\", ch = \"z\")\n",
    "print (result) "
   ]
  },
  {
   "cell_type": "code",
   "execution_count": 58,
   "id": "25e0f56e",
   "metadata": {},
   "outputs": [
    {
     "name": "stdout",
     "output_type": "stream",
     "text": [
      "abcd\n"
     ]
    }
   ],
   "source": [
    "s = Solution()\n",
    "\n",
    "result = s.reversePrefix(word = \"abcd\", ch = \"z\")\n",
    "print (result) "
   ]
  },
  {
   "cell_type": "markdown",
   "id": "13ca4c17",
   "metadata": {},
   "source": [
    "### 2678. Number of Senior Citizens"
   ]
  },
  {
   "cell_type": "code",
   "execution_count": 4,
   "id": "7bc7540d",
   "metadata": {},
   "outputs": [],
   "source": [
    "from typing import List\n",
    "class Solution:\n",
    "    def countSeniors(self, details: List[str]) -> int:\n",
    "        senior_count = 0\n",
    "        for one_pass in details:\n",
    "            \n",
    "            age = one_pass[11:13]\n",
    "            if int(age) > 60:\n",
    "                senior_count += 1\n",
    "        return senior_count\n",
    "            \n",
    "        "
   ]
  },
  {
   "cell_type": "code",
   "execution_count": 5,
   "id": "f574e3fe",
   "metadata": {},
   "outputs": [
    {
     "name": "stdout",
     "output_type": "stream",
     "text": [
      "2\n"
     ]
    }
   ],
   "source": [
    "s = Solution()\n",
    "\n",
    "result = s.countSeniors(details = [\"7868190130M7522\",\"5303914400F9211\",\"9273338290F4010\"])\n",
    "print (result) "
   ]
  },
  {
   "cell_type": "code",
   "execution_count": 7,
   "id": "01565f0b",
   "metadata": {},
   "outputs": [
    {
     "name": "stdout",
     "output_type": "stream",
     "text": [
      "0\n"
     ]
    }
   ],
   "source": [
    "s = Solution()\n",
    "\n",
    "result = s.countSeniors(details = [\"1313579440F2036\",\"2921522980M5644\"])\n",
    "print (result) "
   ]
  },
  {
   "cell_type": "markdown",
   "id": "79a5ae34",
   "metadata": {},
   "source": [
    "### 1704. Determine if String Halves Are Alike\n"
   ]
  },
  {
   "cell_type": "code",
   "execution_count": 18,
   "id": "94d145c3",
   "metadata": {},
   "outputs": [],
   "source": [
    "class Solution:\n",
    "    def halvesAreAlike(self, s: str) -> bool:\n",
    "        \n",
    "        a = s[:int(len(s)/2)]\n",
    "        b = s[int(len(s)/2):]\n",
    "        \n",
    "        count_a = 0\n",
    "        count_b = 0\n",
    "        for l in a:\n",
    "            if l.lower() in 'aeiou':\n",
    "                count_a += 1\n",
    "        for ll in b:\n",
    "            if ll.lower() in 'aeiou':\n",
    "                count_b += 1\n",
    "        if count_a == count_b:\n",
    "            return True\n",
    "        else:\n",
    "            return False\n"
   ]
  },
  {
   "cell_type": "code",
   "execution_count": 19,
   "id": "abe0d16b",
   "metadata": {},
   "outputs": [
    {
     "name": "stdout",
     "output_type": "stream",
     "text": [
      "True\n"
     ]
    }
   ],
   "source": [
    "s = Solution()\n",
    "\n",
    "result = s.halvesAreAlike(s = \"book\")\n",
    "print (result) "
   ]
  },
  {
   "cell_type": "code",
   "execution_count": 20,
   "id": "8b463102",
   "metadata": {},
   "outputs": [
    {
     "name": "stdout",
     "output_type": "stream",
     "text": [
      "False\n"
     ]
    }
   ],
   "source": [
    "s = Solution()\n",
    "\n",
    "result = s.halvesAreAlike(s = \"textbook\")\n",
    "print (result) "
   ]
  },
  {
   "cell_type": "markdown",
   "id": "14552ee3",
   "metadata": {},
   "source": [
    "### 1812. Determine Color of a Chessboard Square"
   ]
  },
  {
   "cell_type": "code",
   "execution_count": 40,
   "id": "76ba9f30",
   "metadata": {},
   "outputs": [],
   "source": [
    "class Solution:\n",
    "    def squareIsWhite(self, coordinates: str) -> bool:\n",
    "        \n",
    "        l = coordinates[0]\n",
    "        n = coordinates[1]\n",
    "        #print (type(n))\n",
    "        if l in 'aceg' and int(n) in [1, 3, 5, 7]:\n",
    "            return False\n",
    "        elif l in 'bdfh' and int(n) in [2, 4, 6, 8]:\n",
    "            return False\n",
    "        else:\n",
    "            return True\n",
    "        "
   ]
  },
  {
   "cell_type": "code",
   "execution_count": 41,
   "id": "8c3c36e5",
   "metadata": {},
   "outputs": [
    {
     "name": "stdout",
     "output_type": "stream",
     "text": [
      "False\n"
     ]
    }
   ],
   "source": [
    "s = Solution()\n",
    "\n",
    "result = s.squareIsWhite(coordinates = \"a1\")\n",
    "print (result) "
   ]
  },
  {
   "cell_type": "code",
   "execution_count": 42,
   "id": "755fd0b7",
   "metadata": {},
   "outputs": [
    {
     "name": "stdout",
     "output_type": "stream",
     "text": [
      "True\n"
     ]
    }
   ],
   "source": [
    "s = Solution()\n",
    "\n",
    "result = s.squareIsWhite(coordinates = \"h3\")\n",
    "print (result) "
   ]
  },
  {
   "cell_type": "code",
   "execution_count": 43,
   "id": "36f49da7",
   "metadata": {},
   "outputs": [
    {
     "name": "stdout",
     "output_type": "stream",
     "text": [
      "False\n"
     ]
    }
   ],
   "source": [
    "s = Solution()\n",
    "\n",
    "result = s.squareIsWhite(coordinates = \"c7\")\n",
    "print (result) "
   ]
  },
  {
   "cell_type": "code",
   "execution_count": 44,
   "id": "df49a872",
   "metadata": {},
   "outputs": [
    {
     "name": "stdout",
     "output_type": "stream",
     "text": [
      "False\n"
     ]
    }
   ],
   "source": [
    "s = Solution()\n",
    "\n",
    "result = s.squareIsWhite(coordinates = \"b2\")\n",
    "print (result) "
   ]
  },
  {
   "cell_type": "markdown",
   "id": "4042e1c1",
   "metadata": {},
   "source": [
    "### 942. DI String Match"
   ]
  },
  {
   "cell_type": "code",
   "execution_count": 114,
   "id": "b8b9082a",
   "metadata": {
    "code_folding": []
   },
   "outputs": [],
   "source": [
    "class Solution:\n",
    "    def diStringMatch(self, s: str) -> List[int]:\n",
    "         \n",
    "        perm = [] \n",
    "        lower = 0 \n",
    "        upper = len(s)\n",
    "        \n",
    "        for i in s:\n",
    "            if i == 'I':\n",
    "                perm.append(lower)\n",
    "                lower += 1\n",
    "            else:\n",
    "                perm.append(upper)\n",
    "                upper -=1 \n",
    "    \n",
    "        if s[-1] == 'I':\n",
    "            perm.append(lower)\n",
    "        else:\n",
    "            perm.append(upper)\n",
    "        \n",
    "        return perm\n"
   ]
  },
  {
   "cell_type": "code",
   "execution_count": 115,
   "id": "54924707",
   "metadata": {},
   "outputs": [
    {
     "name": "stdout",
     "output_type": "stream",
     "text": [
      "[0, 4, 1, 3, 2]\n"
     ]
    }
   ],
   "source": [
    "s = Solution()\n",
    "\n",
    "result = s.diStringMatch(s =\"IDID\")\n",
    "print (result) "
   ]
  },
  {
   "cell_type": "code",
   "execution_count": 116,
   "id": "5505c920",
   "metadata": {},
   "outputs": [
    {
     "name": "stdout",
     "output_type": "stream",
     "text": [
      "[0, 1, 2, 3]\n"
     ]
    }
   ],
   "source": [
    "s = Solution()\n",
    "\n",
    "result = s.diStringMatch(s =\"III\")\n",
    "print (result) "
   ]
  },
  {
   "cell_type": "code",
   "execution_count": 117,
   "id": "3b3f29ad",
   "metadata": {},
   "outputs": [
    {
     "name": "stdout",
     "output_type": "stream",
     "text": [
      "[3, 2, 0, 1]\n"
     ]
    }
   ],
   "source": [
    "s = Solution()\n",
    "\n",
    "result = s.diStringMatch(\"DDI\")\n",
    "print (result) "
   ]
  },
  {
   "cell_type": "markdown",
   "id": "c662e606",
   "metadata": {},
   "source": [
    "### 2185. Counting Words With a Given Prefix"
   ]
  },
  {
   "cell_type": "code",
   "execution_count": null,
   "id": "886092bc",
   "metadata": {},
   "outputs": [],
   "source": [
    "from typing import List\n",
    "class Solution:\n",
    "    def prefixCount(self, words: List[str], pref: str) -> int:\n",
    "        \n",
    "        n = len(pref)\n",
    "        for w in words:\n",
    "            w[:n]\n",
    "        "
   ]
  },
  {
   "cell_type": "code",
   "execution_count": null,
   "id": "dc8b8b71",
   "metadata": {},
   "outputs": [],
   "source": [
    "s = Solution()\n",
    "\n",
    "result = s.\n",
    "print (result) "
   ]
  },
  {
   "cell_type": "markdown",
   "id": "40f2e9e6",
   "metadata": {},
   "source": [
    "### "
   ]
  },
  {
   "cell_type": "code",
   "execution_count": null,
   "id": "b8f87301",
   "metadata": {},
   "outputs": [],
   "source": []
  },
  {
   "cell_type": "code",
   "execution_count": null,
   "id": "d7e81feb",
   "metadata": {},
   "outputs": [],
   "source": [
    "s = Solution()\n",
    "\n",
    "result = s.\n",
    "print (result) "
   ]
  },
  {
   "cell_type": "markdown",
   "id": "4014d2f2",
   "metadata": {},
   "source": [
    "### "
   ]
  },
  {
   "cell_type": "code",
   "execution_count": null,
   "id": "31b50de8",
   "metadata": {},
   "outputs": [],
   "source": []
  },
  {
   "cell_type": "code",
   "execution_count": null,
   "id": "41bdf757",
   "metadata": {},
   "outputs": [],
   "source": [
    "s = Solution()\n",
    "\n",
    "result = s.\n",
    "print (result) "
   ]
  },
  {
   "cell_type": "markdown",
   "id": "896092d0",
   "metadata": {},
   "source": [
    "### "
   ]
  },
  {
   "cell_type": "code",
   "execution_count": null,
   "id": "98f01ea7",
   "metadata": {},
   "outputs": [],
   "source": []
  },
  {
   "cell_type": "code",
   "execution_count": null,
   "id": "374ec747",
   "metadata": {},
   "outputs": [],
   "source": [
    "s = Solution()\n",
    "\n",
    "result = s.\n",
    "print (result) "
   ]
  },
  {
   "cell_type": "markdown",
   "id": "6c385421",
   "metadata": {},
   "source": [
    "### "
   ]
  },
  {
   "cell_type": "code",
   "execution_count": null,
   "id": "72681c2f",
   "metadata": {},
   "outputs": [],
   "source": []
  },
  {
   "cell_type": "markdown",
   "id": "04232394",
   "metadata": {},
   "source": [
    "### "
   ]
  },
  {
   "cell_type": "code",
   "execution_count": null,
   "id": "d37466f7",
   "metadata": {},
   "outputs": [],
   "source": []
  },
  {
   "cell_type": "code",
   "execution_count": null,
   "id": "c8856f2e",
   "metadata": {},
   "outputs": [],
   "source": [
    "s = Solution()\n",
    "\n",
    "result = s.\n",
    "print (result) "
   ]
  },
  {
   "cell_type": "markdown",
   "id": "5a2506a2",
   "metadata": {},
   "source": [
    "### "
   ]
  },
  {
   "cell_type": "code",
   "execution_count": null,
   "id": "9dbcef51",
   "metadata": {},
   "outputs": [],
   "source": []
  },
  {
   "cell_type": "code",
   "execution_count": null,
   "id": "bd9c6eae",
   "metadata": {},
   "outputs": [],
   "source": [
    "s = Solution()\n",
    "\n",
    "result = s.\n",
    "print (result) "
   ]
  },
  {
   "cell_type": "markdown",
   "id": "28b091cb",
   "metadata": {},
   "source": [
    "### "
   ]
  },
  {
   "cell_type": "code",
   "execution_count": null,
   "id": "cc04aa14",
   "metadata": {},
   "outputs": [],
   "source": []
  },
  {
   "cell_type": "markdown",
   "id": "a77290f4",
   "metadata": {},
   "source": [
    "### "
   ]
  },
  {
   "cell_type": "code",
   "execution_count": null,
   "id": "525d079a",
   "metadata": {},
   "outputs": [],
   "source": []
  },
  {
   "cell_type": "code",
   "execution_count": null,
   "id": "3be2a9dd",
   "metadata": {},
   "outputs": [],
   "source": [
    "s = Solution()\n",
    "\n",
    "result = s.\n",
    "print (result) "
   ]
  },
  {
   "cell_type": "markdown",
   "id": "366c807a",
   "metadata": {},
   "source": [
    "### "
   ]
  },
  {
   "cell_type": "code",
   "execution_count": null,
   "id": "ad7105bc",
   "metadata": {},
   "outputs": [],
   "source": []
  },
  {
   "cell_type": "markdown",
   "id": "1ecf38c6",
   "metadata": {},
   "source": [
    "### "
   ]
  },
  {
   "cell_type": "code",
   "execution_count": null,
   "id": "4708f0fc",
   "metadata": {},
   "outputs": [],
   "source": []
  },
  {
   "cell_type": "code",
   "execution_count": null,
   "id": "5cfcf0ee",
   "metadata": {},
   "outputs": [],
   "source": [
    "s = Solution()\n",
    "\n",
    "result = s.\n",
    "print (result) "
   ]
  },
  {
   "cell_type": "markdown",
   "id": "59f5f2c6",
   "metadata": {},
   "source": [
    "### "
   ]
  },
  {
   "cell_type": "code",
   "execution_count": null,
   "id": "8082db2e",
   "metadata": {},
   "outputs": [],
   "source": []
  },
  {
   "cell_type": "markdown",
   "id": "3c35eb06",
   "metadata": {},
   "source": [
    "### "
   ]
  },
  {
   "cell_type": "code",
   "execution_count": null,
   "id": "1ec15a60",
   "metadata": {},
   "outputs": [],
   "source": []
  },
  {
   "cell_type": "code",
   "execution_count": null,
   "id": "225be0f6",
   "metadata": {},
   "outputs": [],
   "source": [
    "s = Solution()\n",
    "\n",
    "result = s.\n",
    "print (result) "
   ]
  },
  {
   "cell_type": "markdown",
   "id": "73ffb317",
   "metadata": {},
   "source": [
    "### "
   ]
  },
  {
   "cell_type": "code",
   "execution_count": null,
   "id": "efc8eea7",
   "metadata": {},
   "outputs": [],
   "source": []
  },
  {
   "cell_type": "markdown",
   "id": "e95a5634",
   "metadata": {},
   "source": [
    "### "
   ]
  },
  {
   "cell_type": "code",
   "execution_count": null,
   "id": "4afc3943",
   "metadata": {},
   "outputs": [],
   "source": []
  },
  {
   "cell_type": "code",
   "execution_count": null,
   "id": "b86a4927",
   "metadata": {},
   "outputs": [],
   "source": [
    "s = Solution()\n",
    "\n",
    "result = s.\n",
    "print (result) "
   ]
  },
  {
   "cell_type": "markdown",
   "id": "5fdcf301",
   "metadata": {},
   "source": [
    "### "
   ]
  },
  {
   "cell_type": "code",
   "execution_count": null,
   "id": "147c6ea7",
   "metadata": {},
   "outputs": [],
   "source": []
  },
  {
   "cell_type": "markdown",
   "id": "cfff101a",
   "metadata": {},
   "source": [
    "### "
   ]
  },
  {
   "cell_type": "code",
   "execution_count": null,
   "id": "8c9da129",
   "metadata": {},
   "outputs": [],
   "source": []
  },
  {
   "cell_type": "code",
   "execution_count": null,
   "id": "c233c98e",
   "metadata": {},
   "outputs": [],
   "source": [
    "s = Solution()\n",
    "\n",
    "result = s.\n",
    "print (result) "
   ]
  },
  {
   "cell_type": "markdown",
   "id": "43f86946",
   "metadata": {},
   "source": [
    "### "
   ]
  },
  {
   "cell_type": "code",
   "execution_count": null,
   "id": "1b4944be",
   "metadata": {},
   "outputs": [],
   "source": []
  },
  {
   "cell_type": "markdown",
   "id": "e12ac8cb",
   "metadata": {},
   "source": [
    "### "
   ]
  },
  {
   "cell_type": "code",
   "execution_count": null,
   "id": "c6a8c555",
   "metadata": {},
   "outputs": [],
   "source": []
  },
  {
   "cell_type": "code",
   "execution_count": null,
   "id": "c8e66d3c",
   "metadata": {},
   "outputs": [],
   "source": [
    "s = Solution()\n",
    "\n",
    "result = s.\n",
    "print (result) "
   ]
  },
  {
   "cell_type": "markdown",
   "id": "bb8fe7c9",
   "metadata": {},
   "source": [
    "### "
   ]
  },
  {
   "cell_type": "code",
   "execution_count": null,
   "id": "519f62b3",
   "metadata": {},
   "outputs": [],
   "source": []
  },
  {
   "cell_type": "markdown",
   "id": "8e58478e",
   "metadata": {},
   "source": [
    "### "
   ]
  },
  {
   "cell_type": "code",
   "execution_count": null,
   "id": "bfc564cc",
   "metadata": {},
   "outputs": [],
   "source": []
  },
  {
   "cell_type": "code",
   "execution_count": null,
   "id": "45e3b43a",
   "metadata": {},
   "outputs": [],
   "source": [
    "s = Solution()\n",
    "\n",
    "result = s.\n",
    "print (result) "
   ]
  },
  {
   "cell_type": "markdown",
   "id": "8e59c42d",
   "metadata": {},
   "source": [
    "### "
   ]
  },
  {
   "cell_type": "code",
   "execution_count": null,
   "id": "42e0d0f2",
   "metadata": {},
   "outputs": [],
   "source": []
  },
  {
   "cell_type": "markdown",
   "id": "02df708e",
   "metadata": {},
   "source": [
    "### "
   ]
  },
  {
   "cell_type": "code",
   "execution_count": null,
   "id": "ea217c47",
   "metadata": {},
   "outputs": [],
   "source": []
  },
  {
   "cell_type": "code",
   "execution_count": null,
   "id": "f6982bd0",
   "metadata": {},
   "outputs": [],
   "source": [
    "s = Solution()\n",
    "\n",
    "result = s.\n",
    "print (result) "
   ]
  },
  {
   "cell_type": "markdown",
   "id": "65e4f028",
   "metadata": {},
   "source": [
    "### "
   ]
  },
  {
   "cell_type": "code",
   "execution_count": null,
   "id": "25000efb",
   "metadata": {},
   "outputs": [],
   "source": []
  },
  {
   "cell_type": "markdown",
   "id": "bbcf1873",
   "metadata": {},
   "source": [
    "### "
   ]
  },
  {
   "cell_type": "code",
   "execution_count": null,
   "id": "df24dd7f",
   "metadata": {},
   "outputs": [],
   "source": []
  },
  {
   "cell_type": "code",
   "execution_count": null,
   "id": "a7a16df7",
   "metadata": {},
   "outputs": [],
   "source": [
    "s = Solution()\n",
    "\n",
    "result = s.\n",
    "print (result) "
   ]
  },
  {
   "cell_type": "markdown",
   "id": "2a5ce4d1",
   "metadata": {},
   "source": [
    "### "
   ]
  },
  {
   "cell_type": "code",
   "execution_count": null,
   "id": "9c85deb4",
   "metadata": {},
   "outputs": [],
   "source": []
  },
  {
   "cell_type": "markdown",
   "id": "0157059c",
   "metadata": {},
   "source": [
    "### "
   ]
  },
  {
   "cell_type": "code",
   "execution_count": null,
   "id": "a2ea8017",
   "metadata": {},
   "outputs": [],
   "source": []
  },
  {
   "cell_type": "code",
   "execution_count": null,
   "id": "1dcc112c",
   "metadata": {},
   "outputs": [],
   "source": [
    "s = Solution()\n",
    "\n",
    "result = s.\n",
    "print (result) "
   ]
  },
  {
   "cell_type": "markdown",
   "id": "9e34098e",
   "metadata": {},
   "source": [
    "### "
   ]
  },
  {
   "cell_type": "code",
   "execution_count": null,
   "id": "8abb9f96",
   "metadata": {},
   "outputs": [],
   "source": []
  },
  {
   "cell_type": "markdown",
   "id": "19667abb",
   "metadata": {},
   "source": [
    "### "
   ]
  },
  {
   "cell_type": "code",
   "execution_count": null,
   "id": "c58247c4",
   "metadata": {},
   "outputs": [],
   "source": []
  },
  {
   "cell_type": "code",
   "execution_count": null,
   "id": "67c19a6d",
   "metadata": {},
   "outputs": [],
   "source": [
    "s = Solution()\n",
    "\n",
    "result = s.\n",
    "print (result) "
   ]
  },
  {
   "cell_type": "markdown",
   "id": "30acdb17",
   "metadata": {},
   "source": [
    "### "
   ]
  },
  {
   "cell_type": "code",
   "execution_count": null,
   "id": "e2aaa742",
   "metadata": {},
   "outputs": [],
   "source": []
  },
  {
   "cell_type": "markdown",
   "id": "966764bb",
   "metadata": {},
   "source": [
    "### "
   ]
  },
  {
   "cell_type": "code",
   "execution_count": null,
   "id": "0bb716b9",
   "metadata": {},
   "outputs": [],
   "source": []
  },
  {
   "cell_type": "code",
   "execution_count": null,
   "id": "491846ae",
   "metadata": {},
   "outputs": [],
   "source": [
    "s = Solution()\n",
    "\n",
    "result = s.\n",
    "print (result) "
   ]
  },
  {
   "cell_type": "markdown",
   "id": "d31b516b",
   "metadata": {},
   "source": [
    "### "
   ]
  },
  {
   "cell_type": "code",
   "execution_count": null,
   "id": "5ac4dfac",
   "metadata": {},
   "outputs": [],
   "source": []
  },
  {
   "cell_type": "markdown",
   "id": "b01959c4",
   "metadata": {},
   "source": [
    "### "
   ]
  },
  {
   "cell_type": "code",
   "execution_count": null,
   "id": "99ad88b6",
   "metadata": {},
   "outputs": [],
   "source": []
  },
  {
   "cell_type": "code",
   "execution_count": null,
   "id": "294f6c03",
   "metadata": {},
   "outputs": [],
   "source": [
    "s = Solution()\n",
    "\n",
    "result = s.\n",
    "print (result) "
   ]
  },
  {
   "cell_type": "markdown",
   "id": "09d2ca06",
   "metadata": {},
   "source": [
    "### "
   ]
  },
  {
   "cell_type": "code",
   "execution_count": null,
   "id": "079660e5",
   "metadata": {},
   "outputs": [],
   "source": []
  },
  {
   "cell_type": "markdown",
   "id": "02c15df7",
   "metadata": {},
   "source": [
    "### "
   ]
  },
  {
   "cell_type": "code",
   "execution_count": null,
   "id": "f3edf3ae",
   "metadata": {},
   "outputs": [],
   "source": []
  },
  {
   "cell_type": "code",
   "execution_count": null,
   "id": "f4bbb359",
   "metadata": {},
   "outputs": [],
   "source": [
    "s = Solution()\n",
    "\n",
    "result = s.\n",
    "print (result) "
   ]
  },
  {
   "cell_type": "markdown",
   "id": "b494f093",
   "metadata": {},
   "source": [
    "### "
   ]
  },
  {
   "cell_type": "code",
   "execution_count": null,
   "id": "c964918b",
   "metadata": {},
   "outputs": [],
   "source": []
  },
  {
   "cell_type": "markdown",
   "id": "004ff37a",
   "metadata": {},
   "source": [
    "### "
   ]
  },
  {
   "cell_type": "code",
   "execution_count": null,
   "id": "f234e3ff",
   "metadata": {},
   "outputs": [],
   "source": []
  },
  {
   "cell_type": "code",
   "execution_count": null,
   "id": "71b3eb08",
   "metadata": {},
   "outputs": [],
   "source": [
    "s = Solution()\n",
    "\n",
    "result = s.\n",
    "print (result) "
   ]
  },
  {
   "cell_type": "markdown",
   "id": "9e262142",
   "metadata": {},
   "source": [
    "### "
   ]
  },
  {
   "cell_type": "code",
   "execution_count": null,
   "id": "1c11b487",
   "metadata": {},
   "outputs": [],
   "source": []
  },
  {
   "cell_type": "markdown",
   "id": "66ce11d1",
   "metadata": {},
   "source": [
    "### "
   ]
  },
  {
   "cell_type": "code",
   "execution_count": null,
   "id": "96183e9c",
   "metadata": {},
   "outputs": [],
   "source": []
  },
  {
   "cell_type": "code",
   "execution_count": null,
   "id": "ce32f232",
   "metadata": {},
   "outputs": [],
   "source": [
    "s = Solution()\n",
    "\n",
    "result = s.\n",
    "print (result) "
   ]
  },
  {
   "cell_type": "markdown",
   "id": "60057014",
   "metadata": {},
   "source": [
    "### "
   ]
  },
  {
   "cell_type": "code",
   "execution_count": null,
   "id": "7de71981",
   "metadata": {},
   "outputs": [],
   "source": []
  },
  {
   "cell_type": "markdown",
   "id": "e08b5ae0",
   "metadata": {},
   "source": [
    "### "
   ]
  },
  {
   "cell_type": "code",
   "execution_count": null,
   "id": "c98e99b6",
   "metadata": {},
   "outputs": [],
   "source": []
  },
  {
   "cell_type": "code",
   "execution_count": null,
   "id": "57daa220",
   "metadata": {},
   "outputs": [],
   "source": [
    "s = Solution()\n",
    "\n",
    "result = s.\n",
    "print (result) "
   ]
  },
  {
   "cell_type": "markdown",
   "id": "16814209",
   "metadata": {},
   "source": [
    "### "
   ]
  },
  {
   "cell_type": "code",
   "execution_count": null,
   "id": "2554403e",
   "metadata": {},
   "outputs": [],
   "source": []
  },
  {
   "cell_type": "markdown",
   "id": "76f6d635",
   "metadata": {},
   "source": [
    "### "
   ]
  },
  {
   "cell_type": "code",
   "execution_count": null,
   "id": "1320d337",
   "metadata": {},
   "outputs": [],
   "source": []
  },
  {
   "cell_type": "code",
   "execution_count": null,
   "id": "2bbe1f37",
   "metadata": {},
   "outputs": [],
   "source": [
    "s = Solution()\n",
    "\n",
    "result = s.\n",
    "print (result) "
   ]
  },
  {
   "cell_type": "markdown",
   "id": "439d96d2",
   "metadata": {},
   "source": [
    "### "
   ]
  },
  {
   "cell_type": "code",
   "execution_count": null,
   "id": "d4f5f2b0",
   "metadata": {},
   "outputs": [],
   "source": []
  },
  {
   "cell_type": "markdown",
   "id": "442b0b47",
   "metadata": {},
   "source": [
    "### "
   ]
  },
  {
   "cell_type": "code",
   "execution_count": null,
   "id": "176bf3fc",
   "metadata": {},
   "outputs": [],
   "source": []
  },
  {
   "cell_type": "code",
   "execution_count": null,
   "id": "e3585c75",
   "metadata": {},
   "outputs": [],
   "source": [
    "s = Solution()\n",
    "\n",
    "result = s.\n",
    "print (result) "
   ]
  },
  {
   "cell_type": "markdown",
   "id": "e100311d",
   "metadata": {},
   "source": [
    "### "
   ]
  },
  {
   "cell_type": "code",
   "execution_count": null,
   "id": "4a56d105",
   "metadata": {},
   "outputs": [],
   "source": []
  },
  {
   "cell_type": "markdown",
   "id": "bb83d683",
   "metadata": {},
   "source": [
    "### "
   ]
  },
  {
   "cell_type": "code",
   "execution_count": null,
   "id": "fce8fe21",
   "metadata": {},
   "outputs": [],
   "source": []
  },
  {
   "cell_type": "code",
   "execution_count": null,
   "id": "ee8ea8dd",
   "metadata": {},
   "outputs": [],
   "source": [
    "s = Solution()\n",
    "\n",
    "result = s.\n",
    "print (result) "
   ]
  },
  {
   "cell_type": "markdown",
   "id": "2f0ca67d",
   "metadata": {},
   "source": [
    "### "
   ]
  },
  {
   "cell_type": "code",
   "execution_count": null,
   "id": "79d7618d",
   "metadata": {},
   "outputs": [],
   "source": []
  },
  {
   "cell_type": "markdown",
   "id": "e1f802ed",
   "metadata": {},
   "source": [
    "### "
   ]
  },
  {
   "cell_type": "code",
   "execution_count": null,
   "id": "96343829",
   "metadata": {},
   "outputs": [],
   "source": []
  },
  {
   "cell_type": "code",
   "execution_count": null,
   "id": "3f74158b",
   "metadata": {},
   "outputs": [],
   "source": [
    "s = Solution()\n",
    "\n",
    "result = s.\n",
    "print (result) "
   ]
  },
  {
   "cell_type": "markdown",
   "id": "46f002c1",
   "metadata": {},
   "source": [
    "### "
   ]
  },
  {
   "cell_type": "code",
   "execution_count": null,
   "id": "f4ee7c21",
   "metadata": {},
   "outputs": [],
   "source": []
  },
  {
   "cell_type": "markdown",
   "id": "b942de53",
   "metadata": {},
   "source": [
    "### "
   ]
  },
  {
   "cell_type": "code",
   "execution_count": null,
   "id": "ddf9a72a",
   "metadata": {},
   "outputs": [],
   "source": []
  },
  {
   "cell_type": "code",
   "execution_count": null,
   "id": "720edf18",
   "metadata": {},
   "outputs": [],
   "source": [
    "s = Solution()\n",
    "\n",
    "result = s.\n",
    "print (result) "
   ]
  },
  {
   "cell_type": "markdown",
   "id": "0c65bda6",
   "metadata": {},
   "source": [
    "### "
   ]
  },
  {
   "cell_type": "code",
   "execution_count": null,
   "id": "70bdf87a",
   "metadata": {},
   "outputs": [],
   "source": []
  },
  {
   "cell_type": "markdown",
   "id": "bdc5f07d",
   "metadata": {},
   "source": [
    "### "
   ]
  },
  {
   "cell_type": "code",
   "execution_count": null,
   "id": "1c37a122",
   "metadata": {},
   "outputs": [],
   "source": []
  },
  {
   "cell_type": "code",
   "execution_count": null,
   "id": "f58b5167",
   "metadata": {},
   "outputs": [],
   "source": [
    "s = Solution()\n",
    "\n",
    "result = s.\n",
    "print (result) "
   ]
  },
  {
   "cell_type": "markdown",
   "id": "5249019b",
   "metadata": {},
   "source": [
    "### "
   ]
  },
  {
   "cell_type": "code",
   "execution_count": null,
   "id": "0fb4d864",
   "metadata": {},
   "outputs": [],
   "source": []
  },
  {
   "cell_type": "markdown",
   "id": "ac0b80f5",
   "metadata": {},
   "source": [
    "### "
   ]
  },
  {
   "cell_type": "code",
   "execution_count": null,
   "id": "35a8bc8f",
   "metadata": {},
   "outputs": [],
   "source": []
  },
  {
   "cell_type": "code",
   "execution_count": null,
   "id": "da61cf45",
   "metadata": {},
   "outputs": [],
   "source": [
    "s = Solution()\n",
    "\n",
    "result = s.\n",
    "print (result) "
   ]
  },
  {
   "cell_type": "markdown",
   "id": "ea998b59",
   "metadata": {},
   "source": [
    "### "
   ]
  },
  {
   "cell_type": "code",
   "execution_count": null,
   "id": "02fa91c4",
   "metadata": {},
   "outputs": [],
   "source": []
  },
  {
   "cell_type": "markdown",
   "id": "21162961",
   "metadata": {},
   "source": [
    "### "
   ]
  },
  {
   "cell_type": "code",
   "execution_count": null,
   "id": "81971cd5",
   "metadata": {},
   "outputs": [],
   "source": []
  },
  {
   "cell_type": "code",
   "execution_count": null,
   "id": "3713233b",
   "metadata": {},
   "outputs": [],
   "source": [
    "s = Solution()\n",
    "\n",
    "result = s.\n",
    "print (result) "
   ]
  },
  {
   "cell_type": "markdown",
   "id": "f37b9341",
   "metadata": {},
   "source": [
    "### "
   ]
  },
  {
   "cell_type": "code",
   "execution_count": null,
   "id": "0004c5f0",
   "metadata": {},
   "outputs": [],
   "source": []
  },
  {
   "cell_type": "markdown",
   "id": "70389232",
   "metadata": {},
   "source": [
    "### "
   ]
  },
  {
   "cell_type": "code",
   "execution_count": null,
   "id": "cb83284f",
   "metadata": {},
   "outputs": [],
   "source": []
  },
  {
   "cell_type": "code",
   "execution_count": null,
   "id": "da52917e",
   "metadata": {},
   "outputs": [],
   "source": [
    "s = Solution()\n",
    "\n",
    "result = s.\n",
    "print (result) "
   ]
  },
  {
   "cell_type": "markdown",
   "id": "363afcfa",
   "metadata": {},
   "source": [
    "### "
   ]
  },
  {
   "cell_type": "code",
   "execution_count": null,
   "id": "2f25e454",
   "metadata": {},
   "outputs": [],
   "source": []
  },
  {
   "cell_type": "markdown",
   "id": "12547ca6",
   "metadata": {},
   "source": [
    "### "
   ]
  },
  {
   "cell_type": "code",
   "execution_count": null,
   "id": "2aff46b1",
   "metadata": {},
   "outputs": [],
   "source": []
  },
  {
   "cell_type": "code",
   "execution_count": null,
   "id": "82a27b99",
   "metadata": {},
   "outputs": [],
   "source": [
    "s = Solution()\n",
    "\n",
    "result = s.\n",
    "print (result) "
   ]
  },
  {
   "cell_type": "markdown",
   "id": "5d09c66a",
   "metadata": {},
   "source": [
    "### "
   ]
  },
  {
   "cell_type": "code",
   "execution_count": null,
   "id": "6ed13f69",
   "metadata": {},
   "outputs": [],
   "source": []
  },
  {
   "cell_type": "markdown",
   "id": "586ee40a",
   "metadata": {},
   "source": [
    "### "
   ]
  },
  {
   "cell_type": "code",
   "execution_count": null,
   "id": "81b25bcc",
   "metadata": {},
   "outputs": [],
   "source": []
  },
  {
   "cell_type": "code",
   "execution_count": null,
   "id": "85c9979f",
   "metadata": {},
   "outputs": [],
   "source": [
    "s = Solution()\n",
    "\n",
    "result = s.\n",
    "print (result) "
   ]
  },
  {
   "cell_type": "markdown",
   "id": "ee056d28",
   "metadata": {},
   "source": [
    "### "
   ]
  },
  {
   "cell_type": "code",
   "execution_count": null,
   "id": "d26d23d9",
   "metadata": {},
   "outputs": [],
   "source": []
  },
  {
   "cell_type": "markdown",
   "id": "f9437832",
   "metadata": {},
   "source": [
    "### "
   ]
  },
  {
   "cell_type": "code",
   "execution_count": null,
   "id": "87724da5",
   "metadata": {},
   "outputs": [],
   "source": []
  },
  {
   "cell_type": "code",
   "execution_count": null,
   "id": "1c233c08",
   "metadata": {},
   "outputs": [],
   "source": [
    "s = Solution()\n",
    "\n",
    "result = s.\n",
    "print (result) "
   ]
  },
  {
   "cell_type": "markdown",
   "id": "33f10c73",
   "metadata": {},
   "source": [
    "### "
   ]
  },
  {
   "cell_type": "code",
   "execution_count": null,
   "id": "965773af",
   "metadata": {},
   "outputs": [],
   "source": []
  },
  {
   "cell_type": "markdown",
   "id": "f652dff8",
   "metadata": {},
   "source": [
    "### "
   ]
  },
  {
   "cell_type": "code",
   "execution_count": null,
   "id": "2a02141d",
   "metadata": {},
   "outputs": [],
   "source": []
  },
  {
   "cell_type": "code",
   "execution_count": null,
   "id": "43e0e916",
   "metadata": {},
   "outputs": [],
   "source": [
    "s = Solution()\n",
    "\n",
    "result = s.\n",
    "print (result) "
   ]
  },
  {
   "cell_type": "markdown",
   "id": "e36df970",
   "metadata": {},
   "source": [
    "### "
   ]
  },
  {
   "cell_type": "code",
   "execution_count": null,
   "id": "e1e15393",
   "metadata": {},
   "outputs": [],
   "source": []
  },
  {
   "cell_type": "markdown",
   "id": "c6545d17",
   "metadata": {},
   "source": [
    "### "
   ]
  },
  {
   "cell_type": "code",
   "execution_count": null,
   "id": "6e8e18f9",
   "metadata": {},
   "outputs": [],
   "source": []
  },
  {
   "cell_type": "code",
   "execution_count": null,
   "id": "b797520a",
   "metadata": {},
   "outputs": [],
   "source": [
    "s = Solution()\n",
    "\n",
    "result = s.\n",
    "print (result) "
   ]
  },
  {
   "cell_type": "markdown",
   "id": "d5d24341",
   "metadata": {},
   "source": [
    "### "
   ]
  },
  {
   "cell_type": "code",
   "execution_count": null,
   "id": "265def94",
   "metadata": {},
   "outputs": [],
   "source": []
  },
  {
   "cell_type": "markdown",
   "id": "c64514aa",
   "metadata": {},
   "source": [
    "### "
   ]
  },
  {
   "cell_type": "code",
   "execution_count": null,
   "id": "5f02c4ab",
   "metadata": {},
   "outputs": [],
   "source": []
  },
  {
   "cell_type": "code",
   "execution_count": null,
   "id": "49f82eb5",
   "metadata": {},
   "outputs": [],
   "source": [
    "s = Solution()\n",
    "\n",
    "result = s.\n",
    "print (result) "
   ]
  },
  {
   "cell_type": "markdown",
   "id": "bb960a73",
   "metadata": {},
   "source": [
    "### "
   ]
  },
  {
   "cell_type": "code",
   "execution_count": null,
   "id": "cfc756fd",
   "metadata": {},
   "outputs": [],
   "source": []
  },
  {
   "cell_type": "markdown",
   "id": "576a5f15",
   "metadata": {},
   "source": [
    "### "
   ]
  },
  {
   "cell_type": "code",
   "execution_count": null,
   "id": "4288c70a",
   "metadata": {},
   "outputs": [],
   "source": []
  },
  {
   "cell_type": "code",
   "execution_count": null,
   "id": "45d2ae1c",
   "metadata": {},
   "outputs": [],
   "source": [
    "s = Solution()\n",
    "\n",
    "result = s.\n",
    "print (result) "
   ]
  },
  {
   "cell_type": "markdown",
   "id": "e4ad593d",
   "metadata": {},
   "source": [
    "### "
   ]
  },
  {
   "cell_type": "code",
   "execution_count": null,
   "id": "29c50811",
   "metadata": {},
   "outputs": [],
   "source": []
  },
  {
   "cell_type": "markdown",
   "id": "d928a731",
   "metadata": {},
   "source": [
    "### "
   ]
  },
  {
   "cell_type": "code",
   "execution_count": null,
   "id": "f1c630dd",
   "metadata": {},
   "outputs": [],
   "source": []
  },
  {
   "cell_type": "code",
   "execution_count": null,
   "id": "bfdb6f06",
   "metadata": {},
   "outputs": [],
   "source": [
    "s = Solution()\n",
    "\n",
    "result = s.\n",
    "print (result) "
   ]
  },
  {
   "cell_type": "markdown",
   "id": "52ac9ef6",
   "metadata": {},
   "source": [
    "### "
   ]
  },
  {
   "cell_type": "code",
   "execution_count": null,
   "id": "283dd182",
   "metadata": {},
   "outputs": [],
   "source": []
  },
  {
   "cell_type": "markdown",
   "id": "375e56aa",
   "metadata": {},
   "source": [
    "### "
   ]
  },
  {
   "cell_type": "code",
   "execution_count": null,
   "id": "000a0e77",
   "metadata": {},
   "outputs": [],
   "source": []
  },
  {
   "cell_type": "code",
   "execution_count": null,
   "id": "459df3f6",
   "metadata": {},
   "outputs": [],
   "source": [
    "s = Solution()\n",
    "\n",
    "result = s.\n",
    "print (result) "
   ]
  },
  {
   "cell_type": "markdown",
   "id": "b3267ece",
   "metadata": {},
   "source": [
    "### "
   ]
  },
  {
   "cell_type": "code",
   "execution_count": null,
   "id": "06258de3",
   "metadata": {},
   "outputs": [],
   "source": []
  },
  {
   "cell_type": "markdown",
   "id": "27f9dc90",
   "metadata": {},
   "source": [
    "### "
   ]
  },
  {
   "cell_type": "code",
   "execution_count": null,
   "id": "344cca33",
   "metadata": {},
   "outputs": [],
   "source": []
  },
  {
   "cell_type": "code",
   "execution_count": null,
   "id": "240623da",
   "metadata": {},
   "outputs": [],
   "source": [
    "s = Solution()\n",
    "\n",
    "result = s.\n",
    "print (result) "
   ]
  },
  {
   "cell_type": "markdown",
   "id": "571f1ef1",
   "metadata": {},
   "source": [
    "### "
   ]
  },
  {
   "cell_type": "code",
   "execution_count": null,
   "id": "23eab623",
   "metadata": {},
   "outputs": [],
   "source": []
  },
  {
   "cell_type": "markdown",
   "id": "e8f221bf",
   "metadata": {},
   "source": [
    "### "
   ]
  },
  {
   "cell_type": "code",
   "execution_count": null,
   "id": "dddc53ec",
   "metadata": {},
   "outputs": [],
   "source": []
  },
  {
   "cell_type": "code",
   "execution_count": null,
   "id": "b6d90a08",
   "metadata": {},
   "outputs": [],
   "source": [
    "s = Solution()\n",
    "\n",
    "result = s.\n",
    "print (result) "
   ]
  },
  {
   "cell_type": "markdown",
   "id": "48652ae2",
   "metadata": {},
   "source": [
    "### "
   ]
  },
  {
   "cell_type": "code",
   "execution_count": null,
   "id": "33072049",
   "metadata": {},
   "outputs": [],
   "source": []
  },
  {
   "cell_type": "markdown",
   "id": "ba5b5971",
   "metadata": {},
   "source": [
    "### "
   ]
  },
  {
   "cell_type": "code",
   "execution_count": null,
   "id": "5939ad73",
   "metadata": {},
   "outputs": [],
   "source": []
  },
  {
   "cell_type": "code",
   "execution_count": null,
   "id": "995959fb",
   "metadata": {},
   "outputs": [],
   "source": [
    "s = Solution()\n",
    "\n",
    "result = s.\n",
    "print (result) "
   ]
  },
  {
   "cell_type": "markdown",
   "id": "39ef0d2f",
   "metadata": {},
   "source": [
    "### "
   ]
  },
  {
   "cell_type": "code",
   "execution_count": null,
   "id": "be5da2c9",
   "metadata": {},
   "outputs": [],
   "source": []
  },
  {
   "cell_type": "code",
   "execution_count": null,
   "id": "b12c190c",
   "metadata": {},
   "outputs": [],
   "source": []
  },
  {
   "cell_type": "markdown",
   "id": "67988a96",
   "metadata": {},
   "source": [
    "## 2. Array"
   ]
  },
  {
   "cell_type": "markdown",
   "id": "76fe3267",
   "metadata": {},
   "source": [
    "### 1920. Build Array from Permutation"
   ]
  },
  {
   "cell_type": "code",
   "execution_count": 16,
   "id": "aa38913a",
   "metadata": {},
   "outputs": [],
   "source": [
    "from typing import List\n",
    "class Solution:\n",
    "    def buildArray(self, nums: List[int]) -> List[int]:\n",
    "        ans = [] \n",
    "        for i in range(len(nums)):\n",
    "            ans.append(nums[nums[i]])\n",
    "\n",
    "        return ans "
   ]
  },
  {
   "cell_type": "code",
   "execution_count": 17,
   "id": "95a74302",
   "metadata": {},
   "outputs": [
    {
     "name": "stdout",
     "output_type": "stream",
     "text": [
      "[0, 1, 2, 4, 5, 3]\n"
     ]
    }
   ],
   "source": [
    "s = Solution()\n",
    "\n",
    "result = s.buildArray([0,2,1,5,3,4])\n",
    "print (result) "
   ]
  },
  {
   "cell_type": "code",
   "execution_count": 18,
   "id": "2c58b37c",
   "metadata": {
    "scrolled": true
   },
   "outputs": [
    {
     "name": "stdout",
     "output_type": "stream",
     "text": [
      "[4, 5, 0, 1, 2, 3]\n"
     ]
    }
   ],
   "source": [
    "s = Solution()\n",
    "\n",
    "result = s.buildArray([5,0,1,2,3,4])\n",
    "print (result) "
   ]
  },
  {
   "cell_type": "markdown",
   "id": "64615a74",
   "metadata": {},
   "source": [
    "### 1929. Concatenation of Array"
   ]
  },
  {
   "cell_type": "code",
   "execution_count": 21,
   "id": "db06eb5a",
   "metadata": {},
   "outputs": [],
   "source": [
    "class Solution:\n",
    "    def getConcatenation(self, nums: List[int]) -> List[int]:\n",
    "        return nums + nums\n"
   ]
  },
  {
   "cell_type": "code",
   "execution_count": 22,
   "id": "307bd42c",
   "metadata": {},
   "outputs": [
    {
     "name": "stdout",
     "output_type": "stream",
     "text": [
      "[1, 2, 1, 1, 2, 1]\n"
     ]
    }
   ],
   "source": [
    "s = Solution()\n",
    "\n",
    "result = s.getConcatenation([1,2,1])\n",
    "print (result) "
   ]
  },
  {
   "cell_type": "code",
   "execution_count": 23,
   "id": "1628710f",
   "metadata": {},
   "outputs": [
    {
     "name": "stdout",
     "output_type": "stream",
     "text": [
      "[1, 3, 2, 1, 1, 3, 2, 1]\n"
     ]
    }
   ],
   "source": [
    "s = Solution()\n",
    "\n",
    "result = s.getConcatenation([1,3,2,1])\n",
    "print (result) "
   ]
  },
  {
   "cell_type": "code",
   "execution_count": null,
   "id": "fa169d6d",
   "metadata": {},
   "outputs": [],
   "source": [
    "s = Solution()\n",
    "\n",
    "result = s.\n",
    "print (result) "
   ]
  },
  {
   "cell_type": "markdown",
   "id": "c7b0d095",
   "metadata": {},
   "source": [
    "### 1470. Shuffle the Array\n"
   ]
  },
  {
   "cell_type": "code",
   "execution_count": 27,
   "id": "61d82433",
   "metadata": {},
   "outputs": [],
   "source": [
    "class Solution:\n",
    "    def shuffle(self, nums: List[int], n: int) -> List[int]:\n",
    "\n",
    "        ans = []\n",
    "        for i in range(2*n):\n",
    "            if i % 2 == 0:\n",
    "                ans.append(nums[int(i/2)])\n",
    "            else:\n",
    "                ans.append(nums[int(n+(i-1)/2)])\n",
    "        return ans"
   ]
  },
  {
   "cell_type": "code",
   "execution_count": 28,
   "id": "b7728dcd",
   "metadata": {},
   "outputs": [
    {
     "name": "stdout",
     "output_type": "stream",
     "text": [
      "[1, 4, 2, 3, 3, 2, 4, 1]\n"
     ]
    }
   ],
   "source": [
    "s = Solution()\n",
    "\n",
    "result = s.shuffle([1,2,3,4,4,3,2,1], n = 4)\n",
    "print (result) "
   ]
  },
  {
   "cell_type": "markdown",
   "id": "09b401eb",
   "metadata": {},
   "source": [
    "### 1512. Number of Good Pairs"
   ]
  },
  {
   "cell_type": "code",
   "execution_count": 33,
   "id": "2b52110d",
   "metadata": {},
   "outputs": [],
   "source": [
    "class Solution:\n",
    "    def numIdenticalPairs(self, nums: List[int]) -> int:\n",
    "\n",
    "        total_num = 0 \n",
    "\n",
    "        for i in range(len(nums)):\n",
    "            for j in range(i+1, len(nums)):\n",
    "\n",
    "                if nums[i] == nums[j]:\n",
    "                    total_num +=1 \n",
    "\n",
    "        return total_num "
   ]
  },
  {
   "cell_type": "code",
   "execution_count": 34,
   "id": "99237ceb",
   "metadata": {},
   "outputs": [
    {
     "name": "stdout",
     "output_type": "stream",
     "text": [
      "0\n"
     ]
    }
   ],
   "source": [
    "s = Solution()\n",
    "\n",
    "result = s.numIdenticalPairs([1,2,3])\n",
    "print (result) "
   ]
  },
  {
   "cell_type": "code",
   "execution_count": 35,
   "id": "9edd4db5",
   "metadata": {},
   "outputs": [
    {
     "name": "stdout",
     "output_type": "stream",
     "text": [
      "6\n"
     ]
    }
   ],
   "source": [
    "s = Solution()\n",
    "\n",
    "result = s.numIdenticalPairs([1,1,1,1])\n",
    "print (result) "
   ]
  },
  {
   "cell_type": "code",
   "execution_count": 36,
   "id": "80efb8a8",
   "metadata": {},
   "outputs": [
    {
     "name": "stdout",
     "output_type": "stream",
     "text": [
      "4\n"
     ]
    }
   ],
   "source": [
    "s = Solution()\n",
    "\n",
    "result = s.numIdenticalPairs([1,2,3,1,1,3])\n",
    "print (result) "
   ]
  },
  {
   "cell_type": "markdown",
   "id": "67e735ad",
   "metadata": {},
   "source": [
    "### 2574. Left and Right Sum Differences\n"
   ]
  },
  {
   "cell_type": "code",
   "execution_count": 50,
   "id": "7faec203",
   "metadata": {},
   "outputs": [],
   "source": [
    "class Solution:\n",
    "    def leftRigthDifference(self, nums: List[int]) -> List[int]:\n",
    "\n",
    "        ans = []\n",
    "\n",
    "        for i in range(len(nums)):\n",
    "            left = sum(nums[:i])\n",
    "            right = sum(nums[i+1:]) \n",
    "            if i == 0:\n",
    "                left = 0\n",
    "            elif i == len(nums):\n",
    "                right = 0\n",
    "            a = abs(left - right)\n",
    "            ans.append(a)\n",
    "        return ans "
   ]
  },
  {
   "cell_type": "code",
   "execution_count": 51,
   "id": "561333e3",
   "metadata": {},
   "outputs": [
    {
     "name": "stdout",
     "output_type": "stream",
     "text": [
      "[0]\n"
     ]
    }
   ],
   "source": [
    "s = Solution()\n",
    "\n",
    "result = s.leftRigthDifference([1])\n",
    "print (result) "
   ]
  },
  {
   "cell_type": "code",
   "execution_count": 52,
   "id": "9a8c226a",
   "metadata": {},
   "outputs": [
    {
     "name": "stdout",
     "output_type": "stream",
     "text": [
      "[15, 1, 11, 22]\n"
     ]
    }
   ],
   "source": [
    "s = Solution()\n",
    "\n",
    "result = s.leftRigthDifference([10,4,8,3])\n",
    "print (result) "
   ]
  },
  {
   "cell_type": "markdown",
   "id": "f7732a47",
   "metadata": {},
   "source": [
    "### "
   ]
  },
  {
   "cell_type": "code",
   "execution_count": null,
   "id": "0c615957",
   "metadata": {},
   "outputs": [],
   "source": []
  },
  {
   "cell_type": "code",
   "execution_count": null,
   "id": "acaac892",
   "metadata": {},
   "outputs": [],
   "source": [
    "s = Solution()\n",
    "\n",
    "result = s.\n",
    "print (result) "
   ]
  },
  {
   "cell_type": "markdown",
   "id": "97ee6842",
   "metadata": {},
   "source": [
    "### "
   ]
  },
  {
   "cell_type": "code",
   "execution_count": null,
   "id": "36b94ad8",
   "metadata": {},
   "outputs": [],
   "source": []
  },
  {
   "cell_type": "code",
   "execution_count": null,
   "id": "a5684e18",
   "metadata": {},
   "outputs": [],
   "source": [
    "s = Solution()\n",
    "\n",
    "result = s.\n",
    "print (result) "
   ]
  },
  {
   "cell_type": "markdown",
   "id": "170fb218",
   "metadata": {},
   "source": [
    "### "
   ]
  },
  {
   "cell_type": "code",
   "execution_count": null,
   "id": "8db9de74",
   "metadata": {},
   "outputs": [],
   "source": []
  },
  {
   "cell_type": "code",
   "execution_count": null,
   "id": "f094ffa2",
   "metadata": {},
   "outputs": [],
   "source": [
    "s = Solution()\n",
    "\n",
    "result = s.\n",
    "print (result) "
   ]
  },
  {
   "cell_type": "markdown",
   "id": "e0c8aa13",
   "metadata": {},
   "source": [
    "### "
   ]
  },
  {
   "cell_type": "code",
   "execution_count": null,
   "id": "f8d5577c",
   "metadata": {},
   "outputs": [],
   "source": []
  },
  {
   "cell_type": "code",
   "execution_count": null,
   "id": "f55dbf56",
   "metadata": {},
   "outputs": [],
   "source": [
    "s = Solution()\n",
    "\n",
    "result = s.\n",
    "print (result) "
   ]
  },
  {
   "cell_type": "markdown",
   "id": "32e72776",
   "metadata": {},
   "source": [
    "### "
   ]
  },
  {
   "cell_type": "code",
   "execution_count": null,
   "id": "fb875ec6",
   "metadata": {},
   "outputs": [],
   "source": []
  },
  {
   "cell_type": "code",
   "execution_count": null,
   "id": "139b4065",
   "metadata": {},
   "outputs": [],
   "source": [
    "s = Solution()\n",
    "\n",
    "result = s.\n",
    "print (result) "
   ]
  },
  {
   "cell_type": "markdown",
   "id": "0acfd9b3",
   "metadata": {},
   "source": [
    "### "
   ]
  },
  {
   "cell_type": "code",
   "execution_count": null,
   "id": "f3f88cb7",
   "metadata": {},
   "outputs": [],
   "source": []
  },
  {
   "cell_type": "code",
   "execution_count": null,
   "id": "fd549727",
   "metadata": {},
   "outputs": [],
   "source": [
    "s = Solution()\n",
    "\n",
    "result = s.\n",
    "print (result) "
   ]
  },
  {
   "cell_type": "markdown",
   "id": "292f0c52",
   "metadata": {},
   "source": [
    "### "
   ]
  },
  {
   "cell_type": "code",
   "execution_count": null,
   "id": "af04e3a9",
   "metadata": {},
   "outputs": [],
   "source": []
  },
  {
   "cell_type": "code",
   "execution_count": null,
   "id": "17a60156",
   "metadata": {},
   "outputs": [],
   "source": [
    "s = Solution()\n",
    "\n",
    "result = s.\n",
    "print (result) "
   ]
  },
  {
   "cell_type": "markdown",
   "id": "efcc5687",
   "metadata": {},
   "source": [
    "### "
   ]
  },
  {
   "cell_type": "code",
   "execution_count": null,
   "id": "77a8928d",
   "metadata": {},
   "outputs": [],
   "source": []
  },
  {
   "cell_type": "code",
   "execution_count": null,
   "id": "7cd7edde",
   "metadata": {},
   "outputs": [],
   "source": [
    "s = Solution()\n",
    "\n",
    "result = s.\n",
    "print (result) "
   ]
  },
  {
   "cell_type": "markdown",
   "id": "68adc9d8",
   "metadata": {},
   "source": [
    "### "
   ]
  },
  {
   "cell_type": "code",
   "execution_count": null,
   "id": "1e8a783d",
   "metadata": {},
   "outputs": [],
   "source": []
  },
  {
   "cell_type": "code",
   "execution_count": null,
   "id": "32e03449",
   "metadata": {},
   "outputs": [],
   "source": [
    "s = Solution()\n",
    "\n",
    "result = s.\n",
    "print (result) "
   ]
  },
  {
   "cell_type": "code",
   "execution_count": null,
   "id": "e8e79647",
   "metadata": {},
   "outputs": [],
   "source": []
  },
  {
   "cell_type": "markdown",
   "id": "ecc4276b",
   "metadata": {},
   "source": [
    "## 3. Matrix"
   ]
  },
  {
   "cell_type": "markdown",
   "id": "d0e92afe",
   "metadata": {},
   "source": [
    "### 1672. Richest Customer Wealth\n"
   ]
  },
  {
   "cell_type": "code",
   "execution_count": 43,
   "id": "a9ebdc19",
   "metadata": {},
   "outputs": [],
   "source": [
    "from typing import List\n",
    "class Solution:\n",
    "    def maximumWealth(self, accounts: List[List[int]]) -> int:\n",
    "\n",
    "        wealth = [] \n",
    "\n",
    "        for i in range(len(accounts)):\n",
    "            w = sum(accounts[i])\n",
    "            wealth.append(w)\n",
    "\n",
    "        return max(wealth)"
   ]
  },
  {
   "cell_type": "code",
   "execution_count": 44,
   "id": "d1c797b3",
   "metadata": {},
   "outputs": [
    {
     "name": "stdout",
     "output_type": "stream",
     "text": [
      "6\n"
     ]
    }
   ],
   "source": [
    "s = Solution()\n",
    "\n",
    "result = s.maximumWealth([[1,2,3],[3,2,1]])\n",
    "print (result) "
   ]
  },
  {
   "cell_type": "code",
   "execution_count": 45,
   "id": "6a6775c1",
   "metadata": {},
   "outputs": [
    {
     "name": "stdout",
     "output_type": "stream",
     "text": [
      "10\n"
     ]
    }
   ],
   "source": [
    "s = Solution()\n",
    "\n",
    "result = s.maximumWealth([[1,5],[7,3],[3,5]])\n",
    "print (result) "
   ]
  },
  {
   "cell_type": "markdown",
   "id": "c7bc944a",
   "metadata": {},
   "source": [
    "### 2373. Largest Local Values in a Matrix\n"
   ]
  },
  {
   "cell_type": "code",
   "execution_count": 53,
   "id": "e6ec009a",
   "metadata": {},
   "outputs": [],
   "source": [
    "class Solution:\n",
    "    def largestLocal(self, grid: List[List[int]]) -> List[List[int]]:\n",
    "\n",
    "        maxLocal =  [[0 for _ in range(len(grid)-2)] for _ in range(len(grid)-2)]\n",
    "\n",
    "        for i in range (len(grid) - 2):\n",
    "            for j in range (len(grid) - 2):\n",
    "                m = max(grid[i][j:3+j] + grid[i+1][j:3+j] + grid[i+2][j:3+j])\n",
    "                maxLocal[i][j] = m\n",
    "\n",
    "        return maxLocal\n",
    "\n"
   ]
  },
  {
   "cell_type": "code",
   "execution_count": 54,
   "id": "78f019ea",
   "metadata": {},
   "outputs": [
    {
     "name": "stdout",
     "output_type": "stream",
     "text": [
      "[[2, 2, 2], [2, 2, 2], [2, 2, 2]]\n"
     ]
    }
   ],
   "source": [
    "s = Solution()\n",
    "\n",
    "result = s.largestLocal([[1,1,1,1,1],[1,1,1,1,1],[1,1,2,1,1],[1,1,1,1,1],[1,1,1,1,1]])\n",
    "print (result) "
   ]
  },
  {
   "cell_type": "markdown",
   "id": "4efc0f13",
   "metadata": {},
   "source": [
    "## 4. LinkedList"
   ]
  },
  {
   "cell_type": "markdown",
   "id": "3ec0d612",
   "metadata": {},
   "source": [
    "I reviewed all the singly linked list section in Scott udemy course - May 6 2023"
   ]
  },
  {
   "cell_type": "markdown",
   "id": "41045d87",
   "metadata": {},
   "source": [
    "### 1290. Convert Binary Number in a Linked List to Integer\n"
   ]
  },
  {
   "cell_type": "code",
   "execution_count": 29,
   "id": "187801c2",
   "metadata": {},
   "outputs": [],
   "source": [
    "#Definition for singly-linked list.\n",
    "class ListNode:\n",
    "    def __init__(self, val=0, next=None):\n",
    "        self.val = val\n",
    "        self.next = next\n",
    "class Solution:\n",
    "    def getDecimalValue(self, head: ListNode) -> int:\n",
    "        bin = ''\n",
    "        while head:\n",
    "            bin += str(head.val)\n",
    "            head = head.next \n",
    "        return int(bin, 2)"
   ]
  },
  {
   "cell_type": "code",
   "execution_count": 30,
   "id": "49af7899",
   "metadata": {},
   "outputs": [
    {
     "name": "stdout",
     "output_type": "stream",
     "text": [
      "5\n"
     ]
    }
   ],
   "source": [
    "s = Solution()\n",
    "head = ListNode(1)\n",
    "node1 = ListNode(0)\n",
    "node2 = ListNode(1)\n",
    "head.next = node1\n",
    "node1.next = node2\n",
    "\n",
    "result = s.getDecimalValue(head)\n",
    "print (result) "
   ]
  },
  {
   "cell_type": "markdown",
   "id": "906d9aa1",
   "metadata": {},
   "source": [
    "### 876. Middle of the Linked List"
   ]
  },
  {
   "cell_type": "code",
   "execution_count": 63,
   "id": "a4e24c9a",
   "metadata": {},
   "outputs": [],
   "source": [
    "# Definition for singly-linked list.\n",
    "from typing import Optional\n",
    "\n",
    "class ListNode:\n",
    "    def __init__(self, val=0, next=None):\n",
    "        self.val = val\n",
    "        self.next = next\n",
    "class Solution:\n",
    "    def middleNode(self, head: Optional[ListNode]) -> Optional[ListNode]:\n",
    "        \n",
    "        slow = head\n",
    "        fast = head \n",
    "        \n",
    "        while fast and fast.next:\n",
    "            slow = slow.next\n",
    "            fast = fast.next.next\n",
    "            \n",
    "        return slow\n",
    "        "
   ]
  },
  {
   "cell_type": "code",
   "execution_count": 64,
   "id": "6c5831cd",
   "metadata": {
    "scrolled": true
   },
   "outputs": [
    {
     "name": "stdout",
     "output_type": "stream",
     "text": [
      "<__main__.ListNode object at 0x000001917C0AA3D0>\n"
     ]
    }
   ],
   "source": [
    "s = Solution()\n",
    "head = ListNode(1)\n",
    "node1 = ListNode(2)\n",
    "node2 = ListNode(3)\n",
    "node3 = ListNode(4)\n",
    "node4 = ListNode(5)\n",
    "\n",
    "head.next = node1\n",
    "node1.next = node2\n",
    "node2.next = node3\n",
    "node3.next = node4\n",
    "\n",
    "\n",
    "result = s.middleNode(head)\n",
    "print (result) "
   ]
  },
  {
   "cell_type": "code",
   "execution_count": 65,
   "id": "0611ec12",
   "metadata": {},
   "outputs": [
    {
     "name": "stdout",
     "output_type": "stream",
     "text": [
      "<__main__.ListNode object at 0x000001917C0AA190>\n"
     ]
    }
   ],
   "source": [
    "s = Solution()\n",
    "head = ListNode(1)\n",
    "node1 = ListNode(2)\n",
    "node2 = ListNode(3)\n",
    "node3 = ListNode(4)\n",
    "node4 = ListNode(5)\n",
    "node5 = ListNode(6)\n",
    "\n",
    "head.next = node1\n",
    "node1.next = node2\n",
    "node2.next = node3\n",
    "node3.next = node4\n",
    "node4.next = node5\n",
    "\n",
    "\n",
    "result = s.middleNode(head)\n",
    "print (result) "
   ]
  },
  {
   "cell_type": "markdown",
   "id": "56a32799",
   "metadata": {},
   "source": [
    "### 206. Reverse Linked List"
   ]
  },
  {
   "cell_type": "code",
   "execution_count": 75,
   "id": "e410d421",
   "metadata": {},
   "outputs": [],
   "source": [
    "# Definition for singly-linked list.\n",
    "class ListNode:\n",
    "    def __init__(self, val=0, next=None):\n",
    "        self.val = val\n",
    "        self.next = next\n",
    "class Solution:\n",
    "    def reverseList(self, head: Optional[ListNode]) -> Optional[ListNode]:\n",
    "        temp, before = head, None \n",
    "        while temp:\n",
    "            after = temp.next\n",
    "            temp.next = before\n",
    "            before = temp \n",
    "            temp = after \n",
    "        return  before\n",
    "        "
   ]
  },
  {
   "cell_type": "code",
   "execution_count": 76,
   "id": "4e2d60fd",
   "metadata": {},
   "outputs": [
    {
     "name": "stdout",
     "output_type": "stream",
     "text": [
      "<__main__.ListNode object at 0x000001917C1A9820>\n"
     ]
    }
   ],
   "source": [
    "s = Solution()\n",
    "head = ListNode(1)\n",
    "node1 = ListNode(2)\n",
    "node2 = ListNode(3)\n",
    "node3 = ListNode(4)\n",
    "node4 = ListNode(5)\n",
    "\n",
    "head.next = node1\n",
    "node1.next = node2\n",
    "node2.next = node3\n",
    "node3.next = node4\n",
    "\n",
    "\n",
    "result = s.reverseList(head)\n",
    "print (result) "
   ]
  },
  {
   "cell_type": "markdown",
   "id": "1df49bfc",
   "metadata": {},
   "source": [
    "### "
   ]
  },
  {
   "cell_type": "code",
   "execution_count": null,
   "id": "b044b370",
   "metadata": {},
   "outputs": [],
   "source": []
  },
  {
   "cell_type": "code",
   "execution_count": null,
   "id": "d10966da",
   "metadata": {},
   "outputs": [],
   "source": [
    "s = Solution()\n",
    "\n",
    "result = s.\n",
    "print (result) "
   ]
  },
  {
   "cell_type": "markdown",
   "id": "ce512f0b",
   "metadata": {},
   "source": [
    "### "
   ]
  },
  {
   "cell_type": "code",
   "execution_count": null,
   "id": "18a4962f",
   "metadata": {},
   "outputs": [],
   "source": []
  },
  {
   "cell_type": "code",
   "execution_count": null,
   "id": "d5095176",
   "metadata": {},
   "outputs": [],
   "source": [
    "s = Solution()\n",
    "\n",
    "result = s.\n",
    "print (result) "
   ]
  },
  {
   "cell_type": "markdown",
   "id": "b2e0d343",
   "metadata": {},
   "source": [
    "### "
   ]
  },
  {
   "cell_type": "code",
   "execution_count": null,
   "id": "3efc3d3f",
   "metadata": {},
   "outputs": [],
   "source": []
  },
  {
   "cell_type": "code",
   "execution_count": null,
   "id": "31b6bedf",
   "metadata": {},
   "outputs": [],
   "source": [
    "s = Solution()\n",
    "\n",
    "result = s.\n",
    "print (result) "
   ]
  },
  {
   "cell_type": "markdown",
   "id": "74bcc9dd",
   "metadata": {},
   "source": [
    "### "
   ]
  },
  {
   "cell_type": "code",
   "execution_count": null,
   "id": "12ce918f",
   "metadata": {},
   "outputs": [],
   "source": []
  },
  {
   "cell_type": "code",
   "execution_count": null,
   "id": "c4cf0d44",
   "metadata": {},
   "outputs": [],
   "source": [
    "s = Solution()\n",
    "\n",
    "result = s.\n",
    "print (result) "
   ]
  },
  {
   "cell_type": "markdown",
   "id": "8b1117c8",
   "metadata": {},
   "source": [
    "### "
   ]
  },
  {
   "cell_type": "code",
   "execution_count": null,
   "id": "0c3e5b0f",
   "metadata": {},
   "outputs": [],
   "source": []
  },
  {
   "cell_type": "code",
   "execution_count": null,
   "id": "eef7b265",
   "metadata": {},
   "outputs": [],
   "source": [
    "s = Solution()\n",
    "\n",
    "result = s.\n",
    "print (result) "
   ]
  },
  {
   "cell_type": "markdown",
   "id": "1f44e4f8",
   "metadata": {},
   "source": [
    "### "
   ]
  },
  {
   "cell_type": "code",
   "execution_count": null,
   "id": "d3dab575",
   "metadata": {},
   "outputs": [],
   "source": []
  },
  {
   "cell_type": "code",
   "execution_count": null,
   "id": "e2206a4d",
   "metadata": {},
   "outputs": [],
   "source": [
    "s = Solution()\n",
    "\n",
    "result = s.\n",
    "print (result) "
   ]
  },
  {
   "cell_type": "markdown",
   "id": "ce4944bd",
   "metadata": {},
   "source": [
    "### "
   ]
  },
  {
   "cell_type": "code",
   "execution_count": null,
   "id": "b032e91d",
   "metadata": {},
   "outputs": [],
   "source": []
  },
  {
   "cell_type": "code",
   "execution_count": null,
   "id": "d6baf3e8",
   "metadata": {},
   "outputs": [],
   "source": [
    "s = Solution()\n",
    "\n",
    "result = s.\n",
    "print (result) "
   ]
  },
  {
   "cell_type": "code",
   "execution_count": null,
   "id": "b25c192f",
   "metadata": {},
   "outputs": [],
   "source": []
  }
 ],
 "metadata": {
  "kernelspec": {
   "display_name": "Python 3 (ipykernel)",
   "language": "python",
   "name": "python3"
  },
  "language_info": {
   "codemirror_mode": {
    "name": "ipython",
    "version": 3
   },
   "file_extension": ".py",
   "mimetype": "text/x-python",
   "name": "python",
   "nbconvert_exporter": "python",
   "pygments_lexer": "ipython3",
   "version": "3.8.8"
  },
  "varInspector": {
   "cols": {
    "lenName": 16,
    "lenType": 16,
    "lenVar": 40
   },
   "kernels_config": {
    "python": {
     "delete_cmd_postfix": "",
     "delete_cmd_prefix": "del ",
     "library": "var_list.py",
     "varRefreshCmd": "print(var_dic_list())"
    },
    "r": {
     "delete_cmd_postfix": ") ",
     "delete_cmd_prefix": "rm(",
     "library": "var_list.r",
     "varRefreshCmd": "cat(var_dic_list()) "
    }
   },
   "types_to_exclude": [
    "module",
    "function",
    "builtin_function_or_method",
    "instance",
    "_Feature"
   ],
   "window_display": false
  }
 },
 "nbformat": 4,
 "nbformat_minor": 5
}
