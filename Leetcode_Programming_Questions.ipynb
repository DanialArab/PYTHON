{
 "cells": [
  {
   "cell_type": "markdown",
   "id": "3900421a",
   "metadata": {},
   "source": [
    "# This file contains my solutions to Leetcode programming questions - all in Python"
   ]
  },
  {
   "cell_type": "markdown",
   "id": "6da6ddd3",
   "metadata": {},
   "source": [
    "## 1. String"
   ]
  },
  {
   "cell_type": "markdown",
   "id": "0be2f6b4",
   "metadata": {},
   "source": [
    "### 1108. Defanging an IP Address"
   ]
  },
  {
   "cell_type": "code",
   "execution_count": 18,
   "id": "59f2a3d6",
   "metadata": {},
   "outputs": [],
   "source": [
    "class Solution:\n",
    "    def defangIPaddr(self, address: str) -> str:\n",
    "\n",
    "        return address.replace('.', '[.]')"
   ]
  },
  {
   "cell_type": "code",
   "execution_count": 19,
   "id": "6f2d85a8",
   "metadata": {},
   "outputs": [
    {
     "name": "stdout",
     "output_type": "stream",
     "text": [
      "1[.]1[.]1[.]1\n"
     ]
    }
   ],
   "source": [
    "s = Solution()\n",
    "\n",
    "result = s.defangIPaddr (\"1.1.1.1\")\n",
    "print (result)"
   ]
  },
  {
   "cell_type": "markdown",
   "id": "316638b1",
   "metadata": {},
   "source": [
    "### 2011. Final Value of Variable After Performing Operations"
   ]
  },
  {
   "cell_type": "code",
   "execution_count": 29,
   "id": "c2ea0a19",
   "metadata": {
    "code_folding": []
   },
   "outputs": [],
   "source": [
    "from typing import List\n",
    "\n",
    "class Solution:\n",
    "    def finalValueAfterOperations(self, operations: List[str]) -> int:\n",
    "\n",
    "        X = 0\n",
    "\n",
    "        for one_operation in operations:\n",
    "            if one_operation == \"++X\" or one_operation == \"X++\":\n",
    "                X += 1\n",
    "            else:\n",
    "                X -= 1\n",
    "\n",
    "        return X"
   ]
  },
  {
   "cell_type": "code",
   "execution_count": 30,
   "id": "4228a943",
   "metadata": {},
   "outputs": [
    {
     "name": "stdout",
     "output_type": "stream",
     "text": [
      "3\n"
     ]
    }
   ],
   "source": [
    "s = Solution()\n",
    "\n",
    "result = s.finalValueAfterOperations([\"++X\",\"++X\",\"X++\"])\n",
    "print(result)"
   ]
  },
  {
   "cell_type": "markdown",
   "id": "e486b5f3",
   "metadata": {},
   "source": [
    "### 771. Jewels and Stones"
   ]
  },
  {
   "cell_type": "code",
   "execution_count": 34,
   "id": "4b9afa72",
   "metadata": {},
   "outputs": [],
   "source": [
    "class Solution:\n",
    "    def numJewelsInStones(self, jewels: str, stones: str) -> int:\n",
    "        number_of_stones = 0\n",
    "        for one_stone in stones:\n",
    "            if one_stone in list(jewels):\n",
    "                number_of_stones += 1\n",
    "\n",
    "        return number_of_stones"
   ]
  },
  {
   "cell_type": "code",
   "execution_count": 35,
   "id": "05fadba2",
   "metadata": {},
   "outputs": [
    {
     "name": "stdout",
     "output_type": "stream",
     "text": [
      "3\n"
     ]
    }
   ],
   "source": [
    "s = Solution()\n",
    "\n",
    "result = s.numJewelsInStones(jewels = \"aA\", stones = \"aAAbbbb\")\n",
    "print (result)"
   ]
  },
  {
   "cell_type": "code",
   "execution_count": 36,
   "id": "e731b684",
   "metadata": {},
   "outputs": [
    {
     "name": "stdout",
     "output_type": "stream",
     "text": [
      "0\n"
     ]
    }
   ],
   "source": [
    "s = Solution()\n",
    "\n",
    "result = s.numJewelsInStones(jewels = \"z\", stones = \"ZZ\")\n",
    "print (result) "
   ]
  },
  {
   "cell_type": "markdown",
   "id": "02fbb02d",
   "metadata": {},
   "source": [
    "### 2114. Maximum Number of Words Found in Sentences"
   ]
  },
  {
   "cell_type": "code",
   "execution_count": 37,
   "id": "af6cfd97",
   "metadata": {},
   "outputs": [],
   "source": [
    "class Solution:\n",
    "    def mostWordsFound(self, sentences: List[str]) -> int:\n",
    "        num_of_words = []\n",
    "        for one_sentence in sentences:\n",
    "            num_of_words.append(len(one_sentence.strip().split()))\n",
    "\n",
    "        return max(num_of_words)"
   ]
  },
  {
   "cell_type": "code",
   "execution_count": 38,
   "id": "995cf82a",
   "metadata": {},
   "outputs": [
    {
     "name": "stdout",
     "output_type": "stream",
     "text": [
      "6\n"
     ]
    }
   ],
   "source": [
    "s = Solution()\n",
    "\n",
    "result = s.mostWordsFound([\"alice and bob love leetcode\", \"i think so too\", \"this is great thanks very much\"])\n",
    "print (result) "
   ]
  },
  {
   "cell_type": "markdown",
   "id": "4d9add0e",
   "metadata": {},
   "source": [
    "### 1678. Goal Parser Interpretation"
   ]
  },
  {
   "cell_type": "code",
   "execution_count": 70,
   "id": "60175edd",
   "metadata": {},
   "outputs": [],
   "source": [
    "class Solution:\n",
    "    def interpret(self, command: str) -> str:\n",
    "         \n",
    "        command = command.replace(\"()\", \"o\")\n",
    "        command = command.replace(\"(al)\", \"al\")\n",
    "\n",
    "        return command"
   ]
  },
  {
   "cell_type": "code",
   "execution_count": 71,
   "id": "e3cc91fb",
   "metadata": {},
   "outputs": [
    {
     "name": "stdout",
     "output_type": "stream",
     "text": [
      "Goal\n"
     ]
    }
   ],
   "source": [
    "s = Solution()\n",
    "\n",
    "result = s.interpret(\"G()(al)\")\n",
    "print (result) "
   ]
  },
  {
   "cell_type": "markdown",
   "id": "8f798909",
   "metadata": {},
   "source": [
    "### 1221. Split a String in Balanced Strings"
   ]
  },
  {
   "cell_type": "code",
   "execution_count": 82,
   "id": "cb287847",
   "metadata": {},
   "outputs": [],
   "source": [
    "class Solution:\n",
    "    def balancedStringSplit(self, s: str) -> int:\n",
    "        count = result = 0 \n",
    "        for c in s:\n",
    "\n",
    "            if c == 'R':\n",
    "                count += 1\n",
    "            else:\n",
    "                count -= 1\n",
    "\n",
    "            if count == 0:\n",
    "                result += 1\n",
    "\n",
    "        return result"
   ]
  },
  {
   "cell_type": "code",
   "execution_count": 84,
   "id": "678c5b79",
   "metadata": {},
   "outputs": [
    {
     "name": "stdout",
     "output_type": "stream",
     "text": [
      "2\n"
     ]
    }
   ],
   "source": [
    "s = Solution()\n",
    "\n",
    "result = s.balancedStringSplit(\"RLRRRLLRLL\")\n",
    "print (result) "
   ]
  },
  {
   "cell_type": "markdown",
   "id": "03181879",
   "metadata": {},
   "source": [
    "### 1528. Shuffle String"
   ]
  },
  {
   "cell_type": "code",
   "execution_count": 25,
   "id": "6d3e38d9",
   "metadata": {},
   "outputs": [],
   "source": [
    "from typing import List\n",
    "class Solution:\n",
    "\n",
    "    def restoreString(self, s: str, indices: List[int]) -> str:\n",
    "\n",
    "        chars = [''] * len(s)\n",
    "        \n",
    "\n",
    "        for i in range(len(indices)):\n",
    "            chars[indices[i]] = s[i]\n",
    "\n",
    "\n",
    "        return \"\".join(chars)\n"
   ]
  },
  {
   "cell_type": "code",
   "execution_count": 26,
   "id": "cbcb8085",
   "metadata": {},
   "outputs": [
    {
     "name": "stdout",
     "output_type": "stream",
     "text": [
      "leetcode\n"
     ]
    }
   ],
   "source": [
    "s = Solution()\n",
    "\n",
    "result = s.restoreString(s = \"codeleet\", indices = [4,5,6,7,0,2,1,3])\n",
    "print (result) "
   ]
  },
  {
   "cell_type": "markdown",
   "id": "8cf82f13",
   "metadata": {},
   "source": [
    "### 1773. Count Items Matching a Rule\n"
   ]
  },
  {
   "cell_type": "code",
   "execution_count": 1,
   "id": "4cf98b1c",
   "metadata": {},
   "outputs": [],
   "source": [
    "from typing import List\n",
    "\n",
    "class Solution:\n",
    "    def countMatches(self, items: List[List[str]], ruleKey: str, ruleValue: str) -> int:\n",
    "        match_num = 0 \n",
    "        for i in range(len(items)):\n",
    "            if ruleKey == \"type\" and items[i][0] == ruleValue:\n",
    "                match_num +=1\n",
    "\n",
    "            elif ruleKey == \"color\" and items[i][1] == ruleValue:\n",
    "                match_num +=1\n",
    "\n",
    "            elif ruleKey == \"name\" and items[i][2] == ruleValue:\n",
    "                match_num +=1\n",
    "\n",
    "        return match_num"
   ]
  },
  {
   "cell_type": "code",
   "execution_count": 5,
   "id": "4f73a50f",
   "metadata": {
    "scrolled": true
   },
   "outputs": [
    {
     "name": "stdout",
     "output_type": "stream",
     "text": [
      "1\n"
     ]
    }
   ],
   "source": [
    "s = Solution()\n",
    "\n",
    "result = s.countMatches(items = [[\"phone\",\"blue\",\"pixel\"],[\"computer\",\"silver\",\"lenovo\"],[\"phone\",\"gold\",\"iphone\"]], ruleKey = \"color\", ruleValue = \"silver\")\n",
    "print (result) "
   ]
  },
  {
   "cell_type": "code",
   "execution_count": 6,
   "id": "a0294801",
   "metadata": {},
   "outputs": [
    {
     "name": "stdout",
     "output_type": "stream",
     "text": [
      "2\n"
     ]
    }
   ],
   "source": [
    "s = Solution()\n",
    "\n",
    "result = s.countMatches(items = [[\"phone\",\"blue\",\"pixel\"],[\"computer\",\"silver\",\"phone\"],[\"phone\",\"gold\",\"iphone\"]], ruleKey = \"type\", ruleValue = \"phone\")\n",
    "print (result) "
   ]
  },
  {
   "cell_type": "markdown",
   "id": "9eb5ee95",
   "metadata": {},
   "source": [
    "### 2194. Cells in a Range on an Excel Sheet\n"
   ]
  },
  {
   "cell_type": "code",
   "execution_count": 38,
   "id": "1c1f9e57",
   "metadata": {},
   "outputs": [],
   "source": [
    "from typing import List\n",
    "class Solution:\n",
    "    def cellsInRange(self, s: str) -> List[str]:\n",
    "\n",
    "        first, second = s.split(':')\n",
    "\n",
    "        c1, r1 = first\n",
    "\n",
    "        c2, r2 = second \n",
    "        \n",
    "        char_list = []\n",
    "        for i in range(ord(c1), ord(c2)+1):\n",
    "            #print(chr(i))\n",
    "            char_list.append(chr(i))\n",
    "        \n",
    "        int_list = []\n",
    "        for i in range(int(r1), int(r2) + 1):\n",
    "            int_list.append(i)\n",
    "        \n",
    "        res = []\n",
    "        for one_char in char_list:\n",
    "            for one_int in int_list:\n",
    "                res.append(one_char + str(one_int))\n",
    "        \n",
    "        \n",
    "        return res\n"
   ]
  },
  {
   "cell_type": "code",
   "execution_count": 39,
   "id": "98b4ba2f",
   "metadata": {},
   "outputs": [
    {
     "name": "stdout",
     "output_type": "stream",
     "text": [
      "['K1', 'K2', 'L1', 'L2']\n"
     ]
    }
   ],
   "source": [
    "s = Solution()\n",
    "\n",
    "result = s.cellsInRange(\"K1:L2\")\n",
    "print (result) "
   ]
  },
  {
   "cell_type": "code",
   "execution_count": 40,
   "id": "8845f95b",
   "metadata": {},
   "outputs": [
    {
     "name": "stdout",
     "output_type": "stream",
     "text": [
      "['A1', 'B1', 'C1', 'D1', 'E1', 'F1']\n"
     ]
    }
   ],
   "source": [
    "s = Solution()\n",
    "\n",
    "result = s.cellsInRange(\"A1:F1\")\n",
    "print (result) "
   ]
  },
  {
   "cell_type": "markdown",
   "id": "d8d278c4",
   "metadata": {},
   "source": [
    "### 2325. Decode the Message"
   ]
  },
  {
   "cell_type": "code",
   "execution_count": 177,
   "id": "bd82cbc4",
   "metadata": {},
   "outputs": [],
   "source": [
    "from typing import List \n",
    "class Solution:\n",
    "    def decodeMessage(self, key: str, message: str) -> str:\n",
    "        import string\n",
    "        \n",
    "        indecies = []\n",
    "        chars = []\n",
    "        my_dic = {}\n",
    "        for i in list(key):\n",
    "            #print (i)\n",
    "            if i not in chars and i != ' ':\n",
    "                \n",
    "                chars.append(i)\n",
    "                indecies.append(chars.index(i))\n",
    "                my_dic[i] = chars.index(i)\n",
    "        \n",
    "        res = ''\n",
    "        for i in list(message):\n",
    "            if i == ' ':\n",
    "                res += ' '\n",
    "            else: \n",
    "                res += string.ascii_lowercase[my_dic[i]]\n",
    "                #print(string.ascii_lowercase[my_dic[i]] )\n",
    "                \n",
    "\n",
    "        return res "
   ]
  },
  {
   "cell_type": "code",
   "execution_count": 178,
   "id": "ef17af98",
   "metadata": {
    "scrolled": true
   },
   "outputs": [
    {
     "name": "stdout",
     "output_type": "stream",
     "text": [
      "this is a secret\n"
     ]
    }
   ],
   "source": [
    "s = Solution()\n",
    "\n",
    "result = s.decodeMessage(key = \"the quick brown fox jumps over the lazy dog\", message = \"vkbs bs t suepuv\")\n",
    "print (result) "
   ]
  },
  {
   "cell_type": "code",
   "execution_count": 179,
   "id": "a27c687c",
   "metadata": {},
   "outputs": [
    {
     "name": "stdout",
     "output_type": "stream",
     "text": [
      "the five boxing wizards jump quickly\n"
     ]
    }
   ],
   "source": [
    "s = Solution()\n",
    "\n",
    "result = s.decodeMessage(key = \"eljuxhpwnyrdgtqkviszcfmabo\", message = \"zwx hnfx lqantp mnoeius ycgk vcnjrdb\")\n",
    "print (result) "
   ]
  },
  {
   "cell_type": "markdown",
   "id": "64c88371",
   "metadata": {},
   "source": [
    "### 1859. Sorting the Sentence\n"
   ]
  },
  {
   "cell_type": "code",
   "execution_count": 234,
   "id": "99115363",
   "metadata": {},
   "outputs": [],
   "source": [
    "class Solution:\n",
    "    def sortSentence(self, s: str) -> str:\n",
    "\n",
    "        my_dict = {}\n",
    "        for i in s.split():\n",
    "            \n",
    "            my_dict[i[-1]] = i[:-1]\n",
    "            \n",
    "        \n",
    "        sorted_dict = {}        \n",
    "        for key in sorted(my_dict.keys()):\n",
    "            sorted_dict[key] = my_dict[key]\n",
    "            \n",
    "        \n",
    "            \n",
    "        return  ' '.join(sorted_dict.values()) "
   ]
  },
  {
   "cell_type": "code",
   "execution_count": 235,
   "id": "e2e92fc5",
   "metadata": {},
   "outputs": [
    {
     "name": "stdout",
     "output_type": "stream",
     "text": [
      "This is a sentence\n"
     ]
    }
   ],
   "source": [
    "s = Solution()\n",
    "\n",
    "result = s.sortSentence(s = \"is2 sentence4 This1 a3\")\n",
    "print (result)"
   ]
  },
  {
   "cell_type": "code",
   "execution_count": 236,
   "id": "8fb5b8cf",
   "metadata": {},
   "outputs": [
    {
     "name": "stdout",
     "output_type": "stream",
     "text": [
      "Me Myself and I\n"
     ]
    }
   ],
   "source": [
    "s = Solution()\n",
    "\n",
    "result = s.sortSentence(s = \"Myself2 Me1 I4 and3\")\n",
    "print (result) "
   ]
  },
  {
   "cell_type": "markdown",
   "id": "17137c51",
   "metadata": {},
   "source": [
    "### 1662. Check If Two String Arrays are Equivalent\n"
   ]
  },
  {
   "cell_type": "code",
   "execution_count": 238,
   "id": "530da20f",
   "metadata": {},
   "outputs": [],
   "source": [
    "from typing import List\n",
    "class Solution:\n",
    "    def arrayStringsAreEqual(self, word1: List[str], word2: List[str]) -> bool:\n",
    "\n",
    "        w1 = ''\n",
    "        for i in word1:\n",
    "            w1+= i \n",
    "\n",
    "        w2 = ''\n",
    "        for j in word2:\n",
    "            w2 += j \n",
    "\n",
    "        if w1 == w2:\n",
    "            return True\n",
    "        else:\n",
    "            return False        "
   ]
  },
  {
   "cell_type": "code",
   "execution_count": 239,
   "id": "98e954d4",
   "metadata": {},
   "outputs": [
    {
     "name": "stdout",
     "output_type": "stream",
     "text": [
      "True\n"
     ]
    }
   ],
   "source": [
    "s = Solution()\n",
    "\n",
    "result = s.arrayStringsAreEqual(word1  = [\"abc\", \"d\", \"defg\"], word2 = [\"abcddefg\"])\n",
    "print (result) "
   ]
  },
  {
   "cell_type": "markdown",
   "id": "58c3b604",
   "metadata": {},
   "source": [
    "### 1832. Check if the Sentence Is Pangram\n"
   ]
  },
  {
   "cell_type": "code",
   "execution_count": 242,
   "id": "e571a4a4",
   "metadata": {},
   "outputs": [],
   "source": [
    "class Solution:\n",
    "    def checkIfPangram(self, sentence: str) -> bool:\n",
    "\n",
    "        if len (set(sentence)) == 26:\n",
    "            return True\n",
    "        else:\n",
    "            return False  "
   ]
  },
  {
   "cell_type": "code",
   "execution_count": 243,
   "id": "175f9a57",
   "metadata": {},
   "outputs": [
    {
     "name": "stdout",
     "output_type": "stream",
     "text": [
      "True\n"
     ]
    }
   ],
   "source": [
    "s = Solution()\n",
    "\n",
    "result = s.checkIfPangram(sentence = \"thequickbrownfoxjumpsoverthelazydog\")\n",
    "print (result) "
   ]
  },
  {
   "cell_type": "code",
   "execution_count": 244,
   "id": "5c792e9e",
   "metadata": {},
   "outputs": [
    {
     "name": "stdout",
     "output_type": "stream",
     "text": [
      "False\n"
     ]
    }
   ],
   "source": [
    "s = Solution()\n",
    "\n",
    "result = s.checkIfPangram( sentence = \"leetcode\")\n",
    "print (result) "
   ]
  },
  {
   "cell_type": "markdown",
   "id": "d67f1db8",
   "metadata": {},
   "source": [
    "### 1816. Truncate Sentence\n"
   ]
  },
  {
   "cell_type": "code",
   "execution_count": 251,
   "id": "34d55d8e",
   "metadata": {},
   "outputs": [],
   "source": [
    "class Solution:\n",
    "    def truncateSentence(self, s: str, k: int) -> str:\n",
    "\n",
    "        return \" \".join(s.split()[:k])"
   ]
  },
  {
   "cell_type": "code",
   "execution_count": 254,
   "id": "e43e4f5a",
   "metadata": {},
   "outputs": [
    {
     "name": "stdout",
     "output_type": "stream",
     "text": [
      "chopper is not a tanuki\n"
     ]
    }
   ],
   "source": [
    "s = Solution()\n",
    "\n",
    "result = s.truncateSentence(s = \"chopper is not a tanuki\", k = 5)\n",
    "print (result) "
   ]
  },
  {
   "cell_type": "code",
   "execution_count": 255,
   "id": "cef08408",
   "metadata": {},
   "outputs": [
    {
     "name": "stdout",
     "output_type": "stream",
     "text": [
      "Hello how are you\n"
     ]
    }
   ],
   "source": [
    "s = Solution()\n",
    "\n",
    "result = s.truncateSentence(s = \"Hello how are you Contestant\", k = 4)\n",
    "print (result) "
   ]
  },
  {
   "cell_type": "markdown",
   "id": "69215653",
   "metadata": {},
   "source": [
    "### 1768. Merge Strings Alternately \n"
   ]
  },
  {
   "cell_type": "code",
   "execution_count": 101,
   "id": "fe5db01f",
   "metadata": {},
   "outputs": [],
   "source": [
    "class Solution:\n",
    "    def mergeAlternately(self, word1: str, word2: str) -> str:\n",
    "        res = ''\n",
    "        \n",
    "        for a, b in zip (word1, word2):\n",
    "            res += a + b\n",
    "        a = min(len(word1), len(word2))\n",
    "        return res + word1[a:] + word2[a:]\n",
    "        "
   ]
  },
  {
   "cell_type": "code",
   "execution_count": 102,
   "id": "0e6cb6ed",
   "metadata": {},
   "outputs": [
    {
     "name": "stdout",
     "output_type": "stream",
     "text": [
      "apbqcd\n"
     ]
    }
   ],
   "source": [
    "s = Solution()\n",
    "\n",
    "result = s.mergeAlternately(word1 = \"abcd\", word2 = \"pq\")\n",
    "print (result) "
   ]
  },
  {
   "cell_type": "code",
   "execution_count": 103,
   "id": "c1c77393",
   "metadata": {},
   "outputs": [
    {
     "name": "stdout",
     "output_type": "stream",
     "text": [
      "apbqrs\n"
     ]
    }
   ],
   "source": [
    "s = Solution()\n",
    "\n",
    "result = s.mergeAlternately(word1 = \"ab\", word2 = \"pqrs\")\n",
    "print (result) "
   ]
  },
  {
   "cell_type": "code",
   "execution_count": 104,
   "id": "fadba1b2",
   "metadata": {},
   "outputs": [
    {
     "name": "stdout",
     "output_type": "stream",
     "text": [
      "apbqcr\n"
     ]
    }
   ],
   "source": [
    "s = Solution()\n",
    "\n",
    "result = s.mergeAlternately(word1 = \"abc\", word2 = \"pqr\")\n",
    "print (result) "
   ]
  },
  {
   "cell_type": "markdown",
   "id": "5c185e14",
   "metadata": {},
   "source": [
    "### 804. Unique Morse Code Words \n"
   ]
  },
  {
   "cell_type": "code",
   "execution_count": 19,
   "id": "022d08b9",
   "metadata": {},
   "outputs": [],
   "source": [
    "from typing import List \n",
    "\n",
    "class Solution:\n",
    "    def uniqueMorseRepresentations(self, words: List[str]) -> int:\n",
    "        \n",
    "        code = [\".-\",\"-...\",\"-.-.\",\"-..\",\".\",\"..-.\",\"--.\",\"....\",\"..\",\".---\",\"-.-\",\".-..\",\"--\",\"-.\",\"---\",\".--.\",\"--.-\",\".-.\",\"...\",\"-\",\"..-\",\"...-\",\".--\",\"-..-\",\"-.--\",\"--..\"]\n",
    "        \n",
    "        res = [] \n",
    "        for w in words:\n",
    "            aa = ''\n",
    "            for l in w:\n",
    "                aa += code[(ord(l.lower()) - 96 - 1)] \n",
    "            res.append(aa)\n",
    "        return len(set(res))"
   ]
  },
  {
   "cell_type": "code",
   "execution_count": 20,
   "id": "25414597",
   "metadata": {},
   "outputs": [
    {
     "name": "stdout",
     "output_type": "stream",
     "text": [
      "2\n"
     ]
    }
   ],
   "source": [
    "s = Solution()\n",
    "\n",
    "result = s.uniqueMorseRepresentations(words = [\"gin\",\"zen\",\"gig\",\"msg\"])\n",
    "print (result) "
   ]
  },
  {
   "cell_type": "code",
   "execution_count": 21,
   "id": "eeea520f",
   "metadata": {},
   "outputs": [
    {
     "name": "stdout",
     "output_type": "stream",
     "text": [
      "1\n"
     ]
    }
   ],
   "source": [
    "s = Solution()\n",
    "\n",
    "result = s.uniqueMorseRepresentations(words = [\"a\"])\n",
    "print (result) "
   ]
  },
  {
   "cell_type": "markdown",
   "id": "48dfe3f9",
   "metadata": {},
   "source": [
    "### 709. To Lower Case"
   ]
  },
  {
   "cell_type": "code",
   "execution_count": 22,
   "id": "6050fda2",
   "metadata": {},
   "outputs": [],
   "source": [
    "class Solution:\n",
    "    def toLowerCase(self, s: str) -> str:\n",
    "        res = ''\n",
    "        for l in s:\n",
    "            if l.isupper():\n",
    "                res += l.lower()\n",
    "            else:\n",
    "                res += l \n",
    "\n",
    "        return res "
   ]
  },
  {
   "cell_type": "code",
   "execution_count": 23,
   "id": "2313219f",
   "metadata": {},
   "outputs": [
    {
     "name": "stdout",
     "output_type": "stream",
     "text": [
      "lovely\n"
     ]
    }
   ],
   "source": [
    "s = Solution()\n",
    "\n",
    "result = s.toLowerCase(s = \"LOVELY\")\n",
    "print (result) "
   ]
  },
  {
   "cell_type": "markdown",
   "id": "72369dc0",
   "metadata": {},
   "source": [
    "### 1684. Count the Number of Consistent Strings"
   ]
  },
  {
   "cell_type": "code",
   "execution_count": 24,
   "id": "3333646c",
   "metadata": {},
   "outputs": [],
   "source": [
    "from typing import List \n",
    "class Solution:\n",
    "    def countConsistentStrings(self, allowed: str, words: List[str]) -> int:\n",
    "        count = len(words)\n",
    "        for w in words:\n",
    "            for l in w:\n",
    "                if l not in allowed:\n",
    "                    count -= 1\n",
    "                    break \n",
    "\n",
    "        return count"
   ]
  },
  {
   "cell_type": "code",
   "execution_count": 25,
   "id": "f7ec1689",
   "metadata": {},
   "outputs": [
    {
     "name": "stdout",
     "output_type": "stream",
     "text": [
      "4\n"
     ]
    }
   ],
   "source": [
    "s = Solution()\n",
    "\n",
    "result = s.countConsistentStrings(allowed = \"cad\", words = [\"cc\",\"acd\",\"b\",\"ba\",\"bac\",\"bad\",\"ac\",\"d\"])\n",
    "print (result) "
   ]
  },
  {
   "cell_type": "markdown",
   "id": "50bc71c4",
   "metadata": {},
   "source": [
    "### 1614. Maximum Nesting Depth of the Parentheses\n"
   ]
  },
  {
   "cell_type": "code",
   "execution_count": 28,
   "id": "2e6d349a",
   "metadata": {},
   "outputs": [],
   "source": [
    "class Solution:\n",
    "    def maxDepth(self, s: str) -> int:\n",
    "\n",
    "        depth = 0 \n",
    "        mx = 0\n",
    "\n",
    "        for l in s:\n",
    "            if l == '(':\n",
    "                depth += 1\n",
    "                mx = max (mx, depth)\n",
    "            elif l == ')':\n",
    "                depth -= 1\n",
    "        return mx "
   ]
  },
  {
   "cell_type": "code",
   "execution_count": 29,
   "id": "d1cefb43",
   "metadata": {},
   "outputs": [
    {
     "name": "stdout",
     "output_type": "stream",
     "text": [
      "3\n"
     ]
    }
   ],
   "source": [
    "s = Solution()\n",
    "\n",
    "result = s.maxDepth( s = \"(1+(2*3)+((8)/4))+1\")\n",
    "print (result) "
   ]
  },
  {
   "cell_type": "markdown",
   "id": "6af7d52d",
   "metadata": {},
   "source": [
    "### 2315. Count Asterisks\n"
   ]
  },
  {
   "cell_type": "code",
   "execution_count": 43,
   "id": "4d745d2f",
   "metadata": {},
   "outputs": [],
   "source": [
    "class Solution:\n",
    "    def countAsterisks(self, s: str) -> int:\n",
    "        \n",
    "        words = s.split('|')\n",
    "        \n",
    "        count = 0 \n",
    "        good = True \n",
    "        \n",
    "        for word in words:\n",
    "            if good:\n",
    "                c = word.count('*')\n",
    "                count += c\n",
    "                \n",
    "            good = not good \n",
    "        return count "
   ]
  },
  {
   "cell_type": "code",
   "execution_count": 44,
   "id": "34ab9984",
   "metadata": {},
   "outputs": [
    {
     "name": "stdout",
     "output_type": "stream",
     "text": [
      "2\n"
     ]
    }
   ],
   "source": [
    "s = Solution()\n",
    "\n",
    "result = s.countAsterisks(\"l|*e*et|c**o|*de|\")\n",
    "print (result) "
   ]
  },
  {
   "cell_type": "markdown",
   "id": "77d3ed79",
   "metadata": {},
   "source": [
    "###  557. Reverse Words in a String III"
   ]
  },
  {
   "cell_type": "code",
   "execution_count": 99,
   "id": "c2f33230",
   "metadata": {},
   "outputs": [],
   "source": [
    "class Solution:\n",
    "    def reverseWords(self, s: str) -> str:\n",
    "\n",
    "        res = []\n",
    "\n",
    "        words = s.split()\n",
    "\n",
    "        for w in words:\n",
    "            w_l = list(w)\n",
    "            rev_l = w_l.reverse()\n",
    "            #print(w_l)\n",
    "            res.append(''.join(w_l))\n",
    "\n",
    "        return ' '.join(res)\n"
   ]
  },
  {
   "cell_type": "code",
   "execution_count": 100,
   "id": "e6443697",
   "metadata": {},
   "outputs": [
    {
     "name": "stdout",
     "output_type": "stream",
     "text": [
      "s'teL ekat edoCteeL tsetnoc\n"
     ]
    }
   ],
   "source": [
    "s = Solution()\n",
    "\n",
    "result = s.reverseWords(s = \"Let's take LeetCode contest\")\n",
    "print (result) "
   ]
  },
  {
   "cell_type": "code",
   "execution_count": 101,
   "id": "b5a76460",
   "metadata": {},
   "outputs": [
    {
     "name": "stdout",
     "output_type": "stream",
     "text": [
      "doG gniD\n"
     ]
    }
   ],
   "source": [
    " s = Solution()\n",
    "\n",
    "result = s.reverseWords(s = \"God Ding\")\n",
    "print (result) "
   ]
  },
  {
   "cell_type": "markdown",
   "id": "c2903eb0",
   "metadata": {},
   "source": [
    "### 2103. Rings and Rods\n"
   ]
  },
  {
   "cell_type": "code",
   "execution_count": 55,
   "id": "039036e9",
   "metadata": {},
   "outputs": [],
   "source": [
    "class Solution:\n",
    "    def countPoints(self, rings: str) -> int:\n",
    "\n",
    "        r, g, b =[], [], []\n",
    "        for c in range(int(len(rings)/2)):\n",
    "\n",
    "            if rings[2 * c] == 'R':\n",
    "                #print(rings[2*c + 1])\n",
    "                r.append(rings[2*c + 1])\n",
    "            elif rings[2 * c] == 'G':\n",
    "                g.append(rings[2*c + 1])\n",
    "            else:\n",
    "                b.append(rings[2*c + 1])\n",
    "                \n",
    "        return len(set(r).intersection(set(g)).intersection(set(b)))       \n"
   ]
  },
  {
   "cell_type": "code",
   "execution_count": 56,
   "id": "1e81ac11",
   "metadata": {},
   "outputs": [
    {
     "name": "stdout",
     "output_type": "stream",
     "text": [
      "1\n"
     ]
    }
   ],
   "source": [
    "s = Solution()\n",
    "\n",
    "result = s.countPoints(\"B0R0G0R9R0B0G0\")\n",
    "print (result) "
   ]
  },
  {
   "cell_type": "code",
   "execution_count": 57,
   "id": "f99aa8b6",
   "metadata": {},
   "outputs": [
    {
     "name": "stdout",
     "output_type": "stream",
     "text": [
      "1\n"
     ]
    }
   ],
   "source": [
    "s = Solution()\n",
    "\n",
    "result = s.countPoints(\"B0B6G0R6R0R6G9\")\n",
    "print (result) "
   ]
  },
  {
   "cell_type": "code",
   "execution_count": 58,
   "id": "b5f898da",
   "metadata": {},
   "outputs": [
    {
     "name": "stdout",
     "output_type": "stream",
     "text": [
      "0\n"
     ]
    }
   ],
   "source": [
    "s = Solution()\n",
    "\n",
    "result = s.countPoints(\"G4\")\n",
    "print (result) "
   ]
  },
  {
   "cell_type": "markdown",
   "id": "f781dc0e",
   "metadata": {},
   "source": [
    "### 2697. Lexicographically Smallest Palindrome"
   ]
  },
  {
   "cell_type": "markdown",
   "id": "90a9b1ba",
   "metadata": {},
   "source": [
    "I should remember this to be able to solve this question:\n",
    "\n",
    "A palindrome is a word, phrase, number, or sequence of characters that reads the same forwards and backwards. In other words, when the characters are reversed, the resulting sequence remains unchanged."
   ]
  },
  {
   "cell_type": "code",
   "execution_count": 95,
   "id": "171657e8",
   "metadata": {},
   "outputs": [],
   "source": [
    "class Solution:\n",
    "    def makeSmallestPalindrome(self, s: str) -> str:\n",
    "        s_list = list(s)\n",
    "        for i in range(len(s_list)//2):\n",
    "\n",
    "            if s_list[len(s_list) - i - 1] < s_list[i]:\n",
    "                s_list[i] = s_list[len(s_list) - i - 1] \n",
    "            else:\n",
    "                s_list[len(s_list) - i - 1] = s_list[i] \n",
    "        return ''.join(s_list)"
   ]
  },
  {
   "cell_type": "code",
   "execution_count": 96,
   "id": "36b6bfc1",
   "metadata": {},
   "outputs": [
    {
     "name": "stdout",
     "output_type": "stream",
     "text": [
      "efcfe\n"
     ]
    }
   ],
   "source": [
    "s = Solution()\n",
    "\n",
    "result = s.makeSmallestPalindrome(\"egcfe\")\n",
    "print (result) "
   ]
  },
  {
   "cell_type": "code",
   "execution_count": 97,
   "id": "7f051a24",
   "metadata": {},
   "outputs": [
    {
     "name": "stdout",
     "output_type": "stream",
     "text": [
      "abba\n"
     ]
    }
   ],
   "source": [
    "s = Solution()\n",
    "\n",
    "result = s.makeSmallestPalindrome(\"abcd\")\n",
    "print (result)  "
   ]
  },
  {
   "cell_type": "code",
   "execution_count": 98,
   "id": "7ede8617",
   "metadata": {},
   "outputs": [
    {
     "name": "stdout",
     "output_type": "stream",
     "text": [
      "neven\n"
     ]
    }
   ],
   "source": [
    "s = Solution()\n",
    "\n",
    "result = s.makeSmallestPalindrome(\"seven\")\n",
    "print (result)   "
   ]
  },
  {
   "cell_type": "markdown",
   "id": "687c7c53",
   "metadata": {},
   "source": [
    "### 1021. Remove Outermost Parentheses\n"
   ]
  },
  {
   "cell_type": "code",
   "execution_count": 16,
   "id": "a7fcd3a4",
   "metadata": {},
   "outputs": [],
   "source": [
    "class Solution:\n",
    "    def removeOuterParentheses(self, s: str) -> str:\n",
    "        \n",
    "        l = []\n",
    "        count = 0 \n",
    "        temp = 0\n",
    "        start = 0\n",
    "        for i in s:\n",
    "\n",
    "            if i == '(':\n",
    "                count +=1 \n",
    "            else:\n",
    "                count -=1 \n",
    "            temp += 1\n",
    "            if count == 0:\n",
    "                #print (s[start: temp])\n",
    "                l.append(s[start+1: temp-1])\n",
    "                start = temp\n",
    "        return ''.join(l)  "
   ]
  },
  {
   "cell_type": "code",
   "execution_count": 15,
   "id": "9006d35a",
   "metadata": {},
   "outputs": [
    {
     "data": {
      "text/plain": [
       "'()()()()(())'"
      ]
     },
     "execution_count": 15,
     "metadata": {},
     "output_type": "execute_result"
    }
   ],
   "source": [
    "s = \"(()())(())(()(()))\"\n",
    "\n",
    "l = []\n",
    "count = 0 \n",
    "temp = 0\n",
    "start = 0\n",
    "for i in s:\n",
    "\n",
    "    if i == '(':\n",
    "        count +=1 \n",
    "    else:\n",
    "        count -=1 \n",
    "    temp += 1\n",
    "    if count == 0:\n",
    "        #print (s[start: temp])\n",
    "        l.append(s[start+1: temp-1])\n",
    "        start = temp\n",
    "''.join(l)   "
   ]
  },
  {
   "cell_type": "code",
   "execution_count": 18,
   "id": "0baf2581",
   "metadata": {},
   "outputs": [
    {
     "name": "stdout",
     "output_type": "stream",
     "text": [
      "()()()\n"
     ]
    }
   ],
   "source": [
    "s = Solution()\n",
    "\n",
    "result = s.removeOuterParentheses(\"(()())(())\")\n",
    "print (result)"
   ]
  },
  {
   "cell_type": "code",
   "execution_count": 17,
   "id": "3ce7d821",
   "metadata": {},
   "outputs": [
    {
     "name": "stdout",
     "output_type": "stream",
     "text": [
      "()()()()(())\n"
     ]
    }
   ],
   "source": [
    "s = Solution()\n",
    "\n",
    "result = s.removeOuterParentheses(\"(()())(())(()(()))\")\n",
    "print (result) "
   ]
  },
  {
   "cell_type": "code",
   "execution_count": 20,
   "id": "667fe719",
   "metadata": {},
   "outputs": [
    {
     "name": "stdout",
     "output_type": "stream",
     "text": [
      "\n"
     ]
    }
   ],
   "source": [
    "s = Solution()\n",
    "\n",
    "result = s.removeOuterParentheses(\"()()\")\n",
    "print (result) "
   ]
  },
  {
   "cell_type": "markdown",
   "id": "e95323a6",
   "metadata": {},
   "source": [
    "### 1309. Decrypt String from Alphabet to Integer Mapping"
   ]
  },
  {
   "cell_type": "code",
   "execution_count": 13,
   "id": "63aa4c7c",
   "metadata": {},
   "outputs": [],
   "source": [
    "class Solution:\n",
    "     def freqAlphabets(self, s: str) -> str:\n",
    "        res = []\n",
    "        i = 0 \n",
    "        while i < len(s):\n",
    "            if i+2 < len(s) and s[i+2] == '#':\n",
    "                res.append(chr(int(s[i: i+2]) + 96))\n",
    "                i+=3 \n",
    "            else:\n",
    "                res.append(chr(int(s[i]) + 96))\n",
    "                i +=1\n",
    "        return ''.join(res)         "
   ]
  },
  {
   "cell_type": "code",
   "execution_count": 14,
   "id": "68c7f89a",
   "metadata": {},
   "outputs": [
    {
     "name": "stdout",
     "output_type": "stream",
     "text": [
      "jkab\n"
     ]
    }
   ],
   "source": [
    "s = Solution()\n",
    "\n",
    "result = s.freqAlphabets(s = \"10#11#12\")\n",
    "print (result) "
   ]
  },
  {
   "cell_type": "code",
   "execution_count": 15,
   "id": "3eb1f56b",
   "metadata": {},
   "outputs": [
    {
     "name": "stdout",
     "output_type": "stream",
     "text": [
      "acz\n"
     ]
    }
   ],
   "source": [
    "s = Solution()\n",
    "\n",
    "result = s.freqAlphabets(s = \"1326#\")\n",
    "print (result) "
   ]
  },
  {
   "cell_type": "markdown",
   "id": "798ee068",
   "metadata": {},
   "source": [
    "### 2000. Reverse Prefix of Word"
   ]
  },
  {
   "cell_type": "code",
   "execution_count": 55,
   "id": "50e61249",
   "metadata": {},
   "outputs": [],
   "source": [
    "class Solution:\n",
    "    def reversePrefix(self, word: str, ch: str) -> str:\n",
    "        count = 0 \n",
    "        for i in word:\n",
    "            count +=1 \n",
    "            if i == ch:\n",
    "                first = word[0: count]\n",
    "                rev_first = ''.join(reversed(first))\n",
    "                rest = word[count :]\n",
    "                res = ''.join(rev_first + rest)\n",
    "                break\n",
    "            else:\n",
    "                res = word\n",
    "        return res"
   ]
  },
  {
   "cell_type": "code",
   "execution_count": 56,
   "id": "9e52b213",
   "metadata": {},
   "outputs": [
    {
     "name": "stdout",
     "output_type": "stream",
     "text": [
      "dcbaefd\n"
     ]
    }
   ],
   "source": [
    "s = Solution()\n",
    "\n",
    "result = s.reversePrefix(word = \"abcdefd\", ch = \"d\")\n",
    "print (result) "
   ]
  },
  {
   "cell_type": "code",
   "execution_count": 57,
   "id": "e2127b1a",
   "metadata": {},
   "outputs": [
    {
     "name": "stdout",
     "output_type": "stream",
     "text": [
      "zxyxxe\n"
     ]
    }
   ],
   "source": [
    "s = Solution()\n",
    "\n",
    "result = s.reversePrefix(word = \"xyxzxe\", ch = \"z\")\n",
    "print (result) "
   ]
  },
  {
   "cell_type": "code",
   "execution_count": 58,
   "id": "25e0f56e",
   "metadata": {},
   "outputs": [
    {
     "name": "stdout",
     "output_type": "stream",
     "text": [
      "abcd\n"
     ]
    }
   ],
   "source": [
    "s = Solution()\n",
    "\n",
    "result = s.reversePrefix(word = \"abcd\", ch = \"z\")\n",
    "print (result) "
   ]
  },
  {
   "cell_type": "markdown",
   "id": "13ca4c17",
   "metadata": {},
   "source": [
    "### 2678. Number of Senior Citizens"
   ]
  },
  {
   "cell_type": "code",
   "execution_count": 4,
   "id": "7bc7540d",
   "metadata": {},
   "outputs": [],
   "source": [
    "from typing import List\n",
    "class Solution:\n",
    "    def countSeniors(self, details: List[str]) -> int:\n",
    "        senior_count = 0\n",
    "        for one_pass in details:\n",
    "            \n",
    "            age = one_pass[11:13]\n",
    "            if int(age) > 60:\n",
    "                senior_count += 1\n",
    "        return senior_count\n",
    "            \n",
    "        "
   ]
  },
  {
   "cell_type": "code",
   "execution_count": 5,
   "id": "f574e3fe",
   "metadata": {},
   "outputs": [
    {
     "name": "stdout",
     "output_type": "stream",
     "text": [
      "2\n"
     ]
    }
   ],
   "source": [
    "s = Solution()\n",
    "\n",
    "result = s.countSeniors(details = [\"7868190130M7522\",\"5303914400F9211\",\"9273338290F4010\"])\n",
    "print (result) "
   ]
  },
  {
   "cell_type": "code",
   "execution_count": 7,
   "id": "01565f0b",
   "metadata": {},
   "outputs": [
    {
     "name": "stdout",
     "output_type": "stream",
     "text": [
      "0\n"
     ]
    }
   ],
   "source": [
    "s = Solution()\n",
    "\n",
    "result = s.countSeniors(details = [\"1313579440F2036\",\"2921522980M5644\"])\n",
    "print (result) "
   ]
  },
  {
   "cell_type": "markdown",
   "id": "79a5ae34",
   "metadata": {},
   "source": [
    "### 1704. Determine if String Halves Are Alike\n"
   ]
  },
  {
   "cell_type": "code",
   "execution_count": 18,
   "id": "94d145c3",
   "metadata": {},
   "outputs": [],
   "source": [
    "class Solution:\n",
    "    def halvesAreAlike(self, s: str) -> bool:\n",
    "        \n",
    "        a = s[:int(len(s)/2)]\n",
    "        b = s[int(len(s)/2):]\n",
    "        \n",
    "        count_a = 0\n",
    "        count_b = 0\n",
    "        for l in a:\n",
    "            if l.lower() in 'aeiou':\n",
    "                count_a += 1\n",
    "        for ll in b:\n",
    "            if ll.lower() in 'aeiou':\n",
    "                count_b += 1\n",
    "        if count_a == count_b:\n",
    "            return True\n",
    "        else:\n",
    "            return False\n"
   ]
  },
  {
   "cell_type": "code",
   "execution_count": 19,
   "id": "abe0d16b",
   "metadata": {},
   "outputs": [
    {
     "name": "stdout",
     "output_type": "stream",
     "text": [
      "True\n"
     ]
    }
   ],
   "source": [
    "s = Solution()\n",
    "\n",
    "result = s.halvesAreAlike(s = \"book\")\n",
    "print (result) "
   ]
  },
  {
   "cell_type": "code",
   "execution_count": 20,
   "id": "b0e6f981",
   "metadata": {},
   "outputs": [
    {
     "name": "stdout",
     "output_type": "stream",
     "text": [
      "False\n"
     ]
    }
   ],
   "source": [
    "s = Solution()\n",
    "\n",
    "result = s.halvesAreAlike(s = \"textbook\")\n",
    "print (result) "
   ]
  },
  {
   "cell_type": "markdown",
   "id": "14552ee3",
   "metadata": {},
   "source": [
    "### 1812. Determine Color of a Chessboard Square"
   ]
  },
  {
   "cell_type": "code",
   "execution_count": 40,
   "id": "63f2e723",
   "metadata": {},
   "outputs": [],
   "source": [
    "class Solution:\n",
    "    def squareIsWhite(self, coordinates: str) -> bool:\n",
    "        \n",
    "        l = coordinates[0]\n",
    "        n = coordinates[1]\n",
    "        #print (type(n))\n",
    "        if l in 'aceg' and int(n) in [1, 3, 5, 7]:\n",
    "            return False\n",
    "        elif l in 'bdfh' and int(n) in [2, 4, 6, 8]:\n",
    "            return False\n",
    "        else:\n",
    "            return True\n",
    "        "
   ]
  },
  {
   "cell_type": "code",
   "execution_count": 41,
   "id": "3651491c",
   "metadata": {},
   "outputs": [
    {
     "name": "stdout",
     "output_type": "stream",
     "text": [
      "False\n"
     ]
    }
   ],
   "source": [
    "s = Solution()\n",
    "\n",
    "result = s.squareIsWhite(coordinates = \"a1\")\n",
    "print (result) "
   ]
  },
  {
   "cell_type": "code",
   "execution_count": 42,
   "id": "a38941f1",
   "metadata": {},
   "outputs": [
    {
     "name": "stdout",
     "output_type": "stream",
     "text": [
      "True\n"
     ]
    }
   ],
   "source": [
    "s = Solution()\n",
    "\n",
    "result = s.squareIsWhite(coordinates = \"h3\")\n",
    "print (result) "
   ]
  },
  {
   "cell_type": "code",
   "execution_count": 43,
   "id": "38a0651d",
   "metadata": {},
   "outputs": [
    {
     "name": "stdout",
     "output_type": "stream",
     "text": [
      "False\n"
     ]
    }
   ],
   "source": [
    "s = Solution()\n",
    "\n",
    "result = s.squareIsWhite(coordinates = \"c7\")\n",
    "print (result) "
   ]
  },
  {
   "cell_type": "code",
   "execution_count": 44,
   "id": "ce68a695",
   "metadata": {},
   "outputs": [
    {
     "name": "stdout",
     "output_type": "stream",
     "text": [
      "False\n"
     ]
    }
   ],
   "source": [
    "s = Solution()\n",
    "\n",
    "result = s.squareIsWhite(coordinates = \"b2\")\n",
    "print (result) "
   ]
  },
  {
   "cell_type": "markdown",
   "id": "2ba2433d",
   "metadata": {},
   "source": [
    "### 942. DI String Match"
   ]
  },
  {
   "cell_type": "code",
   "execution_count": 114,
   "id": "5c6849cd",
   "metadata": {
    "code_folding": []
   },
   "outputs": [],
   "source": [
    "class Solution:\n",
    "    def diStringMatch(self, s: str) -> List[int]:\n",
    "         \n",
    "        perm = [] \n",
    "        lower = 0 \n",
    "        upper = len(s)\n",
    "        \n",
    "        for i in s:\n",
    "            if i == 'I':\n",
    "                perm.append(lower)\n",
    "                lower += 1\n",
    "            else:\n",
    "                perm.append(upper)\n",
    "                upper -=1 \n",
    "    \n",
    "        if s[-1] == 'I':\n",
    "            perm.append(lower)\n",
    "        else:\n",
    "            perm.append(upper)\n",
    "        \n",
    "        return perm\n"
   ]
  },
  {
   "cell_type": "code",
   "execution_count": 115,
   "id": "71df260d",
   "metadata": {},
   "outputs": [
    {
     "name": "stdout",
     "output_type": "stream",
     "text": [
      "[0, 4, 1, 3, 2]\n"
     ]
    }
   ],
   "source": [
    "s = Solution()\n",
    "\n",
    "result = s.diStringMatch(s =\"IDID\")\n",
    "print (result) "
   ]
  },
  {
   "cell_type": "code",
   "execution_count": 116,
   "id": "e07e9d25",
   "metadata": {},
   "outputs": [
    {
     "name": "stdout",
     "output_type": "stream",
     "text": [
      "[0, 1, 2, 3]\n"
     ]
    }
   ],
   "source": [
    "s = Solution()\n",
    "\n",
    "result = s.diStringMatch(s =\"III\")\n",
    "print (result) "
   ]
  },
  {
   "cell_type": "code",
   "execution_count": 117,
   "id": "fee443d0",
   "metadata": {},
   "outputs": [
    {
     "name": "stdout",
     "output_type": "stream",
     "text": [
      "[3, 2, 0, 1]\n"
     ]
    }
   ],
   "source": [
    "s = Solution()\n",
    "\n",
    "result = s.diStringMatch(\"DDI\")\n",
    "print (result) "
   ]
  },
  {
   "cell_type": "markdown",
   "id": "60538c98",
   "metadata": {},
   "source": [
    "### 2185. Counting Words With a Given Prefix"
   ]
  },
  {
   "cell_type": "code",
   "execution_count": 118,
   "id": "dfe66a81",
   "metadata": {},
   "outputs": [],
   "source": [
    "from typing import List\n",
    "class Solution:\n",
    "    def prefixCount(self, words: List[str], pref: str) -> int:\n",
    "        count = 0\n",
    "        n = len(pref)\n",
    "        for w in words:\n",
    "            if w[:n] == pref:\n",
    "                count +=1\n",
    "        return count\n",
    "        "
   ]
  },
  {
   "cell_type": "code",
   "execution_count": 119,
   "id": "f5b38334",
   "metadata": {},
   "outputs": [
    {
     "name": "stdout",
     "output_type": "stream",
     "text": [
      "2\n"
     ]
    }
   ],
   "source": [
    "s = Solution()\n",
    "\n",
    "result = s.prefixCount(words = [\"pay\",\"attention\",\"practice\",\"attend\"], pref = \"at\")\n",
    "print (result) "
   ]
  },
  {
   "cell_type": "code",
   "execution_count": 120,
   "id": "c1d94f20",
   "metadata": {},
   "outputs": [
    {
     "name": "stdout",
     "output_type": "stream",
     "text": [
      "0\n"
     ]
    }
   ],
   "source": [
    "s = Solution()\n",
    "\n",
    "result = s.prefixCount(words = [\"leetcode\",\"win\",\"loops\",\"success\"], pref = \"code\")\n",
    "print (result) "
   ]
  },
  {
   "cell_type": "markdown",
   "id": "1187fcef",
   "metadata": {},
   "source": [
    "### 344. Reverse String"
   ]
  },
  {
   "cell_type": "code",
   "execution_count": 140,
   "id": "6d1176b1",
   "metadata": {},
   "outputs": [],
   "source": [
    "class Solution:\n",
    "    def reverseString(self, s: List[str]) -> None:\n",
    "        \"\"\"\n",
    "        Do not return anything, modify s in-place instead.\n",
    "        \"\"\"\n",
    "        left_index = 0\n",
    "        right_index = len(s) - 1\n",
    "        \n",
    "        while left_index < right_index:\n",
    "            s[left_index], s[right_index] = s[right_index], s[left_index]\n",
    "            left_index += 1\n",
    "            right_index -=1\n",
    "            \n",
    "        return s"
   ]
  },
  {
   "cell_type": "code",
   "execution_count": 141,
   "id": "b1574a9e",
   "metadata": {},
   "outputs": [
    {
     "name": "stdout",
     "output_type": "stream",
     "text": [
      "['o', 'l', 'l', 'e', 'h']\n"
     ]
    }
   ],
   "source": [
    "s = Solution()\n",
    "\n",
    "result = s.reverseString(s = [\"h\",\"e\",\"l\",\"l\",\"o\"])\n",
    "print (result) "
   ]
  },
  {
   "cell_type": "code",
   "execution_count": 142,
   "id": "75a99367",
   "metadata": {},
   "outputs": [
    {
     "name": "stdout",
     "output_type": "stream",
     "text": [
      "['h', 'a', 'n', 'n', 'a', 'H']\n"
     ]
    }
   ],
   "source": [
    "s = Solution()\n",
    "\n",
    "result = s.reverseString(s = [\"H\",\"a\",\"n\",\"n\",\"a\",\"h\"])\n",
    "print (result) "
   ]
  },
  {
   "cell_type": "code",
   "execution_count": 143,
   "id": "17b79d58",
   "metadata": {},
   "outputs": [
    {
     "name": "stdout",
     "output_type": "stream",
     "text": [
      "['o', 'l', 'l', 'e', 'h']\n"
     ]
    }
   ],
   "source": [
    "s = Solution()\n",
    "\n",
    "result = s.reverseString(s = [\"h\",\"e\",\"l\",\"l\",\"o\"])\n",
    "print (result)  "
   ]
  },
  {
   "cell_type": "code",
   "execution_count": 144,
   "id": "3d802cba",
   "metadata": {},
   "outputs": [
    {
     "name": "stdout",
     "output_type": "stream",
     "text": [
      "['h', 'a', 'n', 'n', 'a', 'H']\n"
     ]
    }
   ],
   "source": [
    "s = Solution()\n",
    "\n",
    "result = s.reverseString([\"H\",\"a\",\"n\",\"n\",\"a\",\"h\"])\n",
    "print (result)  "
   ]
  },
  {
   "cell_type": "markdown",
   "id": "5aa8baaa",
   "metadata": {},
   "source": [
    "### 2586. Count the Number of Vowel Strings in Range"
   ]
  },
  {
   "cell_type": "code",
   "execution_count": 1,
   "id": "b23ef6f8",
   "metadata": {},
   "outputs": [],
   "source": [
    "from typing import List\n",
    "class Solution:\n",
    "    def vowelStrings(self, words: List[str], left: int, right: int) -> int:\n",
    "        \n",
    "        my_words = words[left:right+1]\n",
    "        count = 0\n",
    "        vowel = 'aeiou'\n",
    "        for w in my_words:\n",
    "            if w[0] in vowel and w[-1] in vowel:\n",
    "                count +=1 \n",
    "                \n",
    "        return count"
   ]
  },
  {
   "cell_type": "code",
   "execution_count": 2,
   "id": "f7b3f84f",
   "metadata": {},
   "outputs": [
    {
     "name": "stdout",
     "output_type": "stream",
     "text": [
      "2\n"
     ]
    }
   ],
   "source": [
    "s = Solution()\n",
    "\n",
    "result = s.vowelStrings(words = [\"are\",\"amy\",\"u\"], left = 0, right = 2)\n",
    "print (result) "
   ]
  },
  {
   "cell_type": "code",
   "execution_count": 3,
   "id": "ce66441a",
   "metadata": {
    "scrolled": true
   },
   "outputs": [
    {
     "name": "stdout",
     "output_type": "stream",
     "text": [
      "3\n"
     ]
    }
   ],
   "source": [
    "s = Solution()\n",
    "\n",
    "result = s.vowelStrings(words = [\"hey\",\"aeo\",\"mu\",\"ooo\",\"artro\"], left = 1, right = 4)\n",
    "print (result) "
   ]
  },
  {
   "cell_type": "markdown",
   "id": "c1678277",
   "metadata": {},
   "source": [
    "### 1332. Remove Palindromic Subsequences\n"
   ]
  },
  {
   "cell_type": "code",
   "execution_count": 11,
   "id": "5b7cc598",
   "metadata": {},
   "outputs": [],
   "source": [
    "class Solution:\n",
    "    def removePalindromeSub(self, s: str) -> int:\n",
    "        count=0\n",
    "        if s==s[::-1]:\n",
    "            count+=1\n",
    "        else:\n",
    "            count+=2\n",
    "        return count"
   ]
  },
  {
   "cell_type": "code",
   "execution_count": 12,
   "id": "bc4ee32f",
   "metadata": {},
   "outputs": [
    {
     "name": "stdout",
     "output_type": "stream",
     "text": [
      "1\n"
     ]
    }
   ],
   "source": [
    "s = Solution()\n",
    "\n",
    "result = s.removePalindromeSub(s = \"ababa\")\n",
    "print (result) "
   ]
  },
  {
   "cell_type": "markdown",
   "id": "8b05fb24",
   "metadata": {},
   "source": [
    "### 657. Robot Return to Origin"
   ]
  },
  {
   "cell_type": "code",
   "execution_count": 18,
   "id": "d1def339",
   "metadata": {},
   "outputs": [],
   "source": [
    "class Solution:\n",
    "    def judgeCircle(self, moves: str) -> bool:\n",
    "        UD_pos = 0\n",
    "        RL_pos = 0\n",
    "        for i in moves:\n",
    "            if i == 'U':\n",
    "                UD_pos +=1\n",
    "            elif i == 'D':\n",
    "                UD_pos -=1\n",
    "            elif i == 'R':\n",
    "                RL_pos += 1\n",
    "            elif i == 'L':\n",
    "                RL_pos -= 1\n",
    "        \n",
    "        res =  (UD_pos , RL_pos)\n",
    "        if res == (0, 0):\n",
    "            return True\n",
    "        else:\n",
    "            return False"
   ]
  },
  {
   "cell_type": "code",
   "execution_count": 19,
   "id": "0a9f0813",
   "metadata": {},
   "outputs": [
    {
     "name": "stdout",
     "output_type": "stream",
     "text": [
      "True\n"
     ]
    }
   ],
   "source": [
    "s = Solution()\n",
    "\n",
    "result = s.judgeCircle(moves = \"UD\")\n",
    "print (result) "
   ]
  },
  {
   "cell_type": "code",
   "execution_count": 20,
   "id": "9c1aa5ba",
   "metadata": {},
   "outputs": [
    {
     "name": "stdout",
     "output_type": "stream",
     "text": [
      "False\n"
     ]
    }
   ],
   "source": [
    "s = Solution()\n",
    "\n",
    "result = s.judgeCircle(moves = \"LL\")\n",
    "print (result) "
   ]
  },
  {
   "cell_type": "code",
   "execution_count": 21,
   "id": "0740e6bb",
   "metadata": {},
   "outputs": [
    {
     "name": "stdout",
     "output_type": "stream",
     "text": [
      "False\n"
     ]
    }
   ],
   "source": [
    "s = Solution()\n",
    "\n",
    "result = s.judgeCircle(moves =\"RRDD\")\n",
    "print (result) "
   ]
  },
  {
   "cell_type": "markdown",
   "id": "531e1389",
   "metadata": {},
   "source": [
    "### 944. Delete Columns to Make Sorted "
   ]
  },
  {
   "cell_type": "code",
   "execution_count": 223,
   "id": "3fbadb3c",
   "metadata": {},
   "outputs": [],
   "source": [
    "from typing import List \n",
    "\n",
    "class Solution:\n",
    "    def minDeletionSize(self, strs: List[str]) -> int:  \n",
    "                   \n",
    "        num_col, num_rows, count = len(strs[0]), len(strs), 0\n",
    "        \n",
    "        if num_col > 1: \n",
    "            for j in range(num_col):\n",
    "                for i in range(num_rows-1):\n",
    "                    if strs[i][j] > strs[i+1][j]:\n",
    "                        count += 1\n",
    "                        break \n",
    "                    \n",
    "              \n",
    "        else:\n",
    "            for i in range(num_rows-1):\n",
    "                if strs[i] > strs[i+1]:\n",
    "                    count +=1\n",
    "        return count      \n",
    "        "
   ]
  },
  {
   "cell_type": "code",
   "execution_count": 224,
   "id": "ca669ac9",
   "metadata": {},
   "outputs": [
    {
     "name": "stdout",
     "output_type": "stream",
     "text": [
      "1\n"
     ]
    }
   ],
   "source": [
    "s = Solution()\n",
    "\n",
    "result = s.minDeletionSize(strs = [\"abc\", \"bce\", \"cae\"])\n",
    "print (result) "
   ]
  },
  {
   "cell_type": "code",
   "execution_count": 225,
   "id": "48851aef",
   "metadata": {},
   "outputs": [
    {
     "name": "stdout",
     "output_type": "stream",
     "text": [
      "1\n"
     ]
    }
   ],
   "source": [
    "s = Solution()\n",
    "\n",
    "result = s.minDeletionSize(strs = [\"cba\",\"daf\",\"ghi\"])\n",
    "print (result) "
   ]
  },
  {
   "cell_type": "code",
   "execution_count": 226,
   "id": "2820522b",
   "metadata": {},
   "outputs": [
    {
     "name": "stdout",
     "output_type": "stream",
     "text": [
      "0\n"
     ]
    }
   ],
   "source": [
    "s = Solution()\n",
    "\n",
    "result = s.minDeletionSize(strs = [\"a\",\"b\"])\n",
    "print (result) "
   ]
  },
  {
   "cell_type": "code",
   "execution_count": 227,
   "id": "be0dd1b0",
   "metadata": {},
   "outputs": [
    {
     "name": "stdout",
     "output_type": "stream",
     "text": [
      "3\n"
     ]
    }
   ],
   "source": [
    "s = Solution()\n",
    "\n",
    "result = s.minDeletionSize(strs = [\"zyx\",\"wvu\",\"tsr\"])\n",
    "print (result) "
   ]
  },
  {
   "cell_type": "markdown",
   "id": "be76bdf0",
   "metadata": {},
   "source": [
    "### 1370. Increasing Decreasing String SOLVE IT LATER"
   ]
  },
  {
   "cell_type": "code",
   "execution_count": 182,
   "id": "c498844b",
   "metadata": {},
   "outputs": [],
   "source": [
    "class Solution:\n",
    "    def sortString(self, s: str) -> str:\n",
    "        \n",
    "        res = []\n",
    "        res.append(min(s))\n",
    "        \n",
    "        s_list = list(s)\n",
    "        s_list.remove(min(s))\n",
    "            \n",
    "        while len(s_list):\n",
    "            a = min(s_list)\n",
    "            b = max(s_list)\n",
    "            \n",
    "            if a > res[-1]:\n",
    "                res.append(a)\n",
    "                s_list.remove(a)\n",
    "            else:\n",
    "                res.append(b)\n",
    "                s_list.remove(a)\n",
    "        return  res\n",
    "        "
   ]
  },
  {
   "cell_type": "code",
   "execution_count": null,
   "id": "0bd0c9e7",
   "metadata": {},
   "outputs": [],
   "source": [
    "s = Solution()\n",
    "\n",
    "result = s.sortString(\"aaaabbbbcccc\")\n",
    "print (result) "
   ]
  },
  {
   "cell_type": "code",
   "execution_count": 168,
   "id": "eef96b16",
   "metadata": {},
   "outputs": [
    {
     "data": {
      "text/plain": [
       "False"
      ]
     },
     "execution_count": 168,
     "metadata": {},
     "output_type": "execute_result"
    }
   ],
   "source": [
    "a = min(list( \"aaaabbbbcccc\"))\n",
    "a > min(list( \"aaaabbbbcccc\"))"
   ]
  },
  {
   "cell_type": "markdown",
   "id": "7d900e5e",
   "metadata": {},
   "source": [
    "### "
   ]
  },
  {
   "cell_type": "code",
   "execution_count": null,
   "id": "66af2467",
   "metadata": {},
   "outputs": [],
   "source": []
  },
  {
   "cell_type": "code",
   "execution_count": null,
   "id": "679142ce",
   "metadata": {},
   "outputs": [],
   "source": [
    "s = Solution()\n",
    "\n",
    "result = s.\n",
    "print (result) "
   ]
  },
  {
   "cell_type": "markdown",
   "id": "e7a11f34",
   "metadata": {},
   "source": [
    "### "
   ]
  },
  {
   "cell_type": "code",
   "execution_count": null,
   "id": "b6570154",
   "metadata": {},
   "outputs": [],
   "source": []
  },
  {
   "cell_type": "markdown",
   "id": "0d121dd1",
   "metadata": {},
   "source": [
    "### "
   ]
  },
  {
   "cell_type": "code",
   "execution_count": null,
   "id": "bb1246d6",
   "metadata": {},
   "outputs": [],
   "source": []
  },
  {
   "cell_type": "code",
   "execution_count": null,
   "id": "e9e4873d",
   "metadata": {},
   "outputs": [],
   "source": [
    "s = Solution()\n",
    "\n",
    "result = s.\n",
    "print (result) "
   ]
  },
  {
   "cell_type": "markdown",
   "id": "8769a8c2",
   "metadata": {},
   "source": [
    "### "
   ]
  },
  {
   "cell_type": "code",
   "execution_count": null,
   "id": "37834563",
   "metadata": {},
   "outputs": [],
   "source": []
  },
  {
   "cell_type": "markdown",
   "id": "c80be71b",
   "metadata": {},
   "source": [
    "### "
   ]
  },
  {
   "cell_type": "code",
   "execution_count": null,
   "id": "f92498b6",
   "metadata": {},
   "outputs": [],
   "source": []
  },
  {
   "cell_type": "code",
   "execution_count": null,
   "id": "d4831dfa",
   "metadata": {},
   "outputs": [],
   "source": [
    "s = Solution()\n",
    "\n",
    "result = s.\n",
    "print (result) "
   ]
  },
  {
   "cell_type": "markdown",
   "id": "a8f3298a",
   "metadata": {},
   "source": [
    "### "
   ]
  },
  {
   "cell_type": "code",
   "execution_count": null,
   "id": "8082db2e",
   "metadata": {},
   "outputs": [],
   "source": []
  },
  {
   "cell_type": "markdown",
   "id": "2a1ec193",
   "metadata": {},
   "source": [
    "### "
   ]
  },
  {
   "cell_type": "code",
   "execution_count": null,
   "id": "d84d86f1",
   "metadata": {},
   "outputs": [],
   "source": []
  },
  {
   "cell_type": "code",
   "execution_count": null,
   "id": "291fbffd",
   "metadata": {},
   "outputs": [],
   "source": [
    "s = Solution()\n",
    "\n",
    "result = s.\n",
    "print (result) "
   ]
  },
  {
   "cell_type": "markdown",
   "id": "e69cd717",
   "metadata": {},
   "source": [
    "### "
   ]
  },
  {
   "cell_type": "code",
   "execution_count": null,
   "id": "9e3e6248",
   "metadata": {},
   "outputs": [],
   "source": []
  },
  {
   "cell_type": "markdown",
   "id": "09335e4d",
   "metadata": {},
   "source": [
    "### "
   ]
  },
  {
   "cell_type": "code",
   "execution_count": null,
   "id": "22241cb9",
   "metadata": {},
   "outputs": [],
   "source": []
  },
  {
   "cell_type": "code",
   "execution_count": null,
   "id": "d72fa0a1",
   "metadata": {},
   "outputs": [],
   "source": [
    "s = Solution()\n",
    "\n",
    "result = s.\n",
    "print (result) "
   ]
  },
  {
   "cell_type": "markdown",
   "id": "b4e29f20",
   "metadata": {},
   "source": [
    "### "
   ]
  },
  {
   "cell_type": "code",
   "execution_count": null,
   "id": "bb746c44",
   "metadata": {},
   "outputs": [],
   "source": []
  },
  {
   "cell_type": "markdown",
   "id": "a42a6164",
   "metadata": {},
   "source": [
    "### "
   ]
  },
  {
   "cell_type": "code",
   "execution_count": null,
   "id": "04887b40",
   "metadata": {},
   "outputs": [],
   "source": []
  },
  {
   "cell_type": "code",
   "execution_count": null,
   "id": "e8bf53b3",
   "metadata": {},
   "outputs": [],
   "source": [
    "s = Solution()\n",
    "\n",
    "result = s.\n",
    "print (result) "
   ]
  },
  {
   "cell_type": "markdown",
   "id": "c2e48664",
   "metadata": {},
   "source": [
    "### "
   ]
  },
  {
   "cell_type": "code",
   "execution_count": null,
   "id": "b7530f07",
   "metadata": {},
   "outputs": [],
   "source": []
  },
  {
   "cell_type": "markdown",
   "id": "45f801ad",
   "metadata": {},
   "source": [
    "### "
   ]
  },
  {
   "cell_type": "code",
   "execution_count": null,
   "id": "4cd61a1e",
   "metadata": {},
   "outputs": [],
   "source": []
  },
  {
   "cell_type": "code",
   "execution_count": null,
   "id": "286c1e4f",
   "metadata": {},
   "outputs": [],
   "source": [
    "s = Solution()\n",
    "\n",
    "result = s.\n",
    "print (result) "
   ]
  },
  {
   "cell_type": "markdown",
   "id": "374a62a7",
   "metadata": {},
   "source": [
    "### "
   ]
  },
  {
   "cell_type": "code",
   "execution_count": null,
   "id": "61e5afad",
   "metadata": {},
   "outputs": [],
   "source": []
  },
  {
   "cell_type": "markdown",
   "id": "bbfc7b92",
   "metadata": {},
   "source": [
    "### "
   ]
  },
  {
   "cell_type": "code",
   "execution_count": null,
   "id": "e3568470",
   "metadata": {},
   "outputs": [],
   "source": []
  },
  {
   "cell_type": "code",
   "execution_count": null,
   "id": "e9e28aa7",
   "metadata": {},
   "outputs": [],
   "source": [
    "s = Solution()\n",
    "\n",
    "result = s.\n",
    "print (result) "
   ]
  },
  {
   "cell_type": "markdown",
   "id": "052edc00",
   "metadata": {},
   "source": [
    "### "
   ]
  },
  {
   "cell_type": "code",
   "execution_count": null,
   "id": "6ebdd9a3",
   "metadata": {},
   "outputs": [],
   "source": []
  },
  {
   "cell_type": "markdown",
   "id": "20027731",
   "metadata": {},
   "source": [
    "### "
   ]
  },
  {
   "cell_type": "code",
   "execution_count": null,
   "id": "6ae19d42",
   "metadata": {},
   "outputs": [],
   "source": []
  },
  {
   "cell_type": "code",
   "execution_count": null,
   "id": "5cd6f24f",
   "metadata": {},
   "outputs": [],
   "source": [
    "s = Solution()\n",
    "\n",
    "result = s.\n",
    "print (result) "
   ]
  },
  {
   "cell_type": "markdown",
   "id": "87ff0b9b",
   "metadata": {},
   "source": [
    "### "
   ]
  },
  {
   "cell_type": "code",
   "execution_count": null,
   "id": "e772b69d",
   "metadata": {},
   "outputs": [],
   "source": []
  },
  {
   "cell_type": "markdown",
   "id": "4d4f6e5e",
   "metadata": {},
   "source": [
    "### "
   ]
  },
  {
   "cell_type": "code",
   "execution_count": null,
   "id": "62093307",
   "metadata": {},
   "outputs": [],
   "source": []
  },
  {
   "cell_type": "code",
   "execution_count": null,
   "id": "28fb4d63",
   "metadata": {},
   "outputs": [],
   "source": [
    "s = Solution()\n",
    "\n",
    "result = s.\n",
    "print (result) "
   ]
  },
  {
   "cell_type": "markdown",
   "id": "412d4ad0",
   "metadata": {},
   "source": [
    "### "
   ]
  },
  {
   "cell_type": "code",
   "execution_count": null,
   "id": "01efc150",
   "metadata": {},
   "outputs": [],
   "source": []
  },
  {
   "cell_type": "markdown",
   "id": "3275e4eb",
   "metadata": {},
   "source": [
    "### "
   ]
  },
  {
   "cell_type": "code",
   "execution_count": null,
   "id": "e891c036",
   "metadata": {},
   "outputs": [],
   "source": []
  },
  {
   "cell_type": "code",
   "execution_count": null,
   "id": "ea50083c",
   "metadata": {},
   "outputs": [],
   "source": [
    "s = Solution()\n",
    "\n",
    "result = s.\n",
    "print (result) "
   ]
  },
  {
   "cell_type": "markdown",
   "id": "c4d3b1bf",
   "metadata": {},
   "source": [
    "### "
   ]
  },
  {
   "cell_type": "code",
   "execution_count": null,
   "id": "aea5b6d7",
   "metadata": {},
   "outputs": [],
   "source": []
  },
  {
   "cell_type": "markdown",
   "id": "f3a82b53",
   "metadata": {},
   "source": [
    "### "
   ]
  },
  {
   "cell_type": "code",
   "execution_count": null,
   "id": "47dc3935",
   "metadata": {},
   "outputs": [],
   "source": []
  },
  {
   "cell_type": "code",
   "execution_count": null,
   "id": "3f2dbff3",
   "metadata": {},
   "outputs": [],
   "source": [
    "s = Solution()\n",
    "\n",
    "result = s.\n",
    "print (result) "
   ]
  },
  {
   "cell_type": "markdown",
   "id": "186f8179",
   "metadata": {},
   "source": [
    "### "
   ]
  },
  {
   "cell_type": "code",
   "execution_count": null,
   "id": "c8e7c9b7",
   "metadata": {},
   "outputs": [],
   "source": []
  },
  {
   "cell_type": "markdown",
   "id": "bf73e908",
   "metadata": {},
   "source": [
    "### "
   ]
  },
  {
   "cell_type": "code",
   "execution_count": null,
   "id": "6d21ac26",
   "metadata": {},
   "outputs": [],
   "source": []
  },
  {
   "cell_type": "code",
   "execution_count": null,
   "id": "30ad06cb",
   "metadata": {},
   "outputs": [],
   "source": [
    "s = Solution()\n",
    "\n",
    "result = s.\n",
    "print (result) "
   ]
  },
  {
   "cell_type": "markdown",
   "id": "29fb4402",
   "metadata": {},
   "source": [
    "### "
   ]
  },
  {
   "cell_type": "code",
   "execution_count": null,
   "id": "c88270ff",
   "metadata": {},
   "outputs": [],
   "source": []
  },
  {
   "cell_type": "markdown",
   "id": "ea0c5ae9",
   "metadata": {},
   "source": [
    "### "
   ]
  },
  {
   "cell_type": "code",
   "execution_count": null,
   "id": "f795b2df",
   "metadata": {},
   "outputs": [],
   "source": []
  },
  {
   "cell_type": "code",
   "execution_count": null,
   "id": "9b5d125c",
   "metadata": {},
   "outputs": [],
   "source": [
    "s = Solution()\n",
    "\n",
    "result = s.\n",
    "print (result) "
   ]
  },
  {
   "cell_type": "markdown",
   "id": "ab46d40d",
   "metadata": {},
   "source": [
    "### "
   ]
  },
  {
   "cell_type": "code",
   "execution_count": null,
   "id": "c8b58861",
   "metadata": {},
   "outputs": [],
   "source": []
  },
  {
   "cell_type": "markdown",
   "id": "adde6466",
   "metadata": {},
   "source": [
    "### "
   ]
  },
  {
   "cell_type": "code",
   "execution_count": null,
   "id": "cca9c88a",
   "metadata": {},
   "outputs": [],
   "source": []
  },
  {
   "cell_type": "code",
   "execution_count": null,
   "id": "8d0cb8a5",
   "metadata": {},
   "outputs": [],
   "source": [
    "s = Solution()\n",
    "\n",
    "result = s.\n",
    "print (result) "
   ]
  },
  {
   "cell_type": "markdown",
   "id": "5d6bb80d",
   "metadata": {},
   "source": [
    "### "
   ]
  },
  {
   "cell_type": "code",
   "execution_count": null,
   "id": "a4bb4d81",
   "metadata": {},
   "outputs": [],
   "source": []
  },
  {
   "cell_type": "markdown",
   "id": "b0d8a376",
   "metadata": {},
   "source": [
    "### "
   ]
  },
  {
   "cell_type": "code",
   "execution_count": null,
   "id": "53702e52",
   "metadata": {},
   "outputs": [],
   "source": []
  },
  {
   "cell_type": "code",
   "execution_count": null,
   "id": "dca2fcab",
   "metadata": {},
   "outputs": [],
   "source": [
    "s = Solution()\n",
    "\n",
    "result = s.\n",
    "print (result) "
   ]
  },
  {
   "cell_type": "markdown",
   "id": "e98607ac",
   "metadata": {},
   "source": [
    "### "
   ]
  },
  {
   "cell_type": "code",
   "execution_count": null,
   "id": "7a124c06",
   "metadata": {},
   "outputs": [],
   "source": []
  },
  {
   "cell_type": "markdown",
   "id": "f1f433c0",
   "metadata": {},
   "source": [
    "### "
   ]
  },
  {
   "cell_type": "code",
   "execution_count": null,
   "id": "f26b6d6a",
   "metadata": {},
   "outputs": [],
   "source": []
  },
  {
   "cell_type": "code",
   "execution_count": null,
   "id": "d99b8cff",
   "metadata": {},
   "outputs": [],
   "source": [
    "s = Solution()\n",
    "\n",
    "result = s.\n",
    "print (result) "
   ]
  },
  {
   "cell_type": "markdown",
   "id": "26d7b46f",
   "metadata": {},
   "source": [
    "### "
   ]
  },
  {
   "cell_type": "code",
   "execution_count": null,
   "id": "3fa5812c",
   "metadata": {},
   "outputs": [],
   "source": []
  },
  {
   "cell_type": "markdown",
   "id": "9570639c",
   "metadata": {},
   "source": [
    "### "
   ]
  },
  {
   "cell_type": "code",
   "execution_count": null,
   "id": "16122b8a",
   "metadata": {},
   "outputs": [],
   "source": []
  },
  {
   "cell_type": "code",
   "execution_count": null,
   "id": "976685a2",
   "metadata": {},
   "outputs": [],
   "source": [
    "s = Solution()\n",
    "\n",
    "result = s.\n",
    "print (result) "
   ]
  },
  {
   "cell_type": "markdown",
   "id": "99671c94",
   "metadata": {},
   "source": [
    "### "
   ]
  },
  {
   "cell_type": "code",
   "execution_count": null,
   "id": "6b18601b",
   "metadata": {},
   "outputs": [],
   "source": []
  },
  {
   "cell_type": "markdown",
   "id": "7dbb8507",
   "metadata": {},
   "source": [
    "### "
   ]
  },
  {
   "cell_type": "code",
   "execution_count": null,
   "id": "1ddbc33d",
   "metadata": {},
   "outputs": [],
   "source": []
  },
  {
   "cell_type": "code",
   "execution_count": null,
   "id": "db5d38be",
   "metadata": {},
   "outputs": [],
   "source": [
    "s = Solution()\n",
    "\n",
    "result = s.\n",
    "print (result) "
   ]
  },
  {
   "cell_type": "markdown",
   "id": "824d8ccb",
   "metadata": {},
   "source": [
    "### "
   ]
  },
  {
   "cell_type": "code",
   "execution_count": null,
   "id": "95779720",
   "metadata": {},
   "outputs": [],
   "source": []
  },
  {
   "cell_type": "markdown",
   "id": "e3d23247",
   "metadata": {},
   "source": [
    "### "
   ]
  },
  {
   "cell_type": "code",
   "execution_count": null,
   "id": "8877f31f",
   "metadata": {},
   "outputs": [],
   "source": []
  },
  {
   "cell_type": "code",
   "execution_count": null,
   "id": "99a3208f",
   "metadata": {},
   "outputs": [],
   "source": [
    "s = Solution()\n",
    "\n",
    "result = s.\n",
    "print (result) "
   ]
  },
  {
   "cell_type": "markdown",
   "id": "dc455377",
   "metadata": {},
   "source": [
    "### "
   ]
  },
  {
   "cell_type": "code",
   "execution_count": null,
   "id": "819b8aad",
   "metadata": {},
   "outputs": [],
   "source": []
  },
  {
   "cell_type": "markdown",
   "id": "b770acd0",
   "metadata": {},
   "source": [
    "### "
   ]
  },
  {
   "cell_type": "code",
   "execution_count": null,
   "id": "fec02795",
   "metadata": {},
   "outputs": [],
   "source": []
  },
  {
   "cell_type": "code",
   "execution_count": null,
   "id": "ffbe1934",
   "metadata": {},
   "outputs": [],
   "source": [
    "s = Solution()\n",
    "\n",
    "result = s.\n",
    "print (result) "
   ]
  },
  {
   "cell_type": "markdown",
   "id": "10dc89a3",
   "metadata": {},
   "source": [
    "### "
   ]
  },
  {
   "cell_type": "code",
   "execution_count": null,
   "id": "73416e58",
   "metadata": {},
   "outputs": [],
   "source": []
  },
  {
   "cell_type": "markdown",
   "id": "eead53de",
   "metadata": {},
   "source": [
    "### "
   ]
  },
  {
   "cell_type": "code",
   "execution_count": null,
   "id": "bf574747",
   "metadata": {},
   "outputs": [],
   "source": []
  },
  {
   "cell_type": "code",
   "execution_count": null,
   "id": "4c8c6b01",
   "metadata": {},
   "outputs": [],
   "source": [
    "s = Solution()\n",
    "\n",
    "result = s.\n",
    "print (result) "
   ]
  },
  {
   "cell_type": "markdown",
   "id": "2dabebdf",
   "metadata": {},
   "source": [
    "### "
   ]
  },
  {
   "cell_type": "code",
   "execution_count": null,
   "id": "4967f073",
   "metadata": {},
   "outputs": [],
   "source": []
  },
  {
   "cell_type": "markdown",
   "id": "b3f21e96",
   "metadata": {},
   "source": [
    "### "
   ]
  },
  {
   "cell_type": "code",
   "execution_count": null,
   "id": "4b87b7d6",
   "metadata": {},
   "outputs": [],
   "source": []
  },
  {
   "cell_type": "code",
   "execution_count": null,
   "id": "2a143199",
   "metadata": {},
   "outputs": [],
   "source": [
    "s = Solution()\n",
    "\n",
    "result = s.\n",
    "print (result) "
   ]
  },
  {
   "cell_type": "markdown",
   "id": "f30c6d81",
   "metadata": {},
   "source": [
    "### "
   ]
  },
  {
   "cell_type": "code",
   "execution_count": null,
   "id": "97fb352d",
   "metadata": {},
   "outputs": [],
   "source": []
  },
  {
   "cell_type": "markdown",
   "id": "87da871b",
   "metadata": {},
   "source": [
    "### "
   ]
  },
  {
   "cell_type": "code",
   "execution_count": null,
   "id": "4240f768",
   "metadata": {},
   "outputs": [],
   "source": []
  },
  {
   "cell_type": "code",
   "execution_count": null,
   "id": "e35f01b8",
   "metadata": {},
   "outputs": [],
   "source": [
    "s = Solution()\n",
    "\n",
    "result = s.\n",
    "print (result) "
   ]
  },
  {
   "cell_type": "markdown",
   "id": "3f844983",
   "metadata": {},
   "source": [
    "### "
   ]
  },
  {
   "cell_type": "code",
   "execution_count": null,
   "id": "64c0165c",
   "metadata": {},
   "outputs": [],
   "source": []
  },
  {
   "cell_type": "markdown",
   "id": "c0e6fce8",
   "metadata": {},
   "source": [
    "### "
   ]
  },
  {
   "cell_type": "code",
   "execution_count": null,
   "id": "00712675",
   "metadata": {},
   "outputs": [],
   "source": []
  },
  {
   "cell_type": "code",
   "execution_count": null,
   "id": "8008aed5",
   "metadata": {},
   "outputs": [],
   "source": [
    "s = Solution()\n",
    "\n",
    "result = s.\n",
    "print (result) "
   ]
  },
  {
   "cell_type": "markdown",
   "id": "16e2204a",
   "metadata": {},
   "source": [
    "### "
   ]
  },
  {
   "cell_type": "code",
   "execution_count": null,
   "id": "97fe5ef7",
   "metadata": {},
   "outputs": [],
   "source": []
  },
  {
   "cell_type": "markdown",
   "id": "a3f3ee08",
   "metadata": {},
   "source": [
    "### "
   ]
  },
  {
   "cell_type": "code",
   "execution_count": null,
   "id": "52e66165",
   "metadata": {},
   "outputs": [],
   "source": []
  },
  {
   "cell_type": "code",
   "execution_count": null,
   "id": "e7b46a39",
   "metadata": {},
   "outputs": [],
   "source": [
    "s = Solution()\n",
    "\n",
    "result = s.\n",
    "print (result) "
   ]
  },
  {
   "cell_type": "markdown",
   "id": "ef9acb88",
   "metadata": {},
   "source": [
    "### "
   ]
  },
  {
   "cell_type": "code",
   "execution_count": null,
   "id": "37ab4f22",
   "metadata": {},
   "outputs": [],
   "source": []
  },
  {
   "cell_type": "markdown",
   "id": "b5b055d5",
   "metadata": {},
   "source": [
    "### "
   ]
  },
  {
   "cell_type": "code",
   "execution_count": null,
   "id": "ea685a9e",
   "metadata": {},
   "outputs": [],
   "source": []
  },
  {
   "cell_type": "code",
   "execution_count": null,
   "id": "6ea0b194",
   "metadata": {},
   "outputs": [],
   "source": [
    "s = Solution()\n",
    "\n",
    "result = s.\n",
    "print (result) "
   ]
  },
  {
   "cell_type": "markdown",
   "id": "c6db3146",
   "metadata": {},
   "source": [
    "### "
   ]
  },
  {
   "cell_type": "code",
   "execution_count": null,
   "id": "dd37e305",
   "metadata": {},
   "outputs": [],
   "source": []
  },
  {
   "cell_type": "markdown",
   "id": "8384ce39",
   "metadata": {},
   "source": [
    "### "
   ]
  },
  {
   "cell_type": "code",
   "execution_count": null,
   "id": "f9e291c3",
   "metadata": {},
   "outputs": [],
   "source": []
  },
  {
   "cell_type": "code",
   "execution_count": null,
   "id": "fd64d32c",
   "metadata": {},
   "outputs": [],
   "source": [
    "s = Solution()\n",
    "\n",
    "result = s.\n",
    "print (result) "
   ]
  },
  {
   "cell_type": "markdown",
   "id": "e4a081c6",
   "metadata": {},
   "source": [
    "### "
   ]
  },
  {
   "cell_type": "code",
   "execution_count": null,
   "id": "042e2811",
   "metadata": {},
   "outputs": [],
   "source": []
  },
  {
   "cell_type": "markdown",
   "id": "dd925c1e",
   "metadata": {},
   "source": [
    "### "
   ]
  },
  {
   "cell_type": "code",
   "execution_count": null,
   "id": "d521f4af",
   "metadata": {},
   "outputs": [],
   "source": []
  },
  {
   "cell_type": "code",
   "execution_count": null,
   "id": "c284533a",
   "metadata": {},
   "outputs": [],
   "source": [
    "s = Solution()\n",
    "\n",
    "result = s.\n",
    "print (result) "
   ]
  },
  {
   "cell_type": "markdown",
   "id": "96f1f744",
   "metadata": {},
   "source": [
    "### "
   ]
  },
  {
   "cell_type": "code",
   "execution_count": null,
   "id": "f48fefd6",
   "metadata": {},
   "outputs": [],
   "source": []
  },
  {
   "cell_type": "markdown",
   "id": "9b00c141",
   "metadata": {},
   "source": [
    "### "
   ]
  },
  {
   "cell_type": "code",
   "execution_count": null,
   "id": "40caa3e8",
   "metadata": {},
   "outputs": [],
   "source": []
  },
  {
   "cell_type": "code",
   "execution_count": null,
   "id": "12fcf11d",
   "metadata": {},
   "outputs": [],
   "source": [
    "s = Solution()\n",
    "\n",
    "result = s.\n",
    "print (result) "
   ]
  },
  {
   "cell_type": "markdown",
   "id": "72993537",
   "metadata": {},
   "source": [
    "### "
   ]
  },
  {
   "cell_type": "code",
   "execution_count": null,
   "id": "6f9937ac",
   "metadata": {},
   "outputs": [],
   "source": []
  },
  {
   "cell_type": "markdown",
   "id": "3d81d320",
   "metadata": {},
   "source": [
    "### "
   ]
  },
  {
   "cell_type": "code",
   "execution_count": null,
   "id": "47c64a9b",
   "metadata": {},
   "outputs": [],
   "source": []
  },
  {
   "cell_type": "code",
   "execution_count": null,
   "id": "3b0e6f2b",
   "metadata": {},
   "outputs": [],
   "source": [
    "s = Solution()\n",
    "\n",
    "result = s.\n",
    "print (result) "
   ]
  },
  {
   "cell_type": "markdown",
   "id": "07667a30",
   "metadata": {},
   "source": [
    "### "
   ]
  },
  {
   "cell_type": "code",
   "execution_count": null,
   "id": "0ccf6804",
   "metadata": {},
   "outputs": [],
   "source": []
  },
  {
   "cell_type": "markdown",
   "id": "406fcff2",
   "metadata": {},
   "source": [
    "### "
   ]
  },
  {
   "cell_type": "code",
   "execution_count": null,
   "id": "00db131f",
   "metadata": {},
   "outputs": [],
   "source": []
  },
  {
   "cell_type": "code",
   "execution_count": null,
   "id": "05a6385e",
   "metadata": {},
   "outputs": [],
   "source": [
    "s = Solution()\n",
    "\n",
    "result = s.\n",
    "print (result) "
   ]
  },
  {
   "cell_type": "markdown",
   "id": "da178456",
   "metadata": {},
   "source": [
    "### "
   ]
  },
  {
   "cell_type": "code",
   "execution_count": null,
   "id": "7bcfd9f6",
   "metadata": {},
   "outputs": [],
   "source": []
  },
  {
   "cell_type": "markdown",
   "id": "4c48190f",
   "metadata": {},
   "source": [
    "### "
   ]
  },
  {
   "cell_type": "code",
   "execution_count": null,
   "id": "4f4b38b0",
   "metadata": {},
   "outputs": [],
   "source": []
  },
  {
   "cell_type": "code",
   "execution_count": null,
   "id": "71580071",
   "metadata": {},
   "outputs": [],
   "source": [
    "s = Solution()\n",
    "\n",
    "result = s.\n",
    "print (result) "
   ]
  },
  {
   "cell_type": "markdown",
   "id": "da639c82",
   "metadata": {},
   "source": [
    "### "
   ]
  },
  {
   "cell_type": "code",
   "execution_count": null,
   "id": "f66b73d1",
   "metadata": {},
   "outputs": [],
   "source": []
  },
  {
   "cell_type": "markdown",
   "id": "320f8f93",
   "metadata": {},
   "source": [
    "### "
   ]
  },
  {
   "cell_type": "code",
   "execution_count": null,
   "id": "5608441a",
   "metadata": {},
   "outputs": [],
   "source": []
  },
  {
   "cell_type": "code",
   "execution_count": null,
   "id": "c3ef7991",
   "metadata": {},
   "outputs": [],
   "source": [
    "s = Solution()\n",
    "\n",
    "result = s.\n",
    "print (result) "
   ]
  },
  {
   "cell_type": "markdown",
   "id": "53d74f84",
   "metadata": {},
   "source": [
    "### "
   ]
  },
  {
   "cell_type": "code",
   "execution_count": null,
   "id": "73b10788",
   "metadata": {},
   "outputs": [],
   "source": []
  },
  {
   "cell_type": "markdown",
   "id": "73e3a74d",
   "metadata": {},
   "source": [
    "### "
   ]
  },
  {
   "cell_type": "code",
   "execution_count": null,
   "id": "9cc5fb51",
   "metadata": {},
   "outputs": [],
   "source": []
  },
  {
   "cell_type": "code",
   "execution_count": null,
   "id": "d2222091",
   "metadata": {},
   "outputs": [],
   "source": [
    "s = Solution()\n",
    "\n",
    "result = s.\n",
    "print (result) "
   ]
  },
  {
   "cell_type": "markdown",
   "id": "3a4b99a5",
   "metadata": {},
   "source": [
    "### "
   ]
  },
  {
   "cell_type": "code",
   "execution_count": null,
   "id": "f3494394",
   "metadata": {},
   "outputs": [],
   "source": []
  },
  {
   "cell_type": "markdown",
   "id": "266fa61d",
   "metadata": {},
   "source": [
    "### "
   ]
  },
  {
   "cell_type": "code",
   "execution_count": null,
   "id": "b33d95fe",
   "metadata": {},
   "outputs": [],
   "source": []
  },
  {
   "cell_type": "code",
   "execution_count": null,
   "id": "3b993737",
   "metadata": {},
   "outputs": [],
   "source": [
    "s = Solution()\n",
    "\n",
    "result = s.\n",
    "print (result) "
   ]
  },
  {
   "cell_type": "markdown",
   "id": "c5feeb03",
   "metadata": {},
   "source": [
    "### "
   ]
  },
  {
   "cell_type": "code",
   "execution_count": null,
   "id": "9d59af90",
   "metadata": {},
   "outputs": [],
   "source": []
  },
  {
   "cell_type": "markdown",
   "id": "2cdfab58",
   "metadata": {},
   "source": [
    "### "
   ]
  },
  {
   "cell_type": "code",
   "execution_count": null,
   "id": "c53d2012",
   "metadata": {},
   "outputs": [],
   "source": []
  },
  {
   "cell_type": "code",
   "execution_count": null,
   "id": "488ca58a",
   "metadata": {},
   "outputs": [],
   "source": [
    "s = Solution()\n",
    "\n",
    "result = s.\n",
    "print (result) "
   ]
  },
  {
   "cell_type": "markdown",
   "id": "c9e31bf6",
   "metadata": {},
   "source": [
    "### "
   ]
  },
  {
   "cell_type": "code",
   "execution_count": null,
   "id": "8cec545d",
   "metadata": {},
   "outputs": [],
   "source": []
  },
  {
   "cell_type": "markdown",
   "id": "8f939f28",
   "metadata": {},
   "source": [
    "### "
   ]
  },
  {
   "cell_type": "code",
   "execution_count": null,
   "id": "a740433d",
   "metadata": {},
   "outputs": [],
   "source": []
  },
  {
   "cell_type": "code",
   "execution_count": null,
   "id": "9ac21cce",
   "metadata": {},
   "outputs": [],
   "source": [
    "s = Solution()\n",
    "\n",
    "result = s.\n",
    "print (result) "
   ]
  },
  {
   "cell_type": "markdown",
   "id": "4a2e8aeb",
   "metadata": {},
   "source": [
    "### "
   ]
  },
  {
   "cell_type": "code",
   "execution_count": null,
   "id": "aaf49afe",
   "metadata": {},
   "outputs": [],
   "source": []
  },
  {
   "cell_type": "markdown",
   "id": "a5e41be4",
   "metadata": {},
   "source": [
    "### "
   ]
  },
  {
   "cell_type": "code",
   "execution_count": null,
   "id": "5790c407",
   "metadata": {},
   "outputs": [],
   "source": []
  },
  {
   "cell_type": "code",
   "execution_count": null,
   "id": "e1d5729d",
   "metadata": {},
   "outputs": [],
   "source": [
    "s = Solution()\n",
    "\n",
    "result = s.\n",
    "print (result) "
   ]
  },
  {
   "cell_type": "markdown",
   "id": "76adec32",
   "metadata": {},
   "source": [
    "### "
   ]
  },
  {
   "cell_type": "code",
   "execution_count": null,
   "id": "2ee2ca49",
   "metadata": {},
   "outputs": [],
   "source": []
  },
  {
   "cell_type": "code",
   "execution_count": null,
   "id": "b12c190c",
   "metadata": {},
   "outputs": [],
   "source": []
  },
  {
   "cell_type": "markdown",
   "id": "67988a96",
   "metadata": {},
   "source": [
    "## 2. Array"
   ]
  },
  {
   "cell_type": "markdown",
   "id": "76fe3267",
   "metadata": {},
   "source": [
    "### 1920. Build Array from Permutation"
   ]
  },
  {
   "cell_type": "code",
   "execution_count": 16,
   "id": "aa38913a",
   "metadata": {},
   "outputs": [],
   "source": [
    "from typing import List\n",
    "class Solution:\n",
    "    def buildArray(self, nums: List[int]) -> List[int]:\n",
    "        ans = [] \n",
    "        for i in range(len(nums)):\n",
    "            ans.append(nums[nums[i]])\n",
    "\n",
    "        return ans "
   ]
  },
  {
   "cell_type": "code",
   "execution_count": 17,
   "id": "95a74302",
   "metadata": {},
   "outputs": [
    {
     "name": "stdout",
     "output_type": "stream",
     "text": [
      "[0, 1, 2, 4, 5, 3]\n"
     ]
    }
   ],
   "source": [
    "s = Solution()\n",
    "\n",
    "result = s.buildArray([0,2,1,5,3,4])\n",
    "print (result) "
   ]
  },
  {
   "cell_type": "code",
   "execution_count": 18,
   "id": "2c58b37c",
   "metadata": {
    "scrolled": true
   },
   "outputs": [
    {
     "name": "stdout",
     "output_type": "stream",
     "text": [
      "[4, 5, 0, 1, 2, 3]\n"
     ]
    }
   ],
   "source": [
    "s = Solution()\n",
    "\n",
    "result = s.buildArray([5,0,1,2,3,4])\n",
    "print (result) "
   ]
  },
  {
   "cell_type": "markdown",
   "id": "64615a74",
   "metadata": {},
   "source": [
    "### 1929. Concatenation of Array"
   ]
  },
  {
   "cell_type": "code",
   "execution_count": 21,
   "id": "db06eb5a",
   "metadata": {},
   "outputs": [],
   "source": [
    "class Solution:\n",
    "    def getConcatenation(self, nums: List[int]) -> List[int]:\n",
    "        return nums + nums\n"
   ]
  },
  {
   "cell_type": "code",
   "execution_count": 22,
   "id": "307bd42c",
   "metadata": {},
   "outputs": [
    {
     "name": "stdout",
     "output_type": "stream",
     "text": [
      "[1, 2, 1, 1, 2, 1]\n"
     ]
    }
   ],
   "source": [
    "s = Solution()\n",
    "\n",
    "result = s.getConcatenation([1,2,1])\n",
    "print (result) "
   ]
  },
  {
   "cell_type": "code",
   "execution_count": 23,
   "id": "1628710f",
   "metadata": {},
   "outputs": [
    {
     "name": "stdout",
     "output_type": "stream",
     "text": [
      "[1, 3, 2, 1, 1, 3, 2, 1]\n"
     ]
    }
   ],
   "source": [
    "s = Solution()\n",
    "\n",
    "result = s.getConcatenation([1,3,2,1])\n",
    "print (result) "
   ]
  },
  {
   "cell_type": "code",
   "execution_count": null,
   "id": "fa169d6d",
   "metadata": {},
   "outputs": [],
   "source": [
    "s = Solution()\n",
    "\n",
    "result = s.\n",
    "print (result) "
   ]
  },
  {
   "cell_type": "markdown",
   "id": "c7b0d095",
   "metadata": {},
   "source": [
    "### 1470. Shuffle the Array\n"
   ]
  },
  {
   "cell_type": "code",
   "execution_count": 27,
   "id": "61d82433",
   "metadata": {},
   "outputs": [],
   "source": [
    "class Solution:\n",
    "    def shuffle(self, nums: List[int], n: int) -> List[int]:\n",
    "\n",
    "        ans = []\n",
    "        for i in range(2*n):\n",
    "            if i % 2 == 0:\n",
    "                ans.append(nums[int(i/2)])\n",
    "            else:\n",
    "                ans.append(nums[int(n+(i-1)/2)])\n",
    "        return ans"
   ]
  },
  {
   "cell_type": "code",
   "execution_count": 28,
   "id": "b7728dcd",
   "metadata": {},
   "outputs": [
    {
     "name": "stdout",
     "output_type": "stream",
     "text": [
      "[1, 4, 2, 3, 3, 2, 4, 1]\n"
     ]
    }
   ],
   "source": [
    "s = Solution()\n",
    "\n",
    "result = s.shuffle([1,2,3,4,4,3,2,1], n = 4)\n",
    "print (result) "
   ]
  },
  {
   "cell_type": "markdown",
   "id": "09b401eb",
   "metadata": {},
   "source": [
    "### 1512. Number of Good Pairs"
   ]
  },
  {
   "cell_type": "code",
   "execution_count": 33,
   "id": "2b52110d",
   "metadata": {},
   "outputs": [],
   "source": [
    "class Solution:\n",
    "    def numIdenticalPairs(self, nums: List[int]) -> int:\n",
    "\n",
    "        total_num = 0 \n",
    "\n",
    "        for i in range(len(nums)):\n",
    "            for j in range(i+1, len(nums)):\n",
    "\n",
    "                if nums[i] == nums[j]:\n",
    "                    total_num +=1 \n",
    "\n",
    "        return total_num "
   ]
  },
  {
   "cell_type": "code",
   "execution_count": 34,
   "id": "99237ceb",
   "metadata": {},
   "outputs": [
    {
     "name": "stdout",
     "output_type": "stream",
     "text": [
      "0\n"
     ]
    }
   ],
   "source": [
    "s = Solution()\n",
    "\n",
    "result = s.numIdenticalPairs([1,2,3])\n",
    "print (result) "
   ]
  },
  {
   "cell_type": "code",
   "execution_count": 35,
   "id": "9edd4db5",
   "metadata": {},
   "outputs": [
    {
     "name": "stdout",
     "output_type": "stream",
     "text": [
      "6\n"
     ]
    }
   ],
   "source": [
    "s = Solution()\n",
    "\n",
    "result = s.numIdenticalPairs([1,1,1,1])\n",
    "print (result) "
   ]
  },
  {
   "cell_type": "code",
   "execution_count": 36,
   "id": "80efb8a8",
   "metadata": {},
   "outputs": [
    {
     "name": "stdout",
     "output_type": "stream",
     "text": [
      "4\n"
     ]
    }
   ],
   "source": [
    "s = Solution()\n",
    "\n",
    "result = s.numIdenticalPairs([1,2,3,1,1,3])\n",
    "print (result) "
   ]
  },
  {
   "cell_type": "markdown",
   "id": "67e735ad",
   "metadata": {},
   "source": [
    "### 2574. Left and Right Sum Differences\n"
   ]
  },
  {
   "cell_type": "code",
   "execution_count": 50,
   "id": "7faec203",
   "metadata": {},
   "outputs": [],
   "source": [
    "class Solution:\n",
    "    def leftRigthDifference(self, nums: List[int]) -> List[int]:\n",
    "\n",
    "        ans = []\n",
    "\n",
    "        for i in range(len(nums)):\n",
    "            left = sum(nums[:i])\n",
    "            right = sum(nums[i+1:]) \n",
    "            if i == 0:\n",
    "                left = 0\n",
    "            elif i == len(nums):\n",
    "                right = 0\n",
    "            a = abs(left - right)\n",
    "            ans.append(a)\n",
    "        return ans "
   ]
  },
  {
   "cell_type": "code",
   "execution_count": 51,
   "id": "561333e3",
   "metadata": {},
   "outputs": [
    {
     "name": "stdout",
     "output_type": "stream",
     "text": [
      "[0]\n"
     ]
    }
   ],
   "source": [
    "s = Solution()\n",
    "\n",
    "result = s.leftRigthDifference([1])\n",
    "print (result) "
   ]
  },
  {
   "cell_type": "code",
   "execution_count": 52,
   "id": "9a8c226a",
   "metadata": {},
   "outputs": [
    {
     "name": "stdout",
     "output_type": "stream",
     "text": [
      "[15, 1, 11, 22]\n"
     ]
    }
   ],
   "source": [
    "s = Solution()\n",
    "\n",
    "result = s.leftRigthDifference([10,4,8,3])\n",
    "print (result) "
   ]
  },
  {
   "cell_type": "markdown",
   "id": "c9c08c39",
   "metadata": {},
   "source": [
    "### "
   ]
  },
  {
   "cell_type": "code",
   "execution_count": null,
   "id": "dc94d150",
   "metadata": {},
   "outputs": [],
   "source": []
  },
  {
   "cell_type": "code",
   "execution_count": null,
   "id": "b0ded36e",
   "metadata": {},
   "outputs": [],
   "source": [
    "s = Solution()\n",
    "\n",
    "result = s.\n",
    "print (result) "
   ]
  },
  {
   "cell_type": "markdown",
   "id": "a0f004b3",
   "metadata": {},
   "source": [
    "### "
   ]
  },
  {
   "cell_type": "code",
   "execution_count": null,
   "id": "36b94ad8",
   "metadata": {},
   "outputs": [],
   "source": []
  },
  {
   "cell_type": "code",
   "execution_count": null,
   "id": "a5684e18",
   "metadata": {},
   "outputs": [],
   "source": [
    "s = Solution()\n",
    "\n",
    "result = s.\n",
    "print (result) "
   ]
  },
  {
   "cell_type": "markdown",
   "id": "170fb218",
   "metadata": {},
   "source": [
    "### "
   ]
  },
  {
   "cell_type": "code",
   "execution_count": null,
   "id": "8db9de74",
   "metadata": {},
   "outputs": [],
   "source": []
  },
  {
   "cell_type": "code",
   "execution_count": null,
   "id": "f094ffa2",
   "metadata": {},
   "outputs": [],
   "source": [
    "s = Solution()\n",
    "\n",
    "result = s.\n",
    "print (result) "
   ]
  },
  {
   "cell_type": "markdown",
   "id": "e0c8aa13",
   "metadata": {},
   "source": [
    "### "
   ]
  },
  {
   "cell_type": "code",
   "execution_count": null,
   "id": "f8d5577c",
   "metadata": {},
   "outputs": [],
   "source": []
  },
  {
   "cell_type": "code",
   "execution_count": null,
   "id": "f55dbf56",
   "metadata": {},
   "outputs": [],
   "source": [
    "s = Solution()\n",
    "\n",
    "result = s.\n",
    "print (result) "
   ]
  },
  {
   "cell_type": "markdown",
   "id": "32e72776",
   "metadata": {},
   "source": [
    "### "
   ]
  },
  {
   "cell_type": "code",
   "execution_count": null,
   "id": "fb875ec6",
   "metadata": {},
   "outputs": [],
   "source": []
  },
  {
   "cell_type": "code",
   "execution_count": null,
   "id": "139b4065",
   "metadata": {},
   "outputs": [],
   "source": [
    "s = Solution()\n",
    "\n",
    "result = s.\n",
    "print (result) "
   ]
  },
  {
   "cell_type": "markdown",
   "id": "0acfd9b3",
   "metadata": {},
   "source": [
    "### "
   ]
  },
  {
   "cell_type": "code",
   "execution_count": null,
   "id": "f3f88cb7",
   "metadata": {},
   "outputs": [],
   "source": []
  },
  {
   "cell_type": "code",
   "execution_count": null,
   "id": "fd549727",
   "metadata": {},
   "outputs": [],
   "source": [
    "s = Solution()\n",
    "\n",
    "result = s.\n",
    "print (result) "
   ]
  },
  {
   "cell_type": "markdown",
   "id": "292f0c52",
   "metadata": {},
   "source": [
    "### "
   ]
  },
  {
   "cell_type": "code",
   "execution_count": null,
   "id": "af04e3a9",
   "metadata": {},
   "outputs": [],
   "source": []
  },
  {
   "cell_type": "code",
   "execution_count": null,
   "id": "17a60156",
   "metadata": {},
   "outputs": [],
   "source": [
    "s = Solution()\n",
    "\n",
    "result = s.\n",
    "print (result) "
   ]
  },
  {
   "cell_type": "markdown",
   "id": "efcc5687",
   "metadata": {},
   "source": [
    "### "
   ]
  },
  {
   "cell_type": "code",
   "execution_count": null,
   "id": "77a8928d",
   "metadata": {},
   "outputs": [],
   "source": []
  },
  {
   "cell_type": "code",
   "execution_count": null,
   "id": "7cd7edde",
   "metadata": {},
   "outputs": [],
   "source": [
    "s = Solution()\n",
    "\n",
    "result = s.\n",
    "print (result) "
   ]
  },
  {
   "cell_type": "markdown",
   "id": "68adc9d8",
   "metadata": {},
   "source": [
    "### "
   ]
  },
  {
   "cell_type": "code",
   "execution_count": null,
   "id": "1e8a783d",
   "metadata": {},
   "outputs": [],
   "source": []
  },
  {
   "cell_type": "code",
   "execution_count": null,
   "id": "32e03449",
   "metadata": {},
   "outputs": [],
   "source": [
    "s = Solution()\n",
    "\n",
    "result = s.\n",
    "print (result) "
   ]
  },
  {
   "cell_type": "code",
   "execution_count": null,
   "id": "e8e79647",
   "metadata": {},
   "outputs": [],
   "source": []
  },
  {
   "cell_type": "markdown",
   "id": "ecc4276b",
   "metadata": {},
   "source": [
    "## 3. Matrix"
   ]
  },
  {
   "cell_type": "markdown",
   "id": "d0e92afe",
   "metadata": {},
   "source": [
    "### 1672. Richest Customer Wealth\n"
   ]
  },
  {
   "cell_type": "code",
   "execution_count": 43,
   "id": "a9ebdc19",
   "metadata": {},
   "outputs": [],
   "source": [
    "from typing import List\n",
    "class Solution:\n",
    "    def maximumWealth(self, accounts: List[List[int]]) -> int:\n",
    "\n",
    "        wealth = [] \n",
    "\n",
    "        for i in range(len(accounts)):\n",
    "            w = sum(accounts[i])\n",
    "            wealth.append(w)\n",
    "\n",
    "        return max(wealth)"
   ]
  },
  {
   "cell_type": "code",
   "execution_count": 44,
   "id": "d1c797b3",
   "metadata": {},
   "outputs": [
    {
     "name": "stdout",
     "output_type": "stream",
     "text": [
      "6\n"
     ]
    }
   ],
   "source": [
    "s = Solution()\n",
    "\n",
    "result = s.maximumWealth([[1,2,3],[3,2,1]])\n",
    "print (result) "
   ]
  },
  {
   "cell_type": "code",
   "execution_count": 45,
   "id": "6a6775c1",
   "metadata": {},
   "outputs": [
    {
     "name": "stdout",
     "output_type": "stream",
     "text": [
      "10\n"
     ]
    }
   ],
   "source": [
    "s = Solution()\n",
    "\n",
    "result = s.maximumWealth([[1,5],[7,3],[3,5]])\n",
    "print (result) "
   ]
  },
  {
   "cell_type": "markdown",
   "id": "c7bc944a",
   "metadata": {},
   "source": [
    "### 2373. Largest Local Values in a Matrix\n"
   ]
  },
  {
   "cell_type": "code",
   "execution_count": 53,
   "id": "e6ec009a",
   "metadata": {},
   "outputs": [],
   "source": [
    "class Solution:\n",
    "    def largestLocal(self, grid: List[List[int]]) -> List[List[int]]:\n",
    "\n",
    "        maxLocal =  [[0 for _ in range(len(grid)-2)] for _ in range(len(grid)-2)]\n",
    "\n",
    "        for i in range (len(grid) - 2):\n",
    "            for j in range (len(grid) - 2):\n",
    "                m = max(grid[i][j:3+j] + grid[i+1][j:3+j] + grid[i+2][j:3+j])\n",
    "                maxLocal[i][j] = m\n",
    "\n",
    "        return maxLocal\n",
    "\n"
   ]
  },
  {
   "cell_type": "code",
   "execution_count": 54,
   "id": "78f019ea",
   "metadata": {},
   "outputs": [
    {
     "name": "stdout",
     "output_type": "stream",
     "text": [
      "[[2, 2, 2], [2, 2, 2], [2, 2, 2]]\n"
     ]
    }
   ],
   "source": [
    "s = Solution()\n",
    "\n",
    "result = s.largestLocal([[1,1,1,1,1],[1,1,1,1,1],[1,1,2,1,1],[1,1,1,1,1],[1,1,1,1,1]])\n",
    "print (result) "
   ]
  },
  {
   "cell_type": "markdown",
   "id": "4efc0f13",
   "metadata": {},
   "source": [
    "## 4. LinkedList"
   ]
  },
  {
   "cell_type": "markdown",
   "id": "3ec0d612",
   "metadata": {},
   "source": [
    "I reviewed all the singly linked list section in Scott udemy course - May 6 2023"
   ]
  },
  {
   "cell_type": "markdown",
   "id": "41045d87",
   "metadata": {},
   "source": [
    "### 1290. Convert Binary Number in a Linked List to Integer\n"
   ]
  },
  {
   "cell_type": "code",
   "execution_count": 29,
   "id": "187801c2",
   "metadata": {},
   "outputs": [],
   "source": [
    "#Definition for singly-linked list.\n",
    "class ListNode:\n",
    "    def __init__(self, val=0, next=None):\n",
    "        self.val = val\n",
    "        self.next = next\n",
    "class Solution:\n",
    "    def getDecimalValue(self, head: ListNode) -> int:\n",
    "        bin = ''\n",
    "        while head:\n",
    "            bin += str(head.val)\n",
    "            head = head.next \n",
    "        return int(bin, 2)"
   ]
  },
  {
   "cell_type": "code",
   "execution_count": 30,
   "id": "49af7899",
   "metadata": {},
   "outputs": [
    {
     "name": "stdout",
     "output_type": "stream",
     "text": [
      "5\n"
     ]
    }
   ],
   "source": [
    "s = Solution()\n",
    "head = ListNode(1)\n",
    "node1 = ListNode(0)\n",
    "node2 = ListNode(1)\n",
    "head.next = node1\n",
    "node1.next = node2\n",
    "\n",
    "result = s.getDecimalValue(head)\n",
    "print (result) "
   ]
  },
  {
   "cell_type": "markdown",
   "id": "906d9aa1",
   "metadata": {},
   "source": [
    "### 876. Middle of the Linked List"
   ]
  },
  {
   "cell_type": "code",
   "execution_count": 63,
   "id": "a4e24c9a",
   "metadata": {},
   "outputs": [],
   "source": [
    "# Definition for singly-linked list.\n",
    "from typing import Optional\n",
    "\n",
    "class ListNode:\n",
    "    def __init__(self, val=0, next=None):\n",
    "        self.val = val\n",
    "        self.next = next\n",
    "class Solution:\n",
    "    def middleNode(self, head: Optional[ListNode]) -> Optional[ListNode]:\n",
    "        \n",
    "        slow = head\n",
    "        fast = head \n",
    "        \n",
    "        while fast and fast.next:\n",
    "            slow = slow.next\n",
    "            fast = fast.next.next\n",
    "            \n",
    "        return slow\n",
    "        "
   ]
  },
  {
   "cell_type": "code",
   "execution_count": 64,
   "id": "6c5831cd",
   "metadata": {
    "scrolled": true
   },
   "outputs": [
    {
     "name": "stdout",
     "output_type": "stream",
     "text": [
      "<__main__.ListNode object at 0x000001917C0AA3D0>\n"
     ]
    }
   ],
   "source": [
    "s = Solution()\n",
    "head = ListNode(1)\n",
    "node1 = ListNode(2)\n",
    "node2 = ListNode(3)\n",
    "node3 = ListNode(4)\n",
    "node4 = ListNode(5)\n",
    "\n",
    "head.next = node1\n",
    "node1.next = node2\n",
    "node2.next = node3\n",
    "node3.next = node4\n",
    "\n",
    "\n",
    "result = s.middleNode(head)\n",
    "print (result) "
   ]
  },
  {
   "cell_type": "code",
   "execution_count": 65,
   "id": "0611ec12",
   "metadata": {},
   "outputs": [
    {
     "name": "stdout",
     "output_type": "stream",
     "text": [
      "<__main__.ListNode object at 0x000001917C0AA190>\n"
     ]
    }
   ],
   "source": [
    "s = Solution()\n",
    "head = ListNode(1)\n",
    "node1 = ListNode(2)\n",
    "node2 = ListNode(3)\n",
    "node3 = ListNode(4)\n",
    "node4 = ListNode(5)\n",
    "node5 = ListNode(6)\n",
    "\n",
    "head.next = node1\n",
    "node1.next = node2\n",
    "node2.next = node3\n",
    "node3.next = node4\n",
    "node4.next = node5\n",
    "\n",
    "\n",
    "result = s.middleNode(head)\n",
    "print (result) "
   ]
  },
  {
   "cell_type": "markdown",
   "id": "56a32799",
   "metadata": {},
   "source": [
    "### 206. Reverse Linked List"
   ]
  },
  {
   "cell_type": "code",
   "execution_count": 75,
   "id": "e410d421",
   "metadata": {},
   "outputs": [],
   "source": [
    "# Definition for singly-linked list.\n",
    "class ListNode:\n",
    "    def __init__(self, val=0, next=None):\n",
    "        self.val = val\n",
    "        self.next = next\n",
    "class Solution:\n",
    "    def reverseList(self, head: Optional[ListNode]) -> Optional[ListNode]:\n",
    "        temp, before = head, None \n",
    "        while temp:\n",
    "            after = temp.next\n",
    "            temp.next = before\n",
    "            before = temp \n",
    "            temp = after \n",
    "        return  before\n",
    "        "
   ]
  },
  {
   "cell_type": "code",
   "execution_count": 76,
   "id": "4e2d60fd",
   "metadata": {},
   "outputs": [
    {
     "name": "stdout",
     "output_type": "stream",
     "text": [
      "<__main__.ListNode object at 0x000001917C1A9820>\n"
     ]
    }
   ],
   "source": [
    "s = Solution()\n",
    "head = ListNode(1)\n",
    "node1 = ListNode(2)\n",
    "node2 = ListNode(3)\n",
    "node3 = ListNode(4)\n",
    "node4 = ListNode(5)\n",
    "\n",
    "head.next = node1\n",
    "node1.next = node2\n",
    "node2.next = node3\n",
    "node3.next = node4\n",
    "\n",
    "\n",
    "result = s.reverseList(head)\n",
    "print (result) "
   ]
  },
  {
   "cell_type": "markdown",
   "id": "1df49bfc",
   "metadata": {},
   "source": [
    "### "
   ]
  },
  {
   "cell_type": "code",
   "execution_count": null,
   "id": "b044b370",
   "metadata": {},
   "outputs": [],
   "source": []
  },
  {
   "cell_type": "code",
   "execution_count": null,
   "id": "d10966da",
   "metadata": {},
   "outputs": [],
   "source": [
    "s = Solution()\n",
    "\n",
    "result = s.\n",
    "print (result) "
   ]
  },
  {
   "cell_type": "markdown",
   "id": "ce512f0b",
   "metadata": {},
   "source": [
    "### "
   ]
  },
  {
   "cell_type": "code",
   "execution_count": null,
   "id": "18a4962f",
   "metadata": {},
   "outputs": [],
   "source": []
  },
  {
   "cell_type": "code",
   "execution_count": null,
   "id": "d5095176",
   "metadata": {},
   "outputs": [],
   "source": [
    "s = Solution()\n",
    "\n",
    "result = s.\n",
    "print (result) "
   ]
  },
  {
   "cell_type": "markdown",
   "id": "b2e0d343",
   "metadata": {},
   "source": [
    "### "
   ]
  },
  {
   "cell_type": "code",
   "execution_count": null,
   "id": "3efc3d3f",
   "metadata": {},
   "outputs": [],
   "source": []
  },
  {
   "cell_type": "code",
   "execution_count": null,
   "id": "31b6bedf",
   "metadata": {},
   "outputs": [],
   "source": [
    "s = Solution()\n",
    "\n",
    "result = s.\n",
    "print (result) "
   ]
  },
  {
   "cell_type": "markdown",
   "id": "74bcc9dd",
   "metadata": {},
   "source": [
    "### "
   ]
  },
  {
   "cell_type": "code",
   "execution_count": null,
   "id": "12ce918f",
   "metadata": {},
   "outputs": [],
   "source": []
  },
  {
   "cell_type": "code",
   "execution_count": null,
   "id": "c4cf0d44",
   "metadata": {},
   "outputs": [],
   "source": [
    "s = Solution()\n",
    "\n",
    "result = s.\n",
    "print (result) "
   ]
  },
  {
   "cell_type": "markdown",
   "id": "8b1117c8",
   "metadata": {},
   "source": [
    "### "
   ]
  },
  {
   "cell_type": "code",
   "execution_count": null,
   "id": "0c3e5b0f",
   "metadata": {},
   "outputs": [],
   "source": []
  },
  {
   "cell_type": "code",
   "execution_count": null,
   "id": "eef7b265",
   "metadata": {},
   "outputs": [],
   "source": [
    "s = Solution()\n",
    "\n",
    "result = s.\n",
    "print (result) "
   ]
  },
  {
   "cell_type": "markdown",
   "id": "1f44e4f8",
   "metadata": {},
   "source": [
    "### "
   ]
  },
  {
   "cell_type": "code",
   "execution_count": null,
   "id": "d3dab575",
   "metadata": {},
   "outputs": [],
   "source": []
  },
  {
   "cell_type": "code",
   "execution_count": null,
   "id": "e2206a4d",
   "metadata": {},
   "outputs": [],
   "source": [
    "s = Solution()\n",
    "\n",
    "result = s.\n",
    "print (result) "
   ]
  },
  {
   "cell_type": "markdown",
   "id": "ce4944bd",
   "metadata": {},
   "source": [
    "### "
   ]
  },
  {
   "cell_type": "code",
   "execution_count": null,
   "id": "b032e91d",
   "metadata": {},
   "outputs": [],
   "source": []
  },
  {
   "cell_type": "code",
   "execution_count": null,
   "id": "d6baf3e8",
   "metadata": {},
   "outputs": [],
   "source": [
    "s = Solution()\n",
    "\n",
    "result = s.\n",
    "print (result) "
   ]
  },
  {
   "cell_type": "code",
   "execution_count": null,
   "id": "b25c192f",
   "metadata": {},
   "outputs": [],
   "source": []
  }
 ],
 "metadata": {
  "kernelspec": {
   "display_name": "Python 3 (ipykernel)",
   "language": "python",
   "name": "python3"
  },
  "language_info": {
   "codemirror_mode": {
    "name": "ipython",
    "version": 3
   },
   "file_extension": ".py",
   "mimetype": "text/x-python",
   "name": "python",
   "nbconvert_exporter": "python",
   "pygments_lexer": "ipython3",
   "version": "3.8.8"
  },
  "varInspector": {
   "cols": {
    "lenName": 16,
    "lenType": 16,
    "lenVar": 40
   },
   "kernels_config": {
    "python": {
     "delete_cmd_postfix": "",
     "delete_cmd_prefix": "del ",
     "library": "var_list.py",
     "varRefreshCmd": "print(var_dic_list())"
    },
    "r": {
     "delete_cmd_postfix": ") ",
     "delete_cmd_prefix": "rm(",
     "library": "var_list.r",
     "varRefreshCmd": "cat(var_dic_list()) "
    }
   },
   "types_to_exclude": [
    "module",
    "function",
    "builtin_function_or_method",
    "instance",
    "_Feature"
   ],
   "window_display": false
  }
 },
 "nbformat": 4,
 "nbformat_minor": 5
}
